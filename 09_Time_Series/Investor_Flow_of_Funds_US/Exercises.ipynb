{
 "cells": [
  {
   "cell_type": "markdown",
   "metadata": {},
   "source": [
    "# Investor - Flow of Funds - US"
   ]
  },
  {
   "cell_type": "markdown",
   "metadata": {},
   "source": [
    "### Introduction:\n",
    "\n",
    "Special thanks to: https://github.com/rgrp for sharing the dataset.\n",
    "\n",
    "### Step 1. Import the necessary libraries"
   ]
  },
  {
   "cell_type": "code",
   "execution_count": 1,
   "metadata": {},
   "outputs": [],
   "source": [
    "import pandas as pd\n",
    "import numpy as np"
   ]
  },
  {
   "cell_type": "markdown",
   "metadata": {},
   "source": [
    "### Step 2. Import the dataset from this [address](https://raw.githubusercontent.com/datasets/investor-flow-of-funds-us/master/data/weekly.csv). "
   ]
  },
  {
   "cell_type": "markdown",
   "metadata": {},
   "source": [
    "### Step 3. Assign it to a variable called "
   ]
  },
  {
   "cell_type": "code",
   "execution_count": 2,
   "metadata": {},
   "outputs": [
    {
     "data": {
      "text/html": "<div>\n<style scoped>\n    .dataframe tbody tr th:only-of-type {\n        vertical-align: middle;\n    }\n\n    .dataframe tbody tr th {\n        vertical-align: top;\n    }\n\n    .dataframe thead th {\n        text-align: right;\n    }\n</style>\n<table border=\"1\" class=\"dataframe\">\n  <thead>\n    <tr style=\"text-align: right;\">\n      <th></th>\n      <th>Date</th>\n      <th>Total Equity</th>\n      <th>Domestic Equity</th>\n      <th>World Equity</th>\n      <th>Hybrid</th>\n      <th>Total Bond</th>\n      <th>Taxable Bond</th>\n      <th>Municipal Bond</th>\n      <th>Total</th>\n    </tr>\n  </thead>\n  <tbody>\n    <tr>\n      <td>0</td>\n      <td>2012-12-05</td>\n      <td>-7426</td>\n      <td>-6060</td>\n      <td>-1367</td>\n      <td>-74</td>\n      <td>5317</td>\n      <td>4210</td>\n      <td>1107</td>\n      <td>-2183</td>\n    </tr>\n    <tr>\n      <td>1</td>\n      <td>2012-12-12</td>\n      <td>-8783</td>\n      <td>-7520</td>\n      <td>-1263</td>\n      <td>123</td>\n      <td>1818</td>\n      <td>1598</td>\n      <td>219</td>\n      <td>-6842</td>\n    </tr>\n    <tr>\n      <td>2</td>\n      <td>2012-12-19</td>\n      <td>-5496</td>\n      <td>-5470</td>\n      <td>-26</td>\n      <td>-73</td>\n      <td>103</td>\n      <td>3472</td>\n      <td>-3369</td>\n      <td>-5466</td>\n    </tr>\n    <tr>\n      <td>3</td>\n      <td>2012-12-26</td>\n      <td>-4451</td>\n      <td>-4076</td>\n      <td>-375</td>\n      <td>550</td>\n      <td>2610</td>\n      <td>3333</td>\n      <td>-722</td>\n      <td>-1291</td>\n    </tr>\n    <tr>\n      <td>4</td>\n      <td>2013-01-02</td>\n      <td>-11156</td>\n      <td>-9622</td>\n      <td>-1533</td>\n      <td>-158</td>\n      <td>2383</td>\n      <td>2103</td>\n      <td>280</td>\n      <td>-8931</td>\n    </tr>\n  </tbody>\n</table>\n</div>",
      "text/plain": "         Date  Total Equity  Domestic Equity  World Equity  Hybrid  \\\n0  2012-12-05         -7426            -6060         -1367     -74   \n1  2012-12-12         -8783            -7520         -1263     123   \n2  2012-12-19         -5496            -5470           -26     -73   \n3  2012-12-26         -4451            -4076          -375     550   \n4  2013-01-02        -11156            -9622         -1533    -158   \n\n   Total Bond  Taxable Bond  Municipal Bond  Total  \n0        5317          4210            1107  -2183  \n1        1818          1598             219  -6842  \n2         103          3472           -3369  -5466  \n3        2610          3333            -722  -1291  \n4        2383          2103             280  -8931  "
     },
     "execution_count": 2,
     "metadata": {},
     "output_type": "execute_result"
    }
   ],
   "source": [
    "week=pd.read_csv('weekly.txt',sep=',')\n",
    "week.head()"
   ]
  },
  {
   "cell_type": "markdown",
   "metadata": {},
   "source": [
    "### Step 4.  What is the frequency of the dataset?"
   ]
  },
  {
   "cell_type": "code",
   "execution_count": 3,
   "metadata": {},
   "outputs": [],
   "source": [
    "#frequency=7"
   ]
  },
  {
   "cell_type": "markdown",
   "metadata": {},
   "source": [
    "### Step 5. Set the column Date as the index."
   ]
  },
  {
   "cell_type": "code",
   "execution_count": 4,
   "metadata": {},
   "outputs": [],
   "source": [
    "week=week.set_index('Date')"
   ]
  },
  {
   "cell_type": "markdown",
   "metadata": {},
   "source": [
    "### Step 6. What is the type of the index?"
   ]
  },
  {
   "cell_type": "code",
   "execution_count": 5,
   "metadata": {},
   "outputs": [
    {
     "data": {
      "text/plain": "str"
     },
     "execution_count": 5,
     "metadata": {},
     "output_type": "execute_result"
    }
   ],
   "source": [
    "type(week.index[0])"
   ]
  },
  {
   "cell_type": "markdown",
   "metadata": {},
   "source": [
    "### Step 7. Set the index to a DatetimeIndex type"
   ]
  },
  {
   "cell_type": "code",
   "execution_count": 6,
   "metadata": {},
   "outputs": [],
   "source": [
    "week.index=pd.to_datetime(week.index)"
   ]
  },
  {
   "cell_type": "markdown",
   "metadata": {},
   "source": [
    "### Step 8.  Change the frequency to monthly, sum the values and assign it to monthly."
   ]
  },
  {
   "cell_type": "code",
   "execution_count": 15,
   "metadata": {},
   "outputs": [
    {
     "data": {
      "text/html": "<div>\n<style scoped>\n    .dataframe tbody tr th:only-of-type {\n        vertical-align: middle;\n    }\n\n    .dataframe tbody tr th {\n        vertical-align: top;\n    }\n\n    .dataframe thead th {\n        text-align: right;\n    }\n</style>\n<table border=\"1\" class=\"dataframe\">\n  <thead>\n    <tr style=\"text-align: right;\">\n      <th></th>\n      <th>Total Equity</th>\n      <th>Domestic Equity</th>\n      <th>World Equity</th>\n      <th>Hybrid</th>\n      <th>Total Bond</th>\n      <th>Taxable Bond</th>\n      <th>Municipal Bond</th>\n      <th>Total</th>\n    </tr>\n    <tr>\n      <th>Date</th>\n      <th></th>\n      <th></th>\n      <th></th>\n      <th></th>\n      <th></th>\n      <th></th>\n      <th></th>\n      <th></th>\n    </tr>\n  </thead>\n  <tbody>\n    <tr>\n      <td>2012-12-31</td>\n      <td>-26156</td>\n      <td>-23126</td>\n      <td>-3031</td>\n      <td>526</td>\n      <td>9848</td>\n      <td>12613</td>\n      <td>-2765</td>\n      <td>-15782</td>\n    </tr>\n    <tr>\n      <td>2013-01-31</td>\n      <td>3661</td>\n      <td>-1627</td>\n      <td>5288</td>\n      <td>2730</td>\n      <td>12149</td>\n      <td>9414</td>\n      <td>2735</td>\n      <td>18540</td>\n    </tr>\n    <tr>\n      <td>2013-02-28</td>\n      <td>0</td>\n      <td>0</td>\n      <td>0</td>\n      <td>0</td>\n      <td>0</td>\n      <td>0</td>\n      <td>0</td>\n      <td>0</td>\n    </tr>\n    <tr>\n      <td>2013-03-31</td>\n      <td>0</td>\n      <td>0</td>\n      <td>0</td>\n      <td>0</td>\n      <td>0</td>\n      <td>0</td>\n      <td>0</td>\n      <td>0</td>\n    </tr>\n    <tr>\n      <td>2013-04-30</td>\n      <td>0</td>\n      <td>0</td>\n      <td>0</td>\n      <td>0</td>\n      <td>0</td>\n      <td>0</td>\n      <td>0</td>\n      <td>0</td>\n    </tr>\n    <tr>\n      <td>2013-05-31</td>\n      <td>0</td>\n      <td>0</td>\n      <td>0</td>\n      <td>0</td>\n      <td>0</td>\n      <td>0</td>\n      <td>0</td>\n      <td>0</td>\n    </tr>\n    <tr>\n      <td>2013-06-30</td>\n      <td>0</td>\n      <td>0</td>\n      <td>0</td>\n      <td>0</td>\n      <td>0</td>\n      <td>0</td>\n      <td>0</td>\n      <td>0</td>\n    </tr>\n    <tr>\n      <td>2013-07-31</td>\n      <td>0</td>\n      <td>0</td>\n      <td>0</td>\n      <td>0</td>\n      <td>0</td>\n      <td>0</td>\n      <td>0</td>\n      <td>0</td>\n    </tr>\n    <tr>\n      <td>2013-08-31</td>\n      <td>0</td>\n      <td>0</td>\n      <td>0</td>\n      <td>0</td>\n      <td>0</td>\n      <td>0</td>\n      <td>0</td>\n      <td>0</td>\n    </tr>\n    <tr>\n      <td>2013-09-30</td>\n      <td>0</td>\n      <td>0</td>\n      <td>0</td>\n      <td>0</td>\n      <td>0</td>\n      <td>0</td>\n      <td>0</td>\n      <td>0</td>\n    </tr>\n  </tbody>\n</table>\n</div>",
      "text/plain": "            Total Equity  Domestic Equity  World Equity  Hybrid  Total Bond  \\\nDate                                                                          \n2012-12-31        -26156           -23126         -3031     526        9848   \n2013-01-31          3661            -1627          5288    2730       12149   \n2013-02-28             0                0             0       0           0   \n2013-03-31             0                0             0       0           0   \n2013-04-30             0                0             0       0           0   \n2013-05-31             0                0             0       0           0   \n2013-06-30             0                0             0       0           0   \n2013-07-31             0                0             0       0           0   \n2013-08-31             0                0             0       0           0   \n2013-09-30             0                0             0       0           0   \n\n            Taxable Bond  Municipal Bond  Total  \nDate                                             \n2012-12-31         12613           -2765 -15782  \n2013-01-31          9414            2735  18540  \n2013-02-28             0               0      0  \n2013-03-31             0               0      0  \n2013-04-30             0               0      0  \n2013-05-31             0               0      0  \n2013-06-30             0               0      0  \n2013-07-31             0               0      0  \n2013-08-31             0               0      0  \n2013-09-30             0               0      0  "
     },
     "execution_count": 15,
     "metadata": {},
     "output_type": "execute_result"
    }
   ],
   "source": [
    "week.head()\n",
    "monthly=week.resample('M').sum()\n",
    "monthly.head(10)"
   ]
  },
  {
   "cell_type": "markdown",
   "metadata": {},
   "source": [
    "### Step 9. You will notice that it filled the dataFrame with months that don't have any data with NaN. Let's drop these rows."
   ]
  },
  {
   "cell_type": "code",
   "execution_count": 22,
   "metadata": {},
   "outputs": [],
   "source": [
    "monthly=monthly[monthly.all(axis=1).values]"
   ]
  },
  {
   "cell_type": "markdown",
   "metadata": {},
   "source": [
    "### Step 10. Good, now we have the monthly data. Now change the frequency to year."
   ]
  },
  {
   "cell_type": "code",
   "execution_count": 52,
   "metadata": {},
   "outputs": [
    {
     "data": {
      "text/html": "<div>\n<style scoped>\n    .dataframe tbody tr th:only-of-type {\n        vertical-align: middle;\n    }\n\n    .dataframe tbody tr th {\n        vertical-align: top;\n    }\n\n    .dataframe thead th {\n        text-align: right;\n    }\n</style>\n<table border=\"1\" class=\"dataframe\">\n  <thead>\n    <tr style=\"text-align: right;\">\n      <th></th>\n      <th>Total Equity</th>\n      <th>Domestic Equity</th>\n      <th>World Equity</th>\n      <th>Hybrid</th>\n      <th>Total Bond</th>\n      <th>Taxable Bond</th>\n      <th>Municipal Bond</th>\n      <th>Total</th>\n    </tr>\n    <tr>\n      <th>Date</th>\n      <th></th>\n      <th></th>\n      <th></th>\n      <th></th>\n      <th></th>\n      <th></th>\n      <th></th>\n      <th></th>\n    </tr>\n  </thead>\n  <tbody>\n    <tr>\n      <td>2012-01-01</td>\n      <td>-26156</td>\n      <td>-23126</td>\n      <td>-3031</td>\n      <td>526</td>\n      <td>9848</td>\n      <td>12613</td>\n      <td>-2765</td>\n      <td>-15782</td>\n    </tr>\n    <tr>\n      <td>2013-01-01</td>\n      <td>3661</td>\n      <td>-1627</td>\n      <td>5288</td>\n      <td>2730</td>\n      <td>12149</td>\n      <td>9414</td>\n      <td>2735</td>\n      <td>18540</td>\n    </tr>\n    <tr>\n      <td>2014-01-01</td>\n      <td>330</td>\n      <td>-44689</td>\n      <td>45021</td>\n      <td>19570</td>\n      <td>59890</td>\n      <td>44994</td>\n      <td>14896</td>\n      <td>79787</td>\n    </tr>\n    <tr>\n      <td>2015-01-01</td>\n      <td>15049</td>\n      <td>-10459</td>\n      <td>25508</td>\n      <td>7280</td>\n      <td>26028</td>\n      <td>17986</td>\n      <td>8041</td>\n      <td>48357</td>\n    </tr>\n  </tbody>\n</table>\n</div>",
      "text/plain": "            Total Equity  Domestic Equity  World Equity  Hybrid  Total Bond  \\\nDate                                                                          \n2012-01-01        -26156           -23126         -3031     526        9848   \n2013-01-01          3661            -1627          5288    2730       12149   \n2014-01-01           330           -44689         45021   19570       59890   \n2015-01-01         15049           -10459         25508    7280       26028   \n\n            Taxable Bond  Municipal Bond  Total  \nDate                                             \n2012-01-01         12613           -2765 -15782  \n2013-01-01          9414            2735  18540  \n2014-01-01         44994           14896  79787  \n2015-01-01         17986            8041  48357  "
     },
     "execution_count": 52,
     "metadata": {},
     "output_type": "execute_result"
    }
   ],
   "source": [
    "yearly=monthly.resample('AS-JAN').sum()\n",
    "yearly"
   ]
  },
  {
   "cell_type": "markdown",
   "metadata": {},
   "source": [
    "### BONUS: Create your own question and answer it."
   ]
  },
  {
   "cell_type": "code",
   "execution_count": null,
   "metadata": {
    "collapsed": true
   },
   "outputs": [],
   "source": []
  }
 ],
 "metadata": {
  "kernelspec": {
   "display_name": "Python 3",
   "language": "python",
   "name": "python3"
  },
  "language_info": {
   "codemirror_mode": {
    "name": "ipython",
    "version": 2
   },
   "file_extension": ".py",
   "mimetype": "text/x-python",
   "name": "python",
   "nbconvert_exporter": "python",
   "pygments_lexer": "ipython2",
   "version": "3.7.4-final"
  }
 },
 "nbformat": 4,
 "nbformat_minor": 0
}