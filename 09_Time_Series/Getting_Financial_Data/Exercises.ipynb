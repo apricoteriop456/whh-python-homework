{
 "cells": [
  {
   "cell_type": "markdown",
   "metadata": {},
   "source": [
    "# Getting Financial Data - Google Finance"
   ]
  },
  {
   "cell_type": "markdown",
   "metadata": {},
   "source": [
    "### Introduction:\n",
    "\n",
    "This time you will get data from a website.\n",
    "\n",
    "\n",
    "### Step 1. Import the necessary libraries"
   ]
  },
  {
   "cell_type": "code",
   "execution_count": 2,
   "metadata": {},
   "outputs": [],
   "source": [
    "import numpy as np\n",
    "import pandas as pd\n",
    "import pandas_datareader.data as web\n",
    "import datetime as dt"
   ]
  },
  {
   "cell_type": "markdown",
   "metadata": {},
   "source": [
    "### Step 2. Create your time range (start and end variables). The start date should be 01/01/2015 and the end should today (whatever your today is)"
   ]
  },
  {
   "cell_type": "code",
   "execution_count": 3,
   "metadata": {},
   "outputs": [],
   "source": [
    "date=pd.date_range(start=pd.datetime(2015,1,1),end=pd.datetime.today())"
   ]
  },
  {
   "cell_type": "markdown",
   "metadata": {},
   "source": [
    "### Step 3. Select the Apple, Tesla, Twitter, IBM, LinkedIn stocks symbols and assign them to a variable called stocks"
   ]
  },
  {
   "cell_type": "code",
   "execution_count": 4,
   "metadata": {},
   "outputs": [],
   "source": [
    "stocks = ['AAPL', 'TSLA', 'IBM', 'LNKD']"
   ]
  },
  {
   "cell_type": "markdown",
   "metadata": {},
   "source": [
    "### Step 4. Read the data from google, assign to df and print it"
   ]
  },
  {
   "cell_type": "code",
   "execution_count": 5,
   "metadata": {},
   "outputs": [],
   "source": [
    "df = web.DataReader(stocks, 'yahoo', pd.datetime(2015,1,1),end=pd.datetime.today())"
   ]
  },
  {
   "cell_type": "markdown",
   "metadata": {},
   "source": [
    "### Step 5.  What is the type of structure of df ?"
   ]
  },
  {
   "cell_type": "code",
   "execution_count": 0,
   "metadata": {},
   "outputs": [],
   "source": [
    "df.shape\n",
    "type(df)"
   ]
  },
  {
   "cell_type": "markdown",
   "metadata": {},
   "source": [
    "### Step 6. Print all the Items axis values\n",
    "#### To learn more about the Panel structure go to [documentation](http://pandas.pydata.org/pandas-docs/stable/dsintro.html#panel) "
   ]
  },
  {
   "cell_type": "code",
   "execution_count": 14,
   "metadata": {},
   "outputs": [
    {
     "data": {
      "text/plain": "<bound method DataFrame.items of Attributes   Adj Close                                    Close              \\\nSymbols           AAPL        TSLA         IBM LNKD        AAPL        TSLA   \nDate                                                                          \n2014-12-31  101.178932  222.410004  127.949593  NaN  110.379997  222.410004   \n2015-01-02  100.216454  219.309998  129.241516  NaN  109.330002  219.309998   \n2015-01-05   97.393181  210.089996  127.207932  NaN  106.250000  210.089996   \n2015-01-06   97.402374  211.279999  124.464600  NaN  106.260002  211.279999   \n2015-01-07   98.768150  210.949997  123.651100  NaN  107.750000  210.949997   \n...                ...         ...         ...  ...         ...         ...   \n2020-02-04  318.095062  887.059998  147.569061  NaN  318.850006  887.059998   \n2020-02-05  320.688934  734.700012  154.714447  NaN  321.450012  734.700012   \n2020-02-06  324.440002  748.960022  155.139999  NaN  325.209991  748.960022   \n2020-02-07  320.029999  748.070007  153.410004  NaN  320.029999  748.070007   \n2020-02-10  321.549988  771.280029  154.429993  NaN  321.549988  771.280029   \n\nAttributes                         High              ...         Low       \\\nSymbols            IBM LNKD        AAPL        TSLA  ...         IBM LNKD   \nDate                                                 ...                    \n2014-12-31  160.440002  NaN  113.129997  225.679993  ...  160.380005  NaN   \n2015-01-02  162.059998  NaN  111.440002  223.250000  ...  161.000000  NaN   \n2015-01-05  159.509995  NaN  108.650002  216.500000  ...  159.190002  NaN   \n2015-01-06  156.070007  NaN  107.430000  214.199997  ...  155.169998  NaN   \n2015-01-07  155.050003  NaN  108.199997  214.779999  ...  154.029999  NaN   \n...                ...  ...         ...         ...  ...         ...  ...   \n2020-02-04  149.110001  NaN  319.640015  968.989990  ...  146.880005  NaN   \n2020-02-05  156.330002  NaN  324.760010  845.979980  ...  150.149994  NaN   \n2020-02-06  156.759995  NaN  325.220001  795.830017  ...  155.419998  NaN   \n2020-02-07  153.410004  NaN  323.399994  769.750000  ...  152.919998  NaN   \n2020-02-10  154.429993  NaN  321.549988  819.989990  ...  151.580002  NaN   \n\nAttributes        Open                                   Volume              \\\nSymbols           AAPL        TSLA         IBM LNKD        AAPL        TSLA   \nDate                                                                          \n2014-12-31  112.820000  223.089996  160.410004  NaN  41403400.0   2297500.0   \n2015-01-02  111.389999  222.869995  161.309998  NaN  53204600.0   4764400.0   \n2015-01-05  108.290001  214.550003  161.270004  NaN  64285500.0   5368500.0   \n2015-01-06  106.540001  210.059998  159.669998  NaN  65797100.0   6261900.0   \n2015-01-07  107.199997  213.350006  157.199997  NaN  40105900.0   2968400.0   \n...                ...         ...         ...  ...         ...         ...   \n2020-02-04  315.309998  882.960022  147.779999  NaN  34154100.0  60938800.0   \n2020-02-05  323.519989  823.260010  150.210007  NaN  29706700.0  48423800.0   \n2020-02-06  322.570007  699.919983  156.820007  NaN  26356400.0  39880800.0   \n2020-02-07  322.369995  730.549988  154.550003  NaN  29357800.0  17041300.0   \n2020-02-10  314.179993  800.000000  152.970001  NaN  24007949.0  24389618.0   \n\nAttributes                   \nSymbols            IBM LNKD  \nDate                         \n2014-12-31   4011900.0  NaN  \n2015-01-02   5525500.0  NaN  \n2015-01-05   4880400.0  NaN  \n2015-01-06   6146700.0  NaN  \n2015-01-07   4701800.0  NaN  \n...                ...  ...  \n2020-02-04   5621000.0  NaN  \n2020-02-05  14386800.0  NaN  \n2020-02-06   8400500.0  NaN  \n2020-02-07   6414800.0  NaN  \n2020-02-10   5181895.0  NaN  \n\n[1286 rows x 24 columns]>"
     },
     "execution_count": 14,
     "metadata": {},
     "output_type": "execute_result"
    }
   ],
   "source": [
    "df.items"
   ]
  },
  {
   "cell_type": "markdown",
   "metadata": {},
   "source": [
    "### Step 7. Good, now we know  the data avaiable. Create a dataFrame called vol, with the Volume values."
   ]
  },
  {
   "cell_type": "code",
   "execution_count": 0,
   "metadata": {},
   "outputs": [],
   "source": [
    "vol = df['Volume']\n",
    "vol.head(10)"
   ]
  },
  {
   "cell_type": "markdown",
   "metadata": {},
   "source": [
    "### Step 8. Aggregate the data of Volume to weekly\n",
    "#### Hint: Be careful to not sum data from the same week of 2015 and other years."
   ]
  },
  {
   "cell_type": "code",
   "execution_count": 17,
   "metadata": {},
   "outputs": [
    {
     "name": "stderr",
     "output_type": "stream",
     "text": "C:\\Anaconda3\\lib\\site-packages\\ipykernel_launcher.py:1: SettingWithCopyWarning: \nA value is trying to be set on a copy of a slice from a DataFrame.\nTry using .loc[row_indexer,col_indexer] = value instead\n\nSee the caveats in the documentation: http://pandas.pydata.org/pandas-docs/stable/user_guide/indexing.html#returning-a-view-versus-a-copy\n  \"\"\"Entry point for launching an IPython kernel.\nC:\\Anaconda3\\lib\\site-packages\\ipykernel_launcher.py:2: SettingWithCopyWarning: \nA value is trying to be set on a copy of a slice from a DataFrame.\nTry using .loc[row_indexer,col_indexer] = value instead\n\nSee the caveats in the documentation: http://pandas.pydata.org/pandas-docs/stable/user_guide/indexing.html#returning-a-view-versus-a-copy\n  \n"
    },
    {
     "data": {
      "text/html": "<div>\n<style scoped>\n    .dataframe tbody tr th:only-of-type {\n        vertical-align: middle;\n    }\n\n    .dataframe tbody tr th {\n        vertical-align: top;\n    }\n\n    .dataframe thead th {\n        text-align: right;\n    }\n</style>\n<table border=\"1\" class=\"dataframe\">\n  <thead>\n    <tr style=\"text-align: right;\">\n      <th></th>\n      <th>Symbols</th>\n      <th>AAPL</th>\n      <th>TSLA</th>\n      <th>IBM</th>\n      <th>LNKD</th>\n    </tr>\n    <tr>\n      <th>week</th>\n      <th>year</th>\n      <th></th>\n      <th></th>\n      <th></th>\n      <th></th>\n    </tr>\n  </thead>\n  <tbody>\n    <tr>\n      <td rowspan=\"5\" valign=\"top\">1</td>\n      <td>2014</td>\n      <td>41403400.0</td>\n      <td>2297500.0</td>\n      <td>4011900.0</td>\n      <td>0.0</td>\n    </tr>\n    <tr>\n      <td>2015</td>\n      <td>53204600.0</td>\n      <td>4764400.0</td>\n      <td>5525500.0</td>\n      <td>0.0</td>\n    </tr>\n    <tr>\n      <td>2016</td>\n      <td>343790200.0</td>\n      <td>20975400.0</td>\n      <td>25253600.0</td>\n      <td>0.0</td>\n    </tr>\n    <tr>\n      <td>2017</td>\n      <td>103845500.0</td>\n      <td>28576400.0</td>\n      <td>11943500.0</td>\n      <td>0.0</td>\n    </tr>\n    <tr>\n      <td>2018</td>\n      <td>136171900.0</td>\n      <td>29713500.0</td>\n      <td>31378900.0</td>\n      <td>0.0</td>\n    </tr>\n  </tbody>\n</table>\n</div>",
      "text/plain": "Symbols           AAPL        TSLA         IBM  LNKD\nweek year                                           \n1    2014   41403400.0   2297500.0   4011900.0   0.0\n     2015   53204600.0   4764400.0   5525500.0   0.0\n     2016  343790200.0  20975400.0  25253600.0   0.0\n     2017  103845500.0  28576400.0  11943500.0   0.0\n     2018  136171900.0  29713500.0  31378900.0   0.0"
     },
     "execution_count": 17,
     "metadata": {},
     "output_type": "execute_result"
    }
   ],
   "source": [
    "vol['week'] = vol.index.week\n",
    "vol['year'] = vol.index.year\n",
    "week = vol.groupby(['week','year']).sum()\n",
    "week.head()"
   ]
  },
  {
   "cell_type": "markdown",
   "metadata": {},
   "source": [
    "### Step 9. Find all the volume traded in the year of 2015"
   ]
  },
  {
   "cell_type": "code",
   "execution_count": 23,
   "metadata": {},
   "outputs": [
    {
     "data": {
      "text/plain": "Symbols\nAAPL    1.306605e+10\nTSLA    1.088218e+09\nIBM     1.105583e+09\nLNKD    0.000000e+00\nweek    6.886000e+03\nyear    5.077800e+05\ndtype: float64"
     },
     "execution_count": 23,
     "metadata": {},
     "output_type": "execute_result"
    }
   ],
   "source": [
    "vol[vol['year']==2015].sum()"
   ]
  },
  {
   "cell_type": "markdown",
   "metadata": {},
   "source": [
    "### BONUS: Create your own question and answer it."
   ]
  },
  {
   "cell_type": "code",
   "execution_count": null,
   "metadata": {
    "collapsed": true
   },
   "outputs": [],
   "source": []
  }
 ],
 "metadata": {
  "kernelspec": {
   "display_name": "Python 3",
   "language": "python",
   "name": "python3"
  },
  "language_info": {
   "codemirror_mode": {
    "name": "ipython",
    "version": 2
   },
   "file_extension": ".py",
   "mimetype": "text/x-python",
   "name": "python",
   "nbconvert_exporter": "python",
   "pygments_lexer": "ipython2",
   "version": "3.7.4-final"
  }
 },
 "nbformat": 4,
 "nbformat_minor": 0
}