{
    "cells": [
        {
            "cell_type": "markdown",
            "metadata": {},
            "source": [
                "# Exercise 5: Evaluating the grain clustering\n",
                "\n",
                "In the previous exercise, you observed from the inertia plot that 3 is a good number of clusters for the grain data.  In fact, the grain samples come from a mix of 3 different grain varieties: \"Kama\", \"Rosa\" and \"Canadian\".  In this exercise, cluster the grain samples into three clusters, and compare the clusters to the grain varieties using a cross-tabulation."
            ]
        },
        {
            "cell_type": "markdown",
            "metadata": {},
            "source": [
                "From the course _Transition to Data Science_. [Buy the entire course for just $10](https://www.udemy.com/transition-to-data-science-in-python/?couponCode=CLUSTER-NBS) for many more exercises and helpful video lectures."
            ]
        },
        {
            "cell_type": "markdown",
            "metadata": {},
            "source": [
                "**Step 1:** Load the dataset _(written for you)_.\n",
                "\n",
                "You have the array `samples` of grain samples, and a list `varieties` giving the grain variety for each sample."
            ]
        },
        {
            "cell_type": "code",
            "execution_count": 1,
            "metadata": {},
            "outputs": [],
            "source": [
                "import pandas as pd\n",
                "\n",
                "seeds_df = pd.read_csv('../datasets/seeds.csv')\n",
                "\n",
                "# extract the grain varieties from the dataframe\n",
                "varieties = list(seeds_df['grain_variety'])\n",
                "del seeds_df['grain_variety']\n",
                "\n",
                "samples = seeds_df.values"
            ]
        },
        {
            "cell_type": "markdown",
            "metadata": {},
            "source": [
                "**Step 2:** Import KMeans"
            ]
        },
        {
            "cell_type": "code",
            "execution_count": 3,
            "metadata": {},
            "outputs": [],
            "source": [
                "from sklearn.cluster import KMeans"
            ]
        },
        {
            "cell_type": "markdown",
            "metadata": {},
            "source": [
                "**Step 3:** Create a `KMeans` model called `model` with `3` clusters.\n"
            ]
        },
        {
            "cell_type": "code",
            "execution_count": 4,
            "metadata": {},
            "outputs": [],
            "source": [
                "kmeans=KMeans(n_clusters=3)"
            ]
        },
        {
            "cell_type": "markdown",
            "metadata": {},
            "source": [
                "**Step 4:** Use the `.fit_predict()` method of `model` to fit it to `samples` and derive the cluster labels.\n",
                "\n",
                "Calling `.fit_predict()` is the same as calling `.fit()` and then calling `.predict()`."
            ]
        },
        {
            "cell_type": "code",
            "execution_count": 22,
            "metadata": {},
            "outputs": [
                {
                    "data": {
                        "text/plain": "['Kama wheat',\n 'Kama wheat',\n 'Kama wheat',\n 'Kama wheat',\n 'Kama wheat',\n 'Kama wheat',\n 'Kama wheat',\n 'Kama wheat',\n 'Kama wheat',\n 'Kama wheat',\n 'Kama wheat',\n 'Kama wheat',\n 'Kama wheat',\n 'Kama wheat',\n 'Kama wheat',\n 'Kama wheat',\n 'Kama wheat',\n 'Kama wheat',\n 'Kama wheat',\n 'Kama wheat',\n 'Kama wheat',\n 'Kama wheat',\n 'Kama wheat',\n 'Kama wheat',\n 'Kama wheat',\n 'Kama wheat',\n 'Kama wheat',\n 'Kama wheat',\n 'Kama wheat',\n 'Kama wheat',\n 'Kama wheat',\n 'Kama wheat',\n 'Kama wheat',\n 'Kama wheat',\n 'Kama wheat',\n 'Kama wheat',\n 'Kama wheat',\n 'Kama wheat',\n 'Kama wheat',\n 'Kama wheat',\n 'Kama wheat',\n 'Kama wheat',\n 'Kama wheat',\n 'Kama wheat',\n 'Kama wheat',\n 'Kama wheat',\n 'Kama wheat',\n 'Kama wheat',\n 'Kama wheat',\n 'Kama wheat',\n 'Kama wheat',\n 'Kama wheat',\n 'Kama wheat',\n 'Kama wheat',\n 'Kama wheat',\n 'Kama wheat',\n 'Kama wheat',\n 'Kama wheat',\n 'Kama wheat',\n 'Kama wheat',\n 'Kama wheat',\n 'Kama wheat',\n 'Kama wheat',\n 'Kama wheat',\n 'Kama wheat',\n 'Kama wheat',\n 'Kama wheat',\n 'Kama wheat',\n 'Kama wheat',\n 'Kama wheat',\n 'Rosa wheat',\n 'Rosa wheat',\n 'Rosa wheat',\n 'Rosa wheat',\n 'Rosa wheat',\n 'Rosa wheat',\n 'Rosa wheat',\n 'Rosa wheat',\n 'Rosa wheat',\n 'Rosa wheat',\n 'Rosa wheat',\n 'Rosa wheat',\n 'Rosa wheat',\n 'Rosa wheat',\n 'Rosa wheat',\n 'Rosa wheat',\n 'Rosa wheat',\n 'Rosa wheat',\n 'Rosa wheat',\n 'Rosa wheat',\n 'Rosa wheat',\n 'Rosa wheat',\n 'Rosa wheat',\n 'Rosa wheat',\n 'Rosa wheat',\n 'Rosa wheat',\n 'Rosa wheat',\n 'Rosa wheat',\n 'Rosa wheat',\n 'Rosa wheat',\n 'Rosa wheat',\n 'Rosa wheat',\n 'Rosa wheat',\n 'Rosa wheat',\n 'Rosa wheat',\n 'Rosa wheat',\n 'Rosa wheat',\n 'Rosa wheat',\n 'Rosa wheat',\n 'Rosa wheat',\n 'Rosa wheat',\n 'Rosa wheat',\n 'Rosa wheat',\n 'Rosa wheat',\n 'Rosa wheat',\n 'Rosa wheat',\n 'Rosa wheat',\n 'Rosa wheat',\n 'Rosa wheat',\n 'Rosa wheat',\n 'Rosa wheat',\n 'Rosa wheat',\n 'Rosa wheat',\n 'Rosa wheat',\n 'Rosa wheat',\n 'Rosa wheat',\n 'Rosa wheat',\n 'Rosa wheat',\n 'Rosa wheat',\n 'Rosa wheat',\n 'Rosa wheat',\n 'Rosa wheat',\n 'Rosa wheat',\n 'Rosa wheat',\n 'Rosa wheat',\n 'Rosa wheat',\n 'Rosa wheat',\n 'Rosa wheat',\n 'Rosa wheat',\n 'Rosa wheat',\n 'Canadian wheat',\n 'Canadian wheat',\n 'Canadian wheat',\n 'Canadian wheat',\n 'Canadian wheat',\n 'Canadian wheat',\n 'Canadian wheat',\n 'Canadian wheat',\n 'Canadian wheat',\n 'Canadian wheat',\n 'Canadian wheat',\n 'Canadian wheat',\n 'Canadian wheat',\n 'Canadian wheat',\n 'Canadian wheat',\n 'Canadian wheat',\n 'Canadian wheat',\n 'Canadian wheat',\n 'Canadian wheat',\n 'Canadian wheat',\n 'Canadian wheat',\n 'Canadian wheat',\n 'Canadian wheat',\n 'Canadian wheat',\n 'Canadian wheat',\n 'Canadian wheat',\n 'Canadian wheat',\n 'Canadian wheat',\n 'Canadian wheat',\n 'Canadian wheat',\n 'Canadian wheat',\n 'Canadian wheat',\n 'Canadian wheat',\n 'Canadian wheat',\n 'Canadian wheat',\n 'Canadian wheat',\n 'Canadian wheat',\n 'Canadian wheat',\n 'Canadian wheat',\n 'Canadian wheat',\n 'Canadian wheat',\n 'Canadian wheat',\n 'Canadian wheat',\n 'Canadian wheat',\n 'Canadian wheat',\n 'Canadian wheat',\n 'Canadian wheat',\n 'Canadian wheat',\n 'Canadian wheat',\n 'Canadian wheat',\n 'Canadian wheat',\n 'Canadian wheat',\n 'Canadian wheat',\n 'Canadian wheat',\n 'Canadian wheat',\n 'Canadian wheat',\n 'Canadian wheat',\n 'Canadian wheat',\n 'Canadian wheat',\n 'Canadian wheat',\n 'Canadian wheat',\n 'Canadian wheat',\n 'Canadian wheat',\n 'Canadian wheat',\n 'Canadian wheat',\n 'Canadian wheat',\n 'Canadian wheat',\n 'Canadian wheat',\n 'Canadian wheat',\n 'Canadian wheat']"
                    },
                    "execution_count": 22,
                    "metadata": {},
                    "output_type": "execute_result"
                }
            ],
            "source": [
                "labels=kmeans.fit_predict(samples)\n",
                "type(labels)\n",
                "labels"
            ]
        },
        {
            "cell_type": "markdown",
            "metadata": {},
            "source": [
                "**Step 5:** Create a DataFrame `df` with two columns named `'labels'` and `'varieties'`, using `labels` and `varieties`, respectively, for the column values. _(This has been done for you.)_\n"
            ]
        },
        {
            "cell_type": "code",
            "execution_count": 16,
            "metadata": {},
            "outputs": [
                {
                    "data": {
                        "text/html": "<div>\n<style scoped>\n    .dataframe tbody tr th:only-of-type {\n        vertical-align: middle;\n    }\n\n    .dataframe tbody tr th {\n        vertical-align: top;\n    }\n\n    .dataframe thead th {\n        text-align: right;\n    }\n</style>\n<table border=\"1\" class=\"dataframe\">\n  <thead>\n    <tr style=\"text-align: right;\">\n      <th></th>\n      <th>labels</th>\n      <th>varieties</th>\n    </tr>\n  </thead>\n  <tbody>\n    <tr>\n      <td>0</td>\n      <td>2</td>\n      <td>Kama wheat</td>\n    </tr>\n    <tr>\n      <td>1</td>\n      <td>2</td>\n      <td>Kama wheat</td>\n    </tr>\n    <tr>\n      <td>2</td>\n      <td>2</td>\n      <td>Kama wheat</td>\n    </tr>\n    <tr>\n      <td>3</td>\n      <td>2</td>\n      <td>Kama wheat</td>\n    </tr>\n    <tr>\n      <td>4</td>\n      <td>2</td>\n      <td>Kama wheat</td>\n    </tr>\n    <tr>\n      <td>...</td>\n      <td>...</td>\n      <td>...</td>\n    </tr>\n    <tr>\n      <td>205</td>\n      <td>0</td>\n      <td>Canadian wheat</td>\n    </tr>\n    <tr>\n      <td>206</td>\n      <td>0</td>\n      <td>Canadian wheat</td>\n    </tr>\n    <tr>\n      <td>207</td>\n      <td>0</td>\n      <td>Canadian wheat</td>\n    </tr>\n    <tr>\n      <td>208</td>\n      <td>0</td>\n      <td>Canadian wheat</td>\n    </tr>\n    <tr>\n      <td>209</td>\n      <td>0</td>\n      <td>Canadian wheat</td>\n    </tr>\n  </tbody>\n</table>\n<p>210 rows × 2 columns</p>\n</div>",
                        "text/plain": "    labels       varieties\n0        2      Kama wheat\n1        2      Kama wheat\n2        2      Kama wheat\n3        2      Kama wheat\n4        2      Kama wheat\n..     ...             ...\n205      0  Canadian wheat\n206      0  Canadian wheat\n207      0  Canadian wheat\n208      0  Canadian wheat\n209      0  Canadian wheat\n\n[210 rows x 2 columns]"
                    },
                    "execution_count": 16,
                    "metadata": {},
                    "output_type": "execute_result"
                }
            ],
            "source": [
                "import pandas as pd\n",
                "import numpy as np\n",
                "df=pd.DataFrame(np.array([labels.tolist(),varieties]).T,columns=['labels','varieties'])\n",
                "df"
            ]
        },
        {
            "cell_type": "markdown",
            "metadata": {},
            "source": [
                "**Step 6:** Use the `pd.crosstab()` function on `df['labels']` and `df['varieties']` to count the number of times each grain variety coincides with each cluster label. Assign the result to `ct`."
            ]
        },
        {
            "cell_type": "code",
            "execution_count": 30,
            "metadata": {},
            "outputs": [
                {
                    "data": {
                        "text/html": "<div>\n<style scoped>\n    .dataframe tbody tr th:only-of-type {\n        vertical-align: middle;\n    }\n\n    .dataframe tbody tr th {\n        vertical-align: top;\n    }\n\n    .dataframe thead th {\n        text-align: right;\n    }\n</style>\n<table border=\"1\" class=\"dataframe\">\n  <thead>\n    <tr style=\"text-align: right;\">\n      <th>varieties</th>\n      <th>Canadian wheat</th>\n      <th>Kama wheat</th>\n      <th>Rosa wheat</th>\n    </tr>\n    <tr>\n      <th>labels</th>\n      <th></th>\n      <th></th>\n      <th></th>\n    </tr>\n  </thead>\n  <tbody>\n    <tr>\n      <td>0</td>\n      <td>68</td>\n      <td>9</td>\n      <td>0</td>\n    </tr>\n    <tr>\n      <td>1</td>\n      <td>0</td>\n      <td>1</td>\n      <td>60</td>\n    </tr>\n    <tr>\n      <td>2</td>\n      <td>2</td>\n      <td>60</td>\n      <td>10</td>\n    </tr>\n  </tbody>\n</table>\n</div>",
                        "text/plain": "varieties  Canadian wheat  Kama wheat  Rosa wheat\nlabels                                           \n0                      68           9           0\n1                       0           1          60\n2                       2          60          10"
                    },
                    "execution_count": 30,
                    "metadata": {},
                    "output_type": "execute_result"
                }
            ],
            "source": [
                "ct=pd.crosstab(index=df['labels'],columns=df['varieties'])\n",
                "ct"
            ]
        },
        {
            "cell_type": "markdown",
            "metadata": {},
            "source": [
                "**Step 7:** Display `ct` by evaluating it - and inspect your cross-tabulation!  You'll see that your clustering is pretty good."
            ]
        },
        {
            "cell_type": "code",
            "execution_count": 41,
            "metadata": {},
            "outputs": [
                {
                    "data": {
                        "text/html": "<div>\n<style scoped>\n    .dataframe tbody tr th:only-of-type {\n        vertical-align: middle;\n    }\n\n    .dataframe tbody tr th {\n        vertical-align: top;\n    }\n\n    .dataframe thead th {\n        text-align: right;\n    }\n</style>\n<table border=\"1\" class=\"dataframe\">\n  <thead>\n    <tr style=\"text-align: right;\">\n      <th></th>\n      <th>Canadian wheat</th>\n      <th>Kama wheat</th>\n      <th>Rosa wheat</th>\n      <th>all</th>\n    </tr>\n  </thead>\n  <tbody>\n    <tr>\n      <td>0</td>\n      <td>0.971429</td>\n      <td>0.128571</td>\n      <td>0.000000</td>\n      <td>0.366667</td>\n    </tr>\n    <tr>\n      <td>1</td>\n      <td>0.000000</td>\n      <td>0.014286</td>\n      <td>0.857143</td>\n      <td>0.290476</td>\n    </tr>\n    <tr>\n      <td>2</td>\n      <td>0.028571</td>\n      <td>0.857143</td>\n      <td>0.142857</td>\n      <td>0.342857</td>\n    </tr>\n    <tr>\n      <td>3</td>\n      <td>1.000000</td>\n      <td>1.000000</td>\n      <td>1.000000</td>\n      <td>1.000000</td>\n    </tr>\n  </tbody>\n</table>\n</div>",
                        "text/plain": "   Canadian wheat  Kama wheat  Rosa wheat       all\n0        0.971429    0.128571    0.000000  0.366667\n1        0.000000    0.014286    0.857143  0.290476\n2        0.028571    0.857143    0.142857  0.342857\n3        1.000000    1.000000    1.000000  1.000000"
                    },
                    "execution_count": 41,
                    "metadata": {},
                    "output_type": "execute_result"
                }
            ],
            "source": [
                "ct=pd.crosstab(index=df['labels'],columns=df['varieties'],margins=True)#以频率方式展现\n",
                "ct1=np.array(ct)\n",
                "ct_all=np.array(ct.loc['All',:]).reshape(1,-1)\n",
                "ct_prop=ct1/ct_all\n",
                "ct_prop=pd.DataFrame(ct_prop,columns=['Canadian wheat','Kama wheat','Rosa wheat','all'])\n",
                "ct_prop"
            ]
        }
    ],
    "nbformat": 4,
    "metadata": {
        "language_info": {
            "nbconvert_exporter": "python",
            "name": "python",
            "file_extension": ".py",
            "pygments_lexer": "ipython3",
            "version": "3.7.4-final",
            "mimetype": "text/x-python",
            "codemirror_mode": {
                "name": "ipython",
                "version": 3
            }
        },
        "kernelspec": {
            "name": "python37464bitbaseconda3df29ff903a341c5b9c6ef563db3b6d5",
            "display_name": "Python 3.7.4 64-bit ('base': conda)",
            "language": "python"
        }
    },
    "nbformat_minor": 2
}