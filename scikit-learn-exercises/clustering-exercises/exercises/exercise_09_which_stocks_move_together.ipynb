{
    "nbformat_minor": 2,
    "cells": [
        {
            "cell_type": "markdown",
            "metadata": {},
            "source": [
                "# Exercise 9: Which stocks move together?\n",
                "\n",
                "In the previous exercise, you clustered companies by their daily stock price movements.  So which company have stock prices that tend to change in the same way?  Now inspect the cluster labels from your clustering to find out."
            ]
        },
        {
            "cell_type": "markdown",
            "metadata": {},
            "source": [
                "From the course _Transition to Data Science_. [Buy the entire course for just $10](https://www.udemy.com/transition-to-data-science-in-python/?couponCode=CLUSTER-NBS) for many more exercises and helpful video lectures."
            ]
        },
        {
            "cell_type": "markdown",
            "metadata": {},
            "source": [
                "**Step 1:** Load the data _(written for you)_."
            ]
        },
        {
            "cell_type": "code",
            "execution_count": 1,
            "metadata": {},
            "outputs": [],
            "source": [
                "import pandas as pd\n",
                "\n",
                "fn = '../datasets/company-stock-movements-2010-2015-incl.csv'\n",
                "stocks_df = pd.read_csv(fn, index_col=0)"
            ]
        },
        {
            "cell_type": "markdown",
            "metadata": {},
            "source": [
                "**Step 2:** Run your code from the previous exercise _(filled in for you)_."
            ]
        },
        {
            "cell_type": "code",
            "execution_count": 2,
            "metadata": {},
            "outputs": [
                {
                    "data": {
                        "text/plain": "Pipeline(memory=None,\n         steps=[('normalizer', Normalizer(copy=True, norm='l2')),\n                ('kmeans',\n                 KMeans(algorithm='auto', copy_x=True, init='k-means++',\n                        max_iter=300, n_clusters=14, n_init=10, n_jobs=None,\n                        precompute_distances='auto', random_state=None,\n                        tol=0.0001, verbose=0))],\n         verbose=False)"
                    },
                    "execution_count": 2,
                    "metadata": {},
                    "output_type": "execute_result"
                }
            ],
            "source": [
                "companies = list(stocks_df.index)\n",
                "movements = stocks_df.values\n",
                "\n",
                "from sklearn.preprocessing import Normalizer\n",
                "from sklearn.cluster import KMeans\n",
                "from sklearn.pipeline import make_pipeline\n",
                "\n",
                "normalizer = Normalizer()\n",
                "kmeans = KMeans(n_clusters=14)\n",
                "pipeline = make_pipeline(normalizer, kmeans)\n",
                "pipeline.fit(movements)"
            ]
        },
        {
            "cell_type": "markdown",
            "metadata": {},
            "source": [
                "**Step 3:** Use the `.predict()` method of the pipeline to predict the labels for `movements`."
            ]
        },
        {
            "cell_type": "code",
            "execution_count": 3,
            "metadata": {},
            "outputs": [],
            "source": [
                "labels=pipeline.predict(movements)"
            ]
        },
        {
            "cell_type": "markdown",
            "metadata": {},
            "source": [
                "**Step 4:** Align the cluster labels with the list of company names `companies` by creating a DataFrame `df` with `labels` and `companies` as columns."
            ]
        },
        {
            "cell_type": "code",
            "execution_count": 4,
            "metadata": {},
            "outputs": [],
            "source": [
                "import numpy as np\n",
                "df=pd.DataFrame(np.array([labels,companies]).T,columns=['labels','companies'])"
            ]
        },
        {
            "cell_type": "markdown",
            "metadata": {},
            "source": [
                "**Step 5:** Now display the DataFrame, sorted by cluster label.  To do this, use the `.sort_values()` method of `df` to sort the DataFrame by the `'labels'` column."
            ]
        },
        {
            "cell_type": "code",
            "execution_count": 19,
            "metadata": {},
            "outputs": [
                {
                    "data": {
                        "text/html": "<div>\n<style scoped>\n    .dataframe tbody tr th:only-of-type {\n        vertical-align: middle;\n    }\n\n    .dataframe tbody tr th {\n        vertical-align: top;\n    }\n\n    .dataframe thead th {\n        text-align: right;\n    }\n</style>\n<table border=\"1\" class=\"dataframe\">\n  <thead>\n    <tr style=\"text-align: right;\">\n      <th></th>\n      <th>labels</th>\n      <th>companies</th>\n    </tr>\n  </thead>\n  <tbody>\n    <tr>\n      <td>57</td>\n      <td>0</td>\n      <td>Exxon</td>\n    </tr>\n    <tr>\n      <td>53</td>\n      <td>0</td>\n      <td>Valero Energy</td>\n    </tr>\n    <tr>\n      <td>44</td>\n      <td>0</td>\n      <td>Schlumberger</td>\n    </tr>\n    <tr>\n      <td>8</td>\n      <td>0</td>\n      <td>Caterpillar</td>\n    </tr>\n    <tr>\n      <td>35</td>\n      <td>0</td>\n      <td>Navistar</td>\n    </tr>\n    <tr>\n      <td>10</td>\n      <td>0</td>\n      <td>ConocoPhillips</td>\n    </tr>\n    <tr>\n      <td>12</td>\n      <td>0</td>\n      <td>Chevron</td>\n    </tr>\n    <tr>\n      <td>48</td>\n      <td>1</td>\n      <td>Toyota</td>\n    </tr>\n    <tr>\n      <td>45</td>\n      <td>1</td>\n      <td>Sony</td>\n    </tr>\n    <tr>\n      <td>7</td>\n      <td>1</td>\n      <td>Canon</td>\n    </tr>\n    <tr>\n      <td>34</td>\n      <td>1</td>\n      <td>Mitsubishi</td>\n    </tr>\n    <tr>\n      <td>21</td>\n      <td>1</td>\n      <td>Honda</td>\n    </tr>\n    <tr>\n      <td>15</td>\n      <td>1</td>\n      <td>Ford</td>\n    </tr>\n    <tr>\n      <td>59</td>\n      <td>10</td>\n      <td>Yahoo</td>\n    </tr>\n    <tr>\n      <td>36</td>\n      <td>11</td>\n      <td>Northrop Grumman</td>\n    </tr>\n    <tr>\n      <td>29</td>\n      <td>11</td>\n      <td>Lookheed Martin</td>\n    </tr>\n    <tr>\n      <td>4</td>\n      <td>11</td>\n      <td>Boeing</td>\n    </tr>\n    <tr>\n      <td>32</td>\n      <td>12</td>\n      <td>3M</td>\n    </tr>\n    <tr>\n      <td>58</td>\n      <td>12</td>\n      <td>Xerox</td>\n    </tr>\n    <tr>\n      <td>13</td>\n      <td>12</td>\n      <td>DuPont de Nemours</td>\n    </tr>\n    <tr>\n      <td>16</td>\n      <td>12</td>\n      <td>General Electrics</td>\n    </tr>\n    <tr>\n      <td>20</td>\n      <td>12</td>\n      <td>Home Depot</td>\n    </tr>\n    <tr>\n      <td>56</td>\n      <td>13</td>\n      <td>Wal-Mart</td>\n    </tr>\n    <tr>\n      <td>25</td>\n      <td>13</td>\n      <td>Johnson &amp; Johnson</td>\n    </tr>\n    <tr>\n      <td>39</td>\n      <td>13</td>\n      <td>Pfizer</td>\n    </tr>\n    <tr>\n      <td>1</td>\n      <td>2</td>\n      <td>AIG</td>\n    </tr>\n    <tr>\n      <td>3</td>\n      <td>2</td>\n      <td>American express</td>\n    </tr>\n    <tr>\n      <td>55</td>\n      <td>2</td>\n      <td>Wells Fargo</td>\n    </tr>\n    <tr>\n      <td>26</td>\n      <td>2</td>\n      <td>JPMorgan Chase</td>\n    </tr>\n    <tr>\n      <td>18</td>\n      <td>2</td>\n      <td>Goldman Sachs</td>\n    </tr>\n    <tr>\n      <td>5</td>\n      <td>2</td>\n      <td>Bank of America</td>\n    </tr>\n    <tr>\n      <td>27</td>\n      <td>3</td>\n      <td>Kimberly-Clark</td>\n    </tr>\n    <tr>\n      <td>28</td>\n      <td>3</td>\n      <td>Coca Cola</td>\n    </tr>\n    <tr>\n      <td>41</td>\n      <td>3</td>\n      <td>Philip Morris</td>\n    </tr>\n    <tr>\n      <td>40</td>\n      <td>3</td>\n      <td>Procter Gamble</td>\n    </tr>\n    <tr>\n      <td>9</td>\n      <td>3</td>\n      <td>Colgate-Palmolive</td>\n    </tr>\n    <tr>\n      <td>38</td>\n      <td>3</td>\n      <td>Pepsi</td>\n    </tr>\n    <tr>\n      <td>33</td>\n      <td>4</td>\n      <td>Microsoft</td>\n    </tr>\n    <tr>\n      <td>11</td>\n      <td>4</td>\n      <td>Cisco</td>\n    </tr>\n    <tr>\n      <td>22</td>\n      <td>4</td>\n      <td>HP</td>\n    </tr>\n    <tr>\n      <td>14</td>\n      <td>4</td>\n      <td>Dell</td>\n    </tr>\n    <tr>\n      <td>17</td>\n      <td>5</td>\n      <td>Google/Alphabet</td>\n    </tr>\n    <tr>\n      <td>2</td>\n      <td>5</td>\n      <td>Amazon</td>\n    </tr>\n    <tr>\n      <td>49</td>\n      <td>6</td>\n      <td>Total</td>\n    </tr>\n    <tr>\n      <td>52</td>\n      <td>6</td>\n      <td>Unilever</td>\n    </tr>\n    <tr>\n      <td>46</td>\n      <td>6</td>\n      <td>Sanofi-Aventis</td>\n    </tr>\n    <tr>\n      <td>37</td>\n      <td>6</td>\n      <td>Novartis</td>\n    </tr>\n    <tr>\n      <td>42</td>\n      <td>6</td>\n      <td>Royal Dutch Shell</td>\n    </tr>\n    <tr>\n      <td>6</td>\n      <td>6</td>\n      <td>British American Tobacco</td>\n    </tr>\n    <tr>\n      <td>31</td>\n      <td>6</td>\n      <td>McDonalds</td>\n    </tr>\n    <tr>\n      <td>30</td>\n      <td>6</td>\n      <td>MasterCard</td>\n    </tr>\n    <tr>\n      <td>19</td>\n      <td>6</td>\n      <td>GlaxoSmithKline</td>\n    </tr>\n    <tr>\n      <td>43</td>\n      <td>6</td>\n      <td>SAP</td>\n    </tr>\n    <tr>\n      <td>47</td>\n      <td>7</td>\n      <td>Symantec</td>\n    </tr>\n    <tr>\n      <td>50</td>\n      <td>7</td>\n      <td>Taiwan Semiconductor Manufacturing</td>\n    </tr>\n    <tr>\n      <td>51</td>\n      <td>7</td>\n      <td>Texas instruments</td>\n    </tr>\n    <tr>\n      <td>24</td>\n      <td>7</td>\n      <td>Intel</td>\n    </tr>\n    <tr>\n      <td>23</td>\n      <td>7</td>\n      <td>IBM</td>\n    </tr>\n    <tr>\n      <td>0</td>\n      <td>8</td>\n      <td>Apple</td>\n    </tr>\n    <tr>\n      <td>54</td>\n      <td>9</td>\n      <td>Walgreen</td>\n    </tr>\n  </tbody>\n</table>\n</div>",
                        "text/plain": "   labels                           companies\n57      0                               Exxon\n53      0                       Valero Energy\n44      0                        Schlumberger\n8       0                         Caterpillar\n35      0                            Navistar\n10      0                      ConocoPhillips\n12      0                             Chevron\n48      1                              Toyota\n45      1                                Sony\n7       1                               Canon\n34      1                          Mitsubishi\n21      1                               Honda\n15      1                                Ford\n59     10                               Yahoo\n36     11                    Northrop Grumman\n29     11                     Lookheed Martin\n4      11                              Boeing\n32     12                                  3M\n58     12                               Xerox\n13     12                   DuPont de Nemours\n16     12                   General Electrics\n20     12                          Home Depot\n56     13                            Wal-Mart\n25     13                   Johnson & Johnson\n39     13                              Pfizer\n1       2                                 AIG\n3       2                    American express\n55      2                         Wells Fargo\n26      2                      JPMorgan Chase\n18      2                       Goldman Sachs\n5       2                     Bank of America\n27      3                      Kimberly-Clark\n28      3                           Coca Cola\n41      3                       Philip Morris\n40      3                      Procter Gamble\n9       3                   Colgate-Palmolive\n38      3                               Pepsi\n33      4                           Microsoft\n11      4                               Cisco\n22      4                                  HP\n14      4                                Dell\n17      5                     Google/Alphabet\n2       5                              Amazon\n49      6                               Total\n52      6                            Unilever\n46      6                      Sanofi-Aventis\n37      6                            Novartis\n42      6                   Royal Dutch Shell\n6       6            British American Tobacco\n31      6                           McDonalds\n30      6                          MasterCard\n19      6                     GlaxoSmithKline\n43      6                                 SAP\n47      7                            Symantec\n50      7  Taiwan Semiconductor Manufacturing\n51      7                   Texas instruments\n24      7                               Intel\n23      7                                 IBM\n0       8                               Apple\n54      9                            Walgreen"
                    },
                    "execution_count": 19,
                    "metadata": {},
                    "output_type": "execute_result"
                }
            ],
            "source": [
                "df.head()\n",
                "df.sort_values(by=['labels'])\n"
            ]
        },
        {
            "cell_type": "markdown",
            "metadata": {},
            "source": [
                "**Great job!** Using k-means, you've discovered which companies stock prices move together on the stock exchange."
            ]
        },
        {
            "cell_type": "code",
            "execution_count": null,
            "metadata": {
                "collapsed": true
            },
            "outputs": [],
            "source": []
        }
    ],
    "metadata": {
        "language_info": {
            "pygments_lexer": "ipython3",
            "codemirror_mode": {
                "name": "ipython",
                "version": 3
            },
            "version": "3.7.4-final",
            "name": "python",
            "mimetype": "text/x-python",
            "nbconvert_exporter": "python",
            "file_extension": ".py"
        },
        "kernelspec": {
            "name": "python37464bitbaseconda3df29ff903a341c5b9c6ef563db3b6d5",
            "display_name": "Python 3.7.4 64-bit ('base': conda)",
            "language": "python"
        }
    },
    "nbformat": 4
}