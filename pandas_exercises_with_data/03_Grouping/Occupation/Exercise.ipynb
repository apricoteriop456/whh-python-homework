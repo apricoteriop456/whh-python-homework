{
 "cells": [
  {
   "cell_type": "markdown",
   "metadata": {},
   "source": [
    "# Occupation"
   ]
  },
  {
   "cell_type": "markdown",
   "metadata": {},
   "source": [
    "### Introduction:\n",
    "\n",
    "Special thanks to: https://github.com/justmarkham for sharing the dataset and materials.\n",
    "\n",
    "### Step 1. Import the necessary libraries"
   ]
  },
  {
   "cell_type": "code",
   "execution_count": 1,
   "metadata": {},
   "outputs": [],
   "source": [
    "import pandas as pd"
   ]
  },
  {
   "cell_type": "markdown",
   "metadata": {},
   "source": [
    "### Step 2. Import the dataset from this [address](https://raw.githubusercontent.com/justmarkham/DAT8/master/data/u.user). "
   ]
  },
  {
   "cell_type": "markdown",
   "metadata": {},
   "source": [
    "### Step 3. Assign it to a variable called users."
   ]
  },
  {
   "cell_type": "code",
   "execution_count": 4,
   "metadata": {},
   "outputs": [
    {
     "data": {
      "text/html": "<div>\n<style scoped>\n    .dataframe tbody tr th:only-of-type {\n        vertical-align: middle;\n    }\n\n    .dataframe tbody tr th {\n        vertical-align: top;\n    }\n\n    .dataframe thead th {\n        text-align: right;\n    }\n</style>\n<table border=\"1\" class=\"dataframe\">\n  <thead>\n    <tr style=\"text-align: right;\">\n      <th></th>\n      <th>user_id</th>\n      <th>age</th>\n      <th>gender</th>\n      <th>occupation</th>\n      <th>zip_code</th>\n    </tr>\n  </thead>\n  <tbody>\n    <tr>\n      <td>0</td>\n      <td>1</td>\n      <td>24</td>\n      <td>M</td>\n      <td>technician</td>\n      <td>85711</td>\n    </tr>\n    <tr>\n      <td>1</td>\n      <td>2</td>\n      <td>53</td>\n      <td>F</td>\n      <td>other</td>\n      <td>94043</td>\n    </tr>\n    <tr>\n      <td>2</td>\n      <td>3</td>\n      <td>23</td>\n      <td>M</td>\n      <td>writer</td>\n      <td>32067</td>\n    </tr>\n    <tr>\n      <td>3</td>\n      <td>4</td>\n      <td>24</td>\n      <td>M</td>\n      <td>technician</td>\n      <td>43537</td>\n    </tr>\n    <tr>\n      <td>4</td>\n      <td>5</td>\n      <td>33</td>\n      <td>F</td>\n      <td>other</td>\n      <td>15213</td>\n    </tr>\n  </tbody>\n</table>\n</div>",
      "text/plain": "   user_id  age gender  occupation zip_code\n0        1   24      M  technician    85711\n1        2   53      F       other    94043\n2        3   23      M      writer    32067\n3        4   24      M  technician    43537\n4        5   33      F       other    15213"
     },
     "execution_count": 4,
     "metadata": {},
     "output_type": "execute_result"
    }
   ],
   "source": [
    "path = '../../../../pandas_exercises_with_data/data/'\n",
    "users=pd.read_csv(path+'u.user',sep='|')\n",
    "users.head()"
   ]
  },
  {
   "cell_type": "markdown",
   "metadata": {},
   "source": [
    "### Step 4. Discover what is the mean age per occupation"
   ]
  },
  {
   "cell_type": "code",
   "execution_count": 5,
   "metadata": {},
   "outputs": [
    {
     "data": {
      "text/plain": "occupation\nadministrator    38.746835\nartist           31.392857\ndoctor           43.571429\neducator         42.010526\nengineer         36.388060\nentertainment    29.222222\nexecutive        38.718750\nhealthcare       41.562500\nhomemaker        32.571429\nlawyer           36.750000\nlibrarian        40.000000\nmarketing        37.615385\nnone             26.555556\nother            34.523810\nprogrammer       33.121212\nretired          63.071429\nsalesman         35.666667\nscientist        35.548387\nstudent          22.081633\ntechnician       33.148148\nwriter           36.311111\nName: age, dtype: float64"
     },
     "execution_count": 5,
     "metadata": {},
     "output_type": "execute_result"
    }
   ],
   "source": [
    "users.groupby(by=['occupation']).age.mean()"
   ]
  },
  {
   "cell_type": "markdown",
   "metadata": {},
   "source": [
    "### Step 5. Discover the Male ratio per occupation and sort it from the most to the least"
   ]
  },
  {
   "cell_type": "code",
   "execution_count": 27,
   "metadata": {},
   "outputs": [
    {
     "data": {
      "text/plain": "doctor           100.000000\nengineer          97.014925\ntechnician        96.296296\nretired           92.857143\nprogrammer        90.909091\nexecutive         90.625000\nscientist         90.322581\nentertainment     88.888889\nlawyer            83.333333\nsalesman          75.000000\neducator          72.631579\nstudent           69.387755\nother             65.714286\nmarketing         61.538462\nwriter            57.777778\nnone              55.555556\nadministrator     54.430380\nartist            53.571429\nlibrarian         43.137255\nhealthcare        31.250000\nhomemaker         14.285714\ndtype: float64"
     },
     "execution_count": 27,
     "metadata": {},
     "output_type": "execute_result"
    }
   ],
   "source": [
    "def gender_to_numeric(x):\n",
    "    if x == 'M':\n",
    "        return 1\n",
    "    if x == 'F':\n",
    "        return 0\n",
    "users['num']=users['gender'].apply(gender_to_numeric)\n",
    "a = users.groupby('occupation').num.sum() / users.occupation.value_counts() * 100\n",
    "a.sort_values(ascending = False)"
   ]
  },
  {
   "cell_type": "markdown",
   "metadata": {},
   "source": [
    "### Step 6. For each occupation, calculate the minimum and maximum ages"
   ]
  },
  {
   "cell_type": "code",
   "execution_count": 17,
   "metadata": {},
   "outputs": [
    {
     "data": {
      "text/html": "<div>\n<style scoped>\n    .dataframe tbody tr th:only-of-type {\n        vertical-align: middle;\n    }\n\n    .dataframe tbody tr th {\n        vertical-align: top;\n    }\n\n    .dataframe thead th {\n        text-align: right;\n    }\n</style>\n<table border=\"1\" class=\"dataframe\">\n  <thead>\n    <tr style=\"text-align: right;\">\n      <th></th>\n      <th>max</th>\n      <th>min</th>\n    </tr>\n    <tr>\n      <th>occupation</th>\n      <th></th>\n      <th></th>\n    </tr>\n  </thead>\n  <tbody>\n    <tr>\n      <td>administrator</td>\n      <td>70</td>\n      <td>21</td>\n    </tr>\n    <tr>\n      <td>artist</td>\n      <td>48</td>\n      <td>19</td>\n    </tr>\n    <tr>\n      <td>doctor</td>\n      <td>64</td>\n      <td>28</td>\n    </tr>\n    <tr>\n      <td>educator</td>\n      <td>63</td>\n      <td>23</td>\n    </tr>\n    <tr>\n      <td>engineer</td>\n      <td>70</td>\n      <td>22</td>\n    </tr>\n    <tr>\n      <td>entertainment</td>\n      <td>50</td>\n      <td>15</td>\n    </tr>\n    <tr>\n      <td>executive</td>\n      <td>69</td>\n      <td>22</td>\n    </tr>\n    <tr>\n      <td>healthcare</td>\n      <td>62</td>\n      <td>22</td>\n    </tr>\n    <tr>\n      <td>homemaker</td>\n      <td>50</td>\n      <td>20</td>\n    </tr>\n    <tr>\n      <td>lawyer</td>\n      <td>53</td>\n      <td>21</td>\n    </tr>\n    <tr>\n      <td>librarian</td>\n      <td>69</td>\n      <td>23</td>\n    </tr>\n    <tr>\n      <td>marketing</td>\n      <td>55</td>\n      <td>24</td>\n    </tr>\n    <tr>\n      <td>none</td>\n      <td>55</td>\n      <td>11</td>\n    </tr>\n    <tr>\n      <td>other</td>\n      <td>64</td>\n      <td>13</td>\n    </tr>\n    <tr>\n      <td>programmer</td>\n      <td>63</td>\n      <td>20</td>\n    </tr>\n    <tr>\n      <td>retired</td>\n      <td>73</td>\n      <td>51</td>\n    </tr>\n    <tr>\n      <td>salesman</td>\n      <td>66</td>\n      <td>18</td>\n    </tr>\n    <tr>\n      <td>scientist</td>\n      <td>55</td>\n      <td>23</td>\n    </tr>\n    <tr>\n      <td>student</td>\n      <td>42</td>\n      <td>7</td>\n    </tr>\n    <tr>\n      <td>technician</td>\n      <td>55</td>\n      <td>21</td>\n    </tr>\n    <tr>\n      <td>writer</td>\n      <td>60</td>\n      <td>18</td>\n    </tr>\n  </tbody>\n</table>\n</div>",
      "text/plain": "               max  min\noccupation             \nadministrator   70   21\nartist          48   19\ndoctor          64   28\neducator        63   23\nengineer        70   22\nentertainment   50   15\nexecutive       69   22\nhealthcare      62   22\nhomemaker       50   20\nlawyer          53   21\nlibrarian       69   23\nmarketing       55   24\nnone            55   11\nother           64   13\nprogrammer      63   20\nretired         73   51\nsalesman        66   18\nscientist       55   23\nstudent         42    7\ntechnician      55   21\nwriter          60   18"
     },
     "execution_count": 17,
     "metadata": {},
     "output_type": "execute_result"
    }
   ],
   "source": [
    "users.groupby(by=['occupation']).age.agg(['max','min'])"
   ]
  },
  {
   "cell_type": "markdown",
   "metadata": {},
   "source": [
    "### Step 7. For each combination of occupation and gender, calculate the mean age"
   ]
  },
  {
   "cell_type": "code",
   "execution_count": 18,
   "metadata": {},
   "outputs": [
    {
     "data": {
      "text/plain": "occupation     gender\nadministrator  F         40.638889\n               M         37.162791\nartist         F         30.307692\n               M         32.333333\ndoctor         M         43.571429\neducator       F         39.115385\n               M         43.101449\nengineer       F         29.500000\n               M         36.600000\nentertainment  F         31.000000\n               M         29.000000\nexecutive      F         44.000000\n               M         38.172414\nhealthcare     F         39.818182\n               M         45.400000\nhomemaker      F         34.166667\n               M         23.000000\nlawyer         F         39.500000\n               M         36.200000\nlibrarian      F         40.000000\n               M         40.000000\nmarketing      F         37.200000\n               M         37.875000\nnone           F         36.500000\n               M         18.600000\nother          F         35.472222\n               M         34.028986\nprogrammer     F         32.166667\n               M         33.216667\nretired        F         70.000000\n               M         62.538462\nsalesman       F         27.000000\n               M         38.555556\nscientist      F         28.333333\n               M         36.321429\nstudent        F         20.750000\n               M         22.669118\ntechnician     F         38.000000\n               M         32.961538\nwriter         F         37.631579\n               M         35.346154\nName: age, dtype: float64"
     },
     "execution_count": 18,
     "metadata": {},
     "output_type": "execute_result"
    }
   ],
   "source": [
    "users.groupby(by=['occupation','gender']).age.mean()"
   ]
  },
  {
   "cell_type": "markdown",
   "metadata": {},
   "source": [
    "### Step 8.  For each occupation present the percentage of women and men"
   ]
  },
  {
   "cell_type": "code",
   "execution_count": 43,
   "metadata": {},
   "outputs": [
    {
     "data": {
      "text/html": "<div>\n<style scoped>\n    .dataframe tbody tr th:only-of-type {\n        vertical-align: middle;\n    }\n\n    .dataframe tbody tr th {\n        vertical-align: top;\n    }\n\n    .dataframe thead th {\n        text-align: right;\n    }\n</style>\n<table border=\"1\" class=\"dataframe\">\n  <thead>\n    <tr style=\"text-align: right;\">\n      <th></th>\n      <th>male</th>\n      <th>famale</th>\n    </tr>\n  </thead>\n  <tbody>\n    <tr>\n      <td>administrator</td>\n      <td>54.430380</td>\n      <td>45.569620</td>\n    </tr>\n    <tr>\n      <td>artist</td>\n      <td>53.571429</td>\n      <td>46.428571</td>\n    </tr>\n    <tr>\n      <td>doctor</td>\n      <td>100.000000</td>\n      <td>0.000000</td>\n    </tr>\n    <tr>\n      <td>educator</td>\n      <td>72.631579</td>\n      <td>27.368421</td>\n    </tr>\n    <tr>\n      <td>engineer</td>\n      <td>97.014925</td>\n      <td>2.985075</td>\n    </tr>\n    <tr>\n      <td>entertainment</td>\n      <td>88.888889</td>\n      <td>11.111111</td>\n    </tr>\n    <tr>\n      <td>executive</td>\n      <td>90.625000</td>\n      <td>9.375000</td>\n    </tr>\n    <tr>\n      <td>healthcare</td>\n      <td>31.250000</td>\n      <td>68.750000</td>\n    </tr>\n    <tr>\n      <td>homemaker</td>\n      <td>14.285714</td>\n      <td>85.714286</td>\n    </tr>\n    <tr>\n      <td>lawyer</td>\n      <td>83.333333</td>\n      <td>16.666667</td>\n    </tr>\n    <tr>\n      <td>librarian</td>\n      <td>43.137255</td>\n      <td>56.862745</td>\n    </tr>\n    <tr>\n      <td>marketing</td>\n      <td>61.538462</td>\n      <td>38.461538</td>\n    </tr>\n    <tr>\n      <td>none</td>\n      <td>55.555556</td>\n      <td>44.444444</td>\n    </tr>\n    <tr>\n      <td>other</td>\n      <td>65.714286</td>\n      <td>34.285714</td>\n    </tr>\n    <tr>\n      <td>programmer</td>\n      <td>90.909091</td>\n      <td>9.090909</td>\n    </tr>\n    <tr>\n      <td>retired</td>\n      <td>92.857143</td>\n      <td>7.142857</td>\n    </tr>\n    <tr>\n      <td>salesman</td>\n      <td>75.000000</td>\n      <td>25.000000</td>\n    </tr>\n    <tr>\n      <td>scientist</td>\n      <td>90.322581</td>\n      <td>9.677419</td>\n    </tr>\n    <tr>\n      <td>student</td>\n      <td>69.387755</td>\n      <td>30.612245</td>\n    </tr>\n    <tr>\n      <td>technician</td>\n      <td>96.296296</td>\n      <td>3.703704</td>\n    </tr>\n    <tr>\n      <td>writer</td>\n      <td>57.777778</td>\n      <td>42.222222</td>\n    </tr>\n  </tbody>\n</table>\n</div>",
      "text/plain": "                     male     famale\nadministrator   54.430380  45.569620\nartist          53.571429  46.428571\ndoctor         100.000000   0.000000\neducator        72.631579  27.368421\nengineer        97.014925   2.985075\nentertainment   88.888889  11.111111\nexecutive       90.625000   9.375000\nhealthcare      31.250000  68.750000\nhomemaker       14.285714  85.714286\nlawyer          83.333333  16.666667\nlibrarian       43.137255  56.862745\nmarketing       61.538462  38.461538\nnone            55.555556  44.444444\nother           65.714286  34.285714\nprogrammer      90.909091   9.090909\nretired         92.857143   7.142857\nsalesman        75.000000  25.000000\nscientist       90.322581   9.677419\nstudent         69.387755  30.612245\ntechnician      96.296296   3.703704\nwriter          57.777778  42.222222"
     },
     "execution_count": 43,
     "metadata": {},
     "output_type": "execute_result"
    }
   ],
   "source": [
    "users['num']=users['gender'].apply(gender_to_numeric)\n",
    "\n",
    "a = users.groupby('occupation').num.sum() / users.occupation.value_counts() * 100\n",
    "b = 100-a#女性比例\n",
    "percentage=pd.concat([a,b],axis=1)\n",
    "percentage=percentage.rename(columns={0:'male',1:'famale'})\n",
    "percentage\n"
   ]
  }
 ],
 "metadata": {
  "kernelspec": {
   "display_name": "Python 3.7.4 64-bit ('base': conda)",
   "language": "python",
   "name": "python37464bitbasecondafdf494ed7aa745e993b40122d9b1f7a7"
  },
  "language_info": {
   "codemirror_mode": {
    "name": "ipython",
    "version": 2
   },
   "file_extension": ".py",
   "mimetype": "text/x-python",
   "name": "python",
   "nbconvert_exporter": "python",
   "pygments_lexer": "ipython2",
   "version": "3.7.4-final"
  }
 },
 "nbformat": 4,
 "nbformat_minor": 0
}