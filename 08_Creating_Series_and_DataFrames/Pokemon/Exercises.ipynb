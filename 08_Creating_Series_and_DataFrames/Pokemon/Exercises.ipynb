{
 "cells": [
  {
   "cell_type": "markdown",
   "metadata": {},
   "source": [
    "# Pokemon"
   ]
  },
  {
   "cell_type": "markdown",
   "metadata": {},
   "source": [
    "### Introduction:\n",
    "\n",
    "This time you will create the data.\n",
    "\n",
    "\n",
    "\n",
    "### Step 1. Import the necessary libraries"
   ]
  },
  {
   "cell_type": "code",
   "execution_count": 1,
   "metadata": {},
   "outputs": [],
   "source": [
    "import numpy as np\n",
    "import pandas as pd"
   ]
  },
  {
   "cell_type": "markdown",
   "metadata": {},
   "source": [
    "### Step 2. Create a data dictionary that looks like the DataFrame below"
   ]
  },
  {
   "cell_type": "code",
   "execution_count": 2,
   "metadata": {},
   "outputs": [],
   "source": [
    "raw_data={'evolution':['Ivysaur','Charmeleon','Wartortle','Metapod'],'hp':[45,39,44,45],'name':['Bulbasaur','Charmander','Squirtle','Caterpie'],'pokedex':['yes', 'no','yes','no'],'type':['grass', 'fire', 'water', 'bug']}"
   ]
  },
  {
   "cell_type": "markdown",
   "metadata": {},
   "source": [
    "### Step 3. Assign it to a variable called "
   ]
  },
  {
   "cell_type": "code",
   "execution_count": 4,
   "metadata": {},
   "outputs": [
    {
     "data": {
      "text/html": "<div>\n<style scoped>\n    .dataframe tbody tr th:only-of-type {\n        vertical-align: middle;\n    }\n\n    .dataframe tbody tr th {\n        vertical-align: top;\n    }\n\n    .dataframe thead th {\n        text-align: right;\n    }\n</style>\n<table border=\"1\" class=\"dataframe\">\n  <thead>\n    <tr style=\"text-align: right;\">\n      <th></th>\n      <th>evolution</th>\n      <th>hp</th>\n      <th>name</th>\n      <th>pokedex</th>\n      <th>type</th>\n    </tr>\n  </thead>\n  <tbody>\n    <tr>\n      <td>0</td>\n      <td>Ivysaur</td>\n      <td>45</td>\n      <td>Bulbasaur</td>\n      <td>yes</td>\n      <td>grass</td>\n    </tr>\n    <tr>\n      <td>1</td>\n      <td>Charmeleon</td>\n      <td>39</td>\n      <td>Charmander</td>\n      <td>no</td>\n      <td>fire</td>\n    </tr>\n    <tr>\n      <td>2</td>\n      <td>Wartortle</td>\n      <td>44</td>\n      <td>Squirtle</td>\n      <td>yes</td>\n      <td>water</td>\n    </tr>\n    <tr>\n      <td>3</td>\n      <td>Metapod</td>\n      <td>45</td>\n      <td>Caterpie</td>\n      <td>no</td>\n      <td>bug</td>\n    </tr>\n  </tbody>\n</table>\n</div>",
      "text/plain": "    evolution  hp        name pokedex   type\n0     Ivysaur  45   Bulbasaur     yes  grass\n1  Charmeleon  39  Charmander      no   fire\n2   Wartortle  44    Squirtle     yes  water\n3     Metapod  45    Caterpie      no    bug"
     },
     "execution_count": 4,
     "metadata": {},
     "output_type": "execute_result"
    }
   ],
   "source": [
    "pokemon = pd.DataFrame(raw_data)\n",
    "pokemon"
   ]
  },
  {
   "cell_type": "markdown",
   "metadata": {},
   "source": [
    "### Step 4. Ops...it seems the DataFrame columns are in alphabetical order. Place  the order of the columns as name, type, hp, evolution, pokedex"
   ]
  },
  {
   "cell_type": "code",
   "execution_count": 5,
   "metadata": {},
   "outputs": [
    {
     "data": {
      "text/html": "<div>\n<style scoped>\n    .dataframe tbody tr th:only-of-type {\n        vertical-align: middle;\n    }\n\n    .dataframe tbody tr th {\n        vertical-align: top;\n    }\n\n    .dataframe thead th {\n        text-align: right;\n    }\n</style>\n<table border=\"1\" class=\"dataframe\">\n  <thead>\n    <tr style=\"text-align: right;\">\n      <th></th>\n      <th>name</th>\n      <th>type</th>\n      <th>hp</th>\n      <th>evolution</th>\n      <th>pokedex</th>\n    </tr>\n  </thead>\n  <tbody>\n    <tr>\n      <td>0</td>\n      <td>Bulbasaur</td>\n      <td>grass</td>\n      <td>45</td>\n      <td>Ivysaur</td>\n      <td>yes</td>\n    </tr>\n    <tr>\n      <td>1</td>\n      <td>Charmander</td>\n      <td>fire</td>\n      <td>39</td>\n      <td>Charmeleon</td>\n      <td>no</td>\n    </tr>\n    <tr>\n      <td>2</td>\n      <td>Squirtle</td>\n      <td>water</td>\n      <td>44</td>\n      <td>Wartortle</td>\n      <td>yes</td>\n    </tr>\n    <tr>\n      <td>3</td>\n      <td>Caterpie</td>\n      <td>bug</td>\n      <td>45</td>\n      <td>Metapod</td>\n      <td>no</td>\n    </tr>\n  </tbody>\n</table>\n</div>",
      "text/plain": "         name   type  hp   evolution pokedex\n0   Bulbasaur  grass  45     Ivysaur     yes\n1  Charmander   fire  39  Charmeleon      no\n2    Squirtle  water  44   Wartortle     yes\n3    Caterpie    bug  45     Metapod      no"
     },
     "execution_count": 5,
     "metadata": {},
     "output_type": "execute_result"
    }
   ],
   "source": [
    "pokemon[['name', 'type', 'hp', 'evolution','pokedex']]"
   ]
  },
  {
   "cell_type": "markdown",
   "metadata": {},
   "source": [
    "### Step 5. Add another column called place, and insert what you have in mind."
   ]
  },
  {
   "cell_type": "code",
   "execution_count": 7,
   "metadata": {},
   "outputs": [
    {
     "data": {
      "text/html": "<div>\n<style scoped>\n    .dataframe tbody tr th:only-of-type {\n        vertical-align: middle;\n    }\n\n    .dataframe tbody tr th {\n        vertical-align: top;\n    }\n\n    .dataframe thead th {\n        text-align: right;\n    }\n</style>\n<table border=\"1\" class=\"dataframe\">\n  <thead>\n    <tr style=\"text-align: right;\">\n      <th></th>\n      <th>evolution</th>\n      <th>hp</th>\n      <th>name</th>\n      <th>pokedex</th>\n      <th>type</th>\n      <th>place</th>\n    </tr>\n  </thead>\n  <tbody>\n    <tr>\n      <td>0</td>\n      <td>Ivysaur</td>\n      <td>45</td>\n      <td>Bulbasaur</td>\n      <td>yes</td>\n      <td>grass</td>\n      <td>park</td>\n    </tr>\n    <tr>\n      <td>1</td>\n      <td>Charmeleon</td>\n      <td>39</td>\n      <td>Charmander</td>\n      <td>no</td>\n      <td>fire</td>\n      <td>street</td>\n    </tr>\n    <tr>\n      <td>2</td>\n      <td>Wartortle</td>\n      <td>44</td>\n      <td>Squirtle</td>\n      <td>yes</td>\n      <td>water</td>\n      <td>lake</td>\n    </tr>\n    <tr>\n      <td>3</td>\n      <td>Metapod</td>\n      <td>45</td>\n      <td>Caterpie</td>\n      <td>no</td>\n      <td>bug</td>\n      <td>forest</td>\n    </tr>\n  </tbody>\n</table>\n</div>",
      "text/plain": "    evolution  hp        name pokedex   type   place\n0     Ivysaur  45   Bulbasaur     yes  grass    park\n1  Charmeleon  39  Charmander      no   fire  street\n2   Wartortle  44    Squirtle     yes  water    lake\n3     Metapod  45    Caterpie      no    bug  forest"
     },
     "execution_count": 7,
     "metadata": {},
     "output_type": "execute_result"
    }
   ],
   "source": [
    "pokemon['place'] = ['park','street','lake','forest']\n",
    "pokemon"
   ]
  },
  {
   "cell_type": "markdown",
   "metadata": {},
   "source": [
    "### Step 6. Present the type of each column"
   ]
  },
  {
   "cell_type": "code",
   "execution_count": 8,
   "metadata": {},
   "outputs": [
    {
     "data": {
      "text/plain": "evolution    object\nhp            int64\nname         object\npokedex      object\ntype         object\nplace        object\ndtype: object"
     },
     "execution_count": 8,
     "metadata": {},
     "output_type": "execute_result"
    }
   ],
   "source": [
    "pokemon.dtypes"
   ]
  },
  {
   "cell_type": "markdown",
   "metadata": {},
   "source": [
    "### BONUS: Create your own question and answer it."
   ]
  },
  {
   "cell_type": "code",
   "execution_count": null,
   "metadata": {
    "collapsed": true
   },
   "outputs": [],
   "source": []
  }
 ],
 "metadata": {
  "kernelspec": {
   "display_name": "Python 3",
   "language": "python",
   "name": "python3"
  },
  "language_info": {
   "codemirror_mode": {
    "name": "ipython",
    "version": 2
   },
   "file_extension": ".py",
   "mimetype": "text/x-python",
   "name": "python",
   "nbconvert_exporter": "python",
   "pygments_lexer": "ipython2",
   "version": "3.7.4-final"
  }
 },
 "nbformat": 4,
 "nbformat_minor": 0
}