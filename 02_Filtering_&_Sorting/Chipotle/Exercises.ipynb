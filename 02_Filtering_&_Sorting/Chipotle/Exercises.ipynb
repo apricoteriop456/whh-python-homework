{
 "cells": [
  {
   "cell_type": "markdown",
   "metadata": {},
   "source": [
    "# Ex1 - Filtering and Sorting Data"
   ]
  },
  {
   "cell_type": "markdown",
   "metadata": {},
   "source": [
    "This time we are going to pull data directly from the internet.\n",
    "Special thanks to: https://github.com/justmarkham for sharing the dataset and materials.\n",
    "\n",
    "### Step 1. Import the necessary libraries"
   ]
  },
  {
   "cell_type": "code",
   "execution_count": 24,
   "metadata": {},
   "outputs": [],
   "source": [
    "import numpy as np\n",
    "import pandas as pd"
   ]
  },
  {
   "cell_type": "markdown",
   "metadata": {},
   "source": [
    "### Step 2. Import the dataset from this [address](https://raw.githubusercontent.com/justmarkham/DAT8/master/data/chipotle.tsv). "
   ]
  },
  {
   "cell_type": "markdown",
   "metadata": {},
   "source": [
    "### Step 3. Assign it to a variable called chipo."
   ]
  },
  {
   "cell_type": "code",
   "execution_count": 25,
   "metadata": {},
   "outputs": [],
   "source": [
    "path = '../../../../pandas_exercises_with_data/data/'\n",
    "chipo = pd.read_csv(path+'chipotle.tsv', sep = '\\t')"
   ]
  },
  {
   "cell_type": "markdown",
   "metadata": {},
   "source": [
    "### Step 4. How many products cost more than $10.00?"
   ]
  },
  {
   "cell_type": "code",
   "execution_count": 34,
   "metadata": {},
   "outputs": [
    {
     "data": {
      "text/plain": "31"
     },
     "execution_count": 34,
     "metadata": {},
     "output_type": "execute_result"
    }
   ],
   "source": [
    "#dollarizer = lambda x: float(x[1:-1])\n",
    "#chipo.item_price = chipo.item_price.apply(dollarizer)\n",
    "chipo[chipo.item_price>10].item_name.value_counts().count()"
   ]
  },
  {
   "cell_type": "markdown",
   "metadata": {},
   "source": [
    "### Step 5. What is the price of each item? \n",
    "###### print a data frame with only two columns item_name and item_price"
   ]
  },
  {
   "cell_type": "code",
   "execution_count": 39,
   "metadata": {},
   "outputs": [
    {
     "data": {
      "text/html": "<div>\n<style scoped>\n    .dataframe tbody tr th:only-of-type {\n        vertical-align: middle;\n    }\n\n    .dataframe tbody tr th {\n        vertical-align: top;\n    }\n\n    .dataframe thead th {\n        text-align: right;\n    }\n</style>\n<table border=\"1\" class=\"dataframe\">\n  <thead>\n    <tr style=\"text-align: right;\">\n      <th></th>\n      <th>item_price</th>\n    </tr>\n    <tr>\n      <th>item_name</th>\n      <th></th>\n    </tr>\n  </thead>\n  <tbody>\n    <tr>\n      <td>6 Pack Soft Drink</td>\n      <td>6.610185</td>\n    </tr>\n    <tr>\n      <td>Barbacoa Bowl</td>\n      <td>10.187273</td>\n    </tr>\n    <tr>\n      <td>Barbacoa Burrito</td>\n      <td>9.832418</td>\n    </tr>\n    <tr>\n      <td>Barbacoa Crispy Tacos</td>\n      <td>10.928182</td>\n    </tr>\n    <tr>\n      <td>Barbacoa Salad Bowl</td>\n      <td>10.640000</td>\n    </tr>\n    <tr>\n      <td>Barbacoa Soft Tacos</td>\n      <td>10.018400</td>\n    </tr>\n    <tr>\n      <td>Bottled Water</td>\n      <td>1.867654</td>\n    </tr>\n    <tr>\n      <td>Bowl</td>\n      <td>14.800000</td>\n    </tr>\n    <tr>\n      <td>Burrito</td>\n      <td>7.400000</td>\n    </tr>\n    <tr>\n      <td>Canned Soda</td>\n      <td>1.320577</td>\n    </tr>\n    <tr>\n      <td>Canned Soft Drink</td>\n      <td>1.457641</td>\n    </tr>\n    <tr>\n      <td>Carnitas Bowl</td>\n      <td>10.833971</td>\n    </tr>\n    <tr>\n      <td>Carnitas Burrito</td>\n      <td>10.132712</td>\n    </tr>\n    <tr>\n      <td>Carnitas Crispy Tacos</td>\n      <td>11.137143</td>\n    </tr>\n    <tr>\n      <td>Carnitas Salad</td>\n      <td>8.990000</td>\n    </tr>\n    <tr>\n      <td>Carnitas Salad Bowl</td>\n      <td>11.056667</td>\n    </tr>\n    <tr>\n      <td>Carnitas Soft Tacos</td>\n      <td>9.398500</td>\n    </tr>\n    <tr>\n      <td>Chicken Bowl</td>\n      <td>10.113953</td>\n    </tr>\n    <tr>\n      <td>Chicken Burrito</td>\n      <td>10.082857</td>\n    </tr>\n    <tr>\n      <td>Chicken Crispy Tacos</td>\n      <td>10.045319</td>\n    </tr>\n    <tr>\n      <td>Chicken Salad</td>\n      <td>9.010000</td>\n    </tr>\n    <tr>\n      <td>Chicken Salad Bowl</td>\n      <td>11.170455</td>\n    </tr>\n    <tr>\n      <td>Chicken Soft Tacos</td>\n      <td>9.635565</td>\n    </tr>\n    <tr>\n      <td>Chips</td>\n      <td>2.342844</td>\n    </tr>\n    <tr>\n      <td>Chips and Fresh Tomato Salsa</td>\n      <td>3.285091</td>\n    </tr>\n    <tr>\n      <td>Chips and Guacamole</td>\n      <td>4.595073</td>\n    </tr>\n    <tr>\n      <td>Chips and Mild Fresh Tomato Salsa</td>\n      <td>3.000000</td>\n    </tr>\n    <tr>\n      <td>Chips and Roasted Chili Corn Salsa</td>\n      <td>3.084091</td>\n    </tr>\n    <tr>\n      <td>Chips and Roasted Chili-Corn Salsa</td>\n      <td>2.390000</td>\n    </tr>\n    <tr>\n      <td>Chips and Tomatillo Green Chili Salsa</td>\n      <td>3.087209</td>\n    </tr>\n    <tr>\n      <td>Chips and Tomatillo Red Chili Salsa</td>\n      <td>3.072917</td>\n    </tr>\n    <tr>\n      <td>Chips and Tomatillo-Green Chili Salsa</td>\n      <td>2.544194</td>\n    </tr>\n    <tr>\n      <td>Chips and Tomatillo-Red Chili Salsa</td>\n      <td>2.987500</td>\n    </tr>\n    <tr>\n      <td>Crispy Tacos</td>\n      <td>7.400000</td>\n    </tr>\n    <tr>\n      <td>Izze</td>\n      <td>3.390000</td>\n    </tr>\n    <tr>\n      <td>Nantucket Nectar</td>\n      <td>3.641111</td>\n    </tr>\n    <tr>\n      <td>Salad</td>\n      <td>7.400000</td>\n    </tr>\n    <tr>\n      <td>Side of Chips</td>\n      <td>1.840594</td>\n    </tr>\n    <tr>\n      <td>Steak Bowl</td>\n      <td>10.711801</td>\n    </tr>\n    <tr>\n      <td>Steak Burrito</td>\n      <td>10.465842</td>\n    </tr>\n    <tr>\n      <td>Steak Crispy Tacos</td>\n      <td>10.209714</td>\n    </tr>\n    <tr>\n      <td>Steak Salad</td>\n      <td>8.915000</td>\n    </tr>\n    <tr>\n      <td>Steak Salad Bowl</td>\n      <td>11.847931</td>\n    </tr>\n    <tr>\n      <td>Steak Soft Tacos</td>\n      <td>9.746364</td>\n    </tr>\n    <tr>\n      <td>Veggie Bowl</td>\n      <td>10.211647</td>\n    </tr>\n    <tr>\n      <td>Veggie Burrito</td>\n      <td>9.839684</td>\n    </tr>\n    <tr>\n      <td>Veggie Crispy Tacos</td>\n      <td>8.490000</td>\n    </tr>\n    <tr>\n      <td>Veggie Salad</td>\n      <td>8.490000</td>\n    </tr>\n    <tr>\n      <td>Veggie Salad Bowl</td>\n      <td>10.138889</td>\n    </tr>\n    <tr>\n      <td>Veggie Soft Tacos</td>\n      <td>10.565714</td>\n    </tr>\n  </tbody>\n</table>\n</div>",
      "text/plain": "                                       item_price\nitem_name                                        \n6 Pack Soft Drink                        6.610185\nBarbacoa Bowl                           10.187273\nBarbacoa Burrito                         9.832418\nBarbacoa Crispy Tacos                   10.928182\nBarbacoa Salad Bowl                     10.640000\nBarbacoa Soft Tacos                     10.018400\nBottled Water                            1.867654\nBowl                                    14.800000\nBurrito                                  7.400000\nCanned Soda                              1.320577\nCanned Soft Drink                        1.457641\nCarnitas Bowl                           10.833971\nCarnitas Burrito                        10.132712\nCarnitas Crispy Tacos                   11.137143\nCarnitas Salad                           8.990000\nCarnitas Salad Bowl                     11.056667\nCarnitas Soft Tacos                      9.398500\nChicken Bowl                            10.113953\nChicken Burrito                         10.082857\nChicken Crispy Tacos                    10.045319\nChicken Salad                            9.010000\nChicken Salad Bowl                      11.170455\nChicken Soft Tacos                       9.635565\nChips                                    2.342844\nChips and Fresh Tomato Salsa             3.285091\nChips and Guacamole                      4.595073\nChips and Mild Fresh Tomato Salsa        3.000000\nChips and Roasted Chili Corn Salsa       3.084091\nChips and Roasted Chili-Corn Salsa       2.390000\nChips and Tomatillo Green Chili Salsa    3.087209\nChips and Tomatillo Red Chili Salsa      3.072917\nChips and Tomatillo-Green Chili Salsa    2.544194\nChips and Tomatillo-Red Chili Salsa      2.987500\nCrispy Tacos                             7.400000\nIzze                                     3.390000\nNantucket Nectar                         3.641111\nSalad                                    7.400000\nSide of Chips                            1.840594\nSteak Bowl                              10.711801\nSteak Burrito                           10.465842\nSteak Crispy Tacos                      10.209714\nSteak Salad                              8.915000\nSteak Salad Bowl                        11.847931\nSteak Soft Tacos                         9.746364\nVeggie Bowl                             10.211647\nVeggie Burrito                           9.839684\nVeggie Crispy Tacos                      8.490000\nVeggie Salad                             8.490000\nVeggie Salad Bowl                       10.138889\nVeggie Soft Tacos                       10.565714"
     },
     "execution_count": 39,
     "metadata": {},
     "output_type": "execute_result"
    }
   ],
   "source": [
    "chipo.groupby(['item_name']).mean().loc[:,['item_price']]"
   ]
  },
  {
   "cell_type": "markdown",
   "metadata": {},
   "source": [
    "### Step 6. Sort by the name of the item"
   ]
  },
  {
   "cell_type": "code",
   "execution_count": 40,
   "metadata": {},
   "outputs": [
    {
     "data": {
      "text/html": "<div>\n<style scoped>\n    .dataframe tbody tr th:only-of-type {\n        vertical-align: middle;\n    }\n\n    .dataframe tbody tr th {\n        vertical-align: top;\n    }\n\n    .dataframe thead th {\n        text-align: right;\n    }\n</style>\n<table border=\"1\" class=\"dataframe\">\n  <thead>\n    <tr style=\"text-align: right;\">\n      <th></th>\n      <th>order_id</th>\n      <th>quantity</th>\n      <th>item_name</th>\n      <th>choice_description</th>\n      <th>item_price</th>\n    </tr>\n  </thead>\n  <tbody>\n    <tr>\n      <td>3389</td>\n      <td>1360</td>\n      <td>2</td>\n      <td>6 Pack Soft Drink</td>\n      <td>[Diet Coke]</td>\n      <td>12.98</td>\n    </tr>\n    <tr>\n      <td>341</td>\n      <td>148</td>\n      <td>1</td>\n      <td>6 Pack Soft Drink</td>\n      <td>[Diet Coke]</td>\n      <td>6.49</td>\n    </tr>\n    <tr>\n      <td>1849</td>\n      <td>749</td>\n      <td>1</td>\n      <td>6 Pack Soft Drink</td>\n      <td>[Coke]</td>\n      <td>6.49</td>\n    </tr>\n    <tr>\n      <td>1860</td>\n      <td>754</td>\n      <td>1</td>\n      <td>6 Pack Soft Drink</td>\n      <td>[Diet Coke]</td>\n      <td>6.49</td>\n    </tr>\n    <tr>\n      <td>2713</td>\n      <td>1076</td>\n      <td>1</td>\n      <td>6 Pack Soft Drink</td>\n      <td>[Coke]</td>\n      <td>6.49</td>\n    </tr>\n    <tr>\n      <td>...</td>\n      <td>...</td>\n      <td>...</td>\n      <td>...</td>\n      <td>...</td>\n      <td>...</td>\n    </tr>\n    <tr>\n      <td>2384</td>\n      <td>948</td>\n      <td>1</td>\n      <td>Veggie Soft Tacos</td>\n      <td>[Roasted Chili Corn Salsa, [Fajita Vegetables,...</td>\n      <td>8.75</td>\n    </tr>\n    <tr>\n      <td>781</td>\n      <td>322</td>\n      <td>1</td>\n      <td>Veggie Soft Tacos</td>\n      <td>[Fresh Tomato Salsa, [Black Beans, Cheese, Sou...</td>\n      <td>8.75</td>\n    </tr>\n    <tr>\n      <td>2851</td>\n      <td>1132</td>\n      <td>1</td>\n      <td>Veggie Soft Tacos</td>\n      <td>[Roasted Chili Corn Salsa (Medium), [Black Bea...</td>\n      <td>8.49</td>\n    </tr>\n    <tr>\n      <td>1699</td>\n      <td>688</td>\n      <td>1</td>\n      <td>Veggie Soft Tacos</td>\n      <td>[Fresh Tomato Salsa, [Fajita Vegetables, Rice,...</td>\n      <td>11.25</td>\n    </tr>\n    <tr>\n      <td>1395</td>\n      <td>567</td>\n      <td>1</td>\n      <td>Veggie Soft Tacos</td>\n      <td>[Fresh Tomato Salsa (Mild), [Pinto Beans, Rice...</td>\n      <td>8.49</td>\n    </tr>\n  </tbody>\n</table>\n<p>4622 rows × 5 columns</p>\n</div>",
      "text/plain": "      order_id  quantity          item_name  \\\n3389      1360         2  6 Pack Soft Drink   \n341        148         1  6 Pack Soft Drink   \n1849       749         1  6 Pack Soft Drink   \n1860       754         1  6 Pack Soft Drink   \n2713      1076         1  6 Pack Soft Drink   \n...        ...       ...                ...   \n2384       948         1  Veggie Soft Tacos   \n781        322         1  Veggie Soft Tacos   \n2851      1132         1  Veggie Soft Tacos   \n1699       688         1  Veggie Soft Tacos   \n1395       567         1  Veggie Soft Tacos   \n\n                                     choice_description  item_price  \n3389                                        [Diet Coke]       12.98  \n341                                         [Diet Coke]        6.49  \n1849                                             [Coke]        6.49  \n1860                                        [Diet Coke]        6.49  \n2713                                             [Coke]        6.49  \n...                                                 ...         ...  \n2384  [Roasted Chili Corn Salsa, [Fajita Vegetables,...        8.75  \n781   [Fresh Tomato Salsa, [Black Beans, Cheese, Sou...        8.75  \n2851  [Roasted Chili Corn Salsa (Medium), [Black Bea...        8.49  \n1699  [Fresh Tomato Salsa, [Fajita Vegetables, Rice,...       11.25  \n1395  [Fresh Tomato Salsa (Mild), [Pinto Beans, Rice...        8.49  \n\n[4622 rows x 5 columns]"
     },
     "execution_count": 40,
     "metadata": {},
     "output_type": "execute_result"
    }
   ],
   "source": [
    "chipo.sort_values(by=['item_name'])"
   ]
  },
  {
   "cell_type": "markdown",
   "metadata": {},
   "source": [
    "### Step 7. What was the quantity of the most expensive item ordered?"
   ]
  },
  {
   "cell_type": "code",
   "execution_count": 50,
   "metadata": {},
   "outputs": [
    {
     "data": {
      "text/html": "<div>\n<style scoped>\n    .dataframe tbody tr th:only-of-type {\n        vertical-align: middle;\n    }\n\n    .dataframe tbody tr th {\n        vertical-align: top;\n    }\n\n    .dataframe thead th {\n        text-align: right;\n    }\n</style>\n<table border=\"1\" class=\"dataframe\">\n  <thead>\n    <tr style=\"text-align: right;\">\n      <th></th>\n      <th>item_name</th>\n      <th>quantity</th>\n      <th>item_price</th>\n    </tr>\n  </thead>\n  <tbody>\n    <tr>\n      <td>3598</td>\n      <td>Chips and Fresh Tomato Salsa</td>\n      <td>15</td>\n      <td>44.25</td>\n    </tr>\n  </tbody>\n</table>\n</div>",
      "text/plain": "                         item_name  quantity  item_price\n3598  Chips and Fresh Tomato Salsa        15       44.25"
     },
     "execution_count": 50,
     "metadata": {},
     "output_type": "execute_result"
    }
   ],
   "source": [
    "chipo.sort_values(by=['item_price'],ascending=False)[['item_name','quantity','item_price']].head(1)"
   ]
  },
  {
   "cell_type": "markdown",
   "metadata": {},
   "source": [
    "### Step 8. How many times were a Veggie Salad Bowl ordered?"
   ]
  },
  {
   "cell_type": "code",
   "execution_count": 67,
   "metadata": {},
   "outputs": [
    {
     "data": {
      "text/plain": "18"
     },
     "execution_count": 67,
     "metadata": {},
     "output_type": "execute_result"
    }
   ],
   "source": [
    "chipo.loc[chipo['item_name']=='Veggie Salad Bowl','order_id'].value_counts().count()"
   ]
  },
  {
   "cell_type": "markdown",
   "metadata": {},
   "source": [
    "### Step 9. How many times people orderd more than one Canned Soda?"
   ]
  },
  {
   "cell_type": "code",
   "execution_count": 79,
   "metadata": {},
   "outputs": [
    {
     "data": {
      "text/plain": "20"
     },
     "execution_count": 79,
     "metadata": {},
     "output_type": "execute_result"
    }
   ],
   "source": [
    "chipo_drink_steak_bowl = chipo[(chipo.item_name == \"Canned Soda\") & (chipo.quantity > 1)]\n",
    "len(chipo_drink_steak_bowl)"
   ]
  }
 ],
 "metadata": {
  "kernelspec": {
   "display_name": "Python 3.7.4 64-bit ('base': conda)",
   "language": "python",
   "name": "python37464bitbasecondafdf494ed7aa745e993b40122d9b1f7a7"
  },
  "language_info": {
   "codemirror_mode": {
    "name": "ipython",
    "version": 2
   },
   "file_extension": ".py",
   "mimetype": "text/x-python",
   "name": "python",
   "nbconvert_exporter": "python",
   "pygments_lexer": "ipython2",
   "version": "3.7.4-final"
  }
 },
 "nbformat": 4,
 "nbformat_minor": 0
}