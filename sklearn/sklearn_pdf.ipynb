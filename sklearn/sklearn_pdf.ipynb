{
 "nbformat": 4,
 "nbformat_minor": 2,
 "metadata": {
  "language_info": {
   "name": "python",
   "codemirror_mode": {
    "name": "ipython",
    "version": 3
   },
   "version": "3.7.4-final"
  },
  "orig_nbformat": 2,
  "file_extension": ".py",
  "mimetype": "text/x-python",
  "name": "python",
  "npconvert_exporter": "python",
  "pygments_lexer": "ipython3",
  "version": 3,
  "kernelspec": {
   "name": "python37464bitbaseconda3df29ff903a341c5b9c6ef563db3b6d5",
   "display_name": "Python 3.7.4 64-bit ('base': conda)"
  }
 },
 "cells": [
  {
   "cell_type": "markdown",
   "execution_count": null,
   "metadata": {},
   "outputs": [],
   "source": [
    "1.关于数据集"
   ]
  },
  {
   "cell_type": "code",
   "execution_count": 1,
   "metadata": {},
   "outputs": [
    {
     "name": "stdout",
     "output_type": "stream",
     "text": "[[ 0.  0.  5. ...  0.  0.  0.]\n [ 0.  0.  0. ... 10.  0.  0.]\n [ 0.  0.  0. ... 16.  9.  0.]\n ...\n [ 0.  0.  1. ...  6.  0.  0.]\n [ 0.  0.  2. ... 12.  0.  0.]\n [ 0.  0. 10. ... 12.  1.  0.]]\n"
    },
    {
     "data": {
      "text/plain": "array([[ 0.,  0.,  5., 13.,  9.,  1.,  0.,  0.],\n       [ 0.,  0., 13., 15., 10., 15.,  5.,  0.],\n       [ 0.,  3., 15.,  2.,  0., 11.,  8.,  0.],\n       [ 0.,  4., 12.,  0.,  0.,  8.,  8.,  0.],\n       [ 0.,  5.,  8.,  0.,  0.,  9.,  8.,  0.],\n       [ 0.,  4., 11.,  0.,  1., 12.,  7.,  0.],\n       [ 0.,  2., 14.,  5., 10., 12.,  0.,  0.],\n       [ 0.,  0.,  6., 13., 10.,  0.,  0.,  0.]])"
     },
     "execution_count": 1,
     "metadata": {},
     "output_type": "execute_result"
    }
   ],
   "source": [
    "from sklearn import datasets\n",
    "iris=datasets.load_iris()\n",
    "digits=datasets.load_digits()\n",
    "print(digits.data)#获得数据的自变量\n",
    "digits.target#获得数组型响应变量\n",
    "digits.images[0]#对应着data中的数据，每一个元素都是8*8的二维数组，其元素代表的是灰度值。"
   ]
  },
  {
   "cell_type": "code",
   "execution_count": 2,
   "metadata": {},
   "outputs": [
    {
     "data": {
      "text/plain": "array([[5.1, 3.5, 1.4, 0.2],\n       [4.9, 3. , 1.4, 0.2],\n       [4.7, 3.2, 1.3, 0.2],\n       [4.6, 3.1, 1.5, 0.2],\n       [5. , 3.6, 1.4, 0.2],\n       [5.4, 3.9, 1.7, 0.4],\n       [4.6, 3.4, 1.4, 0.3],\n       [5. , 3.4, 1.5, 0.2],\n       [4.4, 2.9, 1.4, 0.2],\n       [4.9, 3.1, 1.5, 0.1],\n       [5.4, 3.7, 1.5, 0.2],\n       [4.8, 3.4, 1.6, 0.2],\n       [4.8, 3. , 1.4, 0.1],\n       [4.3, 3. , 1.1, 0.1],\n       [5.8, 4. , 1.2, 0.2],\n       [5.7, 4.4, 1.5, 0.4],\n       [5.4, 3.9, 1.3, 0.4],\n       [5.1, 3.5, 1.4, 0.3],\n       [5.7, 3.8, 1.7, 0.3],\n       [5.1, 3.8, 1.5, 0.3],\n       [5.4, 3.4, 1.7, 0.2],\n       [5.1, 3.7, 1.5, 0.4],\n       [4.6, 3.6, 1. , 0.2],\n       [5.1, 3.3, 1.7, 0.5],\n       [4.8, 3.4, 1.9, 0.2],\n       [5. , 3. , 1.6, 0.2],\n       [5. , 3.4, 1.6, 0.4],\n       [5.2, 3.5, 1.5, 0.2],\n       [5.2, 3.4, 1.4, 0.2],\n       [4.7, 3.2, 1.6, 0.2],\n       [4.8, 3.1, 1.6, 0.2],\n       [5.4, 3.4, 1.5, 0.4],\n       [5.2, 4.1, 1.5, 0.1],\n       [5.5, 4.2, 1.4, 0.2],\n       [4.9, 3.1, 1.5, 0.2],\n       [5. , 3.2, 1.2, 0.2],\n       [5.5, 3.5, 1.3, 0.2],\n       [4.9, 3.6, 1.4, 0.1],\n       [4.4, 3. , 1.3, 0.2],\n       [5.1, 3.4, 1.5, 0.2],\n       [5. , 3.5, 1.3, 0.3],\n       [4.5, 2.3, 1.3, 0.3],\n       [4.4, 3.2, 1.3, 0.2],\n       [5. , 3.5, 1.6, 0.6],\n       [5.1, 3.8, 1.9, 0.4],\n       [4.8, 3. , 1.4, 0.3],\n       [5.1, 3.8, 1.6, 0.2],\n       [4.6, 3.2, 1.4, 0.2],\n       [5.3, 3.7, 1.5, 0.2],\n       [5. , 3.3, 1.4, 0.2],\n       [7. , 3.2, 4.7, 1.4],\n       [6.4, 3.2, 4.5, 1.5],\n       [6.9, 3.1, 4.9, 1.5],\n       [5.5, 2.3, 4. , 1.3],\n       [6.5, 2.8, 4.6, 1.5],\n       [5.7, 2.8, 4.5, 1.3],\n       [6.3, 3.3, 4.7, 1.6],\n       [4.9, 2.4, 3.3, 1. ],\n       [6.6, 2.9, 4.6, 1.3],\n       [5.2, 2.7, 3.9, 1.4],\n       [5. , 2. , 3.5, 1. ],\n       [5.9, 3. , 4.2, 1.5],\n       [6. , 2.2, 4. , 1. ],\n       [6.1, 2.9, 4.7, 1.4],\n       [5.6, 2.9, 3.6, 1.3],\n       [6.7, 3.1, 4.4, 1.4],\n       [5.6, 3. , 4.5, 1.5],\n       [5.8, 2.7, 4.1, 1. ],\n       [6.2, 2.2, 4.5, 1.5],\n       [5.6, 2.5, 3.9, 1.1],\n       [5.9, 3.2, 4.8, 1.8],\n       [6.1, 2.8, 4. , 1.3],\n       [6.3, 2.5, 4.9, 1.5],\n       [6.1, 2.8, 4.7, 1.2],\n       [6.4, 2.9, 4.3, 1.3],\n       [6.6, 3. , 4.4, 1.4],\n       [6.8, 2.8, 4.8, 1.4],\n       [6.7, 3. , 5. , 1.7],\n       [6. , 2.9, 4.5, 1.5],\n       [5.7, 2.6, 3.5, 1. ],\n       [5.5, 2.4, 3.8, 1.1],\n       [5.5, 2.4, 3.7, 1. ],\n       [5.8, 2.7, 3.9, 1.2],\n       [6. , 2.7, 5.1, 1.6],\n       [5.4, 3. , 4.5, 1.5],\n       [6. , 3.4, 4.5, 1.6],\n       [6.7, 3.1, 4.7, 1.5],\n       [6.3, 2.3, 4.4, 1.3],\n       [5.6, 3. , 4.1, 1.3],\n       [5.5, 2.5, 4. , 1.3],\n       [5.5, 2.6, 4.4, 1.2],\n       [6.1, 3. , 4.6, 1.4],\n       [5.8, 2.6, 4. , 1.2],\n       [5. , 2.3, 3.3, 1. ],\n       [5.6, 2.7, 4.2, 1.3],\n       [5.7, 3. , 4.2, 1.2],\n       [5.7, 2.9, 4.2, 1.3],\n       [6.2, 2.9, 4.3, 1.3],\n       [5.1, 2.5, 3. , 1.1],\n       [5.7, 2.8, 4.1, 1.3],\n       [6.3, 3.3, 6. , 2.5],\n       [5.8, 2.7, 5.1, 1.9],\n       [7.1, 3. , 5.9, 2.1],\n       [6.3, 2.9, 5.6, 1.8],\n       [6.5, 3. , 5.8, 2.2],\n       [7.6, 3. , 6.6, 2.1],\n       [4.9, 2.5, 4.5, 1.7],\n       [7.3, 2.9, 6.3, 1.8],\n       [6.7, 2.5, 5.8, 1.8],\n       [7.2, 3.6, 6.1, 2.5],\n       [6.5, 3.2, 5.1, 2. ],\n       [6.4, 2.7, 5.3, 1.9],\n       [6.8, 3. , 5.5, 2.1],\n       [5.7, 2.5, 5. , 2. ],\n       [5.8, 2.8, 5.1, 2.4],\n       [6.4, 3.2, 5.3, 2.3],\n       [6.5, 3. , 5.5, 1.8],\n       [7.7, 3.8, 6.7, 2.2],\n       [7.7, 2.6, 6.9, 2.3],\n       [6. , 2.2, 5. , 1.5],\n       [6.9, 3.2, 5.7, 2.3],\n       [5.6, 2.8, 4.9, 2. ],\n       [7.7, 2.8, 6.7, 2. ],\n       [6.3, 2.7, 4.9, 1.8],\n       [6.7, 3.3, 5.7, 2.1],\n       [7.2, 3.2, 6. , 1.8],\n       [6.2, 2.8, 4.8, 1.8],\n       [6.1, 3. , 4.9, 1.8],\n       [6.4, 2.8, 5.6, 2.1],\n       [7.2, 3. , 5.8, 1.6],\n       [7.4, 2.8, 6.1, 1.9],\n       [7.9, 3.8, 6.4, 2. ],\n       [6.4, 2.8, 5.6, 2.2],\n       [6.3, 2.8, 5.1, 1.5],\n       [6.1, 2.6, 5.6, 1.4],\n       [7.7, 3. , 6.1, 2.3],\n       [6.3, 3.4, 5.6, 2.4],\n       [6.4, 3.1, 5.5, 1.8],\n       [6. , 3. , 4.8, 1.8],\n       [6.9, 3.1, 5.4, 2.1],\n       [6.7, 3.1, 5.6, 2.4],\n       [6.9, 3.1, 5.1, 2.3],\n       [5.8, 2.7, 5.1, 1.9],\n       [6.8, 3.2, 5.9, 2.3],\n       [6.7, 3.3, 5.7, 2.5],\n       [6.7, 3. , 5.2, 2.3],\n       [6.3, 2.5, 5. , 1.9],\n       [6.5, 3. , 5.2, 2. ],\n       [6.2, 3.4, 5.4, 2.3],\n       [5.9, 3. , 5.1, 1.8]])"
     },
     "execution_count": 2,
     "metadata": {},
     "output_type": "execute_result"
    }
   ],
   "source": [
    "iris.data"
   ]
  },
  {
   "cell_type": "markdown",
   "execution_count": null,
   "metadata": {},
   "outputs": [],
   "source": [
    "sklearn 有自带的数据集，类似与字典"
   ]
  },
  {
   "cell_type": "code",
   "execution_count": 3,
   "metadata": {},
   "outputs": [
    {
     "data": {
      "text/plain": "<Figure size 300x300 with 1 Axes>"
     },
     "metadata": {},
     "output_type": "display_data"
    }
   ],
   "source": [
    "import matplotlib.pyplot as plt\n",
    "plt.figure(1,figsize=(3,3))\n",
    "plt.imshow(digits.images[-1],cmap=plt.cm.gray_r,interpolation='nearest')\n",
    "plt.show()"
   ]
  },
  {
   "cell_type": "code",
   "execution_count": 4,
   "metadata": {},
   "outputs": [],
   "source": [
    "digits.images.shape\n",
    "data=digits.images.reshape((digits.images.shape[0],-1))#1797,64"
   ]
  },
  {
   "cell_type": "markdown",
   "execution_count": null,
   "metadata": {},
   "outputs": [],
   "source": [
    "当实例化估计器时，可以直接设置参数：estimator = Estimator(param1=1, param2=2)；\n",
    "\n",
    "也可以以修改的方式进行：estimator.param1\n",
    "\n",
    "当数据配有估计器时，参数将根据数据进行估计。 所有估计的参数都是估计对象的属性，以下划线结尾.\n",
    "'estimator.estimated\\_param\\_'"
   ]
  },
  {
   "cell_type": "markdown",
   "execution_count": null,
   "metadata": {},
   "outputs": [],
   "source": [
    "2.关于估计器"
   ]
  },
  {
   "cell_type": "code",
   "execution_count": 5,
   "metadata": {},
   "outputs": [
    {
     "data": {
      "text/plain": "array([8])"
     },
     "execution_count": 5,
     "metadata": {},
     "output_type": "execute_result"
    }
   ],
   "source": [
    "from sklearn import svm\n",
    "clf=svm.SVC(gamma=0.001,C=100.)#svm.SVM选择估计器\n",
    "clf.fit(digits.data[:-1],digits.target[:-1])\n",
    "clf.predict(digits.data[-1:])"
   ]
  },
  {
   "cell_type": "markdown",
   "execution_count": null,
   "metadata": {},
   "outputs": [],
   "source": [
    "3.交叉验证通过score选择最优参数"
   ]
  },
  {
   "cell_type": "markdown",
   "execution_count": null,
   "metadata": {},
   "outputs": [],
   "source": [
    "给定一个估算器，交叉验证对象和输入数据集，cross_val_score将数据重复拆分为一个训练和一个测试集，使用该训练集训练该估算器，并根据测试集计算每次迭代的得分。"
   ]
  },
  {
   "cell_type": "markdown",
   "execution_count": null,
   "metadata": {},
   "outputs": [],
   "source": [
    "3.1 cross-validated metrics"
   ]
  },
  {
   "cell_type": "code",
   "execution_count": 6,
   "metadata": {},
   "outputs": [
    {
     "data": {
      "text/plain": "(5,)"
     },
     "execution_count": 6,
     "metadata": {},
     "output_type": "execute_result"
    }
   ],
   "source": [
    "from sklearn.model_selection import cross_val_score\n",
    "clf = svm.SVC(kernel='linear', C=1)\n",
    "scores = cross_val_score(clf, iris.data, iris.target, cv=5)\n",
    "scores.shape"
   ]
  },
  {
   "cell_type": "markdown",
   "execution_count": null,
   "metadata": {},
   "outputs": [],
   "source": [
    "3.2交叉验证主要有哪些方法"
   ]
  },
  {
   "cell_type": "markdown",
   "execution_count": null,
   "metadata": {},
   "outputs": [],
   "source": [
    "3.2.1留出法：这样无法保证测试集与训练集的样本数据分布是一致的。\n",
    "\n",
    "LeaveOneOut,LeavePOut"
   ]
  },
  {
   "cell_type": "code",
   "execution_count": 7,
   "metadata": {},
   "outputs": [
    {
     "name": "stdout",
     "output_type": "stream",
     "text": "[1 2 3] [0]\n[0 2 3] [1]\n[0 1 3] [2]\n[0 1 2] [3]\n[2 3] [0 1]\n[1 3] [0 2]\n[1 2] [0 3]\n[0 3] [1 2]\n[0 2] [1 3]\n[0 1] [2 3]\n[9 1 6 7 3 0 5] [2 8 4]\n[2 9 8 0 6 7 4] [3 5 1]\n[4 5 1 0 6 9 7] [2 3 8]\n[2 7 5 8 0 3 4] [6 1 9]\n[4 1 0 6 8 9 3] [5 2 7]\n"
    }
   ],
   "source": [
    "from sklearn.model_selection import LeaveOneOut\n",
    "import numpy as np\n",
    "x=[1,2,3,4]\n",
    "loo=LeaveOneOut()\n",
    "for train,test in loo.split(x):\n",
    "    print('%s %s' %(train,test))\n",
    "\n",
    "from sklearn.model_selection import LeavePOut\n",
    "x=np.ones(4)\n",
    "lpo=LeavePOut(p=2)\n",
    "for train,test in lpo.split(x):\n",
    "    print('%s %s' %(train,test))\n",
    "\n",
    "from sklearn.model_selection import ShuffleSplit\n",
    "x=np.arange(10)\n",
    "ss=ShuffleSplit(n_splits=5,test_size=0.25,random_state=0)\n",
    "for train_index,test_index in ss.split(x):\n",
    "    print('%s %s'%(train_index,test_index))"
   ]
  },
  {
   "cell_type": "markdown",
   "execution_count": null,
   "metadata": {},
   "outputs": [],
   "source": [
    "3.2.2 k 折交叉验证（k-fold cross validation）以及RepeatedKFold:"
   ]
  },
  {
   "cell_type": "code",
   "execution_count": 8,
   "metadata": {},
   "outputs": [
    {
     "name": "stdout",
     "output_type": "stream",
     "text": "[2 3] [0 1]\n[0 1] [2 3]\n[2 3] [0 1]\n[0 1] [2 3]\n[0 2] [1 3]\n[1 3] [0 2]\n"
    }
   ],
   "source": [
    "from sklearn.model_selection import KFold\n",
    "import numpy as np\n",
    "x=['a','b','c','d']\n",
    "kf=KFold(n_splits=2)\n",
    "for train,test in kf.split(x):\n",
    "    print('%s %s' %(train,test))\n",
    "\n",
    "from sklearn.model_selection import RepeatedKFold\n",
    "x=np.array([[1,2],[3,4],[1,2],[3,4]])\n",
    "random_state=12883823\n",
    "rkf=RepeatedKFold(n_splits=2,n_repeats=2,random_state\n",
    "=random_state)\n",
    "for train,test in rkf.split(x):\n",
    "    print('%s %s'%(train,test))"
   ]
  },
  {
   "cell_type": "markdown",
   "execution_count": null,
   "metadata": {},
   "outputs": [],
   "source": [
    "4.模型拟合fit\n",
    "\n",
    "每个估计器都要用到fit方法\n",
    "feature即为column，fit(x,y)对于无监督学习，不需要指定y。\n",
    "\n",
    "x和y一般为数组对象或类数组对象。"
   ]
  },
  {
   "cell_type": "markdown",
   "execution_count": null,
   "metadata": {},
   "outputs": [],
   "source": [
    "5.transformer object没有predict对象，但有transform方法，可以输出被转换的矩阵对象X.\n",
    "\n",
    "transformer与estimator有相同的api"
   ]
  },
  {
   "cell_type": "code",
   "execution_count": 55,
   "metadata": {},
   "outputs": [
    {
     "name": "stdout",
     "output_type": "stream",
     "text": "[[-1.  1.]\n [ 1. -1.]]\n[[-1.  1.]\n [ 1. -1.]]\n"
    }
   ],
   "source": [
    "from sklearn.preprocessing import StandardScaler\n",
    "import sklearn\n",
    "x=[[0,15],[1,-10]]\n",
    "x_t=StandardScaler().fit(x)\n",
    "#一般来说先使用fit，x_t里面存有计算出来的均值和方差。\n",
    "#fit用于计算训练数据的均值和方差，后面就会用均值和方差来转换训练数据\n",
    "x_t.mean_\n",
    "x_t.scale_\n",
    "print(x_t.transform(x))\n",
    "#再使用transform，使用x_t中的均值和方差来转换X，使X标准化。\n",
    "\n",
    "#以上与下面的计算结果是一样的\n",
    "print(sklearn.preprocessing.scale(x))"
   ]
  },
  {
   "cell_type": "markdown",
   "execution_count": null,
   "metadata": {},
   "outputs": [],
   "source": [
    "5.1数据预处理，preprocessing中提供了很多的Scaler:\n",
    "\n",
    "StandardScaler；Normalizer\n",
    "\n",
    "MaxAbsScaler；MinMaxScaler；RobustScaler；\n",
    "\n",
    "对应的有直接的函数使用：scale(),normaizer(),maxabs_scale();minmax_scale(),robust_scale()\n",
    "\n",
    "还有OneHotEncoder()是类别特征编码;LabelEncoder()是标签编码;Binarizer(threshold=1.1)是特征二值化"
   ]
  },
  {
   "cell_type": "markdown",
   "execution_count": null,
   "metadata": {},
   "outputs": [],
   "source": [
    "5.2 normalizer()归一化函数的用法"
   ]
  },
  {
   "cell_type": "code",
   "execution_count": 10,
   "metadata": {},
   "outputs": [
    {
     "name": "stdout",
     "output_type": "stream",
     "text": "[15. 27.]\n[0.13333333333333333, 0.4, 0.4666666666666667]\n[0.5333333333333333, 0.6, 0.6666666666666666]\n[ 7. 10.]\n[0.2857142857142857, 0.8571428571428571, 1.0]\n[0.8, 0.9, 1.0]\n"
    },
    {
     "data": {
      "text/plain": "array([[0.28571429, 0.85714286, 1.        ],\n       [0.8       , 0.9       , 1.        ]])"
     },
     "execution_count": 10,
     "metadata": {},
     "output_type": "execute_result"
    }
   ],
   "source": [
    "import numpy as np\n",
    "import sklearn\n",
    "example=np.array([[2.0,6.0,7.0],[8.0,9.0,10.0]])#是输入数据src\n",
    "alpha=5\n",
    "beta=100\n",
    "#norm_l1\n",
    "##第一步：先求出norm--所有元素的绝对值和\n",
    "print(example.sum(axis=1))\n",
    "##第二步，求输出数据,公式$dst=alpha*src/norm_l1$\n",
    "print([i/15 for i in example[0,:].tolist()])\n",
    "print([i/15 for i in example[1,:].tolist()])\n",
    "sklearn.preprocessing.normalize(example,norm='l1')\n",
    "#axis=1是默认的，表示按行进行normalize\n",
    "#norm有'l1','l2','max'分别表示各个特征值分别除以各维度（跟据axis确定）的norm \n",
    "\n",
    "#max\n",
    "##第一步：先求出norm--求最大值\n",
    "print(example.max(axis=1))\n",
    "##第二步，求输出数据,公式$dst=alpha*src/norm_l1$\n",
    "print([i/7 for i in example[0,:].tolist()])\n",
    "print([i/10 for i in example[1,:].tolist()])\n",
    "sklearn.preprocessing.normalize(example,norm='max')"
   ]
  },
  {
   "cell_type": "markdown",
   "execution_count": null,
   "metadata": {},
   "outputs": [],
   "source": [
    "5.3 one_hot编码\n",
    "\n",
    "也可以使用drop参数将每一列编码为(n_categories-1)列而不是n_categories列。\n",
    "\n",
    "该参数允许用户为每个要删除的特征指定一个类别。 在某些分类器中，这有助于避免输入矩阵中的共线性。"
   ]
  },
  {
   "cell_type": "code",
   "execution_count": 11,
   "metadata": {},
   "outputs": [
    {
     "data": {
      "text/plain": "array([[1., 0.],\n       [0., 1.]])"
     },
     "execution_count": 11,
     "metadata": {},
     "output_type": "execute_result"
    }
   ],
   "source": [
    "data= np.array([[1],[2]])\n",
    "encoder=sklearn.preprocessing.OneHotEncoder().fit(data)\n",
    "(encoder.transform(data)).toarray()\n",
    "#help(sklearn.preprocessing.OneHotEncoder)"
   ]
  },
  {
   "cell_type": "code",
   "execution_count": 82,
   "metadata": {},
   "outputs": [
    {
     "data": {
      "text/plain": "[array(['female', 'male'], dtype=object),\n array(['from Europe', 'from US'], dtype=object),\n array(['uses Firefox', 'uses Safari'], dtype=object)]"
     },
     "execution_count": 82,
     "metadata": {},
     "output_type": "execute_result"
    }
   ],
   "source": [
    "enc=sklearn.preprocessing.OneHotEncoder()\n",
    "X=[['male', 'from US', 'uses Safari'], ['female', 'from Europe', 'uses Firefox']] \n",
    "enc.fit(X)\n",
    "enc.transform([['female', 'from US', 'uses Safari'],['male', 'from Europe', 'uses Safari']]).toarray()\n",
    "enc.categories_"
   ]
  },
  {
   "cell_type": "code",
   "execution_count": null,
   "metadata": {},
   "outputs": [],
   "source": [
    "genders=['female','male']\n",
    "location=['from Africa','from Asia','from Europe','from US']\n",
    "browsers=['uses Chrome','uses Firefox','uses IE','uses Safari']\n",
    "enc=sklearn.preprocessing.OneHotEncoder(categories=[genders,locations,browsers])\n",
    "\n",
    "# Note that for there are missing categorical values\n",
    "# for the 2nd and 3rd feature\n",
    "X=[['male','from US','uses Safari'],['female','from Europe','uese Firefox']]\n",
    "enc.fit(X)\n",
    "enc.transform()"
   ]
  },
  {
   "cell_type": "markdown",
   "execution_count": null,
   "metadata": {},
   "outputs": [],
   "source": [
    "5.4 scaling features to a range(MinMaxScaler或MaxAbsScaler),range通常时(0,1)"
   ]
  },
  {
   "cell_type": "code",
   "execution_count": 66,
   "metadata": {},
   "outputs": [
    {
     "data": {
      "text/plain": "array([0.        , 0.5       , 0.33333333])"
     },
     "execution_count": 66,
     "metadata": {},
     "output_type": "execute_result"
    }
   ],
   "source": [
    "x_train=np.array([[1.,-1.,2.],[2.,0.,0.],[0.,1.,-1.]])\n",
    "min_max_scaler=sklearn.preprocessing.MinMaxScaler()\n",
    "x_train_minmax=min_max_scaler.fit_transform(x_train)\n",
    "x_train_minmax\n",
    "#或者用公式实现\n",
    "X=x_train\n",
    "X_std = (X - X.min(axis=0)) / (X.max(axis=0) - X.min(axis=0)) \n",
    "max=1\n",
    "min=0\n",
    "X_scaled = X_std * (max - min) + min\n",
    "X_scaled\n",
    "\n",
    "x_test=np.array([[-3.,-1.,4.]])\n",
    "x_test_minmax=min_max_scaler.transform(x_test)\n",
    "x_test_minmax\n",
    "\n",
    "min_max_scaler.scale_\n",
    "min_max_scaler.min_"
   ]
  },
  {
   "cell_type": "markdown",
   "execution_count": null,
   "metadata": {},
   "outputs": [],
   "source": [
    "5.5 Non-linear transformation--quantile transforms"
   ]
  },
  {
   "cell_type": "markdown",
   "execution_count": null,
   "metadata": {},
   "outputs": [],
   "source": [
    "quantile transforms分位数变换\n",
    "将所有的特征置于相同的分布，求给定分布下的分位数。\n",
    "通过执行秩变换，分位数变换可以平滑不寻常的分布，并且与缩放方法相比，离群值的影响较小。 但是，它确实扭曲了要素内部和要素之间的相关性和距离。\n",
    "分位数和幂变换都基于特征的单调变换，因此保留了沿每个特征的值的等级。"
   ]
  },
  {
   "cell_type": "markdown",
   "execution_count": null,
   "metadata": {},
   "outputs": [],
   "source": [
    "Mapping to a Uniform distribution\n"
   ]
  },
  {
   "cell_type": "code",
   "execution_count": 70,
   "metadata": {},
   "outputs": [
    {
     "name": "stdout",
     "output_type": "stream",
     "text": "[4.3 5.1 5.8 6.5 7.9]\nC:\\Users\\LENOVO\\AppData\\Roaming\\Python\\Python37\\site-packages\\sklearn\\preprocessing\\_data.py:2357: UserWarning: n_quantiles (1000) is greater than the total number of samples (112). n_quantiles is set to n_samples.\n  % (self.n_quantiles, n_samples))\n"
    },
    {
     "data": {
      "text/plain": "array([5.8, 6. , 5.5, 7.3, 5. , 6.3, 5. , 6.7, 6.8, 6.1, 6.1, 6.4, 6.1,\n       6.5, 6.1, 4.9, 6. , 5.5, 4.8, 5.4, 5.6, 5.6, 4.8, 4.4, 6.2, 4.6,\n       5.1, 6.2, 5. , 5. , 6.4, 5.4, 5.2, 6.1, 6.4, 5.2, 5.7, 6. ])"
     },
     "execution_count": 70,
     "metadata": {},
     "output_type": "execute_result"
    }
   ],
   "source": [
    "#quantile-transform提供了将数据map到(0,1)之间的均匀分布\n",
    "from sklearn.datasets import load_iris\n",
    "from sklearn.model_selection import train_test_split\n",
    "\n",
    "X,y=load_iris(return_X_y=True)\n",
    "X_train,X_test,y_train,y_test=train_test_split(X,y,random_state=0)\n",
    "Quantile_Transformer=sklearn.preprocessing.QuantileTransformer(random_state=0)\n",
    "X_train_trans=Quantile_Transformer.fit_transform(X_train)\n",
    "X_test_trans=Quantile_Transformer.transform(X_test)\n",
    "print(np.percentile(X_train[:,0],[0,25,50,75,100]))\n",
    "X_test[:,0]"
   ]
  },
  {
   "cell_type": "markdown",
   "execution_count": null,
   "metadata": {},
   "outputs": [],
   "source": [
    "5.6 Non-linear transformation--power transformation"
   ]
  },
  {
   "cell_type": "markdown",
   "execution_count": null,
   "metadata": {},
   "outputs": [],
   "source": [
    "power transformation幂变换是一组参数变换，旨在将数据从任何分布映射到接近高斯分布。\n",
    "\n",
    "Power Transformer当前提供两种这样的幂变换，即Yeo-Johnson变换和Box-Cox变换。Box-Cox仅可应用于严格的正数据。 \n",
    "\n",
    "在这两种方法中，变换都是通过λ参数化的，而λ是通过最大似然估计来确定的。\n",
    "\n",
    "通过设置output_distribution =“ normal”，还可以使用QuantileTransformer将数据映射到正态分布"
   ]
  },
  {
   "cell_type": "code",
   "execution_count": 74,
   "metadata": {},
   "outputs": [
    {
     "name": "stderr",
     "output_type": "stream",
     "text": "C:\\Users\\LENOVO\\AppData\\Roaming\\Python\\Python37\\site-packages\\sklearn\\preprocessing\\_data.py:2357: UserWarning: n_quantiles (1000) is greater than the total number of samples (150). n_quantiles is set to n_samples.\n  % (self.n_quantiles, n_samples))\n"
    },
    {
     "data": {
      "text/plain": "array([[4.3, 2. , 1. , 0.1],\n       [4.4, 2.2, 1.1, 0.1],\n       [4.4, 2.2, 1.2, 0.1],\n       [4.4, 2.2, 1.2, 0.1],\n       [4.5, 2.3, 1.3, 0.1],\n       [4.6, 2.3, 1.3, 0.2],\n       [4.6, 2.3, 1.3, 0.2],\n       [4.6, 2.3, 1.3, 0.2],\n       [4.6, 2.4, 1.3, 0.2],\n       [4.7, 2.4, 1.3, 0.2],\n       [4.7, 2.4, 1.3, 0.2],\n       [4.8, 2.5, 1.4, 0.2],\n       [4.8, 2.5, 1.4, 0.2],\n       [4.8, 2.5, 1.4, 0.2],\n       [4.8, 2.5, 1.4, 0.2],\n       [4.8, 2.5, 1.4, 0.2],\n       [4.9, 2.5, 1.4, 0.2],\n       [4.9, 2.5, 1.4, 0.2],\n       [4.9, 2.5, 1.4, 0.2],\n       [4.9, 2.6, 1.4, 0.2],\n       [4.9, 2.6, 1.4, 0.2],\n       [4.9, 2.6, 1.4, 0.2],\n       [5. , 2.6, 1.4, 0.2],\n       [5. , 2.6, 1.4, 0.2],\n       [5. , 2.7, 1.5, 0.2],\n       [5. , 2.7, 1.5, 0.2],\n       [5. , 2.7, 1.5, 0.2],\n       [5. , 2.7, 1.5, 0.2],\n       [5. , 2.7, 1.5, 0.2],\n       [5. , 2.7, 1.5, 0.2],\n       [5. , 2.7, 1.5, 0.2],\n       [5. , 2.7, 1.5, 0.2],\n       [5.1, 2.7, 1.5, 0.2],\n       [5.1, 2.8, 1.5, 0.2],\n       [5.1, 2.8, 1.5, 0.3],\n       [5.1, 2.8, 1.5, 0.3],\n       [5.1, 2.8, 1.5, 0.3],\n       [5.1, 2.8, 1.6, 0.3],\n       [5.1, 2.8, 1.6, 0.3],\n       [5.1, 2.8, 1.6, 0.3],\n       [5.1, 2.8, 1.6, 0.3],\n       [5.2, 2.8, 1.6, 0.4],\n       [5.2, 2.8, 1.6, 0.4],\n       [5.2, 2.8, 1.6, 0.4],\n       [5.2, 2.8, 1.7, 0.4],\n       [5.3, 2.8, 1.7, 0.4],\n       [5.4, 2.8, 1.7, 0.4],\n       [5.4, 2.9, 1.7, 0.4],\n       [5.4, 2.9, 1.9, 0.5],\n       [5.4, 2.9, 1.9, 0.6],\n       [5.4, 2.9, 3. , 1. ],\n       [5.4, 2.9, 3.3, 1. ],\n       [5.5, 2.9, 3.3, 1. ],\n       [5.5, 2.9, 3.5, 1. ],\n       [5.5, 2.9, 3.5, 1. ],\n       [5.5, 2.9, 3.6, 1. ],\n       [5.5, 2.9, 3.7, 1. ],\n       [5.5, 3. , 3.8, 1.1],\n       [5.5, 3. , 3.9, 1.1],\n       [5.6, 3. , 3.9, 1.1],\n       [5.6, 3. , 3.9, 1.2],\n       [5.6, 3. , 4. , 1.2],\n       [5.6, 3. , 4. , 1.2],\n       [5.6, 3. , 4. , 1.2],\n       [5.6, 3. , 4. , 1.2],\n       [5.7, 3. , 4. , 1.3],\n       [5.7, 3. , 4.1, 1.3],\n       [5.7, 3. , 4.1, 1.3],\n       [5.7, 3. , 4.1, 1.3],\n       [5.7, 3. , 4.2, 1.3],\n       [5.7, 3. , 4.2, 1.3],\n       [5.7, 3. , 4.2, 1.3],\n       [5.7, 3. , 4.2, 1.3],\n       [5.8, 3. , 4.3, 1.3],\n       [5.8, 3. , 4.3, 1.3],\n       [5.8, 3. , 4.4, 1.3],\n       [5.8, 3. , 4.4, 1.3],\n       [5.8, 3. , 4.4, 1.3],\n       [5.8, 3. , 4.4, 1.4],\n       [5.8, 3. , 4.5, 1.4],\n       [5.9, 3. , 4.5, 1.4],\n       [5.9, 3. , 4.5, 1.4],\n       [5.9, 3. , 4.5, 1.4],\n       [6. , 3.1, 4.5, 1.4],\n       [6. , 3.1, 4.5, 1.4],\n       [6. , 3.1, 4.5, 1.4],\n       [6. , 3.1, 4.5, 1.5],\n       [6. , 3.1, 4.6, 1.5],\n       [6. , 3.1, 4.6, 1.5],\n       [6.1, 3.1, 4.6, 1.5],\n       [6.1, 3.1, 4.7, 1.5],\n       [6.1, 3.1, 4.7, 1.5],\n       [6.1, 3.1, 4.7, 1.5],\n       [6.1, 3.1, 4.7, 1.5],\n       [6.1, 3.2, 4.7, 1.5],\n       [6.2, 3.2, 4.8, 1.5],\n       [6.2, 3.2, 4.8, 1.5],\n       [6.2, 3.2, 4.8, 1.5],\n       [6.2, 3.2, 4.8, 1.6],\n       [6.3, 3.2, 4.9, 1.6],\n       [6.3, 3.2, 4.9, 1.6],\n       [6.3, 3.2, 4.9, 1.6],\n       [6.3, 3.2, 4.9, 1.7],\n       [6.3, 3.2, 4.9, 1.7],\n       [6.3, 3.2, 5. , 1.8],\n       [6.3, 3.2, 5. , 1.8],\n       [6.3, 3.2, 5. , 1.8],\n       [6.3, 3.3, 5. , 1.8],\n       [6.4, 3.3, 5.1, 1.8],\n       [6.4, 3.3, 5.1, 1.8],\n       [6.4, 3.3, 5.1, 1.8],\n       [6.4, 3.3, 5.1, 1.8],\n       [6.4, 3.3, 5.1, 1.8],\n       [6.4, 3.4, 5.1, 1.8],\n       [6.4, 3.4, 5.1, 1.8],\n       [6.5, 3.4, 5.1, 1.8],\n       [6.5, 3.4, 5.2, 1.9],\n       [6.5, 3.4, 5.2, 1.9],\n       [6.5, 3.4, 5.3, 1.9],\n       [6.5, 3.4, 5.3, 1.9],\n       [6.6, 3.4, 5.4, 1.9],\n       [6.6, 3.4, 5.4, 2. ],\n       [6.7, 3.4, 5.5, 2. ],\n       [6.7, 3.4, 5.5, 2. ],\n       [6.7, 3.4, 5.5, 2. ],\n       [6.7, 3.5, 5.6, 2. ],\n       [6.7, 3.5, 5.6, 2. ],\n       [6.7, 3.5, 5.6, 2.1],\n       [6.7, 3.5, 5.6, 2.1],\n       [6.7, 3.5, 5.6, 2.1],\n       [6.8, 3.5, 5.6, 2.1],\n       [6.8, 3.6, 5.7, 2.1],\n       [6.8, 3.6, 5.7, 2.1],\n       [6.9, 3.6, 5.7, 2.2],\n       [6.9, 3.6, 5.8, 2.2],\n       [6.9, 3.7, 5.8, 2.2],\n       [6.9, 3.7, 5.8, 2.3],\n       [7. , 3.7, 5.9, 2.3],\n       [7.1, 3.8, 5.9, 2.3],\n       [7.2, 3.8, 6. , 2.3],\n       [7.2, 3.8, 6. , 2.3],\n       [7.2, 3.8, 6.1, 2.3],\n       [7.3, 3.8, 6.1, 2.3],\n       [7.4, 3.8, 6.1, 2.3],\n       [7.6, 3.9, 6.3, 2.4],\n       [7.7, 3.9, 6.4, 2.4],\n       [7.7, 4. , 6.6, 2.4],\n       [7.7, 4.1, 6.7, 2.5],\n       [7.7, 4.2, 6.7, 2.5],\n       [7.9, 4.4, 6.9, 2.5]])"
     },
     "execution_count": 74,
     "metadata": {},
     "output_type": "execute_result"
    }
   ],
   "source": [
    "pt=sklearn.preprocessing.PowerTransformer(method='box-cox',standardize=False)\n",
    "X_lognormal=np.random.RandomState(616).lognormal(size=(3,3))\n",
    "X_lognormal\n",
    "pt.fit_transform(X_lognormal) \n",
    "\n",
    "quantile_transformer=sklearn.preprocessing.QuantileTransformer(output_distribution='normal',random_state=0)\n",
    "X_trans=quantile_transformer.fit_transform(X)\n",
    "quantile_transformer.quantiles_"
   ]
  },
  {
   "cell_type": "markdown",
   "execution_count": null,
   "metadata": {},
   "outputs": [],
   "source": [
    "5.7 Encoding categorical features分类编码属性，从0到n_categories-1，但编码以后还不能直接用于sikit-learn估计器，因为编码以后是有序的。\n"
   ]
  },
  {
   "cell_type": "code",
   "execution_count": 81,
   "metadata": {},
   "outputs": [
    {
     "data": {
      "text/plain": "array([[1., 1., 1.],\n       [0., 0., 0.]])"
     },
     "execution_count": 81,
     "metadata": {},
     "output_type": "execute_result"
    }
   ],
   "source": [
    "enc=sklearn.preprocessing.OrdinalEncoder()\n",
    "X=[['male','from US','uses Safari'],['female','from Europe','uses Firefox']]\n",
    "enc.fit(X)\n",
    "enc.transform([['female', 'from US', 'uses Safari']])\n",
    "enc.transform(X)"
   ]
  },
  {
   "cell_type": "markdown",
   "execution_count": null,
   "metadata": {},
   "outputs": [],
   "source": []
  },
  {
   "cell_type": "markdown",
   "execution_count": null,
   "metadata": {},
   "outputs": [],
   "source": [
    "6.transformers+estimator/predictor=pipline\n",
    "\n",
    "pipline与estimator有相同的api,有fit方法和predict方法\n",
    "\n",
    "一般的管道( pipeline ) 包括了两个部分：\n",
    "① 作为输入端的预处理器( pre-processor)：\n",
    "转换(Transform)或者”推断？“( imputes )数据\n",
    "② 作为输出端的预测器( predictor )：预测目标值的预测器( predictor )"
   ]
  },
  {
   "cell_type": "code",
   "execution_count": 12,
   "metadata": {},
   "outputs": [],
   "source": [
    "from sklearn.preprocessing import StandardScaler\n",
    "from sklearn.linear_model import LogisticRegression\n",
    "from sklearn.pipeline import make_pipeline\n",
    "from sklearn.model_selection import train_test_split\n",
    "from sklearn.datasets import load_iris\n",
    "from sklearn.metrics import accuracy_score"
   ]
  },
  {
   "cell_type": "code",
   "execution_count": 13,
   "metadata": {},
   "outputs": [
    {
     "data": {
      "text/plain": "0.9736842105263158"
     },
     "execution_count": 13,
     "metadata": {},
     "output_type": "execute_result"
    }
   ],
   "source": [
    "pipe = make_pipeline(StandardScaler(),LogisticRegression(random_state=0))#创造一个pipeline对象(内有预处理和编辑器)\n",
    "\n",
    "x,y=load_iris(return_X_y=True)\n",
    "x_train,x_test,y_train,y_test=train_test_split(x,y,random_state=0)#下载数据并且分割训练集与测试集\n",
    "\n",
    "pipe.fit(x_train,y_train)#fit the whole pipline\n",
    "accuracy_score(pipe.predict(x_test),y_test)"
   ]
  },
  {
   "cell_type": "markdown",
   "execution_count": null,
   "metadata": {},
   "outputs": [],
   "source": [
    "7.model evaluation\n",
    "\n",
    "模型训练完成之后应该立马进行模型评估，而不是直接去预测未见过的”新数据“。\n",
    "\n",
    "除了train_test_split,scikit-learn提供了cross-validation方法切割样本 "
   ]
  },
  {
   "cell_type": "code",
   "execution_count": 14,
   "metadata": {},
   "outputs": [
    {
     "name": "stdout",
     "output_type": "stream",
     "text": "Help on function cross_validate in module sklearn.model_selection._validation:\n\ncross_validate(estimator, X, y=None, groups=None, scoring=None, cv=None, n_jobs=None, verbose=0, fit_params=None, pre_dispatch='2*n_jobs', return_train_score=False, return_estimator=False, error_score=nan)\n    Evaluate metric(s) by cross-validation and also record fit/score times.\n    \n    Read more in the :ref:`User Guide <multimetric_cross_validation>`.\n    \n    Parameters\n    ----------\n    estimator : estimator object implementing 'fit'\n        The object to use to fit the data.\n    \n    X : array-like\n        The data to fit. Can be for example a list, or an array.\n    \n    y : array-like, optional, default: None\n        The target variable to try to predict in the case of\n        supervised learning.\n    \n    groups : array-like, with shape (n_samples,), optional\n        Group labels for the samples used while splitting the dataset into\n        train/test set. Only used in conjunction with a \"Group\" :term:`cv`\n        instance (e.g., :class:`GroupKFold`).\n    \n    scoring : string, callable, list/tuple, dict or None, default: None\n        A single string (see :ref:`scoring_parameter`) or a callable\n        (see :ref:`scoring`) to evaluate the predictions on the test set.\n    \n        For evaluating multiple metrics, either give a list of (unique) strings\n        or a dict with names as keys and callables as values.\n    \n        NOTE that when using custom scorers, each scorer should return a single\n        value. Metric functions returning a list/array of values can be wrapped\n        into multiple scorers that return one value each.\n    \n        See :ref:`multimetric_grid_search` for an example.\n    \n        If None, the estimator's score method is used.\n    \n    cv : int, cross-validation generator or an iterable, optional\n        Determines the cross-validation splitting strategy.\n        Possible inputs for cv are:\n    \n        - None, to use the default 5-fold cross validation,\n        - integer, to specify the number of folds in a `(Stratified)KFold`,\n        - :term:`CV splitter`,\n        - An iterable yielding (train, test) splits as arrays of indices.\n    \n        For integer/None inputs, if the estimator is a classifier and ``y`` is\n        either binary or multiclass, :class:`StratifiedKFold` is used. In all\n        other cases, :class:`KFold` is used.\n    \n        Refer :ref:`User Guide <cross_validation>` for the various\n        cross-validation strategies that can be used here.\n    \n        .. versionchanged:: 0.22\n            ``cv`` default value if None changed from 3-fold to 5-fold.\n    \n    n_jobs : int or None, optional (default=None)\n        The number of CPUs to use to do the computation.\n        ``None`` means 1 unless in a :obj:`joblib.parallel_backend` context.\n        ``-1`` means using all processors. See :term:`Glossary <n_jobs>`\n        for more details.\n    \n    verbose : integer, optional\n        The verbosity level.\n    \n    fit_params : dict, optional\n        Parameters to pass to the fit method of the estimator.\n    \n    pre_dispatch : int, or string, optional\n        Controls the number of jobs that get dispatched during parallel\n        execution. Reducing this number can be useful to avoid an\n        explosion of memory consumption when more jobs get dispatched\n        than CPUs can process. This parameter can be:\n    \n            - None, in which case all the jobs are immediately\n              created and spawned. Use this for lightweight and\n              fast-running jobs, to avoid delays due to on-demand\n              spawning of the jobs\n    \n            - An int, giving the exact number of total jobs that are\n              spawned\n    \n            - A string, giving an expression as a function of n_jobs,\n              as in '2*n_jobs'\n    \n    return_train_score : boolean, default=False\n        Whether to include train scores.\n        Computing training scores is used to get insights on how different\n        parameter settings impact the overfitting/underfitting trade-off.\n        However computing the scores on the training set can be computationally\n        expensive and is not strictly required to select the parameters that\n        yield the best generalization performance.\n    \n    return_estimator : boolean, default False\n        Whether to return the estimators fitted on each split.\n    \n    error_score : 'raise' or numeric\n        Value to assign to the score if an error occurs in estimator fitting.\n        If set to 'raise', the error is raised.\n        If a numeric value is given, FitFailedWarning is raised. This parameter\n        does not affect the refit step, which will always raise the error.\n    \n    Returns\n    -------\n    scores : dict of float arrays of shape (n_splits,)\n        Array of scores of the estimator for each run of the cross validation.\n    \n        A dict of arrays containing the score/time arrays for each scorer is\n        returned. The possible keys for this ``dict`` are:\n    \n            ``test_score``\n                The score array for test scores on each cv split.\n                Suffix ``_score`` in ``test_score`` changes to a specific\n                metric like ``test_r2`` or ``test_auc`` if there are\n                multiple scoring metrics in the scoring parameter.\n            ``train_score``\n                The score array for train scores on each cv split.\n                Suffix ``_score`` in ``train_score`` changes to a specific\n                metric like ``train_r2`` or ``train_auc`` if there are\n                multiple scoring metrics in the scoring parameter.\n                This is available only if ``return_train_score`` parameter\n                is ``True``.\n            ``fit_time``\n                The time for fitting the estimator on the train\n                set for each cv split.\n            ``score_time``\n                The time for scoring the estimator on the test set for each\n                cv split. (Note time for scoring on the train set is not\n                included even if ``return_train_score`` is set to ``True``\n            ``estimator``\n                The estimator objects for each cv split.\n                This is available only if ``return_estimator`` parameter\n                is set to ``True``.\n    \n    Examples\n    --------\n    >>> from sklearn import datasets, linear_model\n    >>> from sklearn.model_selection import cross_validate\n    >>> from sklearn.metrics import make_scorer\n    >>> from sklearn.metrics import confusion_matrix\n    >>> from sklearn.svm import LinearSVC\n    >>> diabetes = datasets.load_diabetes()\n    >>> X = diabetes.data[:150]\n    >>> y = diabetes.target[:150]\n    >>> lasso = linear_model.Lasso()\n    \n    Single metric evaluation using ``cross_validate``\n    \n    >>> cv_results = cross_validate(lasso, X, y, cv=3)\n    >>> sorted(cv_results.keys())\n    ['fit_time', 'score_time', 'test_score']\n    >>> cv_results['test_score']\n    array([0.33150734, 0.08022311, 0.03531764])\n    \n    Multiple metric evaluation using ``cross_validate``\n    (please refer the ``scoring`` parameter doc for more information)\n    \n    >>> scores = cross_validate(lasso, X, y, cv=3,\n    ...                         scoring=('r2', 'neg_mean_squared_error'),\n    ...                         return_train_score=True)\n    >>> print(scores['test_neg_mean_squared_error'])\n    [-3635.5... -3573.3... -6114.7...]\n    >>> print(scores['train_r2'])\n    [0.28010158 0.39088426 0.22784852]\n    \n    See Also\n    ---------\n    :func:`sklearn.model_selection.cross_val_score`:\n        Run cross-validation for single metric evaluation.\n    \n    :func:`sklearn.model_selection.cross_val_predict`:\n        Get predictions from each split of cross-validation for diagnostic\n        purposes.\n    \n    :func:`sklearn.metrics.make_scorer`:\n        Make a scorer from a performance metric or loss function.\n\n"
    }
   ],
   "source": [
    "from sklearn.datasets import make_regression\n",
    "from sklearn.linear_model import LinearRegression\n",
    "from sklearn.model_selection import cross_validate\n",
    "x,y=make_regression(n_samples=1000,random_state=0)\n",
    "\n",
    "#make_regression表示样本生成器，The output is generated by applying a (potentially biased) random linear regression model\n",
    "lr=LinearRegression()\n",
    "result=cross_validate(lr,x,y)\n",
    "result['test_score']\n",
    "help(cross_validate)"
   ]
  },
  {
   "cell_type": "markdown",
   "execution_count": null,
   "metadata": {},
   "outputs": [],
   "source": [
    "8. 超参数以及调参\n",
    "\n",
    "超参数不由估计器给出，而是作为参数直接传入估计器。\n",
    "所有的评估器都有参数（或者说超参数），它们可以被调试。一般情况下，我们并不知道该怎么选参数值，因为它们由我们手里的数据所决定。\n",
    "\n",
    "在scikit-learn中提供两种来选择最优参数：RandomizedSearchCV和GridSearchCV\n",
    "\n",
    "A Search包括一个估计器、一个参数空间、一种抽样方法、交叉验证次数、一个得分方程（用于评价不同参数的效果。分类用sklearn.metrics.accuracy_score，回归用sklearn.metrics.r2_score）。"
   ]
  },
  {
   "cell_type": "markdown",
   "execution_count": null,
   "metadata": {},
   "outputs": [],
   "source": [
    "8.1 RandomizedSearchCV\n",
    "\n",
    "Sklearn 中提供了一些可以自动寻找最优参数组合的工具（通过交叉验证）。下面以 RandomizedSearchCV \n",
    "对象为例，当搜索结束之后 RandomizedSearchCV 就变成了类似 RandomForestRegressor 的角色。\n",
    "\n",
    "另外，使用采样迭代数'n_iter' parameter或采样候选数可以指定计算预算。\n",
    "\n",
    "RandomizedSearchCV相比GridSearchCV具有两个主要优势：\n",
    "第一、它的参数空间是随机产生的候选参数可以从其分布中产生。预算选择独立于参数个数和可能的值。\n",
    "第二、增加不影响模型表现的参数不会降低效率。"
   ]
  },
  {
   "cell_type": "code",
   "execution_count": 15,
   "metadata": {},
   "outputs": [],
   "source": [
    "import scipy\n",
    "param_distributions={'C': scipy.stats.expon(scale=100),'gamma': scipy.stats.expon(scale=.1),'kernel': ['rbf'],'class_weight':['balanced', None]}"
   ]
  },
  {
   "cell_type": "code",
   "execution_count": 16,
   "metadata": {},
   "outputs": [],
   "source": [
    "from sklearn.datasets import fetch_california_housing\n",
    "from sklearn.ensemble import RandomForestRegressor\n",
    "from sklearn.model_selection import RandomizedSearchCV\n",
    "from sklearn.model_selection import train_test_split\n",
    "from scipy.stats import randint"
   ]
  },
  {
   "cell_type": "code",
   "execution_count": 17,
   "metadata": {},
   "outputs": [],
   "source": [
    "X,y=fetch_california_housing(return_X_y=True)\n",
    "X_train,X_test,y_train,y_test=train_test_split(X,y,random_state=0)\n",
    "# define the parameter space that will be searched over\n",
    "param_distributions={'n_estimators':randint(1,5),'max_depth':randint(5,10)}\n",
    "# create a searchCV object and fit it to the data\n",
    "search=RandomizedSearchCV(estimator=RandomForestRegressor(random_state=0),n_iter=5,\n",
    "param_distributions=param_distributions,random_state=0)"
   ]
  },
  {
   "cell_type": "code",
   "execution_count": 18,
   "metadata": {},
   "outputs": [
    {
     "data": {
      "text/plain": "0.7349601117850644"
     },
     "execution_count": 18,
     "metadata": {},
     "output_type": "execute_result"
    }
   ],
   "source": [
    "search.fit(X_train,y_train)\n",
    "# the search object now acts like a normal randomforest estimator\n",
    "search.best_params_\n",
    "search.score(X_test,y_test)"
   ]
  },
  {
   "cell_type": "markdown",
   "execution_count": null,
   "metadata": {},
   "outputs": [],
   "source": [
    "8.2 GridSearchCV\n",
    "\n",
    "当用训练集拟合数据时，所有的参数都被计算，但仅最好的留下来。"
   ]
  },
  {
   "cell_type": "code",
   "execution_count": 19,
   "metadata": {},
   "outputs": [],
   "source": [
    "param_grid = [{'C': [1, 10, 100, 1000],'kernel': ['linear']},{'C': [1, 10, 100, 1000],'gamma': [0.001, 0.0001],'kernel':['rbf']},]\n"
   ]
  },
  {
   "cell_type": "markdown",
   "execution_count": null,
   "metadata": {},
   "outputs": [],
   "source": [
    "8.3 metrics and scoring:quantifying the quality of predictions\n",
    "\n",
    "precision_recall_curve和roc_curve仅适用于二分类。\n",
    "多分类metrics\n",
    "多标签排名指标(定序变量)适用的metrics\n",
    "回归metrics\n",
    "聚类metrics:adjusted_rand_score"
   ]
  },
  {
   "cell_type": "markdown",
   "execution_count": null,
   "metadata": {},
   "outputs": [],
   "source": [
    "9.有监督学习-例1"
   ]
  },
  {
   "cell_type": "code",
   "execution_count": 20,
   "metadata": {},
   "outputs": [
    {
     "name": "stdout",
     "output_type": "stream",
     "text": "1.0\n[ 1.69095695e-14 -1.77635684e-15  7.10542736e-15  6.57252031e-14\n -1.09245946e-13 -3.01980663e-14  0.00000000e+00  3.01980663e-14\n  8.52651283e-14  2.22044605e-14  5.55111512e-14 -5.15143483e-14\n  2.27512598e+01 -7.10542736e-14  5.81756865e-14  5.68434189e-14\n -2.22044605e-14 -2.13162821e-14  2.06501483e-14 -4.76840789e-14\n  1.98983674e+01 -2.85327317e-14 -8.52651283e-14 -1.03472786e-13\n  1.08801856e-13  8.52651283e-14  1.26121336e-13  1.04360964e-13\n -1.04805054e-13 -5.55111512e-14  1.57651669e-13 -3.06421555e-14\n  1.44252385e+01  6.66133815e-15  5.77315973e-14  1.51878510e-13\n  7.10542736e-14 -4.08562073e-14  9.11615477e+01  3.17523785e-14\n  3.10862447e-15 -6.43929354e-14  8.76930556e+00 -7.72715225e-14\n -3.55271368e-15  7.63833441e-14 -4.26325641e-14  5.32907052e-14\n  8.08242362e-14  5.95079541e-14 -3.73034936e-14 -2.04281037e-14\n  8.59727392e+01 -5.72875081e-14  8.88178420e-16 -5.99520433e-14\n  1.59872116e-14  7.91585698e+01  2.95319325e-14  2.26485497e-14\n -1.90958360e-14 -4.39648318e-14 -5.15143483e-14 -1.19015908e-13\n  3.90479674e+01  7.99360578e-15 -5.59552404e-14 -8.72635297e-14\n  1.96014218e+01 -1.90958360e-14 -2.24265051e-14  2.37587727e-14\n  2.29653016e+01 -8.88178420e-15  3.57491814e-14 -2.62012634e-14\n -2.90878432e-14 -5.32907052e-15  4.74065232e-14 -3.19744231e-14\n  1.33226763e-14 -1.77635684e-15 -3.37507799e-14 -2.57571742e-14\n -3.77475828e-14 -8.43769499e-15 -3.93018951e-14 -4.26325641e-14\n  4.57411886e-14  1.31006317e-14  8.39328607e-14 -1.68753900e-14\n -2.73114864e-14 -2.22044605e-15  3.28626015e-14 -1.26565425e-14\n -6.52811138e-14  6.48370246e-14 -7.10542736e-15  3.46389584e-14]\n1.865174681370263e-14\n{'copy_X': True, 'fit_intercept': True, 'n_jobs': None, 'normalize': False}\n"
    }
   ],
   "source": [
    "x,y=make_regression(n_samples=1000,random_state=0)\n",
    "reg=LinearRegression().fit(x,y)\n",
    "print(reg.score(x,y))\n",
    "print(reg.coef_)\n",
    "print(reg.intercept_)\n",
    "print(reg.get_params())"
   ]
  },
  {
   "cell_type": "markdown",
   "execution_count": 33,
   "metadata": {},
   "outputs": [
    {
     "ename": "AttributeError",
     "evalue": "'numpy.ndarray' object has no attribute 'colnames'",
     "output_type": "error",
     "traceback": [
      "\u001b[1;31m---------------------------------------------------------------------------\u001b[0m",
      "\u001b[1;31mAttributeError\u001b[0m                            Traceback (most recent call last)",
      "\u001b[1;32m<ipython-input-33-8a7b501aec4f>\u001b[0m in \u001b[0;36m<module>\u001b[1;34m\u001b[0m\n\u001b[0;32m      5\u001b[0m \u001b[0mdiabetes_X\u001b[0m\u001b[1;33m,\u001b[0m \u001b[0mdiabetes_y\u001b[0m \u001b[1;33m=\u001b[0m \u001b[0mdatasets\u001b[0m\u001b[1;33m.\u001b[0m\u001b[0mload_diabetes\u001b[0m\u001b[1;33m(\u001b[0m\u001b[0mreturn_X_y\u001b[0m\u001b[1;33m=\u001b[0m\u001b[1;32mTrue\u001b[0m\u001b[1;33m)\u001b[0m\u001b[1;33m\u001b[0m\u001b[1;33m\u001b[0m\u001b[0m\n\u001b[0;32m      6\u001b[0m \u001b[0mdiabetes_X\u001b[0m\u001b[1;33m.\u001b[0m\u001b[0mshape\u001b[0m\u001b[1;33m\u001b[0m\u001b[1;33m\u001b[0m\u001b[0m\n\u001b[1;32m----> 7\u001b[1;33m \u001b[0mdiabetes_X\u001b[0m\u001b[1;33m.\u001b[0m\u001b[0mcolnames\u001b[0m\u001b[1;33m\u001b[0m\u001b[1;33m\u001b[0m\u001b[0m\n\u001b[0m",
      "\u001b[1;31mAttributeError\u001b[0m: 'numpy.ndarray' object has no attribute 'colnames'"
     ]
    }
   ],
   "source": [
    "import numpy as np\n",
    "import matplotlib.pyplot as plt\n",
    "from sklearn import datasets,linear_model\n",
    "from sklearn.metrics import mean_squared_error,r2_score\n",
    "diabetes_X, diabetes_y = datasets.load_diabetes(return_X_y=True)\n",
    "diabetes_X.shape\n",
    "port numpy as np\n",
    "import matplotlib.pyplot as plt\n",
    "from sklearn import datasets,linear_model\n",
    "from sklearn.metrics import mean_squared_error,r2_score\n",
    "diabetes_X, diabetes_y = datasets.load_diabetes(return_X_y=True)\n",
    "diabetes_X.shape\n",
    "diabetes_X.colu"
   ]
  },
  {
   "cell_type": "markdown",
   "execution_count": null,
   "metadata": {},
   "outputs": [],
   "source": [
    "有监督学习-例2"
   ]
  },
  {
   "cell_type": "code",
   "execution_count": 21,
   "metadata": {},
   "outputs": [
    {
     "data": {
      "text/plain": "(442, 10)"
     },
     "execution_count": 21,
     "metadata": {},
     "output_type": "execute_result"
    }
   ],
   "source": [
    "import matplotlib.pyplot as plt\n",
    "import numpy as np\n",
    "from sklearn import datasets, linear_model\n",
    "from sklearn.metrics import mean_squared_error, r2_score\n",
    "diabetes_X, diabetes_y = datasets.load_diabetes(return_X_y=True)\n",
    "type(diabetes_X)#是数组\n",
    "diabetes_X[10:]\n",
    "diabetes_X.shape"
   ]
  },
  {
   "cell_type": "code",
   "execution_count": 22,
   "metadata": {},
   "outputs": [
    {
     "name": "stdout",
     "output_type": "stream",
     "text": "(442, 1)\n"
    }
   ],
   "source": [
    "#split the data into training/testing sets\n",
    "#diabetes_X = diabetes_X[:,2]#是一维数组\n",
    "diabetes_X = diabetes_X[:,np.newaxis,2]#得到二维数组\n",
    "diabetes_X_train=diabetes_X[:-20]#取前422行\n",
    "diabetes_X_test = diabetes_X[-20:]\n",
    "print(diabetes_X.shape)"
   ]
  },
  {
   "cell_type": "code",
   "execution_count": 23,
   "metadata": {},
   "outputs": [
    {
     "name": "stdout",
     "output_type": "stream",
     "text": "(442, 1)\n"
    }
   ],
   "source": [
    "#Split the targets into training/testingset\n",
    "print(diabetes_X.shape)\n",
    "diabetes_y_train = diabetes_y[:-20]\n",
    "diabetes_y_test = diabetes_y[-20:]"
   ]
  },
  {
   "cell_type": "code",
   "execution_count": 24,
   "metadata": {},
   "outputs": [
    {
     "name": "stdout",
     "output_type": "stream",
     "text": "Coefficients:\n [938.23786125]\nmean squared error:2548.07\nCoefficientofdetermination:0.47\n"
    }
   ],
   "source": [
    "regr=linear_model.LinearRegression()\n",
    "regr.fit(diabetes_X_train,diabetes_y_train)\n",
    "diabetes_y_pred=regr.predict(diabetes_X_test)\n",
    "print('Coefficients:\\n', regr.coef_)\n",
    "print('mean squared error:%.2f' %mean_squared_error(diabetes_y_test,diabetes_y_pred))\n",
    "print('Coefficientofdetermination:%.2f' % r2_score(diabetes_y_test, diabetes_y_pred))"
   ]
  },
  {
   "cell_type": "code",
   "execution_count": 25,
   "metadata": {},
   "outputs": [
    {
     "data": {
      "image/png": "[encoded data removed]",
      "text/plain": "<Figure size 432x288 with 1 Axes>"
     },
     "metadata": {},
     "output_type": "display_data"
    }
   ],
   "source": [
    "plt.scatter(diabetes_X_test,diabetes_y_test,color='black')\n",
    "plt.plot(diabetes_X_test,diabetes_y_test,color='blue',linewidth=3)\n",
    "plt.xticks(())\n",
    "plt.yticks(())\n",
    "plt.show()"
   ]
  },
  {
   "cell_type": "markdown",
   "execution_count": null,
   "metadata": {},
   "outputs": [],
   "source": [
    "9.3 dummy estimator(不需要输入自变量):\n",
    "\n",
    "首先是DummyClassifier\n",
    "\n",
    "straified(分层):通过尊重训练集类别分布，分层生成随机预测\n",
    "\n",
    "most_frequent:预测时返回出现最多的那一类\n",
    "\n",
    "prior:总是预测类的排序\n",
    "\n",
    "uniform:随机产生预测\n",
    "\n",
    "constant:预测用户提供的常数label\n",
    "\n",
    "然后是DummyRegressor,有mean,median,quantile等方法"
   ]
  },
  {
   "cell_type": "code",
   "execution_count": 26,
   "metadata": {},
   "outputs": [
    {
     "data": {
      "text/plain": "0.631578947368421"
     },
     "execution_count": 26,
     "metadata": {},
     "output_type": "execute_result"
    }
   ],
   "source": [
    "from sklearn.model_selection import train_test_split\n",
    "from sklearn.datasets import load_iris\n",
    "\n",
    "X,y=load_iris(return_X_y=True)\n",
    "y[y!=1]=-1#只分为两类\n",
    "X_train,X_test,y_train,y_test=train_test_split(X,y,random_state=0)\n",
    "\n",
    "###comparetheaccuracyofSVCandmost_frequent\n",
    "from sklearn.dummy import DummyClassifier\n",
    "from sklearn.svm import SVC\n",
    "clf = SVC(kernel='linear',C=1).fit(X_train,y_train)\n",
    "#C是目标函数中松弛因子的惩罚系数值。\n",
    "clf.score(X_test,y_test)"
   ]
  },
  {
   "cell_type": "code",
   "execution_count": 27,
   "metadata": {},
   "outputs": [
    {
     "data": {
      "text/plain": "0.9473684210526315"
     },
     "execution_count": 27,
     "metadata": {},
     "output_type": "execute_result"
    }
   ],
   "source": [
    "###change the kernel\n",
    "clf=SVC(kernel='rbf',C=1).fit(X_train,y_train)\n",
    "clf.score(X_test,y_test)#rbf表示径向基核函数"
   ]
  },
  {
   "cell_type": "code",
   "execution_count": 28,
   "metadata": {},
   "outputs": [
    {
     "data": {
      "text/plain": "0.5789473684210527"
     },
     "execution_count": 28,
     "metadata": {},
     "output_type": "execute_result"
    }
   ],
   "source": [
    "clf = DummyClassifier(strategy='most_frequent',random_state=0)\n",
    "clf.fit(X_train,y_train)\n",
    "clf.score(X_test,y_test)"
   ]
  },
  {
   "cell_type": "markdown",
   "execution_count": null,
   "metadata": {},
   "outputs": [],
   "source": [
    "10. 无监督学习：无y值\n",
    "高斯混合模型；聚类；density估计；神经网络"
   ]
  },
  {
   "cell_type": "code",
   "execution_count": 29,
   "metadata": {},
   "outputs": [
    {
     "name": "stdout",
     "output_type": "stream",
     "text": "[1 1 1 0 0 0]\n[[10.  2.]\n [ 1.  2.]]\n"
    }
   ],
   "source": [
    "#例子1-k均值聚类\n",
    "from sklearn.cluster import KMeans\n",
    "X = np.array([[1, 2], [1, 4], [1, 0],[10, 2], [10, 4], [10, 0]])\n",
    "kmeans = KMeans(n_clusters=2, random_state=0).fit(X)\n",
    "print(kmeans.labels_)\n",
    "kmeans.predict([[0, 0], [12, 3]])\n",
    "print(kmeans.cluster_centers_)\n"
   ]
  },
  {
   "cell_type": "code",
   "execution_count": 30,
   "metadata": {},
   "outputs": [],
   "source": [
    "#例子2\n",
    "from mpl_toolkits.mplot3d import Axes3D\n",
    "np.random.seed(5)\n",
    "x=iris.data\n",
    "y=iris.target\n",
    "estimators=[('k_means_iris_8', KMeans(n_clusters=8)),('k_means_iris_3', KMeans(n_clusters=3)),('k_means_iris_bad_init', KMeans(n_clusters=3,n_init=1, init='random'))]\n",
    "#init:用于指定初始的簇中心设置方法，如果为'k-means++',则表示设置的初始簇中心之间相距较远；如果为'random'，则表示从数据集中随机挑选k个样本作为初始簇中心；如果为数组则表示相应的簇中心。\n",
    "#n_init用于指定算法运行次数，每次运行都会选择不同的初始簇中心"
   ]
  },
  {
   "cell_type": "code",
   "execution_count": 31,
   "metadata": {},
   "outputs": [
    {
     "data": {
      "image/png": "[encoded data removed]",
      "text/plain": "<Figure size 288x216 with 1 Axes>"
     },
     "metadata": {
      "needs_background": "light"
     },
     "output_type": "display_data"
    },
    {
     "data": {
      "image/png": "[encoded data removed]",
      "text/plain": "<Figure size 288x216 with 1 Axes>"
     },
     "metadata": {
      "needs_background": "light"
     },
     "output_type": "display_data"
    },
    {
     "data": {
      "image/png": "[encoded data removed]",
      "text/plain": "<Figure size 288x216 with 1 Axes>"
     },
     "metadata": {
      "needs_background": "light"
     },
     "output_type": "display_data"
    }
   ],
   "source": [
    "fignum=1\n",
    "titles=['8 clusters','3 clusters','3 clusters,bad initialization']\n",
    "for name,est in estimators:\n",
    "    fig=plt.figure(fignum,figsize=(4,3))\n",
    "    ax=Axes3D(fig,rect=[0,0,.95,1],elev=48,azim=134)\n",
    "    est.fit(x)\n",
    "    labels=est.labels_\n",
    "\n",
    "    ax.scatter(x[:,3],x[:,0],x[:,2],c=labels.astype(np.float),edgecolors='k')\n",
    "    ax.w_xaxis.set_ticklabels([])\n",
    "    ax.w_yaxis.set_ticklabels([])\n",
    "    ax.w_zaxis.set_ticklabels([])\n",
    "    ax.set_xlabel('Petal width')\n",
    "    ax.set_ylabel('Sepal length')\n",
    "    ax.set_zlabel('Petal length')\n",
    "    ax.set_title(titles[fignum - 1])\n",
    "    ax.dist = 12\n",
    "    fignum = fignum + 1"
   ]
  },
  {
   "cell_type": "code",
   "execution_count": 32,
   "metadata": {},
   "outputs": [
    {
     "name": "stderr",
     "output_type": "stream",
     "text": "C:\\Anaconda3\\lib\\site-packages\\ipykernel_launcher.py:16: UserWarning: Matplotlib is currently using module://ipykernel.pylab.backend_inline, which is a non-GUI backend, so cannot show the figure.\n  app.launch_new_instance()\n"
    },
    {
     "data": {
      "image/png": "[encoded data removed]",
      "text/plain": "<Figure size 288x216 with 1 Axes>"
     },
     "metadata": {
      "needs_background": "light"
     },
     "output_type": "display_data"
    }
   ],
   "source": [
    "fig=plt.figure(fignum,figsize=(4,3))\n",
    "ax=Axes3D(fig,rect=[0,0,.95,1],elev=48,azim=134)\n",
    "for name,label in [('Setosa',0),('Versicolour',1),('Virginica',2)]:\n",
    "    ax.text3D(x[y == label, 3].mean(),x[y == label, 0].mean(),x[y == label, 2].mean() + 2, name,horizontalalignment='center',bbox=dict(alpha=.2, edgecolor='w', facecolor='w'))\n",
    "\n",
    "y = np.choose(y, [1, 2, 0]).astype(np.float)\n",
    "ax.scatter(x[:, 3], x[:, 0], x[:, 2], c=y, edgecolor='k')\n",
    "ax.w_xaxis.set_ticklabels([])\n",
    "ax.w_yaxis.set_ticklabels([])\n",
    "ax.w_zaxis.set_ticklabels([])\n",
    "ax.set_xlabel('Petalwidth')\n",
    "ax.set_ylabel('Sepallength')\n",
    "ax.set_zlabel('Petallength')\n",
    "ax.set_title('GroundTruth')\n",
    "ax.dist = 12\n",
    "fig.show()\n"
   ]
  },
  {
   "cell_type": "markdown",
   "execution_count": null,
   "metadata": {},
   "outputs": [],
   "source": [
    "在机器学习任务中，拿到数据后，我们首先会将原始数据集分为三部分：训练集，验证集和测试集。训练集用于训练模型，验证集用于模型的参数选择配置，测试集对于模型来说是未知数据，用于评估模型的泛化能力。\n",
    "\n",
    "验证集的必要性：在评估不同的设置（“超参数”）预评估器（例如必须为SVM手动设置的C设置）时，仍然存在测试集过拟合的风险，因为可以对参数进行调整，直到估计器达到最佳性能为止。\n",
    "\n",
    "验证数据集可用于通过提前停止进行正则化：当验证数据集的错误增加时停止训练，因为这是过度拟合训练数据集的标志。\n",
    "\n",
    "验证数据集起混合作用：它是测试使用的训练数据，但既不是低层训练的一部分，也不是最终测试的一部分。\n",
    "\n",
    "验证数据集还可以在其他形式的模型准备中发挥作用，例如特征选择。\n",
    "\n",
    "训练集的模型拟合包括利用相应的迭代算法进行变量选择和最优参数选择。\n",
    "\n",
    "在k-fold交叉验证中，验证集和测试集不做区分,不用保留验证集。可以\n",
    "在k-fold直接利用训练集做调参。"
   ]
  },
  {
   "cell_type": "markdown",
   "execution_count": null,
   "metadata": {},
   "outputs": [],
   "source": [
    "伪代码\n",
    "data=...\n",
    "train,validation,test=split(data)\n",
    "#调参\n",
    "parameters=...\n",
    "for params in parameters:\n",
    "    model=fit(train,params)\n",
    "    skill=evaluate(model,validation)\n",
    "\n",
    "#评估模型\n",
    "model=fit(train)\n",
    "skill=evaluate(model,test)"
   ]
  },
  {
   "cell_type": "markdown",
   "execution_count": null,
   "metadata": {},
   "outputs": [],
   "source": [
    "11.模型持久性--训练过的模型可以保存下来以后使用"
   ]
  },
  {
   "cell_type": "code",
   "execution_count": 33,
   "metadata": {},
   "outputs": [
    {
     "data": {
      "text/plain": "array([0])"
     },
     "execution_count": 33,
     "metadata": {},
     "output_type": "execute_result"
    }
   ],
   "source": [
    "from sklearn import svm\n",
    "from sklearn import datasets\n",
    "clf=svm.SVC()\n",
    "X,y=datasets.load_iris(return_X_y=True)\n",
    "clf.fit(X,y)\n",
    "#方法一：用pickle\n",
    "import pickle\n",
    "s=pickle.dumps(clf)\n",
    "clf2=pickle.loads(s)\n",
    "clf2.predict(X[0:1])"
   ]
  },
  {
   "cell_type": "code",
   "execution_count": 34,
   "metadata": {},
   "outputs": [],
   "source": [
    "#方法二：joblib比pickle更有效率，尤其是对于有大量数据集的对象。\n",
    "from joblib import dump,load\n",
    "dump(clf,'filename.joblib')#转储\n",
    "clf=load('filename.joblib')#加载"
   ]
  },
  {
   "cell_type": "markdown",
   "execution_count": null,
   "metadata": {},
   "outputs": [],
   "source": [
    "12.Validation curves(验证曲线):score的可视化(各种曲线)"
   ]
  },
  {
   "cell_type": "markdown",
   "execution_count": null,
   "metadata": {},
   "outputs": [],
   "source": [
    "通常我们通过选择算法和设置超参数来使得bais和variance尽可能的低。\n",
    "\n",
    "The bias of an estimator is its average error for different trainingsets。\n",
    "\n",
    "欠拟合(underfiting)有高的bias\n",
    "过拟合(overfiting)有高的variance,对训练集有很高的敏感性。\n",
    "\n",
    "以超参数为横轴，训练集分数和验证集分数为数轴作图，分析估计器是欠拟合还是过拟合。用函数'validation_curve'实现。"
   ]
  },
  {
   "cell_type": "markdown",
   "execution_count": null,
   "metadata": {},
   "outputs": [],
   "source": [
    "如果训练集SCORE和验证集SCORE都是低的，表示欠拟合。\n",
    "如果训练集SCORE是高的，验证集是地的，表示过拟合。"
   ]
  },
  {
   "cell_type": "code",
   "execution_count": 35,
   "metadata": {},
   "outputs": [],
   "source": [
    "import numpy as np\n",
    "from sklearn.model_selection import validation_curve\n",
    "from sklearn.datasets import load_iris\n",
    "from sklearn.linear_model import Ridge"
   ]
  },
  {
   "cell_type": "markdown",
   "execution_count": null,
   "metadata": {},
   "outputs": [],
   "source": [
    "validation_curve(estimator, X, y, param_name, param_range, groups=None, cv='warn', scoring=None, n_jobs=None, pre_dispatch='all', verbose=0, error_score='raise-deprecating')"
   ]
  },
  {
   "cell_type": "code",
   "execution_count": 36,
   "metadata": {},
   "outputs": [
    {
     "name": "stdout",
     "output_type": "stream",
     "text": "[[0.93402178 0.94366418 0.92648383 0.91933313 0.92922507]\n [0.9340217  0.94366412 0.92648377 0.91933304 0.929225  ]\n [0.51143526 0.52415737 0.49868907 0.47086988 0.49623503]]\n[[0.9055033  0.84185935 0.94569793 0.96231017 0.93366144]\n [0.90550088 0.84184574 0.94568969 0.96233172 0.93366806]\n [0.46706558 0.25698974 0.50496293 0.49826404 0.52500014]]\n"
    }
   ],
   "source": [
    "np.random.seed(0)\n",
    "X,y=load_iris(return_X_y=True)\n",
    "indices=np.arange(y.shape[0])\n",
    "np.random.shuffle(indices)#把顺序打乱\n",
    "X,y=X[indices],y[indices]\n",
    "train_scores,valid_scores=validation_curve(Ridge(),X,y,'alpha',np.logspace(-7,3,3),cv=5)\n",
    "print(train_scores)\n",
    "print(valid_scores)"
   ]
  },
  {
   "cell_type": "markdown",
   "execution_count": null,
   "metadata": {},
   "outputs": [],
   "source": [
    "13.学习曲线\n",
    "\n",
    "显示的是随着训练集样本数的变化，验证集SCORE和训练集SCORE的变化。可以用learning_curve\n",
    "\n",
    "所需的数据是：已使用的样本数量，训练集的平均分数和验证集的平均分数。\n",
    "\n",
    "如果训练集分数和测试集分数随着样本容量增大，收敛于一个低值，则增加样本不会有太大效果。\n",
    "\n",
    "如果训练集分数大于测试集分数，增加更多训练集会增加模型的泛化能力。"
   ]
  },
  {
   "cell_type": "markdown",
   "execution_count": null,
   "metadata": {},
   "outputs": [],
   "source": [
    "learning_curve(estimator, X, y, groups=None, train_sizes=np.linspace(0.1,1.0,5), cv='warn', scoring=None, exploit_incremental_learning=False, n_jobs=None, pre_dispatch='all', verbose=0, shuffle=False, random_state=None, error_score='raise-deprecating')"
   ]
  },
  {
   "cell_type": "code",
   "execution_count": 37,
   "metadata": {},
   "outputs": [
    {
     "data": {
      "text/plain": "array([[1.        , 0.93333333, 1.        , 1.        , 0.96666667],\n       [1.        , 0.96666667, 1.        , 1.        , 0.96666667],\n       [1.        , 0.96666667, 1.        , 1.        , 0.96666667]])"
     },
     "execution_count": 37,
     "metadata": {},
     "output_type": "execute_result"
    }
   ],
   "source": [
    "from sklearn.model_selection import learning_curve\n",
    "from sklearn.svm import SVC\n",
    "train_sizes,train_scores,valid_scores=learning_curve(SVC(kernel='linear'),X,y,train_sizes=[50,80,110],cv=5)\n",
    "\n",
    "train_sizes\n",
    "train_scores\n",
    "valid_scores"
   ]
  },
  {
   "cell_type": "markdown",
   "execution_count": null,
   "metadata": {},
   "outputs": [],
   "source": [
    "14.审查和可视化\n",
    "\n",
    "预测performance是机器学习的主要目标，然而，用评估指标来概括性能通常是不够的：它假设评估指标和测试数据集完美地反映了目标域，这很少是真的。\n",
    "\n",
    "在某些领域中，模型在部署之前需要具有一定程度的可解释性。\n",
    "需要对表现出性能问题的模型进行调试，以了解模型的根本问题。sklearn.inspection模块提供了有助于理解模型预测和影响预测因素的工具。\n",
    "可以用来评估模型的假设和偏差，设计更好的模型或诊断模型性能问题。"
   ]
  },
  {
   "cell_type": "markdown",
   "execution_count": 32,
   "metadata": {},
   "outputs": [
    {
     "ename": "NameError",
     "evalue": "name '审查' is not defined",
     "output_type": "error",
     "traceback": [
      "\u001b[1;31m---------------------------------------------------------------------------\u001b[0m",
      "\u001b[1;31mNameError\u001b[0m                                 Traceback (most recent call last)",
      "\u001b[1;32m<ipython-input-32-5f4765ee5b95>\u001b[0m in \u001b[0;36m<module>\u001b[1;34m\u001b[0m\n\u001b[1;32m----> 1\u001b[1;33m \u001b[0m审查\u001b[0m\u001b[1;33m\u001b[0m\u001b[1;33m\u001b[0m\u001b[0m\n\u001b[0m",
      "\u001b[1;31mNameError\u001b[0m: name '审查' is not defined"
     ]
    }
   ],
   "source": [
    "审查"
   ]
  },
  {
   "cell_type": "markdown",
   "execution_count": null,
   "metadata": {},
   "outputs": [],
   "source": [
    "14.1 Partial dependence plots"
   ]
  },
  {
   "cell_type": "markdown",
   "execution_count": null,
   "metadata": {},
   "outputs": [],
   "source": [
    "部分依赖图（PDP）显示目标响应与一组“目标”功能之间的依赖关系，在所有其他功能（“互补”功能）的值上处于边际位置。（相当于多元回归中的回归系数） 直观地讲，我们可以将部分依赖关系解释为响应变量与因变量的函数。\n",
    "\n",
    "sklearn.inspection模块提供了函数plot_partial_dependence来创建 one-way和two-way部分依赖图。"
   ]
  },
  {
   "cell_type": "markdown",
   "execution_count": 29,
   "metadata": {},
   "outputs": [
    {
     "ename": "SyntaxError",
     "evalue": "invalid syntax (<ipython-input-29-2f203f0daf85>, line 1)",
     "output_type": "error",
     "traceback": [
      "\u001b[1;36m  File \u001b[1;32m\"<ipython-input-29-2f203f0daf85>\"\u001b[1;36m, line \u001b[1;32m1\u001b[0m\n\u001b[1;33m    14.2 Permutation feature importance\u001b[0m\n\u001b[1;37m                   ^\u001b[0m\n\u001b[1;31mSyntaxError\u001b[0m\u001b[1;31m:\u001b[0m invalid syntax\n"
     ]
    }
   ],
   "source": [
    "14.2 Permutation feature importance(排列特征的重要性)"
   ]
  },
  {
   "cell_type": "markdown",
   "execution_count": null,
   "metadata": {},
   "outputs": [],
   "source": [
    "排列特征的重要性定义为当随机改变单个特征值时模型得分的降低。这对于非线性或不透明的估计量特别有用。该技术得益于模型不可知性，可以根据特征的不同排列多次计算。permutation_importance 函数能够计算特征重要性。"
   ]
  },
  {
   "cell_type": "markdown",
   "execution_count": null,
   "metadata": {},
   "outputs": [],
   "source": [
    "14.3 可视化：Scikit-learn为机器学习可视化定义了API，API的特征就是作图快速，可视化调整不用重新计算。"
   ]
  },
  {
   "cell_type": "markdown",
   "execution_count": null,
   "metadata": {},
   "outputs": [],
   "source": [
    "roc_curve是在选取不同的SCORE,计算对应的sensitivity和specificity\n",
    "\n",
    "sensitivity表示正确预测的正例数在实际正例中的比例\n",
    "\n",
    "specificity表示正确预测的负例数在实际负例数中的比例。"
   ]
  },
  {
   "cell_type": "code",
   "execution_count": 38,
   "metadata": {},
   "outputs": [],
   "source": [
    "from sklearn.model_selection import train_test_split\n",
    "from sklearn.svm import SVC\n",
    "from sklearn.metrics import plot_roc_curve\n",
    "from sklearn.datasets import load_wine"
   ]
  },
  {
   "cell_type": "code",
   "execution_count": 39,
   "metadata": {},
   "outputs": [],
   "source": [
    "X,y=load_wine(return_X_y=True)\n",
    "y=y==2"
   ]
  },
  {
   "cell_type": "code",
   "execution_count": 40,
   "metadata": {},
   "outputs": [
    {
     "data": {
      "image/png": "[encoded data removed]",
      "text/plain": "<Figure size 432x288 with 1 Axes>"
     },
     "metadata": {
      "needs_background": "light"
     },
     "output_type": "display_data"
    }
   ],
   "source": [
    "X_train, X_test, y_train, y_test = train_test_split(X, y,random_state=42)\n",
    "svc=SVC(random_state=42)\n",
    "svc.fit(X_train,y_train)\n",
    "svc_disp=plot_roc_curve(svc,X_test,y_test)"
   ]
  },
  {
   "cell_type": "code",
   "execution_count": 41,
   "metadata": {},
   "outputs": [
    {
     "data": {
      "image/png": "[encoded data removed]",
      "text/plain": "<Figure size 432x288 with 1 Axes>"
     },
     "metadata": {
      "needs_background": "light"
     },
     "output_type": "display_data"
    }
   ],
   "source": [
    "import matplotlib.pyplot as plt\n",
    "from sklearn.ensemble import RandomForestClassifier\n",
    "rfc=RandomForestClassifier(random_state=42)\n",
    "rfc.fit(X_train,y_train)\n",
    "ax=plt.gca()#给出当前fifure的matplot.axes.AXES实例\n",
    "rfc_disp=plot_roc_curve(rfc,X_test,y_test,ax=ax,alpha=0.8)#若ax=none，则会自动create figure and axes"
   ]
  },
  {
   "cell_type": "markdown",
   "execution_count": null,
   "metadata": {},
   "outputs": [],
   "source": [
    "15. 数据集转换"
   ]
  },
  {
   "cell_type": "markdown",
   "execution_count": null,
   "metadata": {},
   "outputs": [],
   "source": [
    "scikit-learn提供了一个转换器库，可以清理（请参见预处理数据），缩小（请参见无监督的降维），展开（请参见内核近似）或生成（请参见特征提取）特征表示。\n",
    "\n",
    "它同estimator一样，有fit方法，从训练集中learn模型参数，并且用transform方法将模型应用到unseen data\n",
    "\n",
    "transformer通常与classifiers、regressor或其他的估计器结合在一起组成composite estimator"
   ]
  },
  {
   "cell_type": "markdown",
   "execution_count": null,
   "metadata": {},
   "outputs": [],
   "source": [
    "15.1 piplines and composite estimators"
   ]
  },
  {
   "cell_type": "markdown",
   "execution_count": null,
   "metadata": {},
   "outputs": [],
   "source": [
    "pipline是最常见的组合估计器。\n",
    "\n",
    "pipline通常与FeatureUnion结合使用，FeatureUnion将transformer的输出连接到一个复合特征空间中。\n",
    "\n",
    "TransformedTargetRegressor转换target\n",
    "\n",
    "piplines仅转换observed data,即X\n",
    "\n",
    "piplines能够融合多个estimators，对于有固定步骤处理数据的情况（例如特征选择、正则化和分类）是非常有用的。\n",
    "\n",
    "piplines中的estimators,除了最后一个，必须是transformers即有transform方法，最后一个不受限制，可以是transforms，也可以是classifier等。\n",
    "\n",
    "pipline的方法和最后一个estimator的方法一样，如果最后一个estimator是classifier，则pipline can be uesd as a classifier\n",
    "\n",
    "pipline能够对estimator的所有参数进行一次性网格搜索；并且能够确保使用相同的数据训练transformer和predictors"
   ]
  },
  {
   "cell_type": "markdown",
   "execution_count": null,
   "metadata": {},
   "outputs": [],
   "source": [
    "15.1.1 管道构建例子——使用一个(key,value)的list或者make_pipline"
   ]
  },
  {
   "cell_type": "code",
   "execution_count": 42,
   "metadata": {},
   "outputs": [
    {
     "data": {
      "text/plain": "Pipeline(memory=None,\n         steps=[('reduce_dim',\n                 PCA(copy=True, iterated_power='auto', n_components=None,\n                     random_state=None, svd_solver='auto', tol=0.0,\n                     whiten=False)),\n                ('clf',\n                 SVC(C=1.0, break_ties=False, cache_size=200, class_weight=None,\n                     coef0=0.0, decision_function_shape='ovr', degree=3,\n                     gamma='scale', kernel='rbf', max_iter=-1,\n                     probability=False, random_state=None, shrinking=True,\n                     tol=0.001, verbose=False))],\n         verbose=False)"
     },
     "execution_count": 42,
     "metadata": {},
     "output_type": "execute_result"
    }
   ],
   "source": [
    "from sklearn.pipeline import Pipeline\n",
    "from sklearn.svm import SVC\n",
    "from sklearn.decomposition import PCA#主成分分析\n",
    "estimators=[('reduce_dim',PCA()),('clf',SVC())]\n",
    "pipe=Pipeline(estimators)\n",
    "pipe"
   ]
  },
  {
   "cell_type": "code",
   "execution_count": 43,
   "metadata": {},
   "outputs": [
    {
     "data": {
      "text/plain": "Pipeline(memory=None,\n         steps=[('binarizer', Binarizer(copy=True, threshold=0.0)),\n                ('multinomialnb',\n                 MultinomialNB(alpha=1.0, class_prior=None, fit_prior=True))],\n         verbose=False)"
     },
     "execution_count": 43,
     "metadata": {},
     "output_type": "execute_result"
    }
   ],
   "source": [
    "from sklearn.pipeline import make_pipeline\n",
    "from sklearn.naive_bayes import MultinomialNB\n",
    "from sklearn.preprocessing import Binarizer\n",
    "make_pipeline(Binarizer(),MultinomialNB())"
   ]
  },
  {
   "cell_type": "markdown",
   "execution_count": null,
   "metadata": {},
   "outputs": [],
   "source": [
    "15.1.2 pipe是list,可以通过index或name访问,或用切片方法\n",
    "pipe中参数设置方法"
   ]
  },
  {
   "cell_type": "code",
   "execution_count": 44,
   "metadata": {},
   "outputs": [
    {
     "data": {
      "text/plain": "Pipeline(memory=None,\n         steps=[('reduce_dim',\n                 PCA(copy=True, iterated_power='auto', n_components=None,\n                     random_state=None, svd_solver='auto', tol=0.0,\n                     whiten=False)),\n                ('clf',\n                 SVC(C=10, break_ties=False, cache_size=200, class_weight=None,\n                     coef0=0.0, decision_function_shape='ovr', degree=3,\n                     gamma='scale', kernel='rbf', max_iter=-1,\n                     probability=False, random_state=None, shrinking=True,\n                     tol=0.001, verbose=False))],\n         verbose=False)"
     },
     "execution_count": 44,
     "metadata": {},
     "output_type": "execute_result"
    }
   ],
   "source": [
    "pipe[0]\n",
    "pipe['reduce_dim']\n",
    "pipe[:1]\n",
    "pipe[-1:]\n",
    "#pipe中参数设置方法：<estimator>__<parameter>\n",
    "pipe.set_params(clf__C=10)"
   ]
  },
  {
   "cell_type": "code",
   "execution_count": 45,
   "metadata": {},
   "outputs": [],
   "source": [
    "from sklearn.model_selection import GridSearchCV\n",
    "param_grid=dict(reduce_dim__n_components=[2,5,10],clf__C=[0.1,10,100])\n",
    "grid_search=GridSearchCV(pipe,param_grid=param_grid)"
   ]
  },
  {
   "cell_type": "markdown",
   "execution_count": null,
   "metadata": {},
   "outputs": [],
   "source": [
    "15.1.3 缓存 transformers: 避免重复计算\n",
    "\n",
    "安装transformer可能在计算上很昂贵。 通过设置其memory参数集，Pipeline将在调用fit之后缓存每个转换器。\n",
    "\n",
    "此功能用于避免在参数和输入数据相同的情况下计算管道中的fit transfomers。\n",
    "\n",
    "一个典型示例是在网格搜索中，其中包含transformer只能被拟合一次，并可以重复用于每种配置。\n",
    "\n",
    "参数memory能缓存transformer,memory可以是包含字典的string或者是joblib.Memory对象"
   ]
  },
  {
   "cell_type": "code",
   "execution_count": 46,
   "metadata": {},
   "outputs": [
    {
     "data": {
      "text/plain": "Pipeline(memory='C:\\\\Users\\\\LENOVO\\\\AppData\\\\Local\\\\Temp\\\\tmpngi65my7',\n         steps=[('reduce_dim',\n                 PCA(copy=True, iterated_power='auto', n_components=None,\n                     random_state=None, svd_solver='auto', tol=0.0,\n                     whiten=False)),\n                ('clf',\n                 SVC(C=1.0, break_ties=False, cache_size=200, class_weight=None,\n                     coef0=0.0, decision_function_shape='ovr', degree=3,\n                     gamma='scale', kernel='rbf', max_iter=-1,\n                     probability=False, random_state=None, shrinking=True,\n                     tol=0.001, verbose=False))],\n         verbose=False)"
     },
     "execution_count": 46,
     "metadata": {},
     "output_type": "execute_result"
    }
   ],
   "source": [
    "from tempfile import mkdtemp\n",
    "from shutil import rmtree\n",
    "from sklearn.decomposition import PCA\n",
    "from sklearn.svm import SVC\n",
    "from sklearn.pipeline import Pipeline\n",
    "estimators = [('reduce_dim', PCA()), ('clf', SVC())]\n",
    "cachedir=mkdtemp()\n",
    "pipe=Pipeline(estimators,memory=cachedir)\n",
    "pipe"
   ]
  },
  {
   "cell_type": "code",
   "execution_count": 47,
   "metadata": {},
   "outputs": [],
   "source": [
    "#Clear the cache directory when you don't need it anymore\n",
    "rmtree(cachedir)"
   ]
  },
  {
   "cell_type": "markdown",
   "execution_count": null,
   "metadata": {},
   "outputs": [],
   "source": [
    "15.1.4 在回归中转换target"
   ]
  },
  {
   "cell_type": "markdown",
   "execution_count": null,
   "metadata": {},
   "outputs": [],
   "source": [
    "compose.TransformedTargetRegressor在拟合模型之前将y转换；通过inverse transfrom 将预测值转换回original space;通过在回归预测中的一个arguement设置,就可实现以上回转的变换。"
   ]
  },
  {
   "cell_type": "code",
   "execution_count": 48,
   "metadata": {},
   "outputs": [],
   "source": [
    "import numpy as np\n",
    "from sklearn.datasets import load_boston\n",
    "from sklearn.compose import TransformedTargetRegressor\n",
    "from sklearn.preprocessing import QuantileTransformer\n",
    "from sklearn.linear_model import LinearRegression\n",
    "from sklearn.model_selection import train_test_split"
   ]
  },
  {
   "cell_type": "code",
   "execution_count": 49,
   "metadata": {},
   "outputs": [
    {
     "name": "stdout",
     "output_type": "stream",
     "text": "R2 score:0.67\nR2 score:0.635464\nC:\\Users\\LENOVO\\AppData\\Roaming\\Python\\Python37\\site-packages\\sklearn\\preprocessing\\_data.py:2357: UserWarning: n_quantiles (1000) is greater than the total number of samples (379). n_quantiles is set to n_samples.\n  % (self.n_quantiles, n_samples))\n"
    }
   ],
   "source": [
    "X,y=load_boston(return_X_y=True)\n",
    "transformer=QuantileTransformer(output_distribution='normal')\n",
    "regressor=LinearRegression()\n",
    "regr=TransformedTargetRegressor(regressor=regressor,transformer=transformer)\n",
    "X_train,X_test,y_train,y_test=train_test_split(X,y,random_state=0)\n",
    "regr.fit(X_train,y_train)\n",
    "print('R2 score:{0:.2f}'.format(regr.score(X_test,y_test)))\n",
    "raw_target_regr=LinearRegression().fit(X_train,y_train)\n",
    "print('R2 score:{0:2f}'.format(raw_target_regr.score(X_test,y_test)))"
   ]
  },
  {
   "cell_type": "markdown",
   "execution_count": null,
   "metadata": {},
   "outputs": [],
   "source": [
    "15.1.5 FeatureUnion:composite feature spaces"
   ]
  },
  {
   "cell_type": "markdown",
   "execution_count": null,
   "metadata": {},
   "outputs": [],
   "source": [
    "FeatureUnion：\n",
    "\n",
    "将几个transfromers结合在一起，在拟合模型时，每个transformer独立fiting,使用目的和pipline一样,并且FeatureUnion和Pipeline能够结合在一起组成更复杂的model\n",
    "\n",
    "用法：\n",
    "\n",
    "a list of(key,value),key是转换器name,value是estimator;也可以使用make_union构造。用set_params设置参数"
   ]
  },
  {
   "cell_type": "markdown",
   "execution_count": null,
   "metadata": {},
   "outputs": [],
   "source": [
    "15.1.6 对于异构数据的列转换--scikit-learn"
   ]
  },
  {
   "cell_type": "markdown",
   "execution_count": null,
   "metadata": {},
   "outputs": [],
   "source": [
    "对于不同的数据需要做不同的预处理。ColumnTransformer能够对数据的不同列做不同的transform。ColumnTransformer的作用对象是数组，稀疏矩阵以及pandas数据框。\n",
    "\n",
    "make_column_transformer函数能够创建一个ColumnTransformer对象，名字会自动给。\n",
    "\n",
    "\n"
   ]
  },
  {
   "cell_type": "code",
   "execution_count": 50,
   "metadata": {},
   "outputs": [
    {
     "name": "stdout",
     "output_type": "stream",
     "text": "[Pipeline] ....... (step 1 of 3) Processing subjectbody, total=   0.0s\n[Pipeline] ............. (step 2 of 3) Processing union, total=   0.5s\n[Pipeline] ............... (step 3 of 3) Processing svc, total=   0.0s\n              precision    recall  f1-score   support\n\n           0       0.78      0.71      0.74       319\n           1       0.67      0.74      0.70       251\n\n    accuracy                           0.72       570\n   macro avg       0.72      0.72      0.72       570\nweighted avg       0.73      0.72      0.72       570\n\n"
    }
   ],
   "source": [
    "import numpy as np\n",
    "from sklearn.base import BaseEstimator, TransformerMixin\n",
    "from sklearn.datasets import fetch_20newsgroups\n",
    "from sklearn.decomposition import TruncatedSVD\n",
    "from sklearn.feature_extraction import DictVectorizer\n",
    "from sklearn.feature_extraction.text import TfidfVectorizer\n",
    "from sklearn.metrics import classification_report\n",
    "from sklearn.pipeline import Pipeline\n",
    "from sklearn.compose import ColumnTransformer\n",
    "from sklearn.svm import LinearSVC\n",
    "\n",
    "\n",
    "class TextStats(TransformerMixin, BaseEstimator):\n",
    "    \"\"\"Extract features from each document for DictVectorizer\"\"\"\n",
    "\n",
    "    def fit(self, x, y=None):\n",
    "        return self\n",
    "\n",
    "    def transform(self, posts):\n",
    "        return [{'length': len(text),\n",
    "                 'num_sentences': text.count('.')}\n",
    "                for text in posts]\n",
    "\n",
    "\n",
    "class SubjectBodyExtractor(TransformerMixin, BaseEstimator):\n",
    "    \"\"\"Extract the subject & body from a usenet post in a single pass.\n",
    "\n",
    "    Takes a sequence of strings and produces a dict of sequences.  Keys are\n",
    "    `subject` and `body`.\n",
    "    \"\"\"\n",
    "    def fit(self, x, y=None):\n",
    "        return self\n",
    "\n",
    "    def transform(self, posts):\n",
    "        # construct object dtype array with two columns\n",
    "        # first column = 'subject' and second column = 'body'\n",
    "        features = np.empty(shape=(len(posts), 2), dtype=object)\n",
    "        for i, text in enumerate(posts):\n",
    "            headers, _, bod = text.partition('\\n\\n')\n",
    "            features[i, 1] = bod\n",
    "\n",
    "            prefix = 'Subject:'\n",
    "            sub = ''\n",
    "            for line in headers.split('\\n'):\n",
    "                if line.startswith(prefix):\n",
    "                    sub = line[len(prefix):]\n",
    "                    break\n",
    "            features[i, 0] = sub\n",
    "\n",
    "        return features\n",
    "\n",
    "\n",
    "pipeline = Pipeline([\n",
    "    # Extract the subject & body\n",
    "    ('subjectbody', SubjectBodyExtractor()),\n",
    "\n",
    "    # Use ColumnTransformer to combine the features from subject and body\n",
    "    ('union', ColumnTransformer(\n",
    "        [\n",
    "            # Pulling features from the post's subject line (first column)\n",
    "            ('subject', TfidfVectorizer(min_df=50), 0),\n",
    "\n",
    "            # Pipeline for standard bag-of-words model for body (second column)\n",
    "            ('body_bow', Pipeline([\n",
    "                ('tfidf', TfidfVectorizer()),\n",
    "                ('best', TruncatedSVD(n_components=50)),\n",
    "            ]), 1),\n",
    "\n",
    "            # Pipeline for pulling ad hoc features from post's body\n",
    "            ('body_stats', Pipeline([\n",
    "                ('stats', TextStats()),  # returns a list of dicts\n",
    "                ('vect', DictVectorizer()),  # list of dicts -> feature matrix\n",
    "            ]), 1),\n",
    "        ],\n",
    "\n",
    "        # weight components in ColumnTransformer\n",
    "        transformer_weights={\n",
    "            'subject': 0.8,\n",
    "            'body_bow': 0.5,\n",
    "            'body_stats': 1.0,\n",
    "        }\n",
    "    )),\n",
    "\n",
    "    # Use a SVC classifier on the combined features\n",
    "    ('svc', LinearSVC(dual=False)),\n",
    "], verbose=True)\n",
    "\n",
    "# limit the list of categories to make running this example faster.\n",
    "categories = ['alt.atheism', 'talk.religion.misc']\n",
    "X_train, y_train = fetch_20newsgroups(random_state=1,\n",
    "                                      subset='train',\n",
    "                                      categories=categories,\n",
    "                                      remove=('footers', 'quotes'),\n",
    "                                      return_X_y=True)\n",
    "X_test, y_test = fetch_20newsgroups(random_state=1,\n",
    "                                    subset='test',\n",
    "                                    categories=categories,\n",
    "                                    remove=('footers', 'quotes'),\n",
    "                                    return_X_y=True)\n",
    "\n",
    "pipeline.fit(X_train, y_train)\n",
    "y_pred = pipeline.predict(X_test)\n",
    "print(classification_report(y_test, y_pred))"
   ]
  },
  {
   "cell_type": "markdown",
   "execution_count": null,
   "metadata": {},
   "outputs": [],
   "source": [
    "Column Transformer with Mixed Types"
   ]
  },
  {
   "cell_type": "code",
   "execution_count": 51,
   "metadata": {},
   "outputs": [
    {
     "name": "stdout",
     "output_type": "stream",
     "text": "model score: 0.790\n"
    }
   ],
   "source": [
    "import numpy as np\n",
    "from sklearn.compose import ColumnTransformer\n",
    "from sklearn.datasets import fetch_openml\n",
    "from sklearn.pipeline import Pipeline\n",
    "from sklearn.impute import SimpleImputer\n",
    "#sklearn.impute.SimpleImputer是缺失值插补函数\n",
    "from sklearn.preprocessing import StandardScaler, OneHotEncoder\n",
    "from sklearn.linear_model import LogisticRegression\n",
    "from sklearn.model_selection import train_test_split, GridSearchCV\n",
    "\n",
    "np.random.seed(0)\n",
    "\n",
    "# Load data from https://www.openml.org/d/40945\n",
    "X, y = fetch_openml(\"titanic\", version=1, as_frame=True, return_X_y=True)\n",
    "\n",
    "# Alternatively X and y can be obtained directly from the frame attribute:\n",
    "# X = titanic.frame.drop('survived', axis=1)\n",
    "# y = titanic.frame['survived']\n",
    "\n",
    "# We will train our classifier with the following features:\n",
    "# Numeric Features:\n",
    "# - age: float.\n",
    "# - fare: float.\n",
    "# Categorical Features:\n",
    "# - embarked: categories encoded as strings {'C', 'S', 'Q'}.\n",
    "# - sex: categories encoded as strings {'female', 'male'}.\n",
    "# - pclass: ordinal integers {1, 2, 3}.\n",
    "\n",
    "# We create the preprocessing pipelines for both numeric and categorical data.\n",
    "numeric_features = ['age', 'fare']\n",
    "numeric_transformer = Pipeline(steps=[\n",
    "    ('imputer', SimpleImputer(strategy='median')),\n",
    "    ('scaler', StandardScaler())])\n",
    "#X.isnull().sum()发现有大量缺失值，用中位数补全缺失值\n",
    "categorical_features = ['embarked', 'sex', 'pclass']\n",
    "categorical_transformer = Pipeline(steps=[\n",
    "    ('imputer', SimpleImputer(strategy='constant', fill_value='missing')),\n",
    "    ('onehot', OneHotEncoder(handle_unknown='ignore'))])\n",
    "#表示分类变量中的缺失值全部用missing替代，而在独热化处理时，将missing也看作一类.handle_unknown表示在转换时若遇到未知分类，，将其全部编码为0\n",
    "preprocessor = ColumnTransformer(\n",
    "    transformers=[\n",
    "        ('num', numeric_transformer, numeric_features),\n",
    "        ('cat', categorical_transformer, categorical_features)])\n",
    "\n",
    "# Append classifier to preprocessing pipeline.\n",
    "# Now we have a full prediction pipeline.\n",
    "clf = Pipeline(steps=[('preprocessor', preprocessor),\n",
    "                      ('classifier', LogisticRegression())])\n",
    "\n",
    "X_train, X_test, y_train, y_test = train_test_split(X, y, test_size=0.2)\n",
    "\n",
    "clf.fit(X_train, y_train)\n",
    "print(\"model score: %.3f\" % clf.score(X_test, y_test))"
   ]
  },
  {
   "cell_type": "code",
   "execution_count": 52,
   "metadata": {},
   "outputs": [
    {
     "data": {
      "text/plain": "2"
     },
     "execution_count": 52,
     "metadata": {},
     "output_type": "execute_result"
    }
   ],
   "source": [
    "import pandas as pd\n",
    "\n",
    "X.iloc[284,:]\n",
    "E=X.loc[:,['embarked']].values\n",
    "value=pd.DataFrame(categorical_transformer.fit_transform(E).toarray())\n",
    "(value.iloc[:,3])[value.iloc[:,3]==1]\n",
    "imputer=SimpleImputer(strategy='constant', fill_value='missing')\n",
    "E=pd.DataFrame(imputer.fit_transform(E))\n",
    "E[0].value_counts()#一维序列才有value_counts()方法\n",
    "type(E[0])\n",
    "E[0].shape\n",
    "(value.iloc[:,3]==1).sum()\n"
   ]
  },
  {
   "cell_type": "code",
   "execution_count": 53,
   "metadata": {},
   "outputs": [
    {
     "data": {
      "text/plain": "array([[0., 1., 1., 0., 0.],\n       [1., 0., 0., 0., 1.],\n       [1., 0., 0., 1., 0.]])"
     },
     "execution_count": 53,
     "metadata": {},
     "output_type": "execute_result"
    }
   ],
   "source": [
    "#E=X.loc[:,['embarked']].values\n",
    "onehot=OneHotEncoder(handle_unknown='ignore')\n",
    "#value=onehot.fit_transform(E).toarray()\n",
    "X = [['Male', 1], ['Female', 3], ['Female', 2]]\n",
    "onehot.fit(X)\n",
    "onehot.categories_\n",
    "onehot.transform(X).toarray()"
   ]
  },
  {
   "cell_type": "markdown",
   "execution_count": 67,
   "metadata": {},
   "outputs": [
    {
     "name": "stdout",
     "output_type": "stream",
     "text": "Help on class OneHotEncoder in module sklearn.preprocessing._encoders:\n\nclass OneHotEncoder(_BaseEncoder)\n |  OneHotEncoder(categories='auto', drop=None, sparse=True, dtype=<class 'numpy.float64'>, handle_unknown='error')\n |  \n |  Encode categorical features as a one-hot numeric array.\n |  \n |  The input to this transformer should be an array-like of integers or\n |  strings, denoting the values taken on by categorical (discrete) features.\n |  The features are encoded using a one-hot (aka 'one-of-K' or 'dummy')\n |  encoding scheme. This creates a binary column for each category and\n |  returns a sparse matrix or dense array (depending on the ``sparse``\n |  parameter)\n |  \n |  By default, the encoder derives the categories based on the unique values\n |  in each feature. Alternatively, you can also specify the `categories`\n |  manually.\n |  \n |  This encoding is needed for feeding categorical data to many scikit-learn\n |  estimators, notably linear models and SVMs with the standard kernels.\n |  \n |  Note: a one-hot encoding of y labels should use a LabelBinarizer\n |  instead.\n |  \n |  Read more in the :ref:`User Guide <preprocessing_categorical_features>`.\n |  \n |  .. versionchanged:: 0.20\n |  \n |  Parameters\n |  ----------\n |  categories : 'auto' or a list of array-like, default='auto'\n |      Categories (unique values) per feature:\n |  \n |      - 'auto' : Determine categories automatically from the training data.\n |      - list : ``categories[i]`` holds the categories expected in the ith\n |        column. The passed categories should not mix strings and numeric\n |        values within a single feature, and should be sorted in case of\n |        numeric values.\n |  \n |      The used categories can be found in the ``categories_`` attribute.\n |  \n |  drop : 'first' or a array-like of shape (n_features,), default=None\n |      Specifies a methodology to use to drop one of the categories per\n |      feature. This is useful in situations where perfectly collinear\n |      features cause problems, such as when feeding the resulting data\n |      into a neural network or an unregularized regression.\n |  \n |      - None : retain all features (the default).\n |      - 'first' : drop the first category in each feature. If only one\n |        category is present, the feature will be dropped entirely.\n |      - array : ``drop[i]`` is the category in feature ``X[:, i]`` that\n |        should be dropped.\n |  \n |  sparse : bool, default=True\n |      Will return sparse matrix if set True else will return an array.\n |  \n |  dtype : number type, default=np.float\n |      Desired dtype of output.\n |  \n |  handle_unknown : {'error', 'ignore'}, default='error'\n |      Whether to raise an error or ignore if an unknown categorical feature\n |      is present during transform (default is to raise). When this parameter\n |      is set to 'ignore' and an unknown category is encountered during\n |      transform, the resulting one-hot encoded columns for this feature\n |      will be all zeros. In the inverse transform, an unknown category\n |      will be denoted as None.\n |  \n |  Attributes\n |  ----------\n |  categories_ : list of arrays\n |      The categories of each feature determined during fitting\n |      (in order of the features in X and corresponding with the output\n |      of ``transform``). This includes the category specified in ``drop``\n |      (if any).\n |  \n |  drop_idx_ : array of shape (n_features,)\n |      ``drop_idx_[i]`` is the index in ``categories_[i]`` of the category to\n |      be dropped for each feature. None if all the transformed features will\n |      be retained.\n |  \n |  See Also\n |  --------\n |  sklearn.preprocessing.OrdinalEncoder : Performs an ordinal (integer)\n |    encoding of the categorical features.\n |  sklearn.feature_extraction.DictVectorizer : Performs a one-hot encoding of\n |    dictionary items (also handles string-valued features).\n |  sklearn.feature_extraction.FeatureHasher : Performs an approximate one-hot\n |    encoding of dictionary items or strings.\n |  sklearn.preprocessing.LabelBinarizer : Binarizes labels in a one-vs-all\n |    fashion.\n |  sklearn.preprocessing.MultiLabelBinarizer : Transforms between iterable of\n |    iterables and a multilabel format, e.g. a (samples x classes) binary\n |    matrix indicating the presence of a class label.\n |  \n |  Examples\n |  --------\n |  Given a dataset with two features, we let the encoder find the unique\n |  values per feature and transform the data to a binary one-hot encoding.\n |  \n |  >>> from sklearn.preprocessing import OneHotEncoder\n |  >>> enc = OneHotEncoder(handle_unknown='ignore')\n |  >>> X = [['Male', 1], ['Female', 3], ['Female', 2]]\n |  >>> enc.fit(X)\n |  OneHotEncoder(handle_unknown='ignore')\n |  >>> enc.categories_\n |  [array(['Female', 'Male'], dtype=object), array([1, 2, 3], dtype=object)]\n |  >>> enc.transform([['Female', 1], ['Male', 4]]).toarray()\n |  array([[1., 0., 1., 0., 0.],\n |         [0., 1., 0., 0., 0.]])\n |  >>> enc.inverse_transform([[0, 1, 1, 0, 0], [0, 0, 0, 1, 0]])\n |  array([['Male', 1],\n |         [None, 2]], dtype=object)\n |  >>> enc.get_feature_names(['gender', 'group'])\n |  array(['gender_Female', 'gender_Male', 'group_1', 'group_2', 'group_3'],\n |    dtype=object)\n |  >>> drop_enc = OneHotEncoder(drop='first').fit(X)\n |  >>> drop_enc.categories_\n |  [array(['Female', 'Male'], dtype=object), array([1, 2, 3], dtype=object)]\n |  >>> drop_enc.transform([['Female', 1], ['Male', 2]]).toarray()\n |  array([[0., 0., 0.],\n |         [1., 1., 0.]])\n |  \n |  Method resolution order:\n |      OneHotEncoder\n |      _BaseEncoder\n |      sklearn.base.TransformerMixin\n |      sklearn.base.BaseEstimator\n |      builtins.object\n |  \n |  Methods defined here:\n |  \n |  __init__(self, categories='auto', drop=None, sparse=True, dtype=<class 'numpy.float64'>, handle_unknown='error')\n |      Initialize self.  See help(type(self)) for accurate signature.\n |  \n |  fit(self, X, y=None)\n |      Fit OneHotEncoder to X.\n |      \n |      Parameters\n |      ----------\n |      X : array-like, shape [n_samples, n_features]\n |          The data to determine the categories of each feature.\n |      \n |      y : None\n |          Ignored. This parameter exists only for compatibility with\n |          :class:`sklearn.pipeline.Pipeline`.\n |      \n |      Returns\n |      -------\n |      self\n |  \n |  fit_transform(self, X, y=None)\n |      Fit OneHotEncoder to X, then transform X.\n |      \n |      Equivalent to fit(X).transform(X) but more convenient.\n |      \n |      Parameters\n |      ----------\n |      X : array-like, shape [n_samples, n_features]\n |          The data to encode.\n |      \n |      y : None\n |          Ignored. This parameter exists only for compatibility with\n |          :class:`sklearn.pipeline.Pipeline`.\n |      \n |      Returns\n |      -------\n |      X_out : sparse matrix if sparse=True else a 2-d array\n |          Transformed input.\n |  \n |  get_feature_names(self, input_features=None)\n |      Return feature names for output features.\n |      \n |      Parameters\n |      ----------\n |      input_features : list of str of shape (n_features,)\n |          String names for input features if available. By default,\n |          \"x0\", \"x1\", ... \"xn_features\" is used.\n |      \n |      Returns\n |      -------\n |      output_feature_names : ndarray of shape (n_output_features,)\n |          Array of feature names.\n |  \n |  inverse_transform(self, X)\n |      Convert the data back to the original representation.\n |      \n |      In case unknown categories are encountered (all zeros in the\n |      one-hot encoding), ``None`` is used to represent this category.\n |      \n |      Parameters\n |      ----------\n |      X : array-like or sparse matrix, shape [n_samples, n_encoded_features]\n |          The transformed data.\n |      \n |      Returns\n |      -------\n |      X_tr : array-like, shape [n_samples, n_features]\n |          Inverse transformed array.\n |  \n |  transform(self, X)\n |      Transform X using one-hot encoding.\n |      \n |      Parameters\n |      ----------\n |      X : array-like, shape [n_samples, n_features]\n |          The data to encode.\n |      \n |      Returns\n |      -------\n |      X_out : sparse matrix if sparse=True else a 2-d array\n |          Transformed input.\n |  \n |  ----------------------------------------------------------------------\n |  Data descriptors inherited from sklearn.base.TransformerMixin:\n |  \n |  __dict__\n |      dictionary for instance variables (if defined)\n |  \n |  __weakref__\n |      list of weak references to the object (if defined)\n |  \n |  ----------------------------------------------------------------------\n |  Methods inherited from sklearn.base.BaseEstimator:\n |  \n |  __getstate__(self)\n |  \n |  __repr__(self, N_CHAR_MAX=700)\n |      Return repr(self).\n |  \n |  __setstate__(self, state)\n |  \n |  get_params(self, deep=True)\n |      Get parameters for this estimator.\n |      \n |      Parameters\n |      ----------\n |      deep : bool, default=True\n |          If True, will return the parameters for this estimator and\n |          contained subobjects that are estimators.\n |      \n |      Returns\n |      -------\n |      params : mapping of string to any\n |          Parameter names mapped to their values.\n |  \n |  set_params(self, **params)\n |      Set the parameters of this estimator.\n |      \n |      The method works on simple estimators as well as on nested objects\n |      (such as pipelines). The latter have parameters of the form\n |      ``<component>__<parameter>`` so that it's possible to update each\n |      component of a nested object.\n |      \n |      Parameters\n |      ----------\n |      **params : dict\n |          Estimator parameters.\n |      \n |      Returns\n |      -------\n |      self : object\n |          Estimator instance.\n\n"
    }
   ],
   "source": [
    "15.2 特征提取\n",
    "\n",
    "特征提取与特征选择有很大不同：前者是将文本或图像等任意数据转换为可用于机器学习的数值特征。后者是应用于这些特征的机器学习技术"
   ]
  },
  {
   "cell_type": "markdown",
   "execution_count": null,
   "metadata": {},
   "outputs": [],
   "source": [
    "15.2.1 loading 特征 from dicts"
   ]
  },
  {
   "cell_type": "markdown",
   "execution_count": null,
   "metadata": {},
   "outputs": [],
   "source": [
    "DictVectorizer类可用于将表示为标准Python dict对象 列表的要素数组转换为scikit-learn估计器使用的NumPy / SciPy表示形式。\n",
    "\n",
    "当对处理速度无要求时，dict使用起来更方便\n",
    "\n",
    "DictVectorizer为分类（又称名义，离散）特征实现所谓的one-of-k编码或“one-hot”编码。\n",
    "\n",
    "分类特征是“属性-值”对，其中值被限制在可能性的离散列表中而无须排序 （例如主题标识符，对象类型，标签，名称...）"
   ]
  },
  {
   "cell_type": "code",
   "execution_count": 54,
   "metadata": {},
   "outputs": [
    {
     "name": "stdout",
     "output_type": "stream",
     "text": "[[ 1.  0.  0. 33.]\n [ 0.  1.  0. 12.]\n [ 0.  0.  1. 18.]]\n['city=Dubai', 'city=London', 'city=San Francisco', 'temperature']\n"
    }
   ],
   "source": [
    "measurements=[{'city':'Dubai','temperature':33},{'city':'London','temperature':12},{'city':'San Francisco','temperature':18}]\n",
    "\n",
    "from sklearn.feature_extraction import DictVectorizer\n",
    "vec=DictVectorizer()\n",
    "print(vec.fit_transform(measurements).toarray())\n",
    "#DictVectorizer为分类（又称名义，离散）特征实现“one-hot”编码。\n",
    "print(vec.get_feature_names())"
   ]
  },
  {
   "cell_type": "markdown",
   "execution_count": null,
   "metadata": {},
   "outputs": [],
   "source": [
    "15.2.2 text feature extraction"
   ]
  },
  {
   "cell_type": "markdown",
   "execution_count": null,
   "metadata": {},
   "outputs": [],
   "source": [
    "在数学中，bag(mset）是对集合概念的修改，与集合不同的是，集合的每个元素都可以有多个实例。 为每个元素提供的实例的个数称为该元素在多重集中的多重性"
   ]
  },
  {
   "cell_type": "markdown",
   "execution_count": null,
   "metadata": {},
   "outputs": [],
   "source": [
    "停用词是指诸如“和”，“该”，“他”之类的词，它们被认为在表示文本内容方面没有提供任何信息，可以将其删除以避免将其理解为预测的信号。 2然而，有时候，类似的单词对于预测很有用，例如在对写作风格或性格进行分类时。 3注意选择停用词列表。 流行的停用词列表可能包含对某些任务（例如计算机）具有高度信息意义的词。 4您还应确保对停用词列表进行的预处理和标记化与在矢量化程序中使用的预处理和标记化相同。"
   ]
  },
  {
   "cell_type": "markdown",
   "execution_count": null,
   "metadata": {},
   "outputs": [],
   "source": [
    "15.2.3 image feature extraction"
   ]
  },
  {
   "cell_type": "markdown",
   "execution_count": null,
   "metadata": {},
   "outputs": [],
   "source": [
    "15.3 Preprocessing data"
   ]
  },
  {
   "cell_type": "markdown",
   "execution_count": null,
   "metadata": {},
   "outputs": [],
   "source": [
    "将数据转换为适用于模型构建的形式。并且如果数据集有异常值，robust scalers或者transformers会更合适。"
   ]
  },
  {
   "cell_type": "markdown",
   "execution_count": null,
   "metadata": {},
   "outputs": [],
   "source": []
  }
 ]
}