{
 "nbformat": 4,
 "nbformat_minor": 2,
 "metadata": {
  "language_info": {
   "name": "python",
   "codemirror_mode": {
    "name": "ipython",
    "version": 3
   },
   "version": "3.7.4-final"
  },
  "orig_nbformat": 2,
  "file_extension": ".py",
  "mimetype": "text/x-python",
  "name": "python",
  "npconvert_exporter": "python",
  "pygments_lexer": "ipython3",
  "version": 3,
  "kernelspec": {
   "name": "python37464bitbaseconda3df29ff903a341c5b9c6ef563db3b6d5",
   "display_name": "Python 3.7.4 64-bit ('base': conda)"
  }
 },
 "cells": [
  {
   "cell_type": "markdown",
   "execution_count": null,
   "metadata": {},
   "outputs": [],
   "source": [
    "1.关于数据集"
   ]
  },
  {
   "cell_type": "code",
   "execution_count": 1,
   "metadata": {},
   "outputs": [
    {
     "name": "stdout",
     "output_type": "stream",
     "text": "[[ 0.  0.  5. ...  0.  0.  0.]\n [ 0.  0.  0. ... 10.  0.  0.]\n [ 0.  0.  0. ... 16.  9.  0.]\n ...\n [ 0.  0.  1. ...  6.  0.  0.]\n [ 0.  0.  2. ... 12.  0.  0.]\n [ 0.  0. 10. ... 12.  1.  0.]]\n"
    },
    {
     "data": {
      "text/plain": "array([[ 0.,  0.,  5., 13.,  9.,  1.,  0.,  0.],\n       [ 0.,  0., 13., 15., 10., 15.,  5.,  0.],\n       [ 0.,  3., 15.,  2.,  0., 11.,  8.,  0.],\n       [ 0.,  4., 12.,  0.,  0.,  8.,  8.,  0.],\n       [ 0.,  5.,  8.,  0.,  0.,  9.,  8.,  0.],\n       [ 0.,  4., 11.,  0.,  1., 12.,  7.,  0.],\n       [ 0.,  2., 14.,  5., 10., 12.,  0.,  0.],\n       [ 0.,  0.,  6., 13., 10.,  0.,  0.,  0.]])"
     },
     "execution_count": 1,
     "metadata": {},
     "output_type": "execute_result"
    }
   ],
   "source": [
    "from sklearn import datasets\n",
    "iris=datasets.load_iris()\n",
    "digits=datasets.load_digits()\n",
    "print(digits.data)#获得数据的自变量\n",
    "digits.target#获得数组型响应变量\n",
    "digits.images[0]#对应着data中的数据，每一个元素都是8*8的二维数组，其元素代表的是灰度值。"
   ]
  },
  {
   "cell_type": "markdown",
   "execution_count": null,
   "metadata": {},
   "outputs": [],
   "source": [
    "sklearn 有自带的数据集，类似与字典"
   ]
  },
  {
   "cell_type": "code",
   "execution_count": 2,
   "metadata": {},
   "outputs": [
    {
     "data": {
      "text/plain": "<Figure size 300x300 with 1 Axes>"
     },
     "metadata": {},
     "output_type": "display_data"
    }
   ],
   "source": [
    "import matplotlib.pyplot as plt\n",
    "plt.figure(1,figsize=(3,3))\n",
    "plt.imshow(digits.images[-1],cmap=plt.cm.gray_r,interpolation='nearest')\n",
    "plt.show()"
   ]
  },
  {
   "cell_type": "code",
   "execution_count": 3,
   "metadata": {},
   "outputs": [],
   "source": [
    "digits.images.shape\n",
    "data=digits.images.reshape((digits.images.shape[0],-1))#1797,64"
   ]
  },
  {
   "cell_type": "markdown",
   "execution_count": null,
   "metadata": {},
   "outputs": [],
   "source": [
    "当实例化估计器时，可以直接设置参数：estimator = Estimator(param1=1, param2=2)；\n",
    "\n",
    "也可以以修改的方式进行：estimator.param1\n",
    "\n",
    "当数据配有估计器时，参数将根据数据进行估计。 所有估计的参数都是估计对象的属性，以下划线结尾.\n",
    "'estimator.estimated\\_param\\_'"
   ]
  },
  {
   "cell_type": "markdown",
   "execution_count": null,
   "metadata": {},
   "outputs": [],
   "source": [
    "2.关于估计器"
   ]
  },
  {
   "cell_type": "code",
   "execution_count": 4,
   "metadata": {},
   "outputs": [
    {
     "data": {
      "text/plain": "array([8])"
     },
     "execution_count": 4,
     "metadata": {},
     "output_type": "execute_result"
    }
   ],
   "source": [
    "from sklearn import svm\n",
    "clf=svm.SVC(gamma=0.001,C=100.)#svm.SVM选择估计器\n",
    "clf.fit(digits.data[:-1],digits.target[:-1])\n",
    "clf.predict(digits.data[-1:])"
   ]
  },
  {
   "cell_type": "markdown",
   "execution_count": null,
   "metadata": {},
   "outputs": [],
   "source": [
    "3.交叉验证通过score选择最优参数"
   ]
  },
  {
   "cell_type": "markdown",
   "execution_count": null,
   "metadata": {},
   "outputs": [],
   "source": [
    "给定一个估算器，交叉验证对象和输入数据集，cross_val_score将数据重复拆分为一个训练和一个测试集，使用该训练集训练该估算器，并根据测试集计算每次迭代的得分。"
   ]
  },
  {
   "cell_type": "markdown",
   "execution_count": null,
   "metadata": {},
   "outputs": [],
   "source": [
    "3.1 cross-validated metrics"
   ]
  },
  {
   "cell_type": "code",
   "execution_count": 5,
   "metadata": {},
   "outputs": [
    {
     "data": {
      "text/plain": "(5,)"
     },
     "execution_count": 5,
     "metadata": {},
     "output_type": "execute_result"
    }
   ],
   "source": [
    "from sklearn.model_selection import cross_val_score\n",
    "clf = svm.SVC(kernel='linear', C=1)\n",
    "scores = cross_val_score(clf, iris.data, iris.target, cv=5)\n",
    "scores.shape"
   ]
  },
  {
   "cell_type": "markdown",
   "execution_count": null,
   "metadata": {},
   "outputs": [],
   "source": [
    "3.2交叉验证主要有哪些方法"
   ]
  },
  {
   "cell_type": "markdown",
   "execution_count": null,
   "metadata": {},
   "outputs": [],
   "source": [
    "3.2.1留出法：这样无法保证测试集与训练集的样本数据分布是一致的。\n",
    "\n",
    "LeaveOneOut,LeavePOut"
   ]
  },
  {
   "cell_type": "code",
   "execution_count": 6,
   "metadata": {},
   "outputs": [
    {
     "name": "stdout",
     "output_type": "stream",
     "text": "[1 2 3] [0]\n[0 2 3] [1]\n[0 1 3] [2]\n[0 1 2] [3]\n[2 3] [0 1]\n[1 3] [0 2]\n[1 2] [0 3]\n[0 3] [1 2]\n[0 2] [1 3]\n[0 1] [2 3]\n[9 1 6 7 3 0 5] [2 8 4]\n[2 9 8 0 6 7 4] [3 5 1]\n[4 5 1 0 6 9 7] [2 3 8]\n[2 7 5 8 0 3 4] [6 1 9]\n[4 1 0 6 8 9 3] [5 2 7]\n"
    }
   ],
   "source": [
    "from sklearn.model_selection import LeaveOneOut\n",
    "import numpy as np\n",
    "x=[1,2,3,4]\n",
    "loo=LeaveOneOut()\n",
    "for train,test in loo.split(x):\n",
    "    print('%s %s' %(train,test))\n",
    "\n",
    "from sklearn.model_selection import LeavePOut\n",
    "x=np.ones(4)\n",
    "lpo=LeavePOut(p=2)\n",
    "for train,test in lpo.split(x):\n",
    "    print('%s %s' %(train,test))\n",
    "\n",
    "from sklearn.model_selection import ShuffleSplit\n",
    "x=np.arange(10)\n",
    "ss=ShuffleSplit(n_splits=5,test_size=0.25,random_state=0)\n",
    "for train_index,test_index in ss.split(x):\n",
    "    print('%s %s'%(train_index,test_index))"
   ]
  },
  {
   "cell_type": "markdown",
   "execution_count": null,
   "metadata": {},
   "outputs": [],
   "source": [
    "3.2.2 k 折交叉验证（k-fold cross validation）以及RepeatedKFold:"
   ]
  },
  {
   "cell_type": "code",
   "execution_count": 7,
   "metadata": {},
   "outputs": [
    {
     "name": "stdout",
     "output_type": "stream",
     "text": "[2 3] [0 1]\n[0 1] [2 3]\n[2 3] [0 1]\n[0 1] [2 3]\n[0 2] [1 3]\n[1 3] [0 2]\n"
    }
   ],
   "source": [
    "from sklearn.model_selection import KFold\n",
    "import numpy as np\n",
    "x=['a','b','c','d']\n",
    "kf=KFold(n_splits=2)\n",
    "for train,test in kf.split(x):\n",
    "    print('%s %s' %(train,test))\n",
    "\n",
    "from sklearn.model_selection import RepeatedKFold\n",
    "x=np.array([[1,2],[3,4],[1,2],[3,4]])\n",
    "random_state=12883823\n",
    "rkf=RepeatedKFold(n_splits=2,n_repeats=2,random_state\n",
    "=random_state)\n",
    "for train,test in rkf.split(x):\n",
    "    print('%s %s'%(train,test))"
   ]
  },
  {
   "cell_type": "markdown",
   "execution_count": null,
   "metadata": {},
   "outputs": [],
   "source": [
    "4.模型拟合fit\n",
    "\n",
    "每个估计器都要用到fit方法\n",
    "feature即为column，fit(x,y)对于无监督学习，不需要指定y。\n",
    "\n",
    "x和y一般为数组对象或类数组对象。"
   ]
  },
  {
   "cell_type": "markdown",
   "execution_count": null,
   "metadata": {},
   "outputs": [],
   "source": [
    "5.transformer object没有predict对象，但有transform方法，可以输出被转换的矩阵对象X.\n",
    "\n",
    "transformer与estimator有相同的api"
   ]
  },
  {
   "cell_type": "code",
   "execution_count": 8,
   "metadata": {},
   "outputs": [
    {
     "name": "stdout",
     "output_type": "stream",
     "text": "[[-1.  1.]\n [ 1. -1.]]\n[[-1.  1.]\n [ 1. -1.]]\n"
    }
   ],
   "source": [
    "from sklearn.preprocessing import StandardScaler\n",
    "import sklearn\n",
    "x=[[0,15],[1,-10]]\n",
    "x_t=StandardScaler().fit(x)\n",
    "#一般来说先使用fit，x_t里面存有计算出来的均值和方差。\n",
    "#fit用于计算训练数据的均值和方差，后面就会用均值和方差来转换训练数据\n",
    "x_t.mean_\n",
    "x_t.scale_\n",
    "print(x_t.transform(x))\n",
    "#再使用transform，使用x_t中的均值和方差来转换X，使X标准化。\n",
    "\n",
    "#以上与下面的计算结果是一样的\n",
    "print(sklearn.preprocessing.scale(x))"
   ]
  },
  {
   "cell_type": "markdown",
   "execution_count": null,
   "metadata": {},
   "outputs": [],
   "source": [
    "5.1数据预处理，preprocessing中提供了很多的Scaler:\n",
    "\n",
    "StandardScaler；Normalizer\n",
    "\n",
    "MaxAbsScaler；MinMaxScaler；RobustScaler；\n",
    "\n",
    "对应的有直接的函数使用：scale(),normaizer(),maxabs_scale();minmax_scale(),robust_scale()\n",
    "\n",
    "还有OneHotEncoder()是类别特征编码;LabelEncoder()是标签编码;Binarizer(threshold=1.1)是特征二值化"
   ]
  },
  {
   "cell_type": "markdown",
   "execution_count": null,
   "metadata": {},
   "outputs": [],
   "source": [
    "5.2 normalizer()归一化函数的用法"
   ]
  },
  {
   "cell_type": "code",
   "execution_count": 9,
   "metadata": {},
   "outputs": [
    {
     "name": "stdout",
     "output_type": "stream",
     "text": "[15. 27.]\n[0.13333333333333333, 0.4, 0.4666666666666667]\n[0.5333333333333333, 0.6, 0.6666666666666666]\n[ 7. 10.]\n[0.2857142857142857, 0.8571428571428571, 1.0]\n[0.8, 0.9, 1.0]\n"
    },
    {
     "data": {
      "text/plain": "array([[0.28571429, 0.85714286, 1.        ],\n       [0.8       , 0.9       , 1.        ]])"
     },
     "execution_count": 9,
     "metadata": {},
     "output_type": "execute_result"
    }
   ],
   "source": [
    "import numpy as np\n",
    "import sklearn\n",
    "example=np.array([[2.0,6.0,7.0],[8.0,9.0,10.0]])#是输入数据src\n",
    "alpha=5\n",
    "beta=100\n",
    "#norm_l1\n",
    "##第一步：先求出norm--所有元素的绝对值和\n",
    "print(example.sum(axis=1))\n",
    "##第二步，求输出数据,公式$dst=alpha*src/norm_l1$\n",
    "print([i/15 for i in example[0,:].tolist()])\n",
    "print([i/15 for i in example[1,:].tolist()])\n",
    "sklearn.preprocessing.normalize(example,norm='l1')\n",
    "#axis=1是默认的，表示按行进行normalize\n",
    "#norm有'l1','l2','max'分别表示各个特征值分别除以各维度（跟据axis确定）的norm \n",
    "\n",
    "#max\n",
    "##第一步：先求出norm--求最大值\n",
    "print(example.max(axis=1))\n",
    "##第二步，求输出数据,公式$dst=alpha*src/norm_l1$\n",
    "print([i/7 for i in example[0,:].tolist()])\n",
    "print([i/10 for i in example[1,:].tolist()])\n",
    "sklearn.preprocessing.normalize(example,norm='max')"
   ]
  },
  {
   "cell_type": "markdown",
   "execution_count": null,
   "metadata": {},
   "outputs": [],
   "source": [
    "5.3 one_hot编码\n",
    "\n",
    "也可以使用drop参数将每一列编码为(n_categories-1)列而不是n_categories列。\n",
    "\n",
    "该参数允许用户为每个要删除的特征指定一个类别。 在某些分类器中，这有助于避免输入矩阵中的共线性。"
   ]
  },
  {
   "cell_type": "code",
   "execution_count": 10,
   "metadata": {},
   "outputs": [
    {
     "data": {
      "text/plain": "array([[1., 0.],\n       [0., 1.]])"
     },
     "execution_count": 10,
     "metadata": {},
     "output_type": "execute_result"
    }
   ],
   "source": [
    "data= np.array([[1],[2]])\n",
    "encoder=sklearn.preprocessing.OneHotEncoder().fit(data)\n",
    "(encoder.transform(data)).toarray()\n",
    "#help(sklearn.preprocessing.OneHotEncoder)"
   ]
  },
  {
   "cell_type": "code",
   "execution_count": 11,
   "metadata": {},
   "outputs": [
    {
     "data": {
      "text/plain": "[array(['female', 'male'], dtype=object),\n array(['from Europe', 'from US'], dtype=object),\n array(['uses Firefox', 'uses Safari'], dtype=object)]"
     },
     "execution_count": 11,
     "metadata": {},
     "output_type": "execute_result"
    }
   ],
   "source": [
    "enc=sklearn.preprocessing.OneHotEncoder()\n",
    "X=[['male', 'from US', 'uses Safari'], ['female', 'from Europe', 'uses Firefox']] \n",
    "enc.fit(X)\n",
    "enc.transform([['female', 'from US', 'uses Safari'],['male', 'from Europe', 'uses Safari']]).toarray()\n",
    "enc.categories_"
   ]
  },
  {
   "cell_type": "code",
   "execution_count": 12,
   "metadata": {},
   "outputs": [
    {
     "data": {
      "text/plain": "array([[1., 0., 0., 1., 0., 0., 1., 0., 0., 0.]])"
     },
     "execution_count": 12,
     "metadata": {},
     "output_type": "execute_result"
    }
   ],
   "source": [
    "genders=['female','male']\n",
    "locations=['from Africa','from Asia','from Europe','from US']\n",
    "browsers=['uses Chrome','uses Firefox','uses IE','uses Safari']\n",
    "enc=sklearn.preprocessing.OneHotEncoder(categories=[genders,locations,browsers])\n",
    "X=[['male','from US','uses Safari'],['female','from Europe','uses Firefox']]\n",
    "enc.fit(X)\n",
    "enc.transform([['female','from Asia','uses Chrome']]).toarray()\n",
    "#array([[1., 0., 0., 1., 0., 0., 1., 0., 0., 0.]]),[1.0,0.]是female的编码，[0., 1., 0., 0.]是from Asia的编码,\n",
    "#transfrom中要求是二维数组或列表,因为这是特征专用，所以不能使用一维数组"
   ]
  },
  {
   "cell_type": "code",
   "execution_count": 13,
   "metadata": {},
   "outputs": [
    {
     "name": "stdout",
     "output_type": "stream",
     "text": "[[0. 1. 0. 1. 0. 1.]\n [1. 0. 1. 0. 1. 0.]]\n[[1. 1. 1.]\n [0. 0. 0.]]\n"
    }
   ],
   "source": [
    "# Note that for there are missing categorical values\n",
    "# for the 2nd and 3rd feature\n",
    "enc=sklearn.preprocessing.OneHotEncoder()\n",
    "X=[['male','from US','uses Safari'],['female','from Europe','uses Firefox']]\n",
    "enc.fit(X)\n",
    "print(enc.transform(X).toarray())\n",
    "\n",
    "drop_enc=sklearn.preprocessing.OneHotEncoder(drop='first').fit(X)\n",
    "drop_enc.categories_\n",
    "print(drop_enc.transform(X).toarray())"
   ]
  },
  {
   "cell_type": "markdown",
   "execution_count": null,
   "metadata": {},
   "outputs": [],
   "source": [
    "5.4 scaling features to a range(MinMaxScaler或MaxAbsScaler),range通常时(0,1)"
   ]
  },
  {
   "cell_type": "code",
   "execution_count": 14,
   "metadata": {},
   "outputs": [
    {
     "data": {
      "text/plain": "array([0.        , 0.5       , 0.33333333])"
     },
     "execution_count": 14,
     "metadata": {},
     "output_type": "execute_result"
    }
   ],
   "source": [
    "x_train=np.array([[1.,-1.,2.],[2.,0.,0.],[0.,1.,-1.]])\n",
    "min_max_scaler=sklearn.preprocessing.MinMaxScaler()\n",
    "x_train_minmax=min_max_scaler.fit_transform(x_train)\n",
    "x_train_minmax\n",
    "#或者用公式实现\n",
    "X=x_train\n",
    "X_std = (X - X.min(axis=0)) / (X.max(axis=0) - X.min(axis=0)) \n",
    "max=1\n",
    "min=0\n",
    "X_scaled = X_std * (max - min) + min\n",
    "X_scaled\n",
    "\n",
    "x_test=np.array([[-3.,-1.,4.]])\n",
    "x_test_minmax=min_max_scaler.transform(x_test)\n",
    "x_test_minmax\n",
    "\n",
    "min_max_scaler.scale_\n",
    "min_max_scaler.min_"
   ]
  },
  {
   "cell_type": "markdown",
   "execution_count": null,
   "metadata": {},
   "outputs": [],
   "source": [
    "5.5 Non-linear transformation--quantile transforms"
   ]
  },
  {
   "cell_type": "markdown",
   "execution_count": null,
   "metadata": {},
   "outputs": [],
   "source": [
    "quantile transforms分位数变换\n",
    "将所有的特征置于相同的分布，求给定分布下的分位数。\n",
    "通过执行秩变换，分位数变换可以平滑不寻常的分布，并且与缩放方法相比，离群值的影响较小。 但是，它确实扭曲了要素内部和要素之间的相关性和距离。\n",
    "分位数和幂变换都基于特征的单调变换，因此保留了沿每个特征的值的等级。"
   ]
  },
  {
   "cell_type": "markdown",
   "execution_count": null,
   "metadata": {},
   "outputs": [],
   "source": [
    "Mapping to a Uniform distribution\n"
   ]
  },
  {
   "cell_type": "code",
   "execution_count": 15,
   "metadata": {},
   "outputs": [
    {
     "name": "stdout",
     "output_type": "stream",
     "text": "[4.3 5.1 5.8 6.5 7.9]\nC:\\Users\\LENOVO\\AppData\\Roaming\\Python\\Python37\\site-packages\\sklearn\\preprocessing\\_data.py:2357: UserWarning: n_quantiles (1000) is greater than the total number of samples (112). n_quantiles is set to n_samples.\n  % (self.n_quantiles, n_samples))\n"
    },
    {
     "data": {
      "text/plain": "array([5.8, 6. , 5.5, 7.3, 5. , 6.3, 5. , 6.7, 6.8, 6.1, 6.1, 6.4, 6.1,\n       6.5, 6.1, 4.9, 6. , 5.5, 4.8, 5.4, 5.6, 5.6, 4.8, 4.4, 6.2, 4.6,\n       5.1, 6.2, 5. , 5. , 6.4, 5.4, 5.2, 6.1, 6.4, 5.2, 5.7, 6. ])"
     },
     "execution_count": 15,
     "metadata": {},
     "output_type": "execute_result"
    }
   ],
   "source": [
    "#quantile-transform提供了将数据map到(0,1)之间的均匀分布\n",
    "from sklearn.datasets import load_iris\n",
    "from sklearn.model_selection import train_test_split\n",
    "\n",
    "X,y=load_iris(return_X_y=True)\n",
    "X_train,X_test,y_train,y_test=train_test_split(X,y,random_state=0)\n",
    "Quantile_Transformer=sklearn.preprocessing.QuantileTransformer(random_state=0)\n",
    "X_train_trans=Quantile_Transformer.fit_transform(X_train)\n",
    "X_test_trans=Quantile_Transformer.transform(X_test)\n",
    "print(np.percentile(X_train[:,0],[0,25,50,75,100]))\n",
    "X_test[:,0]"
   ]
  },
  {
   "cell_type": "markdown",
   "execution_count": null,
   "metadata": {},
   "outputs": [],
   "source": [
    "5.6 Non-linear transformation--power transformation"
   ]
  },
  {
   "cell_type": "markdown",
   "execution_count": null,
   "metadata": {},
   "outputs": [],
   "source": [
    "power transformation幂变换是一组参数变换，旨在将数据从任何分布映射到接近高斯分布。\n",
    "\n",
    "Power Transformer当前提供两种这样的幂变换，即Yeo-Johnson变换和Box-Cox变换。Box-Cox仅可应用于严格的正数据。 \n",
    "\n",
    "在这两种方法中，变换都是通过λ参数化的，而λ是通过最大似然估计来确定的。\n",
    "\n",
    "通过设置output_distribution =“ normal”，还可以使用QuantileTransformer将数据映射到正态分布"
   ]
  },
  {
   "cell_type": "code",
   "execution_count": 16,
   "metadata": {},
   "outputs": [
    {
     "name": "stderr",
     "output_type": "stream",
     "text": "C:\\Users\\LENOVO\\AppData\\Roaming\\Python\\Python37\\site-packages\\sklearn\\preprocessing\\_data.py:2357: UserWarning: n_quantiles (1000) is greater than the total number of samples (150). n_quantiles is set to n_samples.\n  % (self.n_quantiles, n_samples))\n"
    }
   ],
   "source": [
    "pt=sklearn.preprocessing.PowerTransformer(method='box-cox',standardize=False)\n",
    "X_lognormal=np.random.RandomState(616).lognormal(size=(3,3))\n",
    "X_lognormal\n",
    "pt.fit_transform(X_lognormal) \n",
    "\n",
    "quantile_transformer=sklearn.preprocessing.QuantileTransformer(output_distribution='normal',random_state=0)\n",
    "X_trans=quantile_transformer.fit_transform(X)\n",
    "#quantile_transformer.quantiles_"
   ]
  },
  {
   "cell_type": "markdown",
   "execution_count": null,
   "metadata": {},
   "outputs": [],
   "source": [
    "5.7 Encoding categorical features分类编码属性，\n",
    "\n",
    "当给定的数据是分类变量时，需要进行数值化处理。\n",
    "\n",
    "从0到n_categories-1，但编码以后还不能直接用于sikit-learn估计器，因为编码以后是有序的。\n"
   ]
  },
  {
   "cell_type": "code",
   "execution_count": 17,
   "metadata": {},
   "outputs": [
    {
     "data": {
      "text/plain": "[array(['female', 'male'], dtype=object),\n array(['from Europe', 'from US'], dtype=object),\n array(['uses Firefox', 'uses Safari'], dtype=object)]"
     },
     "execution_count": 17,
     "metadata": {},
     "output_type": "execute_result"
    }
   ],
   "source": [
    "enc=sklearn.preprocessing.OrdinalEncoder()\n",
    "X=[['male','from US','uses Safari'],['female','from Europe','uses Firefox']]\n",
    "enc.fit(X)\n",
    "enc.transform([['female', 'from US', 'uses Safari']])\n",
    "enc.transform(X)\n",
    "enc.categories_"
   ]
  },
  {
   "cell_type": "markdown",
   "execution_count": null,
   "metadata": {},
   "outputs": [],
   "source": [
    "5.7 离散化 Discretization\n",
    "\n",
    "将连续性变量partition成离散变量。"
   ]
  },
  {
   "cell_type": "markdown",
   "execution_count": null,
   "metadata": {},
   "outputs": [],
   "source": [
    "KBinsDiscretizer能够离散成k bins,转换后的结果默认是one-hot编码成稀疏矩阵，通过encode参数即可设置。每一列是一个特征中的一个类别\n",
    "\n",
    "对于每个特征，将在拟合过程中计算区间边界，并与bin数一起定义间隔。\n",
    "\n",
    "KBinsDiscretizer的strategy参数可以设置不同的分割方法。其中'uniform'的区间宽度是固定的。\n",
    "\n",
    "参数：n_bins表示每个特征中分箱的个数\n"
   ]
  },
  {
   "cell_type": "code",
   "execution_count": 18,
   "metadata": {},
   "outputs": [
    {
     "name": "stdout",
     "output_type": "stream",
     "text": "[array([-3.,  0.,  3.,  6.]) array([3. , 4.5, 6. ]) array([11., 13., 15.])]\n"
    },
    {
     "data": {
      "text/plain": "array([[1., 0., 0., 0., 1., 0., 1.],\n       [0., 1., 0., 0., 1., 0., 1.],\n       [0., 0., 1., 1., 0., 1., 0.]])"
     },
     "execution_count": 18,
     "metadata": {},
     "output_type": "execute_result"
    }
   ],
   "source": [
    "from sklearn import preprocessing\n",
    "import numpy as np\n",
    "X=np.array([[-3.,5.,15],[0.,6.,14],[6.,3.,11]])\n",
    "est=preprocessing.KBinsDiscretizer(n_bins=[3,2,2],strategy='uniform').fit(X)\n",
    "#默认encode是one-hot\n",
    "print(est.bin_edges_)\n",
    "\"\"\"array([array([-3.,  0.,  3.,  6.]), array([3. , 4.5, 6. ]),\n",
    "       array([11., 13., 15.])], dtype=object)\n",
    "\"\"\"\n",
    "est.transform(X).toarray()\n",
    "#help(preprocessing.KBinsDiscretizer)"
   ]
  },
  {
   "cell_type": "code",
   "execution_count": 19,
   "metadata": {},
   "outputs": [
    {
     "name": "stdout",
     "output_type": "stream",
     "text": "[[0. 1. 1.]\n [1. 1. 1.]\n [2. 0. 0.]]\n"
    },
    {
     "data": {
      "text/plain": "array([array([-3., -1.,  2.,  6.]), array([3., 5., 6.]),\n       array([11., 14., 15.])], dtype=object)"
     },
     "execution_count": 19,
     "metadata": {},
     "output_type": "execute_result"
    }
   ],
   "source": [
    "#help(preprocessing.KBinsDiscretizer)\n",
    "est=preprocessing.KBinsDiscretizer(n_bins=[3,2,2],encode='ordinal').fit(X)\n",
    "print(est.transform(X))\n",
    "est.bin_edges_"
   ]
  },
  {
   "cell_type": "markdown",
   "execution_count": null,
   "metadata": {},
   "outputs": [],
   "source": [
    "5.8 feature binarization"
   ]
  },
  {
   "cell_type": "code",
   "execution_count": 20,
   "metadata": {},
   "outputs": [
    {
     "name": "stdout",
     "output_type": "stream",
     "text": "[[1. 0. 1.]\n [1. 0. 0.]\n [0. 1. 0.]]\n[[0. 0. 1.]\n [1. 0. 0.]\n [0. 0. 0.]]\n"
    }
   ],
   "source": [
    "from sklearn import preprocessing\n",
    "import numpy as np\n",
    "X=[[ 1., -1.,  2.],[ 2.,  0.,  0.],[ 0.,  1., -1.]]\n",
    "binarizer=preprocessing.Binarizer().fit(X)\n",
    "binarizer\n",
    "print(binarizer.transform(X))\n",
    "\n",
    "binarizer=preprocessing.Binarizer(threshold=1.1).fit(X)\n",
    "print(binarizer.transform(X))"
   ]
  },
  {
   "cell_type": "markdown",
   "execution_count": null,
   "metadata": {},
   "outputs": [],
   "source": [
    "5.9 Genereating polynominal features生成多项式特征--PolynominalFeatures"
   ]
  },
  {
   "cell_type": "markdown",
   "execution_count": null,
   "metadata": {},
   "outputs": [],
   "source": [
    "非线性特征能够增加模型的复杂度;多项式特征是一种简单而常用的方法，它可以获取特征的高阶和相互作用项;在某些情况下，仅需要要素之间的交互项，并且可以使用settinginteraction_only = True来获得"
   ]
  },
  {
   "cell_type": "code",
   "execution_count": 21,
   "metadata": {},
   "outputs": [
    {
     "name": "stdout",
     "output_type": "stream",
     "text": "[[0 1]\n [2 3]\n [4 5]]\n[[ 1.  0.  1.  0.  0.  1.]\n [ 1.  2.  3.  4.  6.  9.]\n [ 1.  4.  5. 16. 20. 25.]]\n[[0 1 2]\n [3 4 5]\n [6 7 8]]\n[[  1.   0.   1.   2.   0.   0.   2.   0.]\n [  1.   3.   4.   5.  12.  15.  20.  60.]\n [  1.   6.   7.   8.  42.  48.  56. 336.]]\n"
    }
   ],
   "source": [
    "import numpy as np\n",
    "from sklearn.preprocessing import PolynomialFeatures\n",
    "x=np.arange(6).reshape(3,2)\n",
    "print(x)\n",
    "#X的特征已从（X1，X2）转换为（1，X1，X2，X21，X1X2，X22）\n",
    "poly=PolynomialFeatures(2)\n",
    "print(poly.fit_transform(x))\n",
    "x=np.arange(9).reshape(3,3)\n",
    "print(x)\n",
    "poly=PolynomialFeatures(degree=3,interaction_only=True)\n",
    "print(poly.fit_transform(x))\n",
    "#的特征已从（X1，X2，X3）转换为（1，X1，X2，X3，X1X2，X1X3，X2X3，X1X2X3）"
   ]
  },
  {
   "cell_type": "markdown",
   "execution_count": null,
   "metadata": {},
   "outputs": [],
   "source": [
    "5.10 Custom transfomers自定义transformers"
   ]
  },
  {
   "cell_type": "markdown",
   "execution_count": null,
   "metadata": {},
   "outputs": [],
   "source": [
    "将现有的Python函数转换为转换器，以帮助进行数据清理或处理;可以使用FunctionTransformer通过任意函数实现转换器，例如，要构建在piplline中应用对数转换的transformers，请执行以下操作："
   ]
  },
  {
   "cell_type": "code",
   "execution_count": 22,
   "metadata": {},
   "outputs": [
    {
     "data": {
      "text/plain": "array([[0.        , 0.69314718],\n       [1.09861229, 1.38629436]])"
     },
     "execution_count": 22,
     "metadata": {},
     "output_type": "execute_result"
    }
   ],
   "source": [
    "import numpy as np\n",
    "from sklearn.preprocessing import FunctionTransformer\n",
    "\n",
    "transformer=FunctionTransformer(np.log1p,validate=True)\n",
    "#validate=True表示在调用‘func’之前是否检查输入的X，TRUE表示X会被转换为二维数组或sparse matrix\n",
    "X = np.array([[0, 1], [2, 3]])\n",
    "transformer.transform(X)"
   ]
  },
  {
   "cell_type": "code",
   "execution_count": 26,
   "metadata": {},
   "outputs": [
    {
     "name": "stdout",
     "output_type": "stream",
     "text": "Help on class FunctionTransformer in module sklearn.preprocessing._function_transformer:\n\nclass FunctionTransformer(sklearn.base.TransformerMixin, sklearn.base.BaseEstimator)\n |  FunctionTransformer(func=None, inverse_func=None, validate=False, accept_sparse=False, check_inverse=True, kw_args=None, inv_kw_args=None)\n |  \n |  Constructs a transformer from an arbitrary callable.\n |  \n |  A FunctionTransformer forwards its X (and optionally y) arguments to a\n |  user-defined function or function object and returns the result of this\n |  function. This is useful for stateless transformations such as taking the\n |  log of frequencies, doing custom scaling, etc.\n |  \n |  Note: If a lambda is used as the function, then the resulting\n |  transformer will not be pickleable.\n |  \n |  .. versionadded:: 0.17\n |  \n |  Read more in the :ref:`User Guide <function_transformer>`.\n |  \n |  Parameters\n |  ----------\n |  func : callable, optional default=None\n |      The callable to use for the transformation. This will be passed\n |      the same arguments as transform, with args and kwargs forwarded.\n |      If func is None, then func will be the identity function.\n |  \n |  inverse_func : callable, optional default=None\n |      The callable to use for the inverse transformation. This will be\n |      passed the same arguments as inverse transform, with args and\n |      kwargs forwarded. If inverse_func is None, then inverse_func\n |      will be the identity function.\n |  \n |  validate : bool, optional default=False\n |      Indicate that the input X array should be checked before calling\n |      ``func``. The possibilities are:\n |  \n |      - If False, there is no input validation.\n |      - If True, then X will be converted to a 2-dimensional NumPy array or\n |        sparse matrix. If the conversion is not possible an exception is\n |        raised.\n |  \n |      .. versionchanged:: 0.22\n |         The default of ``validate`` changed from True to False.\n |  \n |  accept_sparse : boolean, optional\n |      Indicate that func accepts a sparse matrix as input. If validate is\n |      False, this has no effect. Otherwise, if accept_sparse is false,\n |      sparse matrix inputs will cause an exception to be raised.\n |  \n |  check_inverse : bool, default=True\n |     Whether to check that or ``func`` followed by ``inverse_func`` leads to\n |     the original inputs. It can be used for a sanity check, raising a\n |     warning when the condition is not fulfilled.\n |  \n |     .. versionadded:: 0.20\n |  \n |  kw_args : dict, optional\n |      Dictionary of additional keyword arguments to pass to func.\n |  \n |  inv_kw_args : dict, optional\n |      Dictionary of additional keyword arguments to pass to inverse_func.\n |  \n |  Examples\n |  --------\n |  >>> import numpy as np\n |  >>> from sklearn.preprocessing import FunctionTransformer\n |  >>> transformer = FunctionTransformer(np.log1p)\n |  >>> X = np.array([[0, 1], [2, 3]])\n |  >>> transformer.transform(X)\n |  array([[0.       , 0.6931...],\n |         [1.0986..., 1.3862...]])\n |  \n |  Method resolution order:\n |      FunctionTransformer\n |      sklearn.base.TransformerMixin\n |      sklearn.base.BaseEstimator\n |      builtins.object\n |  \n |  Methods defined here:\n |  \n |  __init__(self, func=None, inverse_func=None, validate=False, accept_sparse=False, check_inverse=True, kw_args=None, inv_kw_args=None)\n |      Initialize self.  See help(type(self)) for accurate signature.\n |  \n |  fit(self, X, y=None)\n |      Fit transformer by checking X.\n |      \n |      If ``validate`` is ``True``, ``X`` will be checked.\n |      \n |      Parameters\n |      ----------\n |      X : array-like, shape (n_samples, n_features)\n |          Input array.\n |      \n |      Returns\n |      -------\n |      self\n |  \n |  inverse_transform(self, X)\n |      Transform X using the inverse function.\n |      \n |      Parameters\n |      ----------\n |      X : array-like, shape (n_samples, n_features)\n |          Input array.\n |      \n |      Returns\n |      -------\n |      X_out : array-like, shape (n_samples, n_features)\n |          Transformed input.\n |  \n |  transform(self, X)\n |      Transform X using the forward function.\n |      \n |      Parameters\n |      ----------\n |      X : array-like, shape (n_samples, n_features)\n |          Input array.\n |      \n |      Returns\n |      -------\n |      X_out : array-like, shape (n_samples, n_features)\n |          Transformed input.\n |  \n |  ----------------------------------------------------------------------\n |  Methods inherited from sklearn.base.TransformerMixin:\n |  \n |  fit_transform(self, X, y=None, **fit_params)\n |      Fit to data, then transform it.\n |      \n |      Fits transformer to X and y with optional parameters fit_params\n |      and returns a transformed version of X.\n |      \n |      Parameters\n |      ----------\n |      X : numpy array of shape [n_samples, n_features]\n |          Training set.\n |      \n |      y : numpy array of shape [n_samples]\n |          Target values.\n |      \n |      **fit_params : dict\n |          Additional fit parameters.\n |      \n |      Returns\n |      -------\n |      X_new : numpy array of shape [n_samples, n_features_new]\n |          Transformed array.\n |  \n |  ----------------------------------------------------------------------\n |  Data descriptors inherited from sklearn.base.TransformerMixin:\n |  \n |  __dict__\n |      dictionary for instance variables (if defined)\n |  \n |  __weakref__\n |      list of weak references to the object (if defined)\n |  \n |  ----------------------------------------------------------------------\n |  Methods inherited from sklearn.base.BaseEstimator:\n |  \n |  __getstate__(self)\n |  \n |  __repr__(self, N_CHAR_MAX=700)\n |      Return repr(self).\n |  \n |  __setstate__(self, state)\n |  \n |  get_params(self, deep=True)\n |      Get parameters for this estimator.\n |      \n |      Parameters\n |      ----------\n |      deep : bool, default=True\n |          If True, will return the parameters for this estimator and\n |          contained subobjects that are estimators.\n |      \n |      Returns\n |      -------\n |      params : mapping of string to any\n |          Parameter names mapped to their values.\n |  \n |  set_params(self, **params)\n |      Set the parameters of this estimator.\n |      \n |      The method works on simple estimators as well as on nested objects\n |      (such as pipelines). The latter have parameters of the form\n |      ``<component>__<parameter>`` so that it's possible to update each\n |      component of a nested object.\n |      \n |      Parameters\n |      ----------\n |      **params : dict\n |          Estimator parameters.\n |      \n |      Returns\n |      -------\n |      self : object\n |          Estimator instance.\n\n"
    }
   ],
   "source": [
    "help(FunctionTransformer)"
   ]
  },
  {
   "cell_type": "markdown",
   "execution_count": null,
   "metadata": {},
   "outputs": [],
   "source": [
    "6.transformers+estimator/predictor=pipline\n",
    "\n",
    "pipline与estimator有相同的api,有fit方法和predict方法\n",
    "\n",
    "一般的管道( pipeline ) 包括了两个部分：\n",
    "① 作为输入端的预处理器( pre-processor)：\n",
    "转换(Transform)或者”推断？“( imputes )数据\n",
    "② 作为输出端的预测器( predictor )：预测目标值的预测器( predictor )"
   ]
  },
  {
   "cell_type": "code",
   "execution_count": 23,
   "metadata": {},
   "outputs": [],
   "source": [
    "from sklearn.preprocessing import StandardScaler\n",
    "from sklearn.linear_model import LogisticRegression\n",
    "from sklearn.pipeline import make_pipeline\n",
    "from sklearn.model_selection import train_test_split\n",
    "from sklearn.datasets import load_iris\n",
    "from sklearn.metrics import accuracy_score"
   ]
  },
  {
   "cell_type": "code",
   "execution_count": 24,
   "metadata": {},
   "outputs": [
    {
     "data": {
      "text/plain": "0.9736842105263158"
     },
     "execution_count": 24,
     "metadata": {},
     "output_type": "execute_result"
    }
   ],
   "source": [
    "pipe = make_pipeline(StandardScaler(),LogisticRegression(random_state=0))#创造一个pipeline对象(内有预处理和编辑器)\n",
    "\n",
    "x,y=load_iris(return_X_y=True)\n",
    "x_train,x_test,y_train,y_test=train_test_split(x,y,random_state=0)#下载数据并且分割训练集与测试集\n",
    "\n",
    "pipe.fit(x_train,y_train)#fit the whole pipline\n",
    "accuracy_score(pipe.predict(x_test),y_test)"
   ]
  },
  {
   "cell_type": "markdown",
   "execution_count": null,
   "metadata": {},
   "outputs": [],
   "source": [
    "7.model evaluation\n",
    "\n",
    "模型训练完成之后应该立马进行模型评估，而不是直接去预测未见过的”新数据“。\n",
    "\n",
    "除了train_test_split,scikit-learn提供了cross-validation方法切割样本 "
   ]
  },
  {
   "cell_type": "code",
   "execution_count": 25,
   "metadata": {},
   "outputs": [
    {
     "name": "stdout",
     "output_type": "stream",
     "text": "Help on function cross_validate in module sklearn.model_selection._validation:\n\ncross_validate(estimator, X, y=None, groups=None, scoring=None, cv=None, n_jobs=None, verbose=0, fit_params=None, pre_dispatch='2*n_jobs', return_train_score=False, return_estimator=False, error_score=nan)\n    Evaluate metric(s) by cross-validation and also record fit/score times.\n    \n    Read more in the :ref:`User Guide <multimetric_cross_validation>`.\n    \n    Parameters\n    ----------\n    estimator : estimator object implementing 'fit'\n        The object to use to fit the data.\n    \n    X : array-like\n        The data to fit. Can be for example a list, or an array.\n    \n    y : array-like, optional, default: None\n        The target variable to try to predict in the case of\n        supervised learning.\n    \n    groups : array-like, with shape (n_samples,), optional\n        Group labels for the samples used while splitting the dataset into\n        train/test set. Only used in conjunction with a \"Group\" :term:`cv`\n        instance (e.g., :class:`GroupKFold`).\n    \n    scoring : string, callable, list/tuple, dict or None, default: None\n        A single string (see :ref:`scoring_parameter`) or a callable\n        (see :ref:`scoring`) to evaluate the predictions on the test set.\n    \n        For evaluating multiple metrics, either give a list of (unique) strings\n        or a dict with names as keys and callables as values.\n    \n        NOTE that when using custom scorers, each scorer should return a single\n        value. Metric functions returning a list/array of values can be wrapped\n        into multiple scorers that return one value each.\n    \n        See :ref:`multimetric_grid_search` for an example.\n    \n        If None, the estimator's score method is used.\n    \n    cv : int, cross-validation generator or an iterable, optional\n        Determines the cross-validation splitting strategy.\n        Possible inputs for cv are:\n    \n        - None, to use the default 5-fold cross validation,\n        - integer, to specify the number of folds in a `(Stratified)KFold`,\n        - :term:`CV splitter`,\n        - An iterable yielding (train, test) splits as arrays of indices.\n    \n        For integer/None inputs, if the estimator is a classifier and ``y`` is\n        either binary or multiclass, :class:`StratifiedKFold` is used. In all\n        other cases, :class:`KFold` is used.\n    \n        Refer :ref:`User Guide <cross_validation>` for the various\n        cross-validation strategies that can be used here.\n    \n        .. versionchanged:: 0.22\n            ``cv`` default value if None changed from 3-fold to 5-fold.\n    \n    n_jobs : int or None, optional (default=None)\n        The number of CPUs to use to do the computation.\n        ``None`` means 1 unless in a :obj:`joblib.parallel_backend` context.\n        ``-1`` means using all processors. See :term:`Glossary <n_jobs>`\n        for more details.\n    \n    verbose : integer, optional\n        The verbosity level.\n    \n    fit_params : dict, optional\n        Parameters to pass to the fit method of the estimator.\n    \n    pre_dispatch : int, or string, optional\n        Controls the number of jobs that get dispatched during parallel\n        execution. Reducing this number can be useful to avoid an\n        explosion of memory consumption when more jobs get dispatched\n        than CPUs can process. This parameter can be:\n    \n            - None, in which case all the jobs are immediately\n              created and spawned. Use this for lightweight and\n              fast-running jobs, to avoid delays due to on-demand\n              spawning of the jobs\n    \n            - An int, giving the exact number of total jobs that are\n              spawned\n    \n            - A string, giving an expression as a function of n_jobs,\n              as in '2*n_jobs'\n    \n    return_train_score : boolean, default=False\n        Whether to include train scores.\n        Computing training scores is used to get insights on how different\n        parameter settings impact the overfitting/underfitting trade-off.\n        However computing the scores on the training set can be computationally\n        expensive and is not strictly required to select the parameters that\n        yield the best generalization performance.\n    \n    return_estimator : boolean, default False\n        Whether to return the estimators fitted on each split.\n    \n    error_score : 'raise' or numeric\n        Value to assign to the score if an error occurs in estimator fitting.\n        If set to 'raise', the error is raised.\n        If a numeric value is given, FitFailedWarning is raised. This parameter\n        does not affect the refit step, which will always raise the error.\n    \n    Returns\n    -------\n    scores : dict of float arrays of shape (n_splits,)\n        Array of scores of the estimator for each run of the cross validation.\n    \n        A dict of arrays containing the score/time arrays for each scorer is\n        returned. The possible keys for this ``dict`` are:\n    \n            ``test_score``\n                The score array for test scores on each cv split.\n                Suffix ``_score`` in ``test_score`` changes to a specific\n                metric like ``test_r2`` or ``test_auc`` if there are\n                multiple scoring metrics in the scoring parameter.\n            ``train_score``\n                The score array for train scores on each cv split.\n                Suffix ``_score`` in ``train_score`` changes to a specific\n                metric like ``train_r2`` or ``train_auc`` if there are\n                multiple scoring metrics in the scoring parameter.\n                This is available only if ``return_train_score`` parameter\n                is ``True``.\n            ``fit_time``\n                The time for fitting the estimator on the train\n                set for each cv split.\n            ``score_time``\n                The time for scoring the estimator on the test set for each\n                cv split. (Note time for scoring on the train set is not\n                included even if ``return_train_score`` is set to ``True``\n            ``estimator``\n                The estimator objects for each cv split.\n                This is available only if ``return_estimator`` parameter\n                is set to ``True``.\n    \n    Examples\n    --------\n    >>> from sklearn import datasets, linear_model\n    >>> from sklearn.model_selection import cross_validate\n    >>> from sklearn.metrics import make_scorer\n    >>> from sklearn.metrics import confusion_matrix\n    >>> from sklearn.svm import LinearSVC\n    >>> diabetes = datasets.load_diabetes()\n    >>> X = diabetes.data[:150]\n    >>> y = diabetes.target[:150]\n    >>> lasso = linear_model.Lasso()\n    \n    Single metric evaluation using ``cross_validate``\n    \n    >>> cv_results = cross_validate(lasso, X, y, cv=3)\n    >>> sorted(cv_results.keys())\n    ['fit_time', 'score_time', 'test_score']\n    >>> cv_results['test_score']\n    array([0.33150734, 0.08022311, 0.03531764])\n    \n    Multiple metric evaluation using ``cross_validate``\n    (please refer the ``scoring`` parameter doc for more information)\n    \n    >>> scores = cross_validate(lasso, X, y, cv=3,\n    ...                         scoring=('r2', 'neg_mean_squared_error'),\n    ...                         return_train_score=True)\n    >>> print(scores['test_neg_mean_squared_error'])\n    [-3635.5... -3573.3... -6114.7...]\n    >>> print(scores['train_r2'])\n    [0.28010158 0.39088426 0.22784852]\n    \n    See Also\n    ---------\n    :func:`sklearn.model_selection.cross_val_score`:\n        Run cross-validation for single metric evaluation.\n    \n    :func:`sklearn.model_selection.cross_val_predict`:\n        Get predictions from each split of cross-validation for diagnostic\n        purposes.\n    \n    :func:`sklearn.metrics.make_scorer`:\n        Make a scorer from a performance metric or loss function.\n\n"
    }
   ],
   "source": [
    "from sklearn.datasets import make_regression\n",
    "from sklearn.linear_model import LinearRegression\n",
    "from sklearn.model_selection import cross_validate\n",
    "x,y=make_regression(n_samples=1000,random_state=0)\n",
    "\n",
    "#make_regression表示样本生成器，The output is generated by applying a (potentially biased) random linear regression model\n",
    "lr=LinearRegression()\n",
    "result=cross_validate(lr,x,y)\n",
    "result['test_score']\n",
    "help(cross_validate)"
   ]
  },
  {
   "cell_type": "markdown",
   "execution_count": null,
   "metadata": {},
   "outputs": [],
   "source": [
    "8. 超参数以及调参\n",
    "\n",
    "超参数不由估计器给出，而是作为参数直接传入估计器。\n",
    "所有的评估器都有参数（或者说超参数），它们可以被调试。一般情况下，我们并不知道该怎么选参数值，因为它们由我们手里的数据所决定。\n",
    "\n",
    "在scikit-learn中提供两种来选择最优参数：RandomizedSearchCV和GridSearchCV\n",
    "\n",
    "A Search包括一个估计器、一个参数空间、一种抽样方法、交叉验证次数、一个得分方程（用于评价不同参数的效果。分类用sklearn.metrics.accuracy_score，回归用sklearn.metrics.r2_score）。"
   ]
  },
  {
   "cell_type": "markdown",
   "execution_count": null,
   "metadata": {},
   "outputs": [],
   "source": [
    "8.1 RandomizedSearchCV\n",
    "\n",
    "Sklearn 中提供了一些可以自动寻找最优参数组合的工具（通过交叉验证）。下面以 RandomizedSearchCV \n",
    "对象为例，当搜索结束之后 RandomizedSearchCV 就变成了类似 RandomForestRegressor 的角色。\n",
    "\n",
    "另外，使用采样迭代数'n_iter' parameter或采样候选数可以指定计算预算。\n",
    "\n",
    "RandomizedSearchCV相比GridSearchCV具有两个主要优势：\n",
    "第一、它的参数空间是随机产生的候选参数可以从其分布中产生。预算选择独立于参数个数和可能的值。\n",
    "第二、增加不影响模型表现的参数不会降低效率。"
   ]
  },
  {
   "cell_type": "code",
   "execution_count": 27,
   "metadata": {},
   "outputs": [],
   "source": [
    "import scipy\n",
    "param_distributions={'C': scipy.stats.expon(scale=100),'gamma': scipy.stats.expon(scale=.1),'kernel': ['rbf'],'class_weight':['balanced', None]}"
   ]
  },
  {
   "cell_type": "code",
   "execution_count": 28,
   "metadata": {},
   "outputs": [],
   "source": [
    "from sklearn.datasets import fetch_california_housing\n",
    "from sklearn.ensemble import RandomForestRegressor\n",
    "from sklearn.model_selection import RandomizedSearchCV\n",
    "from sklearn.model_selection import train_test_split\n",
    "from scipy.stats import randint"
   ]
  },
  {
   "cell_type": "code",
   "execution_count": 29,
   "metadata": {},
   "outputs": [],
   "source": [
    "X,y=fetch_california_housing(return_X_y=True)\n",
    "X_train,X_test,y_train,y_test=train_test_split(X,y,random_state=0)\n",
    "# define the parameter space that will be searched over\n",
    "param_distributions={'n_estimators':randint(1,5),'max_depth':randint(5,10)}\n",
    "# create a searchCV object and fit it to the data\n",
    "search=RandomizedSearchCV(estimator=RandomForestRegressor(random_state=0),n_iter=5,\n",
    "param_distributions=param_distributions,random_state=0)"
   ]
  },
  {
   "cell_type": "code",
   "execution_count": 30,
   "metadata": {},
   "outputs": [
    {
     "data": {
      "text/plain": "0.7349601117850644"
     },
     "execution_count": 30,
     "metadata": {},
     "output_type": "execute_result"
    }
   ],
   "source": [
    "search.fit(X_train,y_train)\n",
    "# the search object now acts like a normal randomforest estimator\n",
    "search.best_params_\n",
    "search.score(X_test,y_test)"
   ]
  },
  {
   "cell_type": "markdown",
   "execution_count": null,
   "metadata": {},
   "outputs": [],
   "source": [
    "8.2 GridSearchCV\n",
    "\n",
    "当用训练集拟合数据时，所有的参数都被计算，但仅最好的留下来。"
   ]
  },
  {
   "cell_type": "code",
   "execution_count": 31,
   "metadata": {},
   "outputs": [],
   "source": [
    "param_grid = [{'C': [1, 10, 100, 1000],'kernel': ['linear']},{'C': [1, 10, 100, 1000],'gamma': [0.001, 0.0001],'kernel':['rbf']},]\n"
   ]
  },
  {
   "cell_type": "markdown",
   "execution_count": null,
   "metadata": {},
   "outputs": [],
   "source": [
    "8.3 metrics and scoring:quantifying the quality of predictions\n",
    "\n",
    "precision_recall_curve和roc_curve仅适用于二分类。\n",
    "多分类metrics\n",
    "多标签排名指标(定序变量)适用的metrics\n",
    "回归metrics\n",
    "聚类metrics:adjusted_rand_score"
   ]
  },
  {
   "cell_type": "markdown",
   "execution_count": null,
   "metadata": {},
   "outputs": [],
   "source": [
    "9.有监督学习-例1"
   ]
  },
  {
   "cell_type": "code",
   "execution_count": 32,
   "metadata": {},
   "outputs": [
    {
     "name": "stdout",
     "output_type": "stream",
     "text": "1.0\n[ 1.69095695e-14 -1.77635684e-15  7.10542736e-15  6.57252031e-14\n -1.09245946e-13 -3.01980663e-14  0.00000000e+00  3.01980663e-14\n  8.52651283e-14  2.22044605e-14  5.55111512e-14 -5.15143483e-14\n  2.27512598e+01 -7.10542736e-14  5.81756865e-14  5.68434189e-14\n -2.22044605e-14 -2.13162821e-14  2.06501483e-14 -4.76840789e-14\n  1.98983674e+01 -2.85327317e-14 -8.52651283e-14 -1.03472786e-13\n  1.08801856e-13  8.52651283e-14  1.26121336e-13  1.04360964e-13\n -1.04805054e-13 -5.55111512e-14  1.57651669e-13 -3.06421555e-14\n  1.44252385e+01  6.66133815e-15  5.77315973e-14  1.51878510e-13\n  7.10542736e-14 -4.08562073e-14  9.11615477e+01  3.17523785e-14\n  3.10862447e-15 -6.43929354e-14  8.76930556e+00 -7.72715225e-14\n -3.55271368e-15  7.63833441e-14 -4.26325641e-14  5.32907052e-14\n  8.08242362e-14  5.95079541e-14 -3.73034936e-14 -2.04281037e-14\n  8.59727392e+01 -5.72875081e-14  8.88178420e-16 -5.99520433e-14\n  1.59872116e-14  7.91585698e+01  2.95319325e-14  2.26485497e-14\n -1.90958360e-14 -4.39648318e-14 -5.15143483e-14 -1.19015908e-13\n  3.90479674e+01  7.99360578e-15 -5.59552404e-14 -8.72635297e-14\n  1.96014218e+01 -1.90958360e-14 -2.24265051e-14  2.37587727e-14\n  2.29653016e+01 -8.88178420e-15  3.57491814e-14 -2.62012634e-14\n -2.90878432e-14 -5.32907052e-15  4.74065232e-14 -3.19744231e-14\n  1.33226763e-14 -1.77635684e-15 -3.37507799e-14 -2.57571742e-14\n -3.77475828e-14 -8.43769499e-15 -3.93018951e-14 -4.26325641e-14\n  4.57411886e-14  1.31006317e-14  8.39328607e-14 -1.68753900e-14\n -2.73114864e-14 -2.22044605e-15  3.28626015e-14 -1.26565425e-14\n -6.52811138e-14  6.48370246e-14 -7.10542736e-15  3.46389584e-14]\n1.865174681370263e-14\n{'copy_X': True, 'fit_intercept': True, 'n_jobs': None, 'normalize': False}\n"
    }
   ],
   "source": [
    "x,y=make_regression(n_samples=1000,random_state=0)\n",
    "reg=LinearRegression().fit(x,y)\n",
    "print(reg.score(x,y))\n",
    "print(reg.coef_)\n",
    "print(reg.intercept_)\n",
    "print(reg.get_params())"
   ]
  },
  {
   "cell_type": "markdown",
   "execution_count": 33,
   "metadata": {},
   "outputs": [
    {
     "ename": "AttributeError",
     "evalue": "'numpy.ndarray' object has no attribute 'colnames'",
     "output_type": "error",
     "traceback": [
      "\u001b[1;31m---------------------------------------------------------------------------\u001b[0m",
      "\u001b[1;31mAttributeError\u001b[0m                            Traceback (most recent call last)",
      "\u001b[1;32m<ipython-input-33-8a7b501aec4f>\u001b[0m in \u001b[0;36m<module>\u001b[1;34m\u001b[0m\n\u001b[0;32m      5\u001b[0m \u001b[0mdiabetes_X\u001b[0m\u001b[1;33m,\u001b[0m \u001b[0mdiabetes_y\u001b[0m \u001b[1;33m=\u001b[0m \u001b[0mdatasets\u001b[0m\u001b[1;33m.\u001b[0m\u001b[0mload_diabetes\u001b[0m\u001b[1;33m(\u001b[0m\u001b[0mreturn_X_y\u001b[0m\u001b[1;33m=\u001b[0m\u001b[1;32mTrue\u001b[0m\u001b[1;33m)\u001b[0m\u001b[1;33m\u001b[0m\u001b[1;33m\u001b[0m\u001b[0m\n\u001b[0;32m      6\u001b[0m \u001b[0mdiabetes_X\u001b[0m\u001b[1;33m.\u001b[0m\u001b[0mshape\u001b[0m\u001b[1;33m\u001b[0m\u001b[1;33m\u001b[0m\u001b[0m\n\u001b[1;32m----> 7\u001b[1;33m \u001b[0mdiabetes_X\u001b[0m\u001b[1;33m.\u001b[0m\u001b[0mcolnames\u001b[0m\u001b[1;33m\u001b[0m\u001b[1;33m\u001b[0m\u001b[0m\n\u001b[0m",
      "\u001b[1;31mAttributeError\u001b[0m: 'numpy.ndarray' object has no attribute 'colnames'"
     ]
    }
   ],
   "source": [
    "import numpy as np\n",
    "import matplotlib.pyplot as plt\n",
    "from sklearn import datasets,linear_model\n",
    "from sklearn.metrics import mean_squared_error,r2_score\n",
    "diabetes_X, diabetes_y = datasets.load_diabetes(return_X_y=True)\n",
    "diabetes_X.shape\n",
    "port numpy as np\n",
    "import matplotlib.pyplot as plt\n",
    "from sklearn import datasets,linear_model\n",
    "from sklearn.metrics import mean_squared_error,r2_score\n",
    "diabetes_X, diabetes_y = datasets.load_diabetes(return_X_y=True)\n",
    "diabetes_X.shape\n",
    "diabetes_X.colu"
   ]
  },
  {
   "cell_type": "markdown",
   "execution_count": null,
   "metadata": {},
   "outputs": [],
   "source": [
    "有监督学习-例2"
   ]
  },
  {
   "cell_type": "code",
   "execution_count": 33,
   "metadata": {},
   "outputs": [
    {
     "data": {
      "text/plain": "(442, 10)"
     },
     "execution_count": 33,
     "metadata": {},
     "output_type": "execute_result"
    }
   ],
   "source": [
    "import matplotlib.pyplot as plt\n",
    "import numpy as np\n",
    "from sklearn import datasets, linear_model\n",
    "from sklearn.metrics import mean_squared_error, r2_score\n",
    "diabetes_X, diabetes_y = datasets.load_diabetes(return_X_y=True)\n",
    "type(diabetes_X)#是数组\n",
    "diabetes_X[10:]\n",
    "diabetes_X.shape"
   ]
  },
  {
   "cell_type": "code",
   "execution_count": 34,
   "metadata": {},
   "outputs": [
    {
     "name": "stdout",
     "output_type": "stream",
     "text": "(442, 1)\n"
    }
   ],
   "source": [
    "#split the data into training/testing sets\n",
    "#diabetes_X = diabetes_X[:,2]#是一维数组\n",
    "diabetes_X = diabetes_X[:,np.newaxis,2]#得到二维数组\n",
    "diabetes_X_train=diabetes_X[:-20]#取前422行\n",
    "diabetes_X_test = diabetes_X[-20:]\n",
    "print(diabetes_X.shape)"
   ]
  },
  {
   "cell_type": "code",
   "execution_count": 35,
   "metadata": {},
   "outputs": [
    {
     "name": "stdout",
     "output_type": "stream",
     "text": "(442, 1)\n"
    }
   ],
   "source": [
    "#Split the targets into training/testingset\n",
    "print(diabetes_X.shape)\n",
    "diabetes_y_train = diabetes_y[:-20]\n",
    "diabetes_y_test = diabetes_y[-20:]"
   ]
  },
  {
   "cell_type": "code",
   "execution_count": 36,
   "metadata": {},
   "outputs": [
    {
     "name": "stdout",
     "output_type": "stream",
     "text": "Coefficients:\n [938.23786125]\nmean squared error:2548.07\nCoefficientofdetermination:0.47\n"
    }
   ],
   "source": [
    "regr=linear_model.LinearRegression()\n",
    "regr.fit(diabetes_X_train,diabetes_y_train)\n",
    "diabetes_y_pred=regr.predict(diabetes_X_test)\n",
    "print('Coefficients:\\n', regr.coef_)\n",
    "print('mean squared error:%.2f' %mean_squared_error(diabetes_y_test,diabetes_y_pred))\n",
    "print('Coefficientofdetermination:%.2f' % r2_score(diabetes_y_test, diabetes_y_pred))"
   ]
  },
  {
   "cell_type": "code",
   "execution_count": 37,
   "metadata": {},
   "outputs": [
    {
     "data": {
      "image/png": "[encoded data removed]",
      "text/plain": "<Figure size 432x288 with 1 Axes>"
     },
     "metadata": {},
     "output_type": "display_data"
    }
   ],
   "source": [
    "plt.scatter(diabetes_X_test,diabetes_y_test,color='black')\n",
    "plt.plot(diabetes_X_test,diabetes_y_test,color='blue',linewidth=3)\n",
    "plt.xticks(())\n",
    "plt.yticks(())\n",
    "plt.show()"
   ]
  },
  {
   "cell_type": "markdown",
   "execution_count": null,
   "metadata": {},
   "outputs": [],
   "source": [
    "9.3 dummy estimator(不需要输入自变量):\n",
    "\n",
    "首先是DummyClassifier\n",
    "\n",
    "straified(分层):通过尊重训练集类别分布，分层生成随机预测\n",
    "\n",
    "most_frequent:预测时返回出现最多的那一类\n",
    "\n",
    "prior:总是预测类的排序\n",
    "\n",
    "uniform:随机产生预测\n",
    "\n",
    "constant:预测用户提供的常数label\n",
    "\n",
    "然后是DummyRegressor,有mean,median,quantile等方法"
   ]
  },
  {
   "cell_type": "code",
   "execution_count": 38,
   "metadata": {},
   "outputs": [
    {
     "data": {
      "text/plain": "0.631578947368421"
     },
     "execution_count": 38,
     "metadata": {},
     "output_type": "execute_result"
    }
   ],
   "source": [
    "from sklearn.model_selection import train_test_split\n",
    "from sklearn.datasets import load_iris\n",
    "\n",
    "X,y=load_iris(return_X_y=True)\n",
    "y[y!=1]=-1#只分为两类\n",
    "X_train,X_test,y_train,y_test=train_test_split(X,y,random_state=0)\n",
    "\n",
    "###comparetheaccuracyofSVCandmost_frequent\n",
    "from sklearn.dummy import DummyClassifier\n",
    "from sklearn.svm import SVC\n",
    "clf = SVC(kernel='linear',C=1).fit(X_train,y_train)\n",
    "#C是目标函数中松弛因子的惩罚系数值。\n",
    "clf.score(X_test,y_test)"
   ]
  },
  {
   "cell_type": "code",
   "execution_count": 39,
   "metadata": {},
   "outputs": [
    {
     "data": {
      "text/plain": "0.9473684210526315"
     },
     "execution_count": 39,
     "metadata": {},
     "output_type": "execute_result"
    }
   ],
   "source": [
    "###change the kernel\n",
    "clf=SVC(kernel='rbf',C=1).fit(X_train,y_train)\n",
    "clf.score(X_test,y_test)#rbf表示径向基核函数"
   ]
  },
  {
   "cell_type": "code",
   "execution_count": 40,
   "metadata": {},
   "outputs": [
    {
     "data": {
      "text/plain": "0.5789473684210527"
     },
     "execution_count": 40,
     "metadata": {},
     "output_type": "execute_result"
    }
   ],
   "source": [
    "clf = DummyClassifier(strategy='most_frequent',random_state=0)\n",
    "clf.fit(X_train,y_train)\n",
    "clf.score(X_test,y_test)"
   ]
  },
  {
   "cell_type": "markdown",
   "execution_count": null,
   "metadata": {},
   "outputs": [],
   "source": [
    "10. 无监督学习：无y值\n",
    "高斯混合模型；聚类；density估计；神经网络"
   ]
  },
  {
   "cell_type": "code",
   "execution_count": 41,
   "metadata": {},
   "outputs": [
    {
     "name": "stdout",
     "output_type": "stream",
     "text": "[1 1 1 0 0 0]\n[[10.  2.]\n [ 1.  2.]]\n"
    }
   ],
   "source": [
    "#例子1-k均值聚类\n",
    "from sklearn.cluster import KMeans\n",
    "X = np.array([[1, 2], [1, 4], [1, 0],[10, 2], [10, 4], [10, 0]])\n",
    "kmeans = KMeans(n_clusters=2, random_state=0).fit(X)\n",
    "print(kmeans.labels_)\n",
    "kmeans.predict([[0, 0], [12, 3]])\n",
    "print(kmeans.cluster_centers_)\n"
   ]
  },
  {
   "cell_type": "code",
   "execution_count": 42,
   "metadata": {},
   "outputs": [],
   "source": [
    "#例子2\n",
    "from mpl_toolkits.mplot3d import Axes3D\n",
    "np.random.seed(5)\n",
    "x=iris.data\n",
    "y=iris.target\n",
    "estimators=[('k_means_iris_8', KMeans(n_clusters=8)),('k_means_iris_3', KMeans(n_clusters=3)),('k_means_iris_bad_init', KMeans(n_clusters=3,n_init=1, init='random'))]\n",
    "#init:用于指定初始的簇中心设置方法，如果为'k-means++',则表示设置的初始簇中心之间相距较远；如果为'random'，则表示从数据集中随机挑选k个样本作为初始簇中心；如果为数组则表示相应的簇中心。\n",
    "#n_init用于指定算法运行次数，每次运行都会选择不同的初始簇中心"
   ]
  },
  {
   "cell_type": "code",
   "execution_count": 43,
   "metadata": {},
   "outputs": [
    {
     "data": {
      "image/png": "[encoded data removed]",
      "text/plain": "<Figure size 288x216 with 1 Axes>"
     },
     "metadata": {
      "needs_background": "light"
     },
     "output_type": "display_data"
    },
    {
     "data": {
      "image/png": "[encoded data removed]",
      "text/plain": "<Figure size 288x216 with 1 Axes>"
     },
     "metadata": {
      "needs_background": "light"
     },
     "output_type": "display_data"
    },
    {
     "data": {
      "image/png": "[encoded data removed]",
      "text/plain": "<Figure size 288x216 with 1 Axes>"
     },
     "metadata": {
      "needs_background": "light"
     },
     "output_type": "display_data"
    }
   ],
   "source": [
    "fignum=1\n",
    "titles=['8 clusters','3 clusters','3 clusters,bad initialization']\n",
    "for name,est in estimators:\n",
    "    fig=plt.figure(fignum,figsize=(4,3))\n",
    "    ax=Axes3D(fig,rect=[0,0,.95,1],elev=48,azim=134)\n",
    "    est.fit(x)\n",
    "    labels=est.labels_\n",
    "\n",
    "    ax.scatter(x[:,3],x[:,0],x[:,2],c=labels.astype(np.float),edgecolors='k')\n",
    "    ax.w_xaxis.set_ticklabels([])\n",
    "    ax.w_yaxis.set_ticklabels([])\n",
    "    ax.w_zaxis.set_ticklabels([])\n",
    "    ax.set_xlabel('Petal width')\n",
    "    ax.set_ylabel('Sepal length')\n",
    "    ax.set_zlabel('Petal length')\n",
    "    ax.set_title(titles[fignum - 1])\n",
    "    ax.dist = 12\n",
    "    fignum = fignum + 1"
   ]
  },
  {
   "cell_type": "code",
   "execution_count": 44,
   "metadata": {},
   "outputs": [
    {
     "name": "stderr",
     "output_type": "stream",
     "text": "C:\\Anaconda3\\lib\\site-packages\\ipykernel_launcher.py:16: UserWarning: Matplotlib is currently using module://ipykernel.pylab.backend_inline, which is a non-GUI backend, so cannot show the figure.\n  app.launch_new_instance()\n"
    },
    {
     "data": {
      "image/png": "[encoded data removed]",
      "text/plain": "<Figure size 288x216 with 1 Axes>"
     },
     "metadata": {
      "needs_background": "light"
     },
     "output_type": "display_data"
    }
   ],
   "source": [
    "fig=plt.figure(fignum,figsize=(4,3))\n",
    "ax=Axes3D(fig,rect=[0,0,.95,1],elev=48,azim=134)\n",
    "for name,label in [('Setosa',0),('Versicolour',1),('Virginica',2)]:\n",
    "    ax.text3D(x[y == label, 3].mean(),x[y == label, 0].mean(),x[y == label, 2].mean() + 2, name,horizontalalignment='center',bbox=dict(alpha=.2, edgecolor='w', facecolor='w'))\n",
    "\n",
    "y = np.choose(y, [1, 2, 0]).astype(np.float)\n",
    "ax.scatter(x[:, 3], x[:, 0], x[:, 2], c=y, edgecolor='k')\n",
    "ax.w_xaxis.set_ticklabels([])\n",
    "ax.w_yaxis.set_ticklabels([])\n",
    "ax.w_zaxis.set_ticklabels([])\n",
    "ax.set_xlabel('Petalwidth')\n",
    "ax.set_ylabel('Sepallength')\n",
    "ax.set_zlabel('Petallength')\n",
    "ax.set_title('GroundTruth')\n",
    "ax.dist = 12\n",
    "fig.show()\n"
   ]
  },
  {
   "cell_type": "markdown",
   "execution_count": null,
   "metadata": {},
   "outputs": [],
   "source": [
    "在机器学习任务中，拿到数据后，我们首先会将原始数据集分为三部分：训练集，验证集和测试集。训练集用于训练模型，验证集用于模型的参数选择配置，测试集对于模型来说是未知数据，用于评估模型的泛化能力。\n",
    "\n",
    "验证集的必要性：在评估不同的设置（“超参数”）预评估器（例如必须为SVM手动设置的C设置）时，仍然存在测试集过拟合的风险，因为可以对参数进行调整，直到估计器达到最佳性能为止。\n",
    "\n",
    "验证数据集可用于通过提前停止进行正则化：当验证数据集的错误增加时停止训练，因为这是过度拟合训练数据集的标志。\n",
    "\n",
    "验证数据集起混合作用：它是测试使用的训练数据，但既不是低层训练的一部分，也不是最终测试的一部分。\n",
    "\n",
    "验证数据集还可以在其他形式的模型准备中发挥作用，例如特征选择。\n",
    "\n",
    "训练集的模型拟合包括利用相应的迭代算法进行变量选择和最优参数选择。\n",
    "\n",
    "在k-fold交叉验证中，验证集和测试集不做区分,不用保留验证集。可以\n",
    "在k-fold直接利用训练集做调参。"
   ]
  },
  {
   "cell_type": "markdown",
   "execution_count": null,
   "metadata": {},
   "outputs": [],
   "source": [
    "伪代码\n",
    "data=...\n",
    "train,validation,test=split(data)\n",
    "#调参\n",
    "parameters=...\n",
    "for params in parameters:\n",
    "    model=fit(train,params)\n",
    "    skill=evaluate(model,validation)\n",
    "\n",
    "#评估模型\n",
    "model=fit(train)\n",
    "skill=evaluate(model,test)"
   ]
  },
  {
   "cell_type": "markdown",
   "execution_count": null,
   "metadata": {},
   "outputs": [],
   "source": [
    "11.模型持久性--训练过的模型可以保存下来以后使用"
   ]
  },
  {
   "cell_type": "code",
   "execution_count": 45,
   "metadata": {},
   "outputs": [
    {
     "data": {
      "text/plain": "array([0])"
     },
     "execution_count": 45,
     "metadata": {},
     "output_type": "execute_result"
    }
   ],
   "source": [
    "from sklearn import svm\n",
    "from sklearn import datasets\n",
    "clf=svm.SVC()\n",
    "X,y=datasets.load_iris(return_X_y=True)\n",
    "clf.fit(X,y)\n",
    "#方法一：用pickle\n",
    "import pickle\n",
    "s=pickle.dumps(clf)\n",
    "clf2=pickle.loads(s)\n",
    "clf2.predict(X[0:1])"
   ]
  },
  {
   "cell_type": "code",
   "execution_count": 46,
   "metadata": {},
   "outputs": [],
   "source": [
    "#方法二：joblib比pickle更有效率，尤其是对于有大量数据集的对象。\n",
    "from joblib import dump,load\n",
    "dump(clf,'filename.joblib')#转储\n",
    "clf=load('filename.joblib')#加载"
   ]
  },
  {
   "cell_type": "markdown",
   "execution_count": null,
   "metadata": {},
   "outputs": [],
   "source": [
    "12.Validation curves(验证曲线):score的可视化(各种曲线)"
   ]
  },
  {
   "cell_type": "markdown",
   "execution_count": null,
   "metadata": {},
   "outputs": [],
   "source": [
    "通常我们通过选择算法和设置超参数来使得bais和variance尽可能的低。\n",
    "\n",
    "The bias of an estimator is its average error for different trainingsets。\n",
    "\n",
    "欠拟合(underfiting)有高的bias\n",
    "过拟合(overfiting)有高的variance,对训练集有很高的敏感性。\n",
    "\n",
    "以超参数为横轴，训练集分数和验证集分数为数轴作图，分析估计器是欠拟合还是过拟合。用函数'validation_curve'实现。"
   ]
  },
  {
   "cell_type": "markdown",
   "execution_count": null,
   "metadata": {},
   "outputs": [],
   "source": [
    "如果训练集SCORE和验证集SCORE都是低的，表示欠拟合。\n",
    "如果训练集SCORE是高的，验证集是地的，表示过拟合。"
   ]
  },
  {
   "cell_type": "code",
   "execution_count": 47,
   "metadata": {},
   "outputs": [],
   "source": [
    "import numpy as np\n",
    "from sklearn.model_selection import validation_curve\n",
    "from sklearn.datasets import load_iris\n",
    "from sklearn.linear_model import Ridge"
   ]
  },
  {
   "cell_type": "markdown",
   "execution_count": null,
   "metadata": {},
   "outputs": [],
   "source": [
    "validation_curve(estimator, X, y, param_name, param_range, groups=None, cv='warn', scoring=None, n_jobs=None, pre_dispatch='all', verbose=0, error_score='raise-deprecating')"
   ]
  },
  {
   "cell_type": "code",
   "execution_count": 48,
   "metadata": {},
   "outputs": [
    {
     "name": "stdout",
     "output_type": "stream",
     "text": "[[0.93402178 0.94366418 0.92648383 0.91933313 0.92922507]\n [0.9340217  0.94366412 0.92648377 0.91933304 0.929225  ]\n [0.51143526 0.52415737 0.49868907 0.47086988 0.49623503]]\n[[0.9055033  0.84185935 0.94569793 0.96231017 0.93366144]\n [0.90550088 0.84184574 0.94568969 0.96233172 0.93366806]\n [0.46706558 0.25698974 0.50496293 0.49826404 0.52500014]]\n"
    }
   ],
   "source": [
    "np.random.seed(0)\n",
    "X,y=load_iris(return_X_y=True)\n",
    "indices=np.arange(y.shape[0])\n",
    "np.random.shuffle(indices)#把顺序打乱\n",
    "X,y=X[indices],y[indices]\n",
    "train_scores,valid_scores=validation_curve(Ridge(),X,y,'alpha',np.logspace(-7,3,3),cv=5)\n",
    "print(train_scores)\n",
    "print(valid_scores)"
   ]
  },
  {
   "cell_type": "markdown",
   "execution_count": null,
   "metadata": {},
   "outputs": [],
   "source": [
    "13.学习曲线\n",
    "\n",
    "显示的是随着训练集样本数的变化，验证集SCORE和训练集SCORE的变化。可以用learning_curve\n",
    "\n",
    "所需的数据是：已使用的样本数量，训练集的平均分数和验证集的平均分数。\n",
    "\n",
    "如果训练集分数和测试集分数随着样本容量增大，收敛于一个低值，则增加样本不会有太大效果。\n",
    "\n",
    "如果训练集分数大于测试集分数，增加更多训练集会增加模型的泛化能力。"
   ]
  },
  {
   "cell_type": "markdown",
   "execution_count": null,
   "metadata": {},
   "outputs": [],
   "source": [
    "learning_curve(estimator, X, y, groups=None, train_sizes=np.linspace(0.1,1.0,5), cv='warn', scoring=None, exploit_incremental_learning=False, n_jobs=None, pre_dispatch='all', verbose=0, shuffle=False, random_state=None, error_score='raise-deprecating')"
   ]
  },
  {
   "cell_type": "code",
   "execution_count": 49,
   "metadata": {},
   "outputs": [
    {
     "data": {
      "text/plain": "array([[1.        , 0.93333333, 1.        , 1.        , 0.96666667],\n       [1.        , 0.96666667, 1.        , 1.        , 0.96666667],\n       [1.        , 0.96666667, 1.        , 1.        , 0.96666667]])"
     },
     "execution_count": 49,
     "metadata": {},
     "output_type": "execute_result"
    }
   ],
   "source": [
    "from sklearn.model_selection import learning_curve\n",
    "from sklearn.svm import SVC\n",
    "train_sizes,train_scores,valid_scores=learning_curve(SVC(kernel='linear'),X,y,train_sizes=[50,80,110],cv=5)\n",
    "\n",
    "train_sizes\n",
    "train_scores\n",
    "valid_scores"
   ]
  },
  {
   "cell_type": "markdown",
   "execution_count": null,
   "metadata": {},
   "outputs": [],
   "source": [
    "14.审查和可视化\n",
    "\n",
    "预测performance是机器学习的主要目标，然而，用评估指标来概括性能通常是不够的：它假设评估指标和测试数据集完美地反映了目标域，这很少是真的。\n",
    "\n",
    "在某些领域中，模型在部署之前需要具有一定程度的可解释性。\n",
    "需要对表现出性能问题的模型进行调试，以了解模型的根本问题。sklearn.inspection模块提供了有助于理解模型预测和影响预测因素的工具。\n",
    "可以用来评估模型的假设和偏差，设计更好的模型或诊断模型性能问题。"
   ]
  },
  {
   "cell_type": "markdown",
   "execution_count": 32,
   "metadata": {},
   "outputs": [
    {
     "ename": "NameError",
     "evalue": "name '审查' is not defined",
     "output_type": "error",
     "traceback": [
      "\u001b[1;31m---------------------------------------------------------------------------\u001b[0m",
      "\u001b[1;31mNameError\u001b[0m                                 Traceback (most recent call last)",
      "\u001b[1;32m<ipython-input-32-5f4765ee5b95>\u001b[0m in \u001b[0;36m<module>\u001b[1;34m\u001b[0m\n\u001b[1;32m----> 1\u001b[1;33m \u001b[0m审查\u001b[0m\u001b[1;33m\u001b[0m\u001b[1;33m\u001b[0m\u001b[0m\n\u001b[0m",
      "\u001b[1;31mNameError\u001b[0m: name '审查' is not defined"
     ]
    }
   ],
   "source": [
    "审查"
   ]
  },
  {
   "cell_type": "markdown",
   "execution_count": null,
   "metadata": {},
   "outputs": [],
   "source": [
    "14.1 Partial dependence plots"
   ]
  },
  {
   "cell_type": "markdown",
   "execution_count": null,
   "metadata": {},
   "outputs": [],
   "source": [
    "部分依赖图（PDP）显示目标响应与一组“目标”功能之间的依赖关系，在所有其他功能（“互补”功能）的值上处于边际位置。（相当于多元回归中的回归系数） 直观地讲，我们可以将部分依赖关系解释为响应变量与因变量的函数。\n",
    "\n",
    "sklearn.inspection模块提供了函数plot_partial_dependence来创建 one-way和two-way部分依赖图。"
   ]
  },
  {
   "cell_type": "markdown",
   "execution_count": 29,
   "metadata": {},
   "outputs": [
    {
     "ename": "SyntaxError",
     "evalue": "invalid syntax (<ipython-input-29-2f203f0daf85>, line 1)",
     "output_type": "error",
     "traceback": [
      "\u001b[1;36m  File \u001b[1;32m\"<ipython-input-29-2f203f0daf85>\"\u001b[1;36m, line \u001b[1;32m1\u001b[0m\n\u001b[1;33m    14.2 Permutation feature importance\u001b[0m\n\u001b[1;37m                   ^\u001b[0m\n\u001b[1;31mSyntaxError\u001b[0m\u001b[1;31m:\u001b[0m invalid syntax\n"
     ]
    }
   ],
   "source": [
    "14.2 Permutation feature importance(排列特征的重要性)"
   ]
  },
  {
   "cell_type": "markdown",
   "execution_count": null,
   "metadata": {},
   "outputs": [],
   "source": [
    "排列特征的重要性定义为当随机改变单个特征值时模型得分的降低。这对于非线性或不透明的估计量特别有用。该技术得益于模型不可知性，可以根据特征的不同排列多次计算。permutation_importance 函数能够计算特征重要性。"
   ]
  },
  {
   "cell_type": "markdown",
   "execution_count": null,
   "metadata": {},
   "outputs": [],
   "source": [
    "14.3 可视化：Scikit-learn为机器学习可视化定义了API，API的特征就是作图快速，可视化调整不用重新计算。"
   ]
  },
  {
   "cell_type": "markdown",
   "execution_count": null,
   "metadata": {},
   "outputs": [],
   "source": [
    "roc_curve是在选取不同的SCORE,计算对应的sensitivity和specificity\n",
    "\n",
    "sensitivity表示正确预测的正例数在实际正例中的比例\n",
    "\n",
    "specificity表示正确预测的负例数在实际负例数中的比例。"
   ]
  },
  {
   "cell_type": "code",
   "execution_count": 50,
   "metadata": {},
   "outputs": [],
   "source": [
    "from sklearn.model_selection import train_test_split\n",
    "from sklearn.svm import SVC\n",
    "from sklearn.metrics import plot_roc_curve\n",
    "from sklearn.datasets import load_wine"
   ]
  },
  {
   "cell_type": "code",
   "execution_count": 51,
   "metadata": {},
   "outputs": [],
   "source": [
    "X,y=load_wine(return_X_y=True)\n",
    "y=y==2"
   ]
  },
  {
   "cell_type": "code",
   "execution_count": 52,
   "metadata": {},
   "outputs": [
    {
     "data": {
      "image/png": "[encoded data removed]",
      "text/plain": "<Figure size 432x288 with 1 Axes>"
     },
     "metadata": {
      "needs_background": "light"
     },
     "output_type": "display_data"
    }
   ],
   "source": [
    "X_train, X_test, y_train, y_test = train_test_split(X, y,random_state=42)\n",
    "svc=SVC(random_state=42)\n",
    "svc.fit(X_train,y_train)\n",
    "svc_disp=plot_roc_curve(svc,X_test,y_test)"
   ]
  },
  {
   "cell_type": "code",
   "execution_count": 53,
   "metadata": {},
   "outputs": [
    {
     "data": {
      "image/png": "[encoded data removed]",
      "text/plain": "<Figure size 432x288 with 1 Axes>"
     },
     "metadata": {
      "needs_background": "light"
     },
     "output_type": "display_data"
    }
   ],
   "source": [
    "import matplotlib.pyplot as plt\n",
    "from sklearn.ensemble import RandomForestClassifier\n",
    "rfc=RandomForestClassifier(random_state=42)\n",
    "rfc.fit(X_train,y_train)\n",
    "ax=plt.gca()#给出当前fifure的matplot.axes.AXES实例\n",
    "rfc_disp=plot_roc_curve(rfc,X_test,y_test,ax=ax,alpha=0.8)#若ax=none，则会自动create figure and axes"
   ]
  },
  {
   "cell_type": "markdown",
   "execution_count": null,
   "metadata": {},
   "outputs": [],
   "source": [
    "15. 数据集转换"
   ]
  },
  {
   "cell_type": "markdown",
   "execution_count": null,
   "metadata": {},
   "outputs": [],
   "source": [
    "scikit-learn提供了一个转换器库，可以清理（请参见预处理数据），缩小（请参见无监督的降维），展开（请参见内核近似）或生成（请参见特征提取）特征表示。\n",
    "\n",
    "它同estimator一样，有fit方法，从训练集中learn模型参数，并且用transform方法将模型应用到unseen data\n",
    "\n",
    "transformer通常与classifiers、regressor或其他的估计器结合在一起组成composite estimator"
   ]
  },
  {
   "cell_type": "markdown",
   "execution_count": null,
   "metadata": {},
   "outputs": [],
   "source": [
    "15.1 piplines and composite estimators"
   ]
  },
  {
   "cell_type": "markdown",
   "execution_count": null,
   "metadata": {},
   "outputs": [],
   "source": [
    "pipline是最常见的组合估计器。\n",
    "\n",
    "pipline通常与FeatureUnion结合使用，FeatureUnion将transformer的输出连接到一个复合特征空间中。\n",
    "\n",
    "TransformedTargetRegressor转换target\n",
    "\n",
    "piplines仅转换observed data,即X\n",
    "\n",
    "piplines能够融合多个estimators，对于有固定步骤处理数据的情况（例如特征选择、正则化和分类）是非常有用的。\n",
    "\n",
    "piplines中的estimators,除了最后一个，必须是transformers即有transform方法，最后一个不受限制，可以是transforms，也可以是classifier等。\n",
    "\n",
    "pipline的方法和最后一个estimator的方法一样，如果最后一个estimator是classifier，则pipline can be uesd as a classifier\n",
    "\n",
    "pipline能够对estimator的所有参数进行一次性网格搜索；并且能够确保使用相同的数据训练transformer和predictors"
   ]
  },
  {
   "cell_type": "markdown",
   "execution_count": null,
   "metadata": {},
   "outputs": [],
   "source": [
    "15.1.1 管道构建例子——使用一个(key,value)的list或者make_pipline"
   ]
  },
  {
   "cell_type": "code",
   "execution_count": 54,
   "metadata": {},
   "outputs": [
    {
     "data": {
      "text/plain": "Pipeline(memory=None,\n         steps=[('reduce_dim',\n                 PCA(copy=True, iterated_power='auto', n_components=None,\n                     random_state=None, svd_solver='auto', tol=0.0,\n                     whiten=False)),\n                ('clf',\n                 SVC(C=1.0, break_ties=False, cache_size=200, class_weight=None,\n                     coef0=0.0, decision_function_shape='ovr', degree=3,\n                     gamma='scale', kernel='rbf', max_iter=-1,\n                     probability=False, random_state=None, shrinking=True,\n                     tol=0.001, verbose=False))],\n         verbose=False)"
     },
     "execution_count": 54,
     "metadata": {},
     "output_type": "execute_result"
    }
   ],
   "source": [
    "from sklearn.pipeline import Pipeline\n",
    "from sklearn.svm import SVC\n",
    "from sklearn.decomposition import PCA#主成分分析\n",
    "estimators=[('reduce_dim',PCA()),('clf',SVC())]\n",
    "pipe=Pipeline(estimators)\n",
    "pipe"
   ]
  },
  {
   "cell_type": "code",
   "execution_count": 55,
   "metadata": {},
   "outputs": [
    {
     "data": {
      "text/plain": "Pipeline(memory=None,\n         steps=[('binarizer', Binarizer(copy=True, threshold=0.0)),\n                ('multinomialnb',\n                 MultinomialNB(alpha=1.0, class_prior=None, fit_prior=True))],\n         verbose=False)"
     },
     "execution_count": 55,
     "metadata": {},
     "output_type": "execute_result"
    }
   ],
   "source": [
    "from sklearn.pipeline import make_pipeline\n",
    "from sklearn.naive_bayes import MultinomialNB\n",
    "from sklearn.preprocessing import Binarizer\n",
    "make_pipeline(Binarizer(),MultinomialNB())"
   ]
  },
  {
   "cell_type": "markdown",
   "execution_count": null,
   "metadata": {},
   "outputs": [],
   "source": [
    "15.1.2 pipe是list,可以通过index或name访问,或用切片方法\n",
    "pipe中参数设置方法"
   ]
  },
  {
   "cell_type": "code",
   "execution_count": 56,
   "metadata": {},
   "outputs": [
    {
     "data": {
      "text/plain": "Pipeline(memory=None,\n         steps=[('reduce_dim',\n                 PCA(copy=True, iterated_power='auto', n_components=None,\n                     random_state=None, svd_solver='auto', tol=0.0,\n                     whiten=False)),\n                ('clf',\n                 SVC(C=10, break_ties=False, cache_size=200, class_weight=None,\n                     coef0=0.0, decision_function_shape='ovr', degree=3,\n                     gamma='scale', kernel='rbf', max_iter=-1,\n                     probability=False, random_state=None, shrinking=True,\n                     tol=0.001, verbose=False))],\n         verbose=False)"
     },
     "execution_count": 56,
     "metadata": {},
     "output_type": "execute_result"
    }
   ],
   "source": [
    "pipe[0]\n",
    "pipe['reduce_dim']\n",
    "pipe[:1]\n",
    "pipe[-1:]\n",
    "#pipe中参数设置方法：<estimator>__<parameter>\n",
    "pipe.set_params(clf__C=10)"
   ]
  },
  {
   "cell_type": "code",
   "execution_count": 57,
   "metadata": {},
   "outputs": [],
   "source": [
    "from sklearn.model_selection import GridSearchCV\n",
    "param_grid=dict(reduce_dim__n_components=[2,5,10],clf__C=[0.1,10,100])\n",
    "grid_search=GridSearchCV(pipe,param_grid=param_grid)"
   ]
  },
  {
   "cell_type": "markdown",
   "execution_count": null,
   "metadata": {},
   "outputs": [],
   "source": [
    "15.1.3 缓存 transformers: 避免重复计算\n",
    "\n",
    "安装transformer可能在计算上很昂贵。 通过设置其memory参数集，Pipeline将在调用fit之后缓存每个转换器。\n",
    "\n",
    "此功能用于避免在参数和输入数据相同的情况下计算管道中的fit transfomers。\n",
    "\n",
    "一个典型示例是在网格搜索中，其中包含transformer只能被拟合一次，并可以重复用于每种配置。\n",
    "\n",
    "参数memory能缓存transformer,memory可以是包含字典的string或者是joblib.Memory对象"
   ]
  },
  {
   "cell_type": "code",
   "execution_count": 58,
   "metadata": {},
   "outputs": [
    {
     "data": {
      "text/plain": "Pipeline(memory='C:\\\\Users\\\\LENOVO\\\\AppData\\\\Local\\\\Temp\\\\tmph65tkwcp',\n         steps=[('reduce_dim',\n                 PCA(copy=True, iterated_power='auto', n_components=None,\n                     random_state=None, svd_solver='auto', tol=0.0,\n                     whiten=False)),\n                ('clf',\n                 SVC(C=1.0, break_ties=False, cache_size=200, class_weight=None,\n                     coef0=0.0, decision_function_shape='ovr', degree=3,\n                     gamma='scale', kernel='rbf', max_iter=-1,\n                     probability=False, random_state=None, shrinking=True,\n                     tol=0.001, verbose=False))],\n         verbose=False)"
     },
     "execution_count": 58,
     "metadata": {},
     "output_type": "execute_result"
    }
   ],
   "source": [
    "from tempfile import mkdtemp\n",
    "from shutil import rmtree\n",
    "from sklearn.decomposition import PCA\n",
    "from sklearn.svm import SVC\n",
    "from sklearn.pipeline import Pipeline\n",
    "estimators = [('reduce_dim', PCA()), ('clf', SVC())]\n",
    "cachedir=mkdtemp()\n",
    "pipe=Pipeline(estimators,memory=cachedir)\n",
    "pipe"
   ]
  },
  {
   "cell_type": "code",
   "execution_count": 59,
   "metadata": {},
   "outputs": [],
   "source": [
    "#Clear the cache directory when you don't need it anymore\n",
    "rmtree(cachedir)"
   ]
  },
  {
   "cell_type": "markdown",
   "execution_count": null,
   "metadata": {},
   "outputs": [],
   "source": [
    "15.1.4 在回归中转换target"
   ]
  },
  {
   "cell_type": "markdown",
   "execution_count": null,
   "metadata": {},
   "outputs": [],
   "source": [
    "compose.TransformedTargetRegressor在拟合模型之前将y转换；通过inverse transfrom 将预测值转换回original space;通过在回归预测中的一个arguement设置,就可实现以上回转的变换。"
   ]
  },
  {
   "cell_type": "code",
   "execution_count": 60,
   "metadata": {},
   "outputs": [],
   "source": [
    "import numpy as np\n",
    "from sklearn.datasets import load_boston\n",
    "from sklearn.compose import TransformedTargetRegressor\n",
    "from sklearn.preprocessing import QuantileTransformer\n",
    "from sklearn.linear_model import LinearRegression\n",
    "from sklearn.model_selection import train_test_split"
   ]
  },
  {
   "cell_type": "code",
   "execution_count": 61,
   "metadata": {},
   "outputs": [
    {
     "name": "stdout",
     "output_type": "stream",
     "text": "R2 score:0.67\nR2 score:0.635464\nC:\\Users\\LENOVO\\AppData\\Roaming\\Python\\Python37\\site-packages\\sklearn\\preprocessing\\_data.py:2357: UserWarning: n_quantiles (1000) is greater than the total number of samples (379). n_quantiles is set to n_samples.\n  % (self.n_quantiles, n_samples))\n"
    }
   ],
   "source": [
    "X,y=load_boston(return_X_y=True)\n",
    "transformer=QuantileTransformer(output_distribution='normal')\n",
    "regressor=LinearRegression()\n",
    "regr=TransformedTargetRegressor(regressor=regressor,transformer=transformer)\n",
    "X_train,X_test,y_train,y_test=train_test_split(X,y,random_state=0)\n",
    "regr.fit(X_train,y_train)\n",
    "print('R2 score:{0:.2f}'.format(regr.score(X_test,y_test)))\n",
    "raw_target_regr=LinearRegression().fit(X_train,y_train)\n",
    "print('R2 score:{0:2f}'.format(raw_target_regr.score(X_test,y_test)))"
   ]
  },
  {
   "cell_type": "markdown",
   "execution_count": null,
   "metadata": {},
   "outputs": [],
   "source": [
    "15.1.5 FeatureUnion:composite feature spaces"
   ]
  },
  {
   "cell_type": "markdown",
   "execution_count": null,
   "metadata": {},
   "outputs": [],
   "source": [
    "FeatureUnion：\n",
    "\n",
    "将几个transfromers结合在一起，在拟合模型时，每个transformer独立fiting,使用目的和pipline一样,并且FeatureUnion和Pipeline能够结合在一起组成更复杂的model\n",
    "\n",
    "用法：\n",
    "\n",
    "a list of(key,value),key是转换器name,value是estimator;也可以使用make_union构造。用set_params设置参数"
   ]
  },
  {
   "cell_type": "markdown",
   "execution_count": null,
   "metadata": {},
   "outputs": [],
   "source": [
    "15.1.6 对于异构数据的列转换--scikit-learn"
   ]
  },
  {
   "cell_type": "markdown",
   "execution_count": null,
   "metadata": {},
   "outputs": [],
   "source": [
    "对于不同的数据需要做不同的预处理。ColumnTransformer能够对数据的不同列做不同的transform。ColumnTransformer的作用对象是数组，稀疏矩阵以及pandas数据框。\n",
    "\n",
    "make_column_transformer函数能够创建一个ColumnTransformer对象，名字会自动给。\n",
    "\n",
    "\n"
   ]
  },
  {
   "cell_type": "code",
   "execution_count": 62,
   "metadata": {},
   "outputs": [
    {
     "name": "stdout",
     "output_type": "stream",
     "text": "[Pipeline] ....... (step 1 of 3) Processing subjectbody, total=   0.0s\n[Pipeline] ............. (step 2 of 3) Processing union, total=   0.5s\n[Pipeline] ............... (step 3 of 3) Processing svc, total=   0.0s\n              precision    recall  f1-score   support\n\n           0       0.78      0.71      0.74       319\n           1       0.67      0.74      0.70       251\n\n    accuracy                           0.72       570\n   macro avg       0.72      0.72      0.72       570\nweighted avg       0.73      0.72      0.72       570\n\n"
    }
   ],
   "source": [
    "import numpy as np\n",
    "from sklearn.base import BaseEstimator, TransformerMixin\n",
    "from sklearn.datasets import fetch_20newsgroups\n",
    "from sklearn.decomposition import TruncatedSVD\n",
    "from sklearn.feature_extraction import DictVectorizer\n",
    "from sklearn.feature_extraction.text import TfidfVectorizer\n",
    "from sklearn.metrics import classification_report\n",
    "from sklearn.pipeline import Pipeline\n",
    "from sklearn.compose import ColumnTransformer\n",
    "from sklearn.svm import LinearSVC\n",
    "\n",
    "\n",
    "class TextStats(TransformerMixin, BaseEstimator):\n",
    "    \"\"\"Extract features from each document for DictVectorizer\"\"\"\n",
    "\n",
    "    def fit(self, x, y=None):\n",
    "        return self\n",
    "\n",
    "    def transform(self, posts):\n",
    "        return [{'length': len(text),\n",
    "                 'num_sentences': text.count('.')}\n",
    "                for text in posts]\n",
    "\n",
    "\n",
    "class SubjectBodyExtractor(TransformerMixin, BaseEstimator):\n",
    "    \"\"\"Extract the subject & body from a usenet post in a single pass.\n",
    "\n",
    "    Takes a sequence of strings and produces a dict of sequences.  Keys are\n",
    "    `subject` and `body`.\n",
    "    \"\"\"\n",
    "    def fit(self, x, y=None):\n",
    "        return self\n",
    "\n",
    "    def transform(self, posts):\n",
    "        # construct object dtype array with two columns\n",
    "        # first column = 'subject' and second column = 'body'\n",
    "        features = np.empty(shape=(len(posts), 2), dtype=object)\n",
    "        for i, text in enumerate(posts):\n",
    "            headers, _, bod = text.partition('\\n\\n')\n",
    "            features[i, 1] = bod\n",
    "\n",
    "            prefix = 'Subject:'\n",
    "            sub = ''\n",
    "            for line in headers.split('\\n'):\n",
    "                if line.startswith(prefix):\n",
    "                    sub = line[len(prefix):]\n",
    "                    break\n",
    "            features[i, 0] = sub\n",
    "\n",
    "        return features\n",
    "\n",
    "\n",
    "pipeline = Pipeline([\n",
    "    # Extract the subject & body\n",
    "    ('subjectbody', SubjectBodyExtractor()),\n",
    "\n",
    "    # Use ColumnTransformer to combine the features from subject and body\n",
    "    ('union', ColumnTransformer(\n",
    "        [\n",
    "            # Pulling features from the post's subject line (first column)\n",
    "            ('subject', TfidfVectorizer(min_df=50), 0),\n",
    "\n",
    "            # Pipeline for standard bag-of-words model for body (second column)\n",
    "            ('body_bow', Pipeline([\n",
    "                ('tfidf', TfidfVectorizer()),\n",
    "                ('best', TruncatedSVD(n_components=50)),\n",
    "            ]), 1),\n",
    "\n",
    "            # Pipeline for pulling ad hoc features from post's body\n",
    "            ('body_stats', Pipeline([\n",
    "                ('stats', TextStats()),  # returns a list of dicts\n",
    "                ('vect', DictVectorizer()),  # list of dicts -> feature matrix\n",
    "            ]), 1),\n",
    "        ],\n",
    "\n",
    "        # weight components in ColumnTransformer\n",
    "        transformer_weights={\n",
    "            'subject': 0.8,\n",
    "            'body_bow': 0.5,\n",
    "            'body_stats': 1.0,\n",
    "        }\n",
    "    )),\n",
    "\n",
    "    # Use a SVC classifier on the combined features\n",
    "    ('svc', LinearSVC(dual=False)),\n",
    "], verbose=True)\n",
    "\n",
    "# limit the list of categories to make running this example faster.\n",
    "categories = ['alt.atheism', 'talk.religion.misc']\n",
    "X_train, y_train = fetch_20newsgroups(random_state=1,\n",
    "                                      subset='train',\n",
    "                                      categories=categories,\n",
    "                                      remove=('footers', 'quotes'),\n",
    "                                      return_X_y=True)\n",
    "X_test, y_test = fetch_20newsgroups(random_state=1,\n",
    "                                    subset='test',\n",
    "                                    categories=categories,\n",
    "                                    remove=('footers', 'quotes'),\n",
    "                                    return_X_y=True)\n",
    "\n",
    "pipeline.fit(X_train, y_train)\n",
    "y_pred = pipeline.predict(X_test)\n",
    "print(classification_report(y_test, y_pred))"
   ]
  },
  {
   "cell_type": "markdown",
   "execution_count": null,
   "metadata": {},
   "outputs": [],
   "source": [
    "Column Transformer with Mixed Types"
   ]
  },
  {
   "cell_type": "code",
   "execution_count": 63,
   "metadata": {},
   "outputs": [
    {
     "name": "stdout",
     "output_type": "stream",
     "text": "model score: 0.790\n"
    }
   ],
   "source": [
    "import numpy as np\n",
    "from sklearn.compose import ColumnTransformer\n",
    "from sklearn.datasets import fetch_openml\n",
    "from sklearn.pipeline import Pipeline\n",
    "from sklearn.impute import SimpleImputer\n",
    "#sklearn.impute.SimpleImputer是缺失值插补函数\n",
    "from sklearn.preprocessing import StandardScaler, OneHotEncoder\n",
    "from sklearn.linear_model import LogisticRegression\n",
    "from sklearn.model_selection import train_test_split, GridSearchCV\n",
    "\n",
    "np.random.seed(0)\n",
    "\n",
    "# Load data from https://www.openml.org/d/40945\n",
    "X, y = fetch_openml(\"titanic\", version=1, as_frame=True, return_X_y=True)\n",
    "\n",
    "# Alternatively X and y can be obtained directly from the frame attribute:\n",
    "# X = titanic.frame.drop('survived', axis=1)\n",
    "# y = titanic.frame['survived']\n",
    "\n",
    "# We will train our classifier with the following features:\n",
    "# Numeric Features:\n",
    "# - age: float.\n",
    "# - fare: float.\n",
    "# Categorical Features:\n",
    "# - embarked: categories encoded as strings {'C', 'S', 'Q'}.\n",
    "# - sex: categories encoded as strings {'female', 'male'}.\n",
    "# - pclass: ordinal integers {1, 2, 3}.\n",
    "\n",
    "# We create the preprocessing pipelines for both numeric and categorical data.\n",
    "numeric_features = ['age', 'fare']\n",
    "numeric_transformer = Pipeline(steps=[\n",
    "    ('imputer', SimpleImputer(strategy='median')),\n",
    "    ('scaler', StandardScaler())])\n",
    "#X.isnull().sum()发现有大量缺失值，用中位数补全缺失值\n",
    "categorical_features = ['embarked', 'sex', 'pclass']\n",
    "categorical_transformer = Pipeline(steps=[\n",
    "    ('imputer', SimpleImputer(strategy='constant', fill_value='missing')),\n",
    "    ('onehot', OneHotEncoder(handle_unknown='ignore'))])\n",
    "#表示分类变量中的缺失值全部用missing替代，而在独热化处理时，将missing也看作一类.handle_unknown表示在转换时若遇到未知分类，，将其全部编码为0\n",
    "preprocessor = ColumnTransformer(\n",
    "    transformers=[\n",
    "        ('num', numeric_transformer, numeric_features),\n",
    "        ('cat', categorical_transformer, categorical_features)])\n",
    "\n",
    "# Append classifier to preprocessing pipeline.\n",
    "# Now we have a full prediction pipeline.\n",
    "clf = Pipeline(steps=[('preprocessor', preprocessor),\n",
    "                      ('classifier', LogisticRegression())])\n",
    "\n",
    "X_train, X_test, y_train, y_test = train_test_split(X, y, test_size=0.2)\n",
    "\n",
    "clf.fit(X_train, y_train)\n",
    "print(\"model score: %.3f\" % clf.score(X_test, y_test))"
   ]
  },
  {
   "cell_type": "code",
   "execution_count": 64,
   "metadata": {},
   "outputs": [
    {
     "data": {
      "text/plain": "2"
     },
     "execution_count": 64,
     "metadata": {},
     "output_type": "execute_result"
    }
   ],
   "source": [
    "import pandas as pd\n",
    "\n",
    "X.iloc[284,:]\n",
    "E=X.loc[:,['embarked']].values\n",
    "value=pd.DataFrame(categorical_transformer.fit_transform(E).toarray())\n",
    "(value.iloc[:,3])[value.iloc[:,3]==1]\n",
    "imputer=SimpleImputer(strategy='constant', fill_value='missing')\n",
    "E=pd.DataFrame(imputer.fit_transform(E))\n",
    "E[0].value_counts()#一维序列才有value_counts()方法\n",
    "type(E[0])\n",
    "E[0].shape\n",
    "(value.iloc[:,3]==1).sum()\n"
   ]
  },
  {
   "cell_type": "code",
   "execution_count": 65,
   "metadata": {},
   "outputs": [
    {
     "data": {
      "text/plain": "array([[0., 1., 1., 0., 0.],\n       [1., 0., 0., 0., 1.],\n       [1., 0., 0., 1., 0.]])"
     },
     "execution_count": 65,
     "metadata": {},
     "output_type": "execute_result"
    }
   ],
   "source": [
    "#E=X.loc[:,['embarked']].values\n",
    "onehot=OneHotEncoder(handle_unknown='ignore')\n",
    "#value=onehot.fit_transform(E).toarray()\n",
    "X = [['Male', 1], ['Female', 3], ['Female', 2]]\n",
    "onehot.fit(X)\n",
    "onehot.categories_\n",
    "onehot.transform(X).toarray()"
   ]
  },
  {
   "cell_type": "markdown",
   "execution_count": 67,
   "metadata": {},
   "outputs": [
    {
     "name": "stdout",
     "output_type": "stream",
     "text": "Help on class OneHotEncoder in module sklearn.preprocessing._encoders:\n\nclass OneHotEncoder(_BaseEncoder)\n |  OneHotEncoder(categories='auto', drop=None, sparse=True, dtype=<class 'numpy.float64'>, handle_unknown='error')\n |  \n |  Encode categorical features as a one-hot numeric array.\n |  \n |  The input to this transformer should be an array-like of integers or\n |  strings, denoting the values taken on by categorical (discrete) features.\n |  The features are encoded using a one-hot (aka 'one-of-K' or 'dummy')\n |  encoding scheme. This creates a binary column for each category and\n |  returns a sparse matrix or dense array (depending on the ``sparse``\n |  parameter)\n |  \n |  By default, the encoder derives the categories based on the unique values\n |  in each feature. Alternatively, you can also specify the `categories`\n |  manually.\n |  \n |  This encoding is needed for feeding categorical data to many scikit-learn\n |  estimators, notably linear models and SVMs with the standard kernels.\n |  \n |  Note: a one-hot encoding of y labels should use a LabelBinarizer\n |  instead.\n |  \n |  Read more in the :ref:`User Guide <preprocessing_categorical_features>`.\n |  \n |  .. versionchanged:: 0.20\n |  \n |  Parameters\n |  ----------\n |  categories : 'auto' or a list of array-like, default='auto'\n |      Categories (unique values) per feature:\n |  \n |      - 'auto' : Determine categories automatically from the training data.\n |      - list : ``categories[i]`` holds the categories expected in the ith\n |        column. The passed categories should not mix strings and numeric\n |        values within a single feature, and should be sorted in case of\n |        numeric values.\n |  \n |      The used categories can be found in the ``categories_`` attribute.\n |  \n |  drop : 'first' or a array-like of shape (n_features,), default=None\n |      Specifies a methodology to use to drop one of the categories per\n |      feature. This is useful in situations where perfectly collinear\n |      features cause problems, such as when feeding the resulting data\n |      into a neural network or an unregularized regression.\n |  \n |      - None : retain all features (the default).\n |      - 'first' : drop the first category in each feature. If only one\n |        category is present, the feature will be dropped entirely.\n |      - array : ``drop[i]`` is the category in feature ``X[:, i]`` that\n |        should be dropped.\n |  \n |  sparse : bool, default=True\n |      Will return sparse matrix if set True else will return an array.\n |  \n |  dtype : number type, default=np.float\n |      Desired dtype of output.\n |  \n |  handle_unknown : {'error', 'ignore'}, default='error'\n |      Whether to raise an error or ignore if an unknown categorical feature\n |      is present during transform (default is to raise). When this parameter\n |      is set to 'ignore' and an unknown category is encountered during\n |      transform, the resulting one-hot encoded columns for this feature\n |      will be all zeros. In the inverse transform, an unknown category\n |      will be denoted as None.\n |  \n |  Attributes\n |  ----------\n |  categories_ : list of arrays\n |      The categories of each feature determined during fitting\n |      (in order of the features in X and corresponding with the output\n |      of ``transform``). This includes the category specified in ``drop``\n |      (if any).\n |  \n |  drop_idx_ : array of shape (n_features,)\n |      ``drop_idx_[i]`` is the index in ``categories_[i]`` of the category to\n |      be dropped for each feature. None if all the transformed features will\n |      be retained.\n |  \n |  See Also\n |  --------\n |  sklearn.preprocessing.OrdinalEncoder : Performs an ordinal (integer)\n |    encoding of the categorical features.\n |  sklearn.feature_extraction.DictVectorizer : Performs a one-hot encoding of\n |    dictionary items (also handles string-valued features).\n |  sklearn.feature_extraction.FeatureHasher : Performs an approximate one-hot\n |    encoding of dictionary items or strings.\n |  sklearn.preprocessing.LabelBinarizer : Binarizes labels in a one-vs-all\n |    fashion.\n |  sklearn.preprocessing.MultiLabelBinarizer : Transforms between iterable of\n |    iterables and a multilabel format, e.g. a (samples x classes) binary\n |    matrix indicating the presence of a class label.\n |  \n |  Examples\n |  --------\n |  Given a dataset with two features, we let the encoder find the unique\n |  values per feature and transform the data to a binary one-hot encoding.\n |  \n |  >>> from sklearn.preprocessing import OneHotEncoder\n |  >>> enc = OneHotEncoder(handle_unknown='ignore')\n |  >>> X = [['Male', 1], ['Female', 3], ['Female', 2]]\n |  >>> enc.fit(X)\n |  OneHotEncoder(handle_unknown='ignore')\n |  >>> enc.categories_\n |  [array(['Female', 'Male'], dtype=object), array([1, 2, 3], dtype=object)]\n |  >>> enc.transform([['Female', 1], ['Male', 4]]).toarray()\n |  array([[1., 0., 1., 0., 0.],\n |         [0., 1., 0., 0., 0.]])\n |  >>> enc.inverse_transform([[0, 1, 1, 0, 0], [0, 0, 0, 1, 0]])\n |  array([['Male', 1],\n |         [None, 2]], dtype=object)\n |  >>> enc.get_feature_names(['gender', 'group'])\n |  array(['gender_Female', 'gender_Male', 'group_1', 'group_2', 'group_3'],\n |    dtype=object)\n |  >>> drop_enc = OneHotEncoder(drop='first').fit(X)\n |  >>> drop_enc.categories_\n |  [array(['Female', 'Male'], dtype=object), array([1, 2, 3], dtype=object)]\n |  >>> drop_enc.transform([['Female', 1], ['Male', 2]]).toarray()\n |  array([[0., 0., 0.],\n |         [1., 1., 0.]])\n |  \n |  Method resolution order:\n |      OneHotEncoder\n |      _BaseEncoder\n |      sklearn.base.TransformerMixin\n |      sklearn.base.BaseEstimator\n |      builtins.object\n |  \n |  Methods defined here:\n |  \n |  __init__(self, categories='auto', drop=None, sparse=True, dtype=<class 'numpy.float64'>, handle_unknown='error')\n |      Initialize self.  See help(type(self)) for accurate signature.\n |  \n |  fit(self, X, y=None)\n |      Fit OneHotEncoder to X.\n |      \n |      Parameters\n |      ----------\n |      X : array-like, shape [n_samples, n_features]\n |          The data to determine the categories of each feature.\n |      \n |      y : None\n |          Ignored. This parameter exists only for compatibility with\n |          :class:`sklearn.pipeline.Pipeline`.\n |      \n |      Returns\n |      -------\n |      self\n |  \n |  fit_transform(self, X, y=None)\n |      Fit OneHotEncoder to X, then transform X.\n |      \n |      Equivalent to fit(X).transform(X) but more convenient.\n |      \n |      Parameters\n |      ----------\n |      X : array-like, shape [n_samples, n_features]\n |          The data to encode.\n |      \n |      y : None\n |          Ignored. This parameter exists only for compatibility with\n |          :class:`sklearn.pipeline.Pipeline`.\n |      \n |      Returns\n |      -------\n |      X_out : sparse matrix if sparse=True else a 2-d array\n |          Transformed input.\n |  \n |  get_feature_names(self, input_features=None)\n |      Return feature names for output features.\n |      \n |      Parameters\n |      ----------\n |      input_features : list of str of shape (n_features,)\n |          String names for input features if available. By default,\n |          \"x0\", \"x1\", ... \"xn_features\" is used.\n |      \n |      Returns\n |      -------\n |      output_feature_names : ndarray of shape (n_output_features,)\n |          Array of feature names.\n |  \n |  inverse_transform(self, X)\n |      Convert the data back to the original representation.\n |      \n |      In case unknown categories are encountered (all zeros in the\n |      one-hot encoding), ``None`` is used to represent this category.\n |      \n |      Parameters\n |      ----------\n |      X : array-like or sparse matrix, shape [n_samples, n_encoded_features]\n |          The transformed data.\n |      \n |      Returns\n |      -------\n |      X_tr : array-like, shape [n_samples, n_features]\n |          Inverse transformed array.\n |  \n |  transform(self, X)\n |      Transform X using one-hot encoding.\n |      \n |      Parameters\n |      ----------\n |      X : array-like, shape [n_samples, n_features]\n |          The data to encode.\n |      \n |      Returns\n |      -------\n |      X_out : sparse matrix if sparse=True else a 2-d array\n |          Transformed input.\n |  \n |  ----------------------------------------------------------------------\n |  Data descriptors inherited from sklearn.base.TransformerMixin:\n |  \n |  __dict__\n |      dictionary for instance variables (if defined)\n |  \n |  __weakref__\n |      list of weak references to the object (if defined)\n |  \n |  ----------------------------------------------------------------------\n |  Methods inherited from sklearn.base.BaseEstimator:\n |  \n |  __getstate__(self)\n |  \n |  __repr__(self, N_CHAR_MAX=700)\n |      Return repr(self).\n |  \n |  __setstate__(self, state)\n |  \n |  get_params(self, deep=True)\n |      Get parameters for this estimator.\n |      \n |      Parameters\n |      ----------\n |      deep : bool, default=True\n |          If True, will return the parameters for this estimator and\n |          contained subobjects that are estimators.\n |      \n |      Returns\n |      -------\n |      params : mapping of string to any\n |          Parameter names mapped to their values.\n |  \n |  set_params(self, **params)\n |      Set the parameters of this estimator.\n |      \n |      The method works on simple estimators as well as on nested objects\n |      (such as pipelines). The latter have parameters of the form\n |      ``<component>__<parameter>`` so that it's possible to update each\n |      component of a nested object.\n |      \n |      Parameters\n |      ----------\n |      **params : dict\n |          Estimator parameters.\n |      \n |      Returns\n |      -------\n |      self : object\n |          Estimator instance.\n\n"
    }
   ],
   "source": [
    "15.2 特征提取\n",
    "\n",
    "特征提取与特征选择有很大不同：前者是将文本或图像等任意数据转换为可用于机器学习的数值特征。后者是应用于这些特征的机器学习技术"
   ]
  },
  {
   "cell_type": "markdown",
   "execution_count": null,
   "metadata": {},
   "outputs": [],
   "source": [
    "15.2.1 loading 特征 from dicts"
   ]
  },
  {
   "cell_type": "markdown",
   "execution_count": null,
   "metadata": {},
   "outputs": [],
   "source": [
    "DictVectorizer类可用于将表示为标准Python dict对象 列表的要素数组转换为scikit-learn估计器使用的NumPy / SciPy表示形式。\n",
    "\n",
    "当对处理速度无要求时，dict使用起来更方便\n",
    "\n",
    "DictVectorizer为分类（又称名义，离散）特征实现所谓的one-of-k编码或“one-hot”编码。\n",
    "\n",
    "分类特征是“属性-值”对，其中值被限制在可能性的离散列表中而无须排序 （例如主题标识符，对象类型，标签，名称...）"
   ]
  },
  {
   "cell_type": "code",
   "execution_count": 66,
   "metadata": {},
   "outputs": [
    {
     "name": "stdout",
     "output_type": "stream",
     "text": "[[ 1.  0.  0. 33.]\n [ 0.  1.  0. 12.]\n [ 0.  0.  1. 18.]]\n['city=Dubai', 'city=London', 'city=San Francisco', 'temperature']\n"
    }
   ],
   "source": [
    "measurements=[{'city':'Dubai','temperature':33},{'city':'London','temperature':12},{'city':'San Francisco','temperature':18}]\n",
    "\n",
    "from sklearn.feature_extraction import DictVectorizer\n",
    "vec=DictVectorizer()\n",
    "print(vec.fit_transform(measurements).toarray())\n",
    "#DictVectorizer为分类（又称名义，离散）特征实现“one-hot”编码。\n",
    "print(vec.get_feature_names())"
   ]
  },
  {
   "cell_type": "markdown",
   "execution_count": null,
   "metadata": {},
   "outputs": [],
   "source": [
    "15.2.2 text feature extraction"
   ]
  },
  {
   "cell_type": "markdown",
   "execution_count": null,
   "metadata": {},
   "outputs": [],
   "source": [
    "在数学中，bag(mset）是对集合概念的修改，与集合不同的是，集合的每个元素都可以有多个实例。 为每个元素提供的实例的个数称为该元素在多重集中的多重性"
   ]
  },
  {
   "cell_type": "markdown",
   "execution_count": null,
   "metadata": {},
   "outputs": [],
   "source": [
    "停用词是指诸如“和”，“该”，“他”之类的词，它们被认为在表示文本内容方面没有提供任何信息，可以将其删除以避免将其理解为预测的信号。 2然而，有时候，类似的单词对于预测很有用，例如在对写作风格或性格进行分类时。 3注意选择停用词列表。 流行的停用词列表可能包含对某些任务（例如计算机）具有高度信息意义的词。 4您还应确保对停用词列表进行的预处理和标记化与在矢量化程序中使用的预处理和标记化相同。"
   ]
  },
  {
   "cell_type": "markdown",
   "execution_count": null,
   "metadata": {},
   "outputs": [],
   "source": [
    "15.2.3 image feature extraction"
   ]
  },
  {
   "cell_type": "markdown",
   "execution_count": null,
   "metadata": {},
   "outputs": [],
   "source": [
    "15.3 Preprocessing data"
   ]
  },
  {
   "cell_type": "markdown",
   "execution_count": null,
   "metadata": {},
   "outputs": [],
   "source": [
    "将数据转换为适用于模型构建的形式。并且如果数据集有异常值，robust scalers或者transformers会更合适。具体方法见5"
   ]
  },
  {
   "cell_type": "markdown",
   "execution_count": null,
   "metadata": {},
   "outputs": [],
   "source": [
    "15.4 imputation of missing values缺失值的估算"
   ]
  },
  {
   "cell_type": "markdown",
   "execution_count": null,
   "metadata": {},
   "outputs": [],
   "source": [
    "缺失值可能是：blank空白，NaN空值或其他占位符等，但scikit-learn的估计器假定所有的值都是数值型。"
   ]
  },
  {
   "cell_type": "markdown",
   "execution_count": null,
   "metadata": {},
   "outputs": [],
   "source": [
    "15.4.1 Univariate vs. Multivariate Imputation"
   ]
  },
  {
   "cell_type": "markdown",
   "execution_count": null,
   "metadata": {},
   "outputs": [],
   "source": [
    "impute.SimpleImputer仅根据缺失值所在变量的非缺失值进行推算；当strategy为'most_frequent'或'constant'时,可以支持用'string values'表示的分类数据或 pandas categorical\n",
    "\n",
    "impute.IterativeImputer根据整个数据集来估计缺失值。"
   ]
  },
  {
   "cell_type": "code",
   "execution_count": 67,
   "metadata": {},
   "outputs": [
    {
     "name": "stdout",
     "output_type": "stream",
     "text": "[[4.         2.        ]\n [6.         3.66666667]\n [7.         6.        ]]\n"
    }
   ],
   "source": [
    "import numpy as np\n",
    "from sklearn.impute import SimpleImputer\n",
    "imp=SimpleImputer(missing_values=np.nan,strategy='mean')\n",
    "imp.fit([[1,2],[np.nan,3],[7,6]])\n",
    "\n",
    "X=[[np.nan,2],[6,np.nan],[7,6]]\n",
    "print(imp.transform(X))\n",
    "#imp.fit([[1,2],[np.nan,3],[7,6]])计算得到平均值为[4,3.6],然后用这两个平均值去填补X中的缺失值。"
   ]
  },
  {
   "cell_type": "code",
   "execution_count": 68,
   "metadata": {},
   "outputs": [
    {
     "name": "stdout",
     "output_type": "stream",
     "text": "[['a' 'x']\n ['a' 'y']\n ['a' 'y']\n ['b' 'y']]\n"
    },
    {
     "data": {
      "text/html": "<div>\n<style scoped>\n    .dataframe tbody tr th:only-of-type {\n        vertical-align: middle;\n    }\n\n    .dataframe tbody tr th {\n        vertical-align: top;\n    }\n\n    .dataframe thead th {\n        text-align: right;\n    }\n</style>\n<table border=\"1\" class=\"dataframe\">\n  <thead>\n    <tr style=\"text-align: right;\">\n      <th></th>\n      <th>0</th>\n      <th>1</th>\n    </tr>\n  </thead>\n  <tbody>\n    <tr>\n      <td>0</td>\n      <td>a</td>\n      <td>x</td>\n    </tr>\n    <tr>\n      <td>1</td>\n      <td>NaN</td>\n      <td>y</td>\n    </tr>\n    <tr>\n      <td>2</td>\n      <td>a</td>\n      <td>NaN</td>\n    </tr>\n    <tr>\n      <td>3</td>\n      <td>b</td>\n      <td>y</td>\n    </tr>\n  </tbody>\n</table>\n</div>",
      "text/plain": "     0    1\n0    a    x\n1  NaN    y\n2    a  NaN\n3    b    y"
     },
     "execution_count": 68,
     "metadata": {},
     "output_type": "execute_result"
    }
   ],
   "source": [
    "import pandas as pd\n",
    "df=pd.DataFrame([['a','x'],[np.nan,'y'],['a',np.nan],['b','y']],dtype='category')\n",
    "imp=SimpleImputer(strategy='most_frequent')\n",
    "print(imp.fit_transform(df))\n",
    "df"
   ]
  },
  {
   "cell_type": "markdown",
   "execution_count": null,
   "metadata": {},
   "outputs": [],
   "source": [
    "Multivariate feature imputation\n",
    "有缺失值的特征将作为其他特征的函数，缺失值特征为y,其他特征为X，通过回归，利用已知数据去预测缺失值以达到填补的目的。针对每个特征以迭代循环方式完成此操作，然后重复max_iter插补回合中重复此操作。 返回最后一轮估算的结果。也就是说在预测缺失值时要计算很多轮，要达到一定的标准，这样提高填补精度。"
   ]
  },
  {
   "cell_type": "code",
   "execution_count": 69,
   "metadata": {},
   "outputs": [
    {
     "name": "stdout",
     "output_type": "stream",
     "text": "[[ 1.  2.]\n [ 6. 12.]\n [ 3.  6.]]\n"
    }
   ],
   "source": [
    "#注意先导入enable_iterative_imputer\n",
    "from sklearn.experimental import enable_iterative_imputer\n",
    "from sklearn.impute import IterativeImputer\n",
    "imp = IterativeImputer(max_iter=10, random_state=0)\n",
    "imp_fit=imp.fit([[1, 2], [3, 6], [4, 8], [np.nan, 3], [7, np.nan]])\n",
    "X_test = [[np.nan, 2], [6, np.nan], [np.nan, 6]]\n",
    "print(np.round(imp.transform(X_test)))\n",
    "#为了支持归纳模式下的插补，我们在``fit''阶段存储每个要素的估计量，并在``transform''阶段进行预测而无需重新拟合（按顺序）。"
   ]
  },
  {
   "cell_type": "markdown",
   "execution_count": null,
   "metadata": {},
   "outputs": [],
   "source": []
  },
  {
   "cell_type": "markdown",
   "execution_count": null,
   "metadata": {},
   "outputs": [],
   "source": [
    "15.4.2 单次与多次插补"
   ]
  },
  {
   "cell_type": "markdown",
   "execution_count": null,
   "metadata": {},
   "outputs": [],
   "source": [
    "在统计学界，通常的做法是执行多次计算，例如，为单个特征矩阵生成m个单独的计算。然后，每一个m的估算都通过后续的分析pipline(例如，特征工程、聚类、回归、分类)进行。m个最终分析结果(例如，延迟验证错误)允许数据科学家了解由于缺失值所导致的固有不确定性，分析结果可能会有何不同。上述做法称为多重插补。\n"
   ]
  },
  {
   "cell_type": "markdown",
   "execution_count": null,
   "metadata": {},
   "outputs": [],
   "source": [
    "实现IterativeImputer的灵感来自于R的MICE包[1]，但与之不同的是，我们返回了一个单一的插补，而不是多个插补。然而，当sample_posterior=True时，IterativeImputer也可以通过重复应用于具有不同随机种子的同一数据集来进行多次计算。\n",
    "当用户对由于缺失值而导致的测量不确定性不感兴趣时，单次和多次插补在预测和分类上下文中有多大用处，这仍然是一个有待解决的问题。"
   ]
  },
  {
   "cell_type": "markdown",
   "execution_count": null,
   "metadata": {},
   "outputs": [],
   "source": [
    "15.4.3 Nearest neighbors imputation"
   ]
  },
  {
   "cell_type": "markdown",
   "execution_count": null,
   "metadata": {},
   "outputs": [],
   "source": [
    "KNN Imputer类提供了使用k最近邻方法填充缺失值的插补。\n",
    "默认情况下，支持缺失值nan_euclidean_distances的欧几里得距离度量标准用于查找最近的邻居。\n",
    "使用n_neighbors个具有该特征值的最近邻居的值来估算每个缺失的特征。\n",
    "邻居的特征被均匀平均或通过到每个邻居的距离加权。\n",
    "如果一个样本缺少多个特征，则该样本的邻居可能会有所不同，具体取决于所插补的特定特征"
   ]
  },
  {
   "cell_type": "code",
   "execution_count": 70,
   "metadata": {},
   "outputs": [
    {
     "data": {
      "text/plain": "array([[1. , 2. , 4. ],\n       [3. , 4. , 3. ],\n       [5.5, 6. , 5. ],\n       [8. , 8. , 7. ]])"
     },
     "execution_count": 70,
     "metadata": {},
     "output_type": "execute_result"
    }
   ],
   "source": [
    "#以下代码段演示了如何使用具有缺失值的样本的两个最近邻居的平均特征值替换编码为asnp.nan的缺失值：\n",
    "import numpy as np\n",
    "from sklearn.impute import KNNImputer\n",
    "nan=np.nan\n",
    "X=[[1,2,nan],[3,4,3],[nan,6,5],[8,8,7]]\n",
    "imputer=KNNImputer(n_neighbors=2,weights='uniform')\n",
    "imputer.fit_transform(X)"
   ]
  },
  {
   "cell_type": "markdown",
   "execution_count": null,
   "metadata": {},
   "outputs": [],
   "source": [
    "15.4.4 Marking imputed values 标记缺失值"
   ]
  },
  {
   "cell_type": "markdown",
   "execution_count": null,
   "metadata": {},
   "outputs": [],
   "source": [
    "MissingIndicator转换器用于将数据集转换为相应的二进制矩阵，以指示数据集中缺失值的存在。这个变换与imputation结合起来是有用的。当使用插补时，保存关于哪些值丢失的信息可以提供有用的信息。\n",
    "\n",
    "SimpleImputer与IterativeImputer中可通过设置参数add_indicator为True，使结果中保存有MissingIndicator的转换结果。\n",
    "\n",
    "NaN通常用作缺少值的占位符。但是，它强制数据类型为浮点数。参数missing_values允许指定其他占位符，如整数。 在以下示例中，我们将使用-1作为缺失值。\n",
    "\n",
    "参数features用于选择构造掩码的特征。默认情况下，它是 'missing-only',在fit时返回包含缺失值的特征的输入掩码.\n",
    "也就是说只返回包含缺失值的特征的识别结果，以下例子中第三列特征不包含缺失值，所以transform中没有该特征的识别结果，transform返回结果只有三列，而不是四列。"
   ]
  },
  {
   "cell_type": "code",
   "execution_count": 71,
   "metadata": {},
   "outputs": [
    {
     "data": {
      "text/plain": "array([0, 1, 3], dtype=int64)"
     },
     "execution_count": 71,
     "metadata": {},
     "output_type": "execute_result"
    }
   ],
   "source": [
    "from sklearn.impute import MissingIndicator\n",
    "X=np.array([[-1,-1,1,3],[4,-1,0,-1],[8,-1,1,0]])\n",
    "indicator=MissingIndicator(missing_values=-1)\n",
    "mask_missing_values_only=indicator.fit_transform(X)\n",
    "mask_missing_values_only\n",
    "indicator.features_"
   ]
  },
  {
   "cell_type": "markdown",
   "execution_count": null,
   "metadata": {},
   "outputs": [],
   "source": [
    "15.5 Unsupervised dimensionality reduction"
   ]
  },
  {
   "cell_type": "markdown",
   "execution_count": null,
   "metadata": {},
   "outputs": [],
   "source": [
    "如果数据集特征数特别多，用一个Unsupervised dimensionality reduction对于减少特征数是很有帮助的。具体有PCA主成分分析；random projection模块,以及应用cluster.FeatureAgglomeration实现分层聚类，将行为相似的特征分组在一起。"
   ]
  },
  {
   "cell_type": "markdown",
   "execution_count": null,
   "metadata": {},
   "outputs": [],
   "source": [
    "15.6 sklearn.random_projection"
   ]
  },
  {
   "cell_type": "markdown",
   "execution_count": null,
   "metadata": {},
   "outputs": [],
   "source": [
    "sklearn.random_projection是一个简单且计算简洁的降维module,用更快的运行速度，更少的样本量来达到预定的精度。\n",
    "\n",
    "该模块实现两种非结构化随机矩阵：高斯随机矩阵和稀疏随机矩阵。\n",
    "控制随机投影矩阵的维度和分布，以保留数据集的任何两个样本之间的成对距离。 因此，随机投影是基于距离的方法的合适的近似技术。\n",
    "\n"
   ]
  },
  {
   "cell_type": "markdown",
   "execution_count": null,
   "metadata": {},
   "outputs": [],
   "source": [
    "15.6.1 Gaussian random projection"
   ]
  },
  {
   "cell_type": "markdown",
   "execution_count": null,
   "metadata": {},
   "outputs": [],
   "source": [
    "假如当前有一个n*d的数据集，d是非常非常大，现在想要降维数据集至n*k,k是2到10范围内的数。对于高斯random projection,创建一个映射矩阵R,其维度是d*k.并且$R_{ij}\\sim N(0,1)$独立同分布。\n",
    "\n",
    "$Y=\\frac{1}{\\sqrt k} XR$,通过将数据集矩阵与投影矩阵相乘，得到的Y是n*k的维度，$\\frac{1}{\\sqrt k}$能够确保现有的低维空间中的两点的欧几里得距离与原先高维空间中同样两点欧几里得距离是高度近似的。\n",
    "\n",
    "sklearn.random_projection.GaussianRandomProjection通过将原始数据映射到一个随机产生的矩阵达到降维目的。高斯随机矩阵由\n",
    "$N(0,\\frac{1}{n_{components}})$产生。"
   ]
  },
  {
   "cell_type": "code",
   "execution_count": 72,
   "metadata": {},
   "outputs": [
    {
     "data": {
      "text/plain": "(100, 3947)"
     },
     "execution_count": 72,
     "metadata": {},
     "output_type": "execute_result"
    }
   ],
   "source": [
    "import numpy as np\n",
    "from sklearn import random_projection\n",
    "X=np.random.rand(100,10000)\n",
    "transformer=random_projection.GaussianRandomProjection()\n",
    "X_new=transformer.fit_transform(X)\n",
    "X_new.shape"
   ]
  },
  {
   "cell_type": "markdown",
   "execution_count": null,
   "metadata": {},
   "outputs": [],
   "source": [
    "15.7 其他数据集转换方法"
   ]
  },
  {
   "cell_type": "markdown",
   "execution_count": null,
   "metadata": {},
   "outputs": [],
   "source": [
    "15.7.1 Kernel Approximation核近似"
   ]
  },
  {
   "cell_type": "markdown",
   "execution_count": null,
   "metadata": {},
   "outputs": [],
   "source": [
    "这个submodule包含一些核工具，如支持向量机中的核函数。"
   ]
  },
  {
   "cell_type": "markdown",
   "execution_count": null,
   "metadata": {},
   "outputs": [],
   "source": [
    "15.7.2 Pairwise metrics,Affinities and Kernels\n",
    "\n",
    "sklearn.metrics.pairwise子模块实现了实用程序来评估成对的距离或样本集的亲和力"
   ]
  },
  {
   "cell_type": "markdown",
   "execution_count": null,
   "metadata": {},
   "outputs": [],
   "source": [
    "16.数据集导入--从别处下载/导入，或者自己生成(sklearn.datasets)"
   ]
  },
  {
   "cell_type": "markdown",
   "execution_count": null,
   "metadata": {},
   "outputs": [],
   "source": [
    "sklearn.datasets程序包嵌入了一些小的玩具数据集(load)。\n",
    "该程序包还具有帮助程序来获取机器学习社区常用的较大数据集，以对来自“现实世界”的数据进行算法基准测试的功能(fetch)。\n",
    "评估数据规模的影响（n_samples和n_features），同时控制数据的统计属性（通常是特征的相关性和信息性），也可以生成综合数据"
   ]
  },
  {
   "cell_type": "markdown",
   "execution_count": null,
   "metadata": {},
   "outputs": [],
   "source": [
    "16.1 General dataset API"
   ]
  },
  {
   "cell_type": "markdown",
   "execution_count": null,
   "metadata": {},
   "outputs": [],
   "source": [
    "无论是fetch大数据，还是load小数据，返回的都是字典对象，至少2个items,一个是n\\_samples*n\\_features的数组，另一个是keys.除此以外也返回包含长度为n\\_samples的target，且具有key'target'"
   ]
  },
  {
   "cell_type": "markdown",
   "execution_count": null,
   "metadata": {},
   "outputs": [],
   "source": [
    "通过设置return_X_y参数可以以元组方式获得data和target."
   ]
  },
  {
   "cell_type": "markdown",
   "execution_count": null,
   "metadata": {},
   "outputs": [],
   "source": [
    "the dataset generation functions：\n",
    "\n",
    "Toy datasets--load_boston()\n",
    "\n",
    "Real world datasets--fetch_20newsgroup"
   ]
  },
  {
   "cell_type": "markdown",
   "execution_count": null,
   "metadata": {},
   "outputs": [],
   "source": [
    "数据集生成功能。 它们可用于生成受控的合成数据集，如“生成的数据集”部分所述。这个函数返回一个tuple(X,y)，X是n_samples*n_features的数组，y是长度为n_samples的数组。"
   ]
  },
  {
   "cell_type": "markdown",
   "execution_count": null,
   "metadata": {},
   "outputs": [],
   "source": [
    "16.2 Generators for classification and clustering"
   ]
  },
  {
   "cell_type": "markdown",
   "execution_count": null,
   "metadata": {},
   "outputs": [],
   "source": [
    "scikit-learn有生成器，可以产生固定规模和复杂度的人工数据集。\n",
    "\n",
    "Single label：make_blobs和make_classification都通过为每个类分配一个或多个的正态分布簇来创建多类数据集。\n",
    "Multilabel：make_multilabel_classification生成带有多个标签的随机样本，反映出从主题混合中提取的一袋单词。"
   ]
  },
  {
   "cell_type": "markdown",
   "execution_count": null,
   "metadata": {},
   "outputs": [],
   "source": [
    "16.2.1 make_blobs"
   ]
  },
  {
   "cell_type": "markdown",
   "execution_count": null,
   "metadata": {},
   "outputs": [],
   "source": [
    "scikit中的make_blobs方法常被用来生成聚类算法的测试数据，直观地说，make_blobs会根据用户指定的特征数量，中心点数量，范围等来生成几类数据，这些数据可用于测试聚类算法的效果。\n",
    "\n",
    "sklearn.datasets.make_blobs(n_samples=100, n_features=2, centers=3, cluster_std=1.0, center_box=(-10.0, 10.0), shuffle=True,\n",
    " random_state=None)\n",
    "\n",
    "n_samples表示产生多少个数据;n_features表示数据是几维;centers表示数据点中心，可以输入int数字，代表有多少个中心，也可以输入几个坐标（fixed center locations）\n",
    "cluster_std表示分布的标准差"
   ]
  },
  {
   "cell_type": "code",
   "execution_count": 5,
   "metadata": {},
   "outputs": [
    {
     "data": {
      "image/png": "[encoded data removed]",
      "image/svg+xml": "<?xml version=\"1.0\" encoding=\"utf-8\" standalone=\"no\"?>\r\n<!DOCTYPE svg PUBLIC \"-//W3C//DTD SVG 1.1//EN\"\r\n  \"http://www.w3.org/Graphics/SVG/1.1/DTD/svg11.dtd\">\r\n<!-- Created with matplotlib (https://matplotlib.org/) -->\r\n<svg height=\"248.518125pt\" version=\"1.1\" viewBox=\"0 0 370.942187 248.518125\" width=\"370.942187pt\" xmlns=\"http://www.w3.org/2000/svg\" xmlns:xlink=\"http://www.w3.org/1999/xlink\">\r\n <defs>\r\n  <style type=\"text/css\">\r\n*{stroke-linecap:butt;stroke-linejoin:round;}\r\n  </style>\r\n </defs>\r\n <g id=\"figure_1\">\r\n  <g id=\"patch_1\">\r\n   <path d=\"M 0 248.518125 \r\nL 370.942187 248.518125 \r\nL 370.942187 0 \r\nL 0 0 \r\nz\r\n\" style=\"fill:none;\"/>\r\n  </g>\r\n  <g id=\"axes_1\">\r\n   <g id=\"patch_2\">\r\n    <path d=\"M 28.942188 224.64 \r\nL 363.742188 224.64 \r\nL 363.742188 7.2 \r\nL 28.942188 7.2 \r\nz\r\n\" style=\"fill:#ffffff;\"/>\r\n   </g>\r\n   <g id=\"PathCollection_1\">\r\n    <defs>\r\n     <path d=\"M 0 3 \r\nC 0.795609 3 1.55874 2.683901 2.12132 2.12132 \r\nC 2.683901 1.55874 3 0.795609 3 0 \r\nC 3 -0.795609 2.683901 -1.55874 2.12132 -2.12132 \r\nC 1.55874 -2.683901 0.795609 -3 0 -3 \r\nC -0.795609 -3 -1.55874 -2.683901 -2.12132 -2.12132 \r\nC -2.683901 -1.55874 -3 -0.795609 -3 0 \r\nC -3 0.795609 -2.683901 1.55874 -2.12132 2.12132 \r\nC -1.55874 2.683901 -0.795609 3 0 3 \r\nz\r\n\" id=\"C0_0_90baacc927\"/>\r\n    </defs>\r\n    <g clip-path=\"url(#p69fbd52871)\">\r\n     <use style=\"fill:#fde725;stroke:#fde725;\" x=\"126.049404\" xlink:href=\"#C0_0_90baacc927\" y=\"191.783909\"/>\r\n    </g>\r\n    <g clip-path=\"url(#p69fbd52871)\">\r\n     <use style=\"fill:#5ec962;stroke:#5ec962;\" x=\"305.934039\" xlink:href=\"#C0_0_90baacc927\" y=\"167.049487\"/>\r\n    </g>\r\n    <g clip-path=\"url(#p69fbd52871)\">\r\n     <use style=\"fill:#5ec962;stroke:#5ec962;\" x=\"288.47708\" xlink:href=\"#C0_0_90baacc927\" y=\"168.632391\"/>\r\n    </g>\r\n    <g clip-path=\"url(#p69fbd52871)\">\r\n     <use style=\"fill:#21918c;stroke:#21918c;\" x=\"72.643092\" xlink:href=\"#C0_0_90baacc927\" y=\"26.655997\"/>\r\n    </g>\r\n    <g clip-path=\"url(#p69fbd52871)\">\r\n     <use style=\"fill:#fde725;stroke:#fde725;\" x=\"122.937073\" xlink:href=\"#C0_0_90baacc927\" y=\"170.765033\"/>\r\n    </g>\r\n    <g clip-path=\"url(#p69fbd52871)\">\r\n     <use style=\"fill:#fde725;stroke:#fde725;\" x=\"150.755051\" xlink:href=\"#C0_0_90baacc927\" y=\"167.40544\"/>\r\n    </g>\r\n    <g clip-path=\"url(#p69fbd52871)\">\r\n     <use style=\"fill:#440154;stroke:#440154;\" x=\"322.165878\" xlink:href=\"#C0_0_90baacc927\" y=\"197.75637\"/>\r\n    </g>\r\n    <g clip-path=\"url(#p69fbd52871)\">\r\n     <use style=\"fill:#21918c;stroke:#21918c;\" x=\"74.053594\" xlink:href=\"#C0_0_90baacc927\" y=\"46.027949\"/>\r\n    </g>\r\n    <g clip-path=\"url(#p69fbd52871)\">\r\n     <use style=\"fill:#5ec962;stroke:#5ec962;\" x=\"251.74386\" xlink:href=\"#C0_0_90baacc927\" y=\"147.071418\"/>\r\n    </g>\r\n    <g clip-path=\"url(#p69fbd52871)\">\r\n     <use style=\"fill:#5ec962;stroke:#5ec962;\" x=\"274.919526\" xlink:href=\"#C0_0_90baacc927\" y=\"145.275527\"/>\r\n    </g>\r\n    <g clip-path=\"url(#p69fbd52871)\">\r\n     <use style=\"fill:#fde725;stroke:#fde725;\" x=\"95.741841\" xlink:href=\"#C0_0_90baacc927\" y=\"153.902364\"/>\r\n    </g>\r\n    <g clip-path=\"url(#p69fbd52871)\">\r\n     <use style=\"fill:#5ec962;stroke:#5ec962;\" x=\"268.003538\" xlink:href=\"#C0_0_90baacc927\" y=\"147.429597\"/>\r\n    </g>\r\n    <g clip-path=\"url(#p69fbd52871)\">\r\n     <use style=\"fill:#5ec962;stroke:#5ec962;\" x=\"279.655758\" xlink:href=\"#C0_0_90baacc927\" y=\"163.342864\"/>\r\n    </g>\r\n    <g clip-path=\"url(#p69fbd52871)\">\r\n     <use style=\"fill:#5ec962;stroke:#5ec962;\" x=\"284.739936\" xlink:href=\"#C0_0_90baacc927\" y=\"195.396356\"/>\r\n    </g>\r\n    <g clip-path=\"url(#p69fbd52871)\">\r\n     <use style=\"fill:#3b528b;stroke:#3b528b;\" x=\"193.700632\" xlink:href=\"#C0_0_90baacc927\" y=\"71.520895\"/>\r\n    </g>\r\n    <g clip-path=\"url(#p69fbd52871)\">\r\n     <use style=\"fill:#fde725;stroke:#fde725;\" x=\"125.758144\" xlink:href=\"#C0_0_90baacc927\" y=\"179.796397\"/>\r\n    </g>\r\n    <g clip-path=\"url(#p69fbd52871)\">\r\n     <use style=\"fill:#440154;stroke:#440154;\" x=\"339.07985\" xlink:href=\"#C0_0_90baacc927\" y=\"196.310379\"/>\r\n    </g>\r\n    <g clip-path=\"url(#p69fbd52871)\">\r\n     <use style=\"fill:#5ec962;stroke:#5ec962;\" x=\"273.382164\" xlink:href=\"#C0_0_90baacc927\" y=\"151.678248\"/>\r\n    </g>\r\n    <g clip-path=\"url(#p69fbd52871)\">\r\n     <use style=\"fill:#fde725;stroke:#fde725;\" x=\"135.120564\" xlink:href=\"#C0_0_90baacc927\" y=\"164.396508\"/>\r\n    </g>\r\n    <g clip-path=\"url(#p69fbd52871)\">\r\n     <use style=\"fill:#5ec962;stroke:#5ec962;\" x=\"276.010975\" xlink:href=\"#C0_0_90baacc927\" y=\"167.059128\"/>\r\n    </g>\r\n    <g clip-path=\"url(#p69fbd52871)\">\r\n     <use style=\"fill:#5ec962;stroke:#5ec962;\" x=\"270.178867\" xlink:href=\"#C0_0_90baacc927\" y=\"173.956594\"/>\r\n    </g>\r\n    <g clip-path=\"url(#p69fbd52871)\">\r\n     <use style=\"fill:#3b528b;stroke:#3b528b;\" x=\"185.110228\" xlink:href=\"#C0_0_90baacc927\" y=\"75.418083\"/>\r\n    </g>\r\n    <g clip-path=\"url(#p69fbd52871)\">\r\n     <use style=\"fill:#21918c;stroke:#21918c;\" x=\"61.930278\" xlink:href=\"#C0_0_90baacc927\" y=\"68.516211\"/>\r\n    </g>\r\n    <g clip-path=\"url(#p69fbd52871)\">\r\n     <use style=\"fill:#fde725;stroke:#fde725;\" x=\"107.339061\" xlink:href=\"#C0_0_90baacc927\" y=\"185.850794\"/>\r\n    </g>\r\n    <g clip-path=\"url(#p69fbd52871)\">\r\n     <use style=\"fill:#5ec962;stroke:#5ec962;\" x=\"276.932445\" xlink:href=\"#C0_0_90baacc927\" y=\"172.274836\"/>\r\n    </g>\r\n    <g clip-path=\"url(#p69fbd52871)\">\r\n     <use style=\"fill:#5ec962;stroke:#5ec962;\" x=\"279.358739\" xlink:href=\"#C0_0_90baacc927\" y=\"139.505696\"/>\r\n    </g>\r\n    <g clip-path=\"url(#p69fbd52871)\">\r\n     <use style=\"fill:#440154;stroke:#440154;\" x=\"348.402962\" xlink:href=\"#C0_0_90baacc927\" y=\"183.954077\"/>\r\n    </g>\r\n    <g clip-path=\"url(#p69fbd52871)\">\r\n     <use style=\"fill:#440154;stroke:#440154;\" x=\"328.278023\" xlink:href=\"#C0_0_90baacc927\" y=\"192.312766\"/>\r\n    </g>\r\n    <g clip-path=\"url(#p69fbd52871)\">\r\n     <use style=\"fill:#3b528b;stroke:#3b528b;\" x=\"186.083869\" xlink:href=\"#C0_0_90baacc927\" y=\"88.960121\"/>\r\n    </g>\r\n    <g clip-path=\"url(#p69fbd52871)\">\r\n     <use style=\"fill:#21918c;stroke:#21918c;\" x=\"77.849403\" xlink:href=\"#C0_0_90baacc927\" y=\"52.900337\"/>\r\n    </g>\r\n    <g clip-path=\"url(#p69fbd52871)\">\r\n     <use style=\"fill:#440154;stroke:#440154;\" x=\"339.520259\" xlink:href=\"#C0_0_90baacc927\" y=\"192.492171\"/>\r\n    </g>\r\n    <g clip-path=\"url(#p69fbd52871)\">\r\n     <use style=\"fill:#5ec962;stroke:#5ec962;\" x=\"260.375913\" xlink:href=\"#C0_0_90baacc927\" y=\"138.854145\"/>\r\n    </g>\r\n    <g clip-path=\"url(#p69fbd52871)\">\r\n     <use style=\"fill:#21918c;stroke:#21918c;\" x=\"102.319363\" xlink:href=\"#C0_0_90baacc927\" y=\"34.724022\"/>\r\n    </g>\r\n    <g clip-path=\"url(#p69fbd52871)\">\r\n     <use style=\"fill:#3b528b;stroke:#3b528b;\" x=\"180.503549\" xlink:href=\"#C0_0_90baacc927\" y=\"74.802221\"/>\r\n    </g>\r\n    <g clip-path=\"url(#p69fbd52871)\">\r\n     <use style=\"fill:#fde725;stroke:#fde725;\" x=\"103.685174\" xlink:href=\"#C0_0_90baacc927\" y=\"159.481809\"/>\r\n    </g>\r\n    <g clip-path=\"url(#p69fbd52871)\">\r\n     <use style=\"fill:#21918c;stroke:#21918c;\" x=\"74.510598\" xlink:href=\"#C0_0_90baacc927\" y=\"35.710902\"/>\r\n    </g>\r\n    <g clip-path=\"url(#p69fbd52871)\">\r\n     <use style=\"fill:#fde725;stroke:#fde725;\" x=\"119.76741\" xlink:href=\"#C0_0_90baacc927\" y=\"166.876928\"/>\r\n    </g>\r\n    <g clip-path=\"url(#p69fbd52871)\">\r\n     <use style=\"fill:#21918c;stroke:#21918c;\" x=\"63.120819\" xlink:href=\"#C0_0_90baacc927\" y=\"31.951028\"/>\r\n    </g>\r\n    <g clip-path=\"url(#p69fbd52871)\">\r\n     <use style=\"fill:#fde725;stroke:#fde725;\" x=\"127.63149\" xlink:href=\"#C0_0_90baacc927\" y=\"156.979019\"/>\r\n    </g>\r\n    <g clip-path=\"url(#p69fbd52871)\">\r\n     <use style=\"fill:#fde725;stroke:#fde725;\" x=\"114.084807\" xlink:href=\"#C0_0_90baacc927\" y=\"167.174898\"/>\r\n    </g>\r\n    <g clip-path=\"url(#p69fbd52871)\">\r\n     <use style=\"fill:#3b528b;stroke:#3b528b;\" x=\"208.936457\" xlink:href=\"#C0_0_90baacc927\" y=\"85.709384\"/>\r\n    </g>\r\n    <g clip-path=\"url(#p69fbd52871)\">\r\n     <use style=\"fill:#21918c;stroke:#21918c;\" x=\"106.850186\" xlink:href=\"#C0_0_90baacc927\" y=\"39.805086\"/>\r\n    </g>\r\n    <g clip-path=\"url(#p69fbd52871)\">\r\n     <use style=\"fill:#21918c;stroke:#21918c;\" x=\"82.88421\" xlink:href=\"#C0_0_90baacc927\" y=\"28.297326\"/>\r\n    </g>\r\n    <g clip-path=\"url(#p69fbd52871)\">\r\n     <use style=\"fill:#3b528b;stroke:#3b528b;\" x=\"170.363165\" xlink:href=\"#C0_0_90baacc927\" y=\"94.830285\"/>\r\n    </g>\r\n    <g clip-path=\"url(#p69fbd52871)\">\r\n     <use style=\"fill:#440154;stroke:#440154;\" x=\"347.432621\" xlink:href=\"#C0_0_90baacc927\" y=\"188.348921\"/>\r\n    </g>\r\n    <g clip-path=\"url(#p69fbd52871)\">\r\n     <use style=\"fill:#5ec962;stroke:#5ec962;\" x=\"275.492752\" xlink:href=\"#C0_0_90baacc927\" y=\"185.484033\"/>\r\n    </g>\r\n    <g clip-path=\"url(#p69fbd52871)\">\r\n     <use style=\"fill:#440154;stroke:#440154;\" x=\"335.437656\" xlink:href=\"#C0_0_90baacc927\" y=\"192.321318\"/>\r\n    </g>\r\n    <g clip-path=\"url(#p69fbd52871)\">\r\n     <use style=\"fill:#440154;stroke:#440154;\" x=\"330.27831\" xlink:href=\"#C0_0_90baacc927\" y=\"200.636703\"/>\r\n    </g>\r\n    <g clip-path=\"url(#p69fbd52871)\">\r\n     <use style=\"fill:#21918c;stroke:#21918c;\" x=\"61.013903\" xlink:href=\"#C0_0_90baacc927\" y=\"48.650903\"/>\r\n    </g>\r\n    <g clip-path=\"url(#p69fbd52871)\">\r\n     <use style=\"fill:#5ec962;stroke:#5ec962;\" x=\"278.451564\" xlink:href=\"#C0_0_90baacc927\" y=\"196.475807\"/>\r\n    </g>\r\n    <g clip-path=\"url(#p69fbd52871)\">\r\n     <use style=\"fill:#5ec962;stroke:#5ec962;\" x=\"272.013774\" xlink:href=\"#C0_0_90baacc927\" y=\"173.001848\"/>\r\n    </g>\r\n    <g clip-path=\"url(#p69fbd52871)\">\r\n     <use style=\"fill:#21918c;stroke:#21918c;\" x=\"95.682926\" xlink:href=\"#C0_0_90baacc927\" y=\"36.896574\"/>\r\n    </g>\r\n    <g clip-path=\"url(#p69fbd52871)\">\r\n     <use style=\"fill:#3b528b;stroke:#3b528b;\" x=\"193.517996\" xlink:href=\"#C0_0_90baacc927\" y=\"68.070638\"/>\r\n    </g>\r\n    <g clip-path=\"url(#p69fbd52871)\">\r\n     <use style=\"fill:#fde725;stroke:#fde725;\" x=\"107.784846\" xlink:href=\"#C0_0_90baacc927\" y=\"193.116555\"/>\r\n    </g>\r\n    <g clip-path=\"url(#p69fbd52871)\">\r\n     <use style=\"fill:#21918c;stroke:#21918c;\" x=\"91.858313\" xlink:href=\"#C0_0_90baacc927\" y=\"59.977144\"/>\r\n    </g>\r\n    <g clip-path=\"url(#p69fbd52871)\">\r\n     <use style=\"fill:#fde725;stroke:#fde725;\" x=\"111.998349\" xlink:href=\"#C0_0_90baacc927\" y=\"161.839753\"/>\r\n    </g>\r\n    <g clip-path=\"url(#p69fbd52871)\">\r\n     <use style=\"fill:#fde725;stroke:#fde725;\" x=\"91.303788\" xlink:href=\"#C0_0_90baacc927\" y=\"190.924065\"/>\r\n    </g>\r\n    <g clip-path=\"url(#p69fbd52871)\">\r\n     <use style=\"fill:#21918c;stroke:#21918c;\" x=\"82.544469\" xlink:href=\"#C0_0_90baacc927\" y=\"19.727328\"/>\r\n    </g>\r\n    <g clip-path=\"url(#p69fbd52871)\">\r\n     <use style=\"fill:#3b528b;stroke:#3b528b;\" x=\"205.366096\" xlink:href=\"#C0_0_90baacc927\" y=\"89.993381\"/>\r\n    </g>\r\n    <g clip-path=\"url(#p69fbd52871)\">\r\n     <use style=\"fill:#fde725;stroke:#fde725;\" x=\"108.894118\" xlink:href=\"#C0_0_90baacc927\" y=\"186.810209\"/>\r\n    </g>\r\n    <g clip-path=\"url(#p69fbd52871)\">\r\n     <use style=\"fill:#21918c;stroke:#21918c;\" x=\"85.833781\" xlink:href=\"#C0_0_90baacc927\" y=\"46.591557\"/>\r\n    </g>\r\n    <g clip-path=\"url(#p69fbd52871)\">\r\n     <use style=\"fill:#5ec962;stroke:#5ec962;\" x=\"283.163857\" xlink:href=\"#C0_0_90baacc927\" y=\"156.462939\"/>\r\n    </g>\r\n    <g clip-path=\"url(#p69fbd52871)\">\r\n     <use style=\"fill:#3b528b;stroke:#3b528b;\" x=\"194.267834\" xlink:href=\"#C0_0_90baacc927\" y=\"88.129932\"/>\r\n    </g>\r\n    <g clip-path=\"url(#p69fbd52871)\">\r\n     <use style=\"fill:#fde725;stroke:#fde725;\" x=\"116.784617\" xlink:href=\"#C0_0_90baacc927\" y=\"187.877931\"/>\r\n    </g>\r\n    <g clip-path=\"url(#p69fbd52871)\">\r\n     <use style=\"fill:#3b528b;stroke:#3b528b;\" x=\"203.378197\" xlink:href=\"#C0_0_90baacc927\" y=\"78.078122\"/>\r\n    </g>\r\n    <g clip-path=\"url(#p69fbd52871)\">\r\n     <use style=\"fill:#21918c;stroke:#21918c;\" x=\"44.281413\" xlink:href=\"#C0_0_90baacc927\" y=\"17.250481\"/>\r\n    </g>\r\n    <g clip-path=\"url(#p69fbd52871)\">\r\n     <use style=\"fill:#440154;stroke:#440154;\" x=\"319.983819\" xlink:href=\"#C0_0_90baacc927\" y=\"168.177053\"/>\r\n    </g>\r\n    <g clip-path=\"url(#p69fbd52871)\">\r\n     <use style=\"fill:#21918c;stroke:#21918c;\" x=\"82.734294\" xlink:href=\"#C0_0_90baacc927\" y=\"51.945207\"/>\r\n    </g>\r\n    <g clip-path=\"url(#p69fbd52871)\">\r\n     <use style=\"fill:#440154;stroke:#440154;\" x=\"320.581586\" xlink:href=\"#C0_0_90baacc927\" y=\"180.681353\"/>\r\n    </g>\r\n    <g clip-path=\"url(#p69fbd52871)\">\r\n     <use style=\"fill:#3b528b;stroke:#3b528b;\" x=\"221.903462\" xlink:href=\"#C0_0_90baacc927\" y=\"89.582257\"/>\r\n    </g>\r\n    <g clip-path=\"url(#p69fbd52871)\">\r\n     <use style=\"fill:#440154;stroke:#440154;\" x=\"338.854083\" xlink:href=\"#C0_0_90baacc927\" y=\"188.182362\"/>\r\n    </g>\r\n    <g clip-path=\"url(#p69fbd52871)\">\r\n     <use style=\"fill:#3b528b;stroke:#3b528b;\" x=\"192.915749\" xlink:href=\"#C0_0_90baacc927\" y=\"80.721671\"/>\r\n    </g>\r\n    <g clip-path=\"url(#p69fbd52871)\">\r\n     <use style=\"fill:#21918c;stroke:#21918c;\" x=\"87.471437\" xlink:href=\"#C0_0_90baacc927\" y=\"51.098949\"/>\r\n    </g>\r\n    <g clip-path=\"url(#p69fbd52871)\">\r\n     <use style=\"fill:#440154;stroke:#440154;\" x=\"331.001105\" xlink:href=\"#C0_0_90baacc927\" y=\"209.507204\"/>\r\n    </g>\r\n    <g clip-path=\"url(#p69fbd52871)\">\r\n     <use style=\"fill:#3b528b;stroke:#3b528b;\" x=\"182.492537\" xlink:href=\"#C0_0_90baacc927\" y=\"71.021886\"/>\r\n    </g>\r\n    <g clip-path=\"url(#p69fbd52871)\">\r\n     <use style=\"fill:#440154;stroke:#440154;\" x=\"328.38193\" xlink:href=\"#C0_0_90baacc927\" y=\"186.499524\"/>\r\n    </g>\r\n    <g clip-path=\"url(#p69fbd52871)\">\r\n     <use style=\"fill:#fde725;stroke:#fde725;\" x=\"96.840292\" xlink:href=\"#C0_0_90baacc927\" y=\"159.600259\"/>\r\n    </g>\r\n    <g clip-path=\"url(#p69fbd52871)\">\r\n     <use style=\"fill:#3b528b;stroke:#3b528b;\" x=\"186.300499\" xlink:href=\"#C0_0_90baacc927\" y=\"74.07099\"/>\r\n    </g>\r\n    <g clip-path=\"url(#p69fbd52871)\">\r\n     <use style=\"fill:#3b528b;stroke:#3b528b;\" x=\"203.282398\" xlink:href=\"#C0_0_90baacc927\" y=\"71.760198\"/>\r\n    </g>\r\n    <g clip-path=\"url(#p69fbd52871)\">\r\n     <use style=\"fill:#21918c;stroke:#21918c;\" x=\"110.303749\" xlink:href=\"#C0_0_90baacc927\" y=\"53.469937\"/>\r\n    </g>\r\n    <g clip-path=\"url(#p69fbd52871)\">\r\n     <use style=\"fill:#440154;stroke:#440154;\" x=\"311.91932\" xlink:href=\"#C0_0_90baacc927\" y=\"180.801189\"/>\r\n    </g>\r\n    <g clip-path=\"url(#p69fbd52871)\">\r\n     <use style=\"fill:#5ec962;stroke:#5ec962;\" x=\"265.132877\" xlink:href=\"#C0_0_90baacc927\" y=\"158.448779\"/>\r\n    </g>\r\n    <g clip-path=\"url(#p69fbd52871)\">\r\n     <use style=\"fill:#5ec962;stroke:#5ec962;\" x=\"281.206561\" xlink:href=\"#C0_0_90baacc927\" y=\"155.373083\"/>\r\n    </g>\r\n    <g clip-path=\"url(#p69fbd52871)\">\r\n     <use style=\"fill:#440154;stroke:#440154;\" x=\"321.756819\" xlink:href=\"#C0_0_90baacc927\" y=\"214.589519\"/>\r\n    </g>\r\n    <g clip-path=\"url(#p69fbd52871)\">\r\n     <use style=\"fill:#440154;stroke:#440154;\" x=\"320.566862\" xlink:href=\"#C0_0_90baacc927\" y=\"185.681711\"/>\r\n    </g>\r\n    <g clip-path=\"url(#p69fbd52871)\">\r\n     <use style=\"fill:#440154;stroke:#440154;\" x=\"316.540798\" xlink:href=\"#C0_0_90baacc927\" y=\"198.011133\"/>\r\n    </g>\r\n    <g clip-path=\"url(#p69fbd52871)\">\r\n     <use style=\"fill:#21918c;stroke:#21918c;\" x=\"55.351452\" xlink:href=\"#C0_0_90baacc927\" y=\"33.841825\"/>\r\n    </g>\r\n    <g clip-path=\"url(#p69fbd52871)\">\r\n     <use style=\"fill:#3b528b;stroke:#3b528b;\" x=\"188.512727\" xlink:href=\"#C0_0_90baacc927\" y=\"66.787656\"/>\r\n    </g>\r\n    <g clip-path=\"url(#p69fbd52871)\">\r\n     <use style=\"fill:#440154;stroke:#440154;\" x=\"341.174873\" xlink:href=\"#C0_0_90baacc927\" y=\"195.252652\"/>\r\n    </g>\r\n    <g clip-path=\"url(#p69fbd52871)\">\r\n     <use style=\"fill:#440154;stroke:#440154;\" x=\"318.451472\" xlink:href=\"#C0_0_90baacc927\" y=\"196.328527\"/>\r\n    </g>\r\n    <g clip-path=\"url(#p69fbd52871)\">\r\n     <use style=\"fill:#21918c;stroke:#21918c;\" x=\"80.718569\" xlink:href=\"#C0_0_90baacc927\" y=\"26.003212\"/>\r\n    </g>\r\n    <g clip-path=\"url(#p69fbd52871)\">\r\n     <use style=\"fill:#3b528b;stroke:#3b528b;\" x=\"189.585731\" xlink:href=\"#C0_0_90baacc927\" y=\"94.096699\"/>\r\n    </g>\r\n    <g clip-path=\"url(#p69fbd52871)\">\r\n     <use style=\"fill:#3b528b;stroke:#3b528b;\" x=\"193.835929\" xlink:href=\"#C0_0_90baacc927\" y=\"87.248548\"/>\r\n    </g>\r\n    <g clip-path=\"url(#p69fbd52871)\">\r\n     <use style=\"fill:#fde725;stroke:#fde725;\" x=\"128.802361\" xlink:href=\"#C0_0_90baacc927\" y=\"173.786795\"/>\r\n    </g>\r\n    <g clip-path=\"url(#p69fbd52871)\">\r\n     <use style=\"fill:#440154;stroke:#440154;\" x=\"342.405742\" xlink:href=\"#C0_0_90baacc927\" y=\"186.316024\"/>\r\n    </g>\r\n    <g clip-path=\"url(#p69fbd52871)\">\r\n     <use style=\"fill:#3b528b;stroke:#3b528b;\" x=\"182.33387\" xlink:href=\"#C0_0_90baacc927\" y=\"77.998904\"/>\r\n    </g>\r\n    <g clip-path=\"url(#p69fbd52871)\">\r\n     <use style=\"fill:#fde725;stroke:#fde725;\" x=\"114.452504\" xlink:href=\"#C0_0_90baacc927\" y=\"171.396202\"/>\r\n    </g>\r\n    <g clip-path=\"url(#p69fbd52871)\">\r\n     <use style=\"fill:#5ec962;stroke:#5ec962;\" x=\"266.613037\" xlink:href=\"#C0_0_90baacc927\" y=\"173.199119\"/>\r\n    </g>\r\n    <g clip-path=\"url(#p69fbd52871)\">\r\n     <use style=\"fill:#3b528b;stroke:#3b528b;\" x=\"199.666484\" xlink:href=\"#C0_0_90baacc927\" y=\"67.900816\"/>\r\n    </g>\r\n    <g clip-path=\"url(#p69fbd52871)\">\r\n     <use style=\"fill:#fde725;stroke:#fde725;\" x=\"126.952802\" xlink:href=\"#C0_0_90baacc927\" y=\"174.963737\"/>\r\n    </g>\r\n   </g>\r\n   <g id=\"matplotlib.axis_1\">\r\n    <g id=\"xtick_1\">\r\n     <g id=\"line2d_1\">\r\n      <defs>\r\n       <path d=\"M 0 0 \r\nL 0 3.5 \r\n\" id=\"mf6929bf0d8\" style=\"stroke:#000000;stroke-width:0.8;\"/>\r\n      </defs>\r\n      <g>\r\n       <use style=\"stroke:#000000;stroke-width:0.8;\" x=\"79.449266\" xlink:href=\"#mf6929bf0d8\" y=\"224.64\"/>\r\n      </g>\r\n     </g>\r\n     <g id=\"text_1\">\r\n      <!-- −10 -->\r\n      <defs>\r\n       <path d=\"M 10.59375 35.5 \r\nL 73.1875 35.5 \r\nL 73.1875 27.203125 \r\nL 10.59375 27.203125 \r\nz\r\n\" id=\"DejaVuSans-8722\"/>\r\n       <path d=\"M 12.40625 8.296875 \r\nL 28.515625 8.296875 \r\nL 28.515625 63.921875 \r\nL 10.984375 60.40625 \r\nL 10.984375 69.390625 \r\nL 28.421875 72.90625 \r\nL 38.28125 72.90625 \r\nL 38.28125 8.296875 \r\nL 54.390625 8.296875 \r\nL 54.390625 0 \r\nL 12.40625 0 \r\nz\r\n\" id=\"DejaVuSans-49\"/>\r\n       <path d=\"M 31.78125 66.40625 \r\nQ 24.171875 66.40625 20.328125 58.90625 \r\nQ 16.5 51.421875 16.5 36.375 \r\nQ 16.5 21.390625 20.328125 13.890625 \r\nQ 24.171875 6.390625 31.78125 6.390625 \r\nQ 39.453125 6.390625 43.28125 13.890625 \r\nQ 47.125 21.390625 47.125 36.375 \r\nQ 47.125 51.421875 43.28125 58.90625 \r\nQ 39.453125 66.40625 31.78125 66.40625 \r\nz\r\nM 31.78125 74.21875 \r\nQ 44.046875 74.21875 50.515625 64.515625 \r\nQ 56.984375 54.828125 56.984375 36.375 \r\nQ 56.984375 17.96875 50.515625 8.265625 \r\nQ 44.046875 -1.421875 31.78125 -1.421875 \r\nQ 19.53125 -1.421875 13.0625 8.265625 \r\nQ 6.59375 17.96875 6.59375 36.375 \r\nQ 6.59375 54.828125 13.0625 64.515625 \r\nQ 19.53125 74.21875 31.78125 74.21875 \r\nz\r\n\" id=\"DejaVuSans-48\"/>\r\n      </defs>\r\n      <g transform=\"translate(68.896923 239.238437)scale(0.1 -0.1)\">\r\n       <use xlink:href=\"#DejaVuSans-8722\"/>\r\n       <use x=\"83.789062\" xlink:href=\"#DejaVuSans-49\"/>\r\n       <use x=\"147.412109\" xlink:href=\"#DejaVuSans-48\"/>\r\n      </g>\r\n     </g>\r\n    </g>\r\n    <g id=\"xtick_2\">\r\n     <g id=\"line2d_2\">\r\n      <g>\r\n       <use style=\"stroke:#000000;stroke-width:0.8;\" x=\"146.991788\" xlink:href=\"#mf6929bf0d8\" y=\"224.64\"/>\r\n      </g>\r\n     </g>\r\n     <g id=\"text_2\">\r\n      <!-- −5 -->\r\n      <defs>\r\n       <path d=\"M 10.796875 72.90625 \r\nL 49.515625 72.90625 \r\nL 49.515625 64.59375 \r\nL 19.828125 64.59375 \r\nL 19.828125 46.734375 \r\nQ 21.96875 47.46875 24.109375 47.828125 \r\nQ 26.265625 48.1875 28.421875 48.1875 \r\nQ 40.625 48.1875 47.75 41.5 \r\nQ 54.890625 34.8125 54.890625 23.390625 \r\nQ 54.890625 11.625 47.5625 5.09375 \r\nQ 40.234375 -1.421875 26.90625 -1.421875 \r\nQ 22.3125 -1.421875 17.546875 -0.640625 \r\nQ 12.796875 0.140625 7.71875 1.703125 \r\nL 7.71875 11.625 \r\nQ 12.109375 9.234375 16.796875 8.0625 \r\nQ 21.484375 6.890625 26.703125 6.890625 \r\nQ 35.15625 6.890625 40.078125 11.328125 \r\nQ 45.015625 15.765625 45.015625 23.390625 \r\nQ 45.015625 31 40.078125 35.4375 \r\nQ 35.15625 39.890625 26.703125 39.890625 \r\nQ 22.75 39.890625 18.8125 39.015625 \r\nQ 14.890625 38.140625 10.796875 36.28125 \r\nz\r\n\" id=\"DejaVuSans-53\"/>\r\n      </defs>\r\n      <g transform=\"translate(139.620694 239.238437)scale(0.1 -0.1)\">\r\n       <use xlink:href=\"#DejaVuSans-8722\"/>\r\n       <use x=\"83.789062\" xlink:href=\"#DejaVuSans-53\"/>\r\n      </g>\r\n     </g>\r\n    </g>\r\n    <g id=\"xtick_3\">\r\n     <g id=\"line2d_3\">\r\n      <g>\r\n       <use style=\"stroke:#000000;stroke-width:0.8;\" x=\"214.534309\" xlink:href=\"#mf6929bf0d8\" y=\"224.64\"/>\r\n      </g>\r\n     </g>\r\n     <g id=\"text_3\">\r\n      <!-- 0 -->\r\n      <g transform=\"translate(211.353059 239.238437)scale(0.1 -0.1)\">\r\n       <use xlink:href=\"#DejaVuSans-48\"/>\r\n      </g>\r\n     </g>\r\n    </g>\r\n    <g id=\"xtick_4\">\r\n     <g id=\"line2d_4\">\r\n      <g>\r\n       <use style=\"stroke:#000000;stroke-width:0.8;\" x=\"282.076831\" xlink:href=\"#mf6929bf0d8\" y=\"224.64\"/>\r\n      </g>\r\n     </g>\r\n     <g id=\"text_4\">\r\n      <!-- 5 -->\r\n      <g transform=\"translate(278.895581 239.238437)scale(0.1 -0.1)\">\r\n       <use xlink:href=\"#DejaVuSans-53\"/>\r\n      </g>\r\n     </g>\r\n    </g>\r\n    <g id=\"xtick_5\">\r\n     <g id=\"line2d_5\">\r\n      <g>\r\n       <use style=\"stroke:#000000;stroke-width:0.8;\" x=\"349.619352\" xlink:href=\"#mf6929bf0d8\" y=\"224.64\"/>\r\n      </g>\r\n     </g>\r\n     <g id=\"text_5\">\r\n      <!-- 10 -->\r\n      <g transform=\"translate(343.256852 239.238437)scale(0.1 -0.1)\">\r\n       <use xlink:href=\"#DejaVuSans-49\"/>\r\n       <use x=\"63.623047\" xlink:href=\"#DejaVuSans-48\"/>\r\n      </g>\r\n     </g>\r\n    </g>\r\n   </g>\r\n   <g id=\"matplotlib.axis_2\">\r\n    <g id=\"ytick_1\">\r\n     <g id=\"line2d_6\">\r\n      <defs>\r\n       <path d=\"M 0 0 \r\nL -3.5 0 \r\n\" id=\"mf4b3c88732\" style=\"stroke:#000000;stroke-width:0.8;\"/>\r\n      </defs>\r\n      <g>\r\n       <use style=\"stroke:#000000;stroke-width:0.8;\" x=\"28.942188\" xlink:href=\"#mf4b3c88732\" y=\"214.102336\"/>\r\n      </g>\r\n     </g>\r\n     <g id=\"text_6\">\r\n      <!-- −6 -->\r\n      <defs>\r\n       <path d=\"M 33.015625 40.375 \r\nQ 26.375 40.375 22.484375 35.828125 \r\nQ 18.609375 31.296875 18.609375 23.390625 \r\nQ 18.609375 15.53125 22.484375 10.953125 \r\nQ 26.375 6.390625 33.015625 6.390625 \r\nQ 39.65625 6.390625 43.53125 10.953125 \r\nQ 47.40625 15.53125 47.40625 23.390625 \r\nQ 47.40625 31.296875 43.53125 35.828125 \r\nQ 39.65625 40.375 33.015625 40.375 \r\nz\r\nM 52.59375 71.296875 \r\nL 52.59375 62.3125 \r\nQ 48.875 64.0625 45.09375 64.984375 \r\nQ 41.3125 65.921875 37.59375 65.921875 \r\nQ 27.828125 65.921875 22.671875 59.328125 \r\nQ 17.53125 52.734375 16.796875 39.40625 \r\nQ 19.671875 43.65625 24.015625 45.921875 \r\nQ 28.375 48.1875 33.59375 48.1875 \r\nQ 44.578125 48.1875 50.953125 41.515625 \r\nQ 57.328125 34.859375 57.328125 23.390625 \r\nQ 57.328125 12.15625 50.6875 5.359375 \r\nQ 44.046875 -1.421875 33.015625 -1.421875 \r\nQ 20.359375 -1.421875 13.671875 8.265625 \r\nQ 6.984375 17.96875 6.984375 36.375 \r\nQ 6.984375 53.65625 15.1875 63.9375 \r\nQ 23.390625 74.21875 37.203125 74.21875 \r\nQ 40.921875 74.21875 44.703125 73.484375 \r\nQ 48.484375 72.75 52.59375 71.296875 \r\nz\r\n\" id=\"DejaVuSans-54\"/>\r\n      </defs>\r\n      <g transform=\"translate(7.2 217.901555)scale(0.1 -0.1)\">\r\n       <use xlink:href=\"#DejaVuSans-8722\"/>\r\n       <use x=\"83.789062\" xlink:href=\"#DejaVuSans-54\"/>\r\n      </g>\r\n     </g>\r\n    </g>\r\n    <g id=\"ytick_2\">\r\n     <g id=\"line2d_7\">\r\n      <g>\r\n       <use style=\"stroke:#000000;stroke-width:0.8;\" x=\"28.942188\" xlink:href=\"#mf4b3c88732\" y=\"189.916525\"/>\r\n      </g>\r\n     </g>\r\n     <g id=\"text_7\">\r\n      <!-- −4 -->\r\n      <defs>\r\n       <path d=\"M 37.796875 64.3125 \r\nL 12.890625 25.390625 \r\nL 37.796875 25.390625 \r\nz\r\nM 35.203125 72.90625 \r\nL 47.609375 72.90625 \r\nL 47.609375 25.390625 \r\nL 58.015625 25.390625 \r\nL 58.015625 17.1875 \r\nL 47.609375 17.1875 \r\nL 47.609375 0 \r\nL 37.796875 0 \r\nL 37.796875 17.1875 \r\nL 4.890625 17.1875 \r\nL 4.890625 26.703125 \r\nz\r\n\" id=\"DejaVuSans-52\"/>\r\n      </defs>\r\n      <g transform=\"translate(7.2 193.715744)scale(0.1 -0.1)\">\r\n       <use xlink:href=\"#DejaVuSans-8722\"/>\r\n       <use x=\"83.789062\" xlink:href=\"#DejaVuSans-52\"/>\r\n      </g>\r\n     </g>\r\n    </g>\r\n    <g id=\"ytick_3\">\r\n     <g id=\"line2d_8\">\r\n      <g>\r\n       <use style=\"stroke:#000000;stroke-width:0.8;\" x=\"28.942188\" xlink:href=\"#mf4b3c88732\" y=\"165.730713\"/>\r\n      </g>\r\n     </g>\r\n     <g id=\"text_8\">\r\n      <!-- −2 -->\r\n      <defs>\r\n       <path d=\"M 19.1875 8.296875 \r\nL 53.609375 8.296875 \r\nL 53.609375 0 \r\nL 7.328125 0 \r\nL 7.328125 8.296875 \r\nQ 12.9375 14.109375 22.625 23.890625 \r\nQ 32.328125 33.6875 34.8125 36.53125 \r\nQ 39.546875 41.84375 41.421875 45.53125 \r\nQ 43.3125 49.21875 43.3125 52.78125 \r\nQ 43.3125 58.59375 39.234375 62.25 \r\nQ 35.15625 65.921875 28.609375 65.921875 \r\nQ 23.96875 65.921875 18.8125 64.3125 \r\nQ 13.671875 62.703125 7.8125 59.421875 \r\nL 7.8125 69.390625 \r\nQ 13.765625 71.78125 18.9375 73 \r\nQ 24.125 74.21875 28.421875 74.21875 \r\nQ 39.75 74.21875 46.484375 68.546875 \r\nQ 53.21875 62.890625 53.21875 53.421875 \r\nQ 53.21875 48.921875 51.53125 44.890625 \r\nQ 49.859375 40.875 45.40625 35.40625 \r\nQ 44.1875 33.984375 37.640625 27.21875 \r\nQ 31.109375 20.453125 19.1875 8.296875 \r\nz\r\n\" id=\"DejaVuSans-50\"/>\r\n      </defs>\r\n      <g transform=\"translate(7.2 169.529932)scale(0.1 -0.1)\">\r\n       <use xlink:href=\"#DejaVuSans-8722\"/>\r\n       <use x=\"83.789062\" xlink:href=\"#DejaVuSans-50\"/>\r\n      </g>\r\n     </g>\r\n    </g>\r\n    <g id=\"ytick_4\">\r\n     <g id=\"line2d_9\">\r\n      <g>\r\n       <use style=\"stroke:#000000;stroke-width:0.8;\" x=\"28.942188\" xlink:href=\"#mf4b3c88732\" y=\"141.544902\"/>\r\n      </g>\r\n     </g>\r\n     <g id=\"text_9\">\r\n      <!-- 0 -->\r\n      <g transform=\"translate(15.579688 145.344121)scale(0.1 -0.1)\">\r\n       <use xlink:href=\"#DejaVuSans-48\"/>\r\n      </g>\r\n     </g>\r\n    </g>\r\n    <g id=\"ytick_5\">\r\n     <g id=\"line2d_10\">\r\n      <g>\r\n       <use style=\"stroke:#000000;stroke-width:0.8;\" x=\"28.942188\" xlink:href=\"#mf4b3c88732\" y=\"117.359091\"/>\r\n      </g>\r\n     </g>\r\n     <g id=\"text_10\">\r\n      <!-- 2 -->\r\n      <g transform=\"translate(15.579688 121.15831)scale(0.1 -0.1)\">\r\n       <use xlink:href=\"#DejaVuSans-50\"/>\r\n      </g>\r\n     </g>\r\n    </g>\r\n    <g id=\"ytick_6\">\r\n     <g id=\"line2d_11\">\r\n      <g>\r\n       <use style=\"stroke:#000000;stroke-width:0.8;\" x=\"28.942188\" xlink:href=\"#mf4b3c88732\" y=\"93.173279\"/>\r\n      </g>\r\n     </g>\r\n     <g id=\"text_11\">\r\n      <!-- 4 -->\r\n      <g transform=\"translate(15.579688 96.972498)scale(0.1 -0.1)\">\r\n       <use xlink:href=\"#DejaVuSans-52\"/>\r\n      </g>\r\n     </g>\r\n    </g>\r\n    <g id=\"ytick_7\">\r\n     <g id=\"line2d_12\">\r\n      <g>\r\n       <use style=\"stroke:#000000;stroke-width:0.8;\" x=\"28.942188\" xlink:href=\"#mf4b3c88732\" y=\"68.987468\"/>\r\n      </g>\r\n     </g>\r\n     <g id=\"text_12\">\r\n      <!-- 6 -->\r\n      <g transform=\"translate(15.579688 72.786687)scale(0.1 -0.1)\">\r\n       <use xlink:href=\"#DejaVuSans-54\"/>\r\n      </g>\r\n     </g>\r\n    </g>\r\n    <g id=\"ytick_8\">\r\n     <g id=\"line2d_13\">\r\n      <g>\r\n       <use style=\"stroke:#000000;stroke-width:0.8;\" x=\"28.942188\" xlink:href=\"#mf4b3c88732\" y=\"44.801657\"/>\r\n      </g>\r\n     </g>\r\n     <g id=\"text_13\">\r\n      <!-- 8 -->\r\n      <defs>\r\n       <path d=\"M 31.78125 34.625 \r\nQ 24.75 34.625 20.71875 30.859375 \r\nQ 16.703125 27.09375 16.703125 20.515625 \r\nQ 16.703125 13.921875 20.71875 10.15625 \r\nQ 24.75 6.390625 31.78125 6.390625 \r\nQ 38.8125 6.390625 42.859375 10.171875 \r\nQ 46.921875 13.96875 46.921875 20.515625 \r\nQ 46.921875 27.09375 42.890625 30.859375 \r\nQ 38.875 34.625 31.78125 34.625 \r\nz\r\nM 21.921875 38.8125 \r\nQ 15.578125 40.375 12.03125 44.71875 \r\nQ 8.5 49.078125 8.5 55.328125 \r\nQ 8.5 64.0625 14.71875 69.140625 \r\nQ 20.953125 74.21875 31.78125 74.21875 \r\nQ 42.671875 74.21875 48.875 69.140625 \r\nQ 55.078125 64.0625 55.078125 55.328125 \r\nQ 55.078125 49.078125 51.53125 44.71875 \r\nQ 48 40.375 41.703125 38.8125 \r\nQ 48.828125 37.15625 52.796875 32.3125 \r\nQ 56.78125 27.484375 56.78125 20.515625 \r\nQ 56.78125 9.90625 50.3125 4.234375 \r\nQ 43.84375 -1.421875 31.78125 -1.421875 \r\nQ 19.734375 -1.421875 13.25 4.234375 \r\nQ 6.78125 9.90625 6.78125 20.515625 \r\nQ 6.78125 27.484375 10.78125 32.3125 \r\nQ 14.796875 37.15625 21.921875 38.8125 \r\nz\r\nM 18.3125 54.390625 \r\nQ 18.3125 48.734375 21.84375 45.5625 \r\nQ 25.390625 42.390625 31.78125 42.390625 \r\nQ 38.140625 42.390625 41.71875 45.5625 \r\nQ 45.3125 48.734375 45.3125 54.390625 \r\nQ 45.3125 60.0625 41.71875 63.234375 \r\nQ 38.140625 66.40625 31.78125 66.40625 \r\nQ 25.390625 66.40625 21.84375 63.234375 \r\nQ 18.3125 60.0625 18.3125 54.390625 \r\nz\r\n\" id=\"DejaVuSans-56\"/>\r\n      </defs>\r\n      <g transform=\"translate(15.579688 48.600875)scale(0.1 -0.1)\">\r\n       <use xlink:href=\"#DejaVuSans-56\"/>\r\n      </g>\r\n     </g>\r\n    </g>\r\n    <g id=\"ytick_9\">\r\n     <g id=\"line2d_14\">\r\n      <g>\r\n       <use style=\"stroke:#000000;stroke-width:0.8;\" x=\"28.942188\" xlink:href=\"#mf4b3c88732\" y=\"20.615845\"/>\r\n      </g>\r\n     </g>\r\n     <g id=\"text_14\">\r\n      <!-- 10 -->\r\n      <g transform=\"translate(9.217188 24.415064)scale(0.1 -0.1)\">\r\n       <use xlink:href=\"#DejaVuSans-49\"/>\r\n       <use x=\"63.623047\" xlink:href=\"#DejaVuSans-48\"/>\r\n      </g>\r\n     </g>\r\n    </g>\r\n   </g>\r\n   <g id=\"patch_3\">\r\n    <path d=\"M 28.942188 224.64 \r\nL 28.942188 7.2 \r\n\" style=\"fill:none;stroke:#000000;stroke-linecap:square;stroke-linejoin:miter;stroke-width:0.8;\"/>\r\n   </g>\r\n   <g id=\"patch_4\">\r\n    <path d=\"M 363.742188 224.64 \r\nL 363.742188 7.2 \r\n\" style=\"fill:none;stroke:#000000;stroke-linecap:square;stroke-linejoin:miter;stroke-width:0.8;\"/>\r\n   </g>\r\n   <g id=\"patch_5\">\r\n    <path d=\"M 28.942188 224.64 \r\nL 363.742188 224.64 \r\n\" style=\"fill:none;stroke:#000000;stroke-linecap:square;stroke-linejoin:miter;stroke-width:0.8;\"/>\r\n   </g>\r\n   <g id=\"patch_6\">\r\n    <path d=\"M 28.942188 7.2 \r\nL 363.742188 7.2 \r\n\" style=\"fill:none;stroke:#000000;stroke-linecap:square;stroke-linejoin:miter;stroke-width:0.8;\"/>\r\n   </g>\r\n  </g>\r\n </g>\r\n <defs>\r\n  <clipPath id=\"p69fbd52871\">\r\n   <rect height=\"217.44\" width=\"334.8\" x=\"28.942188\" y=\"7.2\"/>\r\n  </clipPath>\r\n </defs>\r\n</svg>\r\n",
      "text/plain": "<Figure size 432x288 with 1 Axes>"
     },
     "metadata": {
      "needs_background": "light"
     },
     "output_type": "display_data"
    }
   ],
   "source": [
    "#例子（生成三类数据用于聚类（100个样本，每个样本2个特征））：\n",
    "from sklearn.datasets import make_blobs\n",
    "from matplotlib import pyplot\n",
    "\n",
    "data,label=make_blobs(n_samples=100,n_features=2,centers=5)\n",
    "\n",
    "pyplot.scatter(data[:,0],data[:,1],c=label)\n",
    "pyplot.show()"
   ]
  },
  {
   "cell_type": "code",
   "execution_count": null,
   "metadata": {},
   "outputs": [],
   "source": [
    "#为每个类别设置不同的方差，只需要在上述代码中加入cluster_std参数\n"
   ]
  },
  {
   "cell_type": "code",
   "execution_count": 8,
   "metadata": {},
   "outputs": [
    {
     "data": {
      "image/png": "[encoded data removed]",
      "image/svg+xml": "<?xml version=\"1.0\" encoding=\"utf-8\" standalone=\"no\"?>\r\n<!DOCTYPE svg PUBLIC \"-//W3C//DTD SVG 1.1//EN\"\r\n  \"http://www.w3.org/Graphics/SVG/1.1/DTD/svg11.dtd\">\r\n<!-- Created with matplotlib (https://matplotlib.org/) -->\r\n<svg height=\"248.518125pt\" version=\"1.1\" viewBox=\"0 0 377.304687 248.518125\" width=\"377.304687pt\" xmlns=\"http://www.w3.org/2000/svg\" xmlns:xlink=\"http://www.w3.org/1999/xlink\">\r\n <defs>\r\n  <style type=\"text/css\">\r\n*{stroke-linecap:butt;stroke-linejoin:round;}\r\n  </style>\r\n </defs>\r\n <g id=\"figure_1\">\r\n  <g id=\"patch_1\">\r\n   <path d=\"M 0 248.518125 \r\nL 377.304687 248.518125 \r\nL 377.304687 0 \r\nL 0 0 \r\nz\r\n\" style=\"fill:none;\"/>\r\n  </g>\r\n  <g id=\"axes_1\">\r\n   <g id=\"patch_2\">\r\n    <path d=\"M 35.304688 224.64 \r\nL 370.104688 224.64 \r\nL 370.104688 7.2 \r\nL 35.304688 7.2 \r\nz\r\n\" style=\"fill:#ffffff;\"/>\r\n   </g>\r\n   <g id=\"PathCollection_1\">\r\n    <defs>\r\n     <path d=\"M 0 3 \r\nC 0.795609 3 1.55874 2.683901 2.12132 2.12132 \r\nC 2.683901 1.55874 3 0.795609 3 0 \r\nC 3 -0.795609 2.683901 -1.55874 2.12132 -2.12132 \r\nC 1.55874 -2.683901 0.795609 -3 0 -3 \r\nC -0.795609 -3 -1.55874 -2.683901 -2.12132 -2.12132 \r\nC -2.683901 -1.55874 -3 -0.795609 -3 0 \r\nC -3 0.795609 -2.683901 1.55874 -2.12132 2.12132 \r\nC -1.55874 2.683901 -0.795609 3 0 3 \r\nz\r\n\" id=\"C0_0_4e04e6735e\"/>\r\n    </defs>\r\n    <g clip-path=\"url(#p4fab97a832)\">\r\n     <use style=\"fill:#440154;stroke:#440154;\" x=\"188.885616\" xlink:href=\"#C0_0_4e04e6735e\" y=\"39.166479\"/>\r\n    </g>\r\n    <g clip-path=\"url(#p4fab97a832)\">\r\n     <use style=\"fill:#440154;stroke:#440154;\" x=\"217.274743\" xlink:href=\"#C0_0_4e04e6735e\" y=\"34.782361\"/>\r\n    </g>\r\n    <g clip-path=\"url(#p4fab97a832)\">\r\n     <use style=\"fill:#440154;stroke:#440154;\" x=\"194.554355\" xlink:href=\"#C0_0_4e04e6735e\" y=\"33.930588\"/>\r\n    </g>\r\n    <g clip-path=\"url(#p4fab97a832)\">\r\n     <use style=\"fill:#21918c;stroke:#21918c;\" x=\"221.933541\" xlink:href=\"#C0_0_4e04e6735e\" y=\"81.965892\"/>\r\n    </g>\r\n    <g clip-path=\"url(#p4fab97a832)\">\r\n     <use style=\"fill:#fde725;stroke:#fde725;\" x=\"192.27147\" xlink:href=\"#C0_0_4e04e6735e\" y=\"208.837554\"/>\r\n    </g>\r\n    <g clip-path=\"url(#p4fab97a832)\">\r\n     <use style=\"fill:#21918c;stroke:#21918c;\" x=\"205.676916\" xlink:href=\"#C0_0_4e04e6735e\" y=\"74.028795\"/>\r\n    </g>\r\n    <g clip-path=\"url(#p4fab97a832)\">\r\n     <use style=\"fill:#fde725;stroke:#fde725;\" x=\"354.669668\" xlink:href=\"#C0_0_4e04e6735e\" y=\"154.284445\"/>\r\n    </g>\r\n    <g clip-path=\"url(#p4fab97a832)\">\r\n     <use style=\"fill:#21918c;stroke:#21918c;\" x=\"166.312938\" xlink:href=\"#C0_0_4e04e6735e\" y=\"65.48466\"/>\r\n    </g>\r\n    <g clip-path=\"url(#p4fab97a832)\">\r\n     <use style=\"fill:#21918c;stroke:#21918c;\" x=\"235.329621\" xlink:href=\"#C0_0_4e04e6735e\" y=\"67.579021\"/>\r\n    </g>\r\n    <g clip-path=\"url(#p4fab97a832)\">\r\n     <use style=\"fill:#440154;stroke:#440154;\" x=\"209.705281\" xlink:href=\"#C0_0_4e04e6735e\" y=\"35.368621\"/>\r\n    </g>\r\n    <g clip-path=\"url(#p4fab97a832)\">\r\n     <use style=\"fill:#21918c;stroke:#21918c;\" x=\"163.898807\" xlink:href=\"#C0_0_4e04e6735e\" y=\"97.904381\"/>\r\n    </g>\r\n    <g clip-path=\"url(#p4fab97a832)\">\r\n     <use style=\"fill:#21918c;stroke:#21918c;\" x=\"172.002333\" xlink:href=\"#C0_0_4e04e6735e\" y=\"60.689527\"/>\r\n    </g>\r\n    <g clip-path=\"url(#p4fab97a832)\">\r\n     <use style=\"fill:#21918c;stroke:#21918c;\" x=\"169.419067\" xlink:href=\"#C0_0_4e04e6735e\" y=\"70.325121\"/>\r\n    </g>\r\n    <g clip-path=\"url(#p4fab97a832)\">\r\n     <use style=\"fill:#21918c;stroke:#21918c;\" x=\"210.606439\" xlink:href=\"#C0_0_4e04e6735e\" y=\"84.292586\"/>\r\n    </g>\r\n    <g clip-path=\"url(#p4fab97a832)\">\r\n     <use style=\"fill:#440154;stroke:#440154;\" x=\"209.52107\" xlink:href=\"#C0_0_4e04e6735e\" y=\"25.905526\"/>\r\n    </g>\r\n    <g clip-path=\"url(#p4fab97a832)\">\r\n     <use style=\"fill:#fde725;stroke:#fde725;\" x=\"200.536645\" xlink:href=\"#C0_0_4e04e6735e\" y=\"194.815531\"/>\r\n    </g>\r\n    <g clip-path=\"url(#p4fab97a832)\">\r\n     <use style=\"fill:#440154;stroke:#440154;\" x=\"207.133238\" xlink:href=\"#C0_0_4e04e6735e\" y=\"41.771541\"/>\r\n    </g>\r\n    <g clip-path=\"url(#p4fab97a832)\">\r\n     <use style=\"fill:#fde725;stroke:#fde725;\" x=\"185.374496\" xlink:href=\"#C0_0_4e04e6735e\" y=\"196.84199\"/>\r\n    </g>\r\n    <g clip-path=\"url(#p4fab97a832)\">\r\n     <use style=\"fill:#fde725;stroke:#fde725;\" x=\"221.3797\" xlink:href=\"#C0_0_4e04e6735e\" y=\"167.280565\"/>\r\n    </g>\r\n    <g clip-path=\"url(#p4fab97a832)\">\r\n     <use style=\"fill:#21918c;stroke:#21918c;\" x=\"229.544725\" xlink:href=\"#C0_0_4e04e6735e\" y=\"70.775074\"/>\r\n    </g>\r\n    <g clip-path=\"url(#p4fab97a832)\">\r\n     <use style=\"fill:#fde725;stroke:#fde725;\" x=\"181.891983\" xlink:href=\"#C0_0_4e04e6735e\" y=\"194.314082\"/>\r\n    </g>\r\n    <g clip-path=\"url(#p4fab97a832)\">\r\n     <use style=\"fill:#21918c;stroke:#21918c;\" x=\"202.59376\" xlink:href=\"#C0_0_4e04e6735e\" y=\"104.22088\"/>\r\n    </g>\r\n    <g clip-path=\"url(#p4fab97a832)\">\r\n     <use style=\"fill:#21918c;stroke:#21918c;\" x=\"273.945873\" xlink:href=\"#C0_0_4e04e6735e\" y=\"74.612774\"/>\r\n    </g>\r\n    <g clip-path=\"url(#p4fab97a832)\">\r\n     <use style=\"fill:#fde725;stroke:#fde725;\" x=\"174.671916\" xlink:href=\"#C0_0_4e04e6735e\" y=\"122.857099\"/>\r\n    </g>\r\n    <g clip-path=\"url(#p4fab97a832)\">\r\n     <use style=\"fill:#fde725;stroke:#fde725;\" x=\"277.938325\" xlink:href=\"#C0_0_4e04e6735e\" y=\"186.575256\"/>\r\n    </g>\r\n    <g clip-path=\"url(#p4fab97a832)\">\r\n     <use style=\"fill:#440154;stroke:#440154;\" x=\"168.931331\" xlink:href=\"#C0_0_4e04e6735e\" y=\"26.244829\"/>\r\n    </g>\r\n    <g clip-path=\"url(#p4fab97a832)\">\r\n     <use style=\"fill:#440154;stroke:#440154;\" x=\"207.943236\" xlink:href=\"#C0_0_4e04e6735e\" y=\"31.550196\"/>\r\n    </g>\r\n    <g clip-path=\"url(#p4fab97a832)\">\r\n     <use style=\"fill:#fde725;stroke:#fde725;\" x=\"265.10462\" xlink:href=\"#C0_0_4e04e6735e\" y=\"187.573281\"/>\r\n    </g>\r\n    <g clip-path=\"url(#p4fab97a832)\">\r\n     <use style=\"fill:#fde725;stroke:#fde725;\" x=\"299.654265\" xlink:href=\"#C0_0_4e04e6735e\" y=\"181.00665\"/>\r\n    </g>\r\n    <g clip-path=\"url(#p4fab97a832)\">\r\n     <use style=\"fill:#fde725;stroke:#fde725;\" x=\"257.805416\" xlink:href=\"#C0_0_4e04e6735e\" y=\"203.663762\"/>\r\n    </g>\r\n    <g clip-path=\"url(#p4fab97a832)\">\r\n     <use style=\"fill:#21918c;stroke:#21918c;\" x=\"218.209487\" xlink:href=\"#C0_0_4e04e6735e\" y=\"101.08576\"/>\r\n    </g>\r\n    <g clip-path=\"url(#p4fab97a832)\">\r\n     <use style=\"fill:#21918c;stroke:#21918c;\" x=\"119.634523\" xlink:href=\"#C0_0_4e04e6735e\" y=\"59.419603\"/>\r\n    </g>\r\n    <g clip-path=\"url(#p4fab97a832)\">\r\n     <use style=\"fill:#fde725;stroke:#fde725;\" x=\"198.724821\" xlink:href=\"#C0_0_4e04e6735e\" y=\"185.534968\"/>\r\n    </g>\r\n    <g clip-path=\"url(#p4fab97a832)\">\r\n     <use style=\"fill:#440154;stroke:#440154;\" x=\"187.787403\" xlink:href=\"#C0_0_4e04e6735e\" y=\"20.122422\"/>\r\n    </g>\r\n    <g clip-path=\"url(#p4fab97a832)\">\r\n     <use style=\"fill:#21918c;stroke:#21918c;\" x=\"193.496823\" xlink:href=\"#C0_0_4e04e6735e\" y=\"77.423243\"/>\r\n    </g>\r\n    <g clip-path=\"url(#p4fab97a832)\">\r\n     <use style=\"fill:#fde725;stroke:#fde725;\" x=\"274.427103\" xlink:href=\"#C0_0_4e04e6735e\" y=\"152.843385\"/>\r\n    </g>\r\n    <g clip-path=\"url(#p4fab97a832)\">\r\n     <use style=\"fill:#21918c;stroke:#21918c;\" x=\"76.094216\" xlink:href=\"#C0_0_4e04e6735e\" y=\"57.982429\"/>\r\n    </g>\r\n    <g clip-path=\"url(#p4fab97a832)\">\r\n     <use style=\"fill:#fde725;stroke:#fde725;\" x=\"211.78344\" xlink:href=\"#C0_0_4e04e6735e\" y=\"184.681612\"/>\r\n    </g>\r\n    <g clip-path=\"url(#p4fab97a832)\">\r\n     <use style=\"fill:#fde725;stroke:#fde725;\" x=\"247.486282\" xlink:href=\"#C0_0_4e04e6735e\" y=\"177.506951\"/>\r\n    </g>\r\n    <g clip-path=\"url(#p4fab97a832)\">\r\n     <use style=\"fill:#21918c;stroke:#21918c;\" x=\"285.070276\" xlink:href=\"#C0_0_4e04e6735e\" y=\"80.511433\"/>\r\n    </g>\r\n    <g clip-path=\"url(#p4fab97a832)\">\r\n     <use style=\"fill:#21918c;stroke:#21918c;\" x=\"196.351265\" xlink:href=\"#C0_0_4e04e6735e\" y=\"78.518616\"/>\r\n    </g>\r\n    <g clip-path=\"url(#p4fab97a832)\">\r\n     <use style=\"fill:#21918c;stroke:#21918c;\" x=\"153.798513\" xlink:href=\"#C0_0_4e04e6735e\" y=\"79.593837\"/>\r\n    </g>\r\n    <g clip-path=\"url(#p4fab97a832)\">\r\n     <use style=\"fill:#fde725;stroke:#fde725;\" x=\"60.756481\" xlink:href=\"#C0_0_4e04e6735e\" y=\"171.086792\"/>\r\n    </g>\r\n    <g clip-path=\"url(#p4fab97a832)\">\r\n     <use style=\"fill:#fde725;stroke:#fde725;\" x=\"128.150372\" xlink:href=\"#C0_0_4e04e6735e\" y=\"166.906246\"/>\r\n    </g>\r\n    <g clip-path=\"url(#p4fab97a832)\">\r\n     <use style=\"fill:#fde725;stroke:#fde725;\" x=\"221.292471\" xlink:href=\"#C0_0_4e04e6735e\" y=\"207.744711\"/>\r\n    </g>\r\n    <g clip-path=\"url(#p4fab97a832)\">\r\n     <use style=\"fill:#21918c;stroke:#21918c;\" x=\"257.527037\" xlink:href=\"#C0_0_4e04e6735e\" y=\"86.062466\"/>\r\n    </g>\r\n    <g clip-path=\"url(#p4fab97a832)\">\r\n     <use style=\"fill:#440154;stroke:#440154;\" x=\"160.194152\" xlink:href=\"#C0_0_4e04e6735e\" y=\"51.567081\"/>\r\n    </g>\r\n    <g clip-path=\"url(#p4fab97a832)\">\r\n     <use style=\"fill:#440154;stroke:#440154;\" x=\"247.334515\" xlink:href=\"#C0_0_4e04e6735e\" y=\"37.323452\"/>\r\n    </g>\r\n    <g clip-path=\"url(#p4fab97a832)\">\r\n     <use style=\"fill:#fde725;stroke:#fde725;\" x=\"284.825305\" xlink:href=\"#C0_0_4e04e6735e\" y=\"181.498626\"/>\r\n    </g>\r\n    <g clip-path=\"url(#p4fab97a832)\">\r\n     <use style=\"fill:#fde725;stroke:#fde725;\" x=\"162.834253\" xlink:href=\"#C0_0_4e04e6735e\" y=\"157.084723\"/>\r\n    </g>\r\n    <g clip-path=\"url(#p4fab97a832)\">\r\n     <use style=\"fill:#440154;stroke:#440154;\" x=\"229.429053\" xlink:href=\"#C0_0_4e04e6735e\" y=\"37.700746\"/>\r\n    </g>\r\n    <g clip-path=\"url(#p4fab97a832)\">\r\n     <use style=\"fill:#440154;stroke:#440154;\" x=\"182.772738\" xlink:href=\"#C0_0_4e04e6735e\" y=\"34.346868\"/>\r\n    </g>\r\n    <g clip-path=\"url(#p4fab97a832)\">\r\n     <use style=\"fill:#440154;stroke:#440154;\" x=\"242.023021\" xlink:href=\"#C0_0_4e04e6735e\" y=\"47.272603\"/>\r\n    </g>\r\n    <g clip-path=\"url(#p4fab97a832)\">\r\n     <use style=\"fill:#440154;stroke:#440154;\" x=\"202.620793\" xlink:href=\"#C0_0_4e04e6735e\" y=\"19.511226\"/>\r\n    </g>\r\n    <g clip-path=\"url(#p4fab97a832)\">\r\n     <use style=\"fill:#440154;stroke:#440154;\" x=\"193.007427\" xlink:href=\"#C0_0_4e04e6735e\" y=\"26.787376\"/>\r\n    </g>\r\n    <g clip-path=\"url(#p4fab97a832)\">\r\n     <use style=\"fill:#440154;stroke:#440154;\" x=\"220.743644\" xlink:href=\"#C0_0_4e04e6735e\" y=\"47.165417\"/>\r\n    </g>\r\n    <g clip-path=\"url(#p4fab97a832)\">\r\n     <use style=\"fill:#21918c;stroke:#21918c;\" x=\"144.546661\" xlink:href=\"#C0_0_4e04e6735e\" y=\"82.336966\"/>\r\n    </g>\r\n    <g clip-path=\"url(#p4fab97a832)\">\r\n     <use style=\"fill:#fde725;stroke:#fde725;\" x=\"140.026953\" xlink:href=\"#C0_0_4e04e6735e\" y=\"164.538735\"/>\r\n    </g>\r\n    <g clip-path=\"url(#p4fab97a832)\">\r\n     <use style=\"fill:#21918c;stroke:#21918c;\" x=\"204.463829\" xlink:href=\"#C0_0_4e04e6735e\" y=\"51.573528\"/>\r\n    </g>\r\n    <g clip-path=\"url(#p4fab97a832)\">\r\n     <use style=\"fill:#440154;stroke:#440154;\" x=\"184.847401\" xlink:href=\"#C0_0_4e04e6735e\" y=\"31.306324\"/>\r\n    </g>\r\n    <g clip-path=\"url(#p4fab97a832)\">\r\n     <use style=\"fill:#440154;stroke:#440154;\" x=\"220.03436\" xlink:href=\"#C0_0_4e04e6735e\" y=\"37.780061\"/>\r\n    </g>\r\n    <g clip-path=\"url(#p4fab97a832)\">\r\n     <use style=\"fill:#fde725;stroke:#fde725;\" x=\"252.406399\" xlink:href=\"#C0_0_4e04e6735e\" y=\"193.815337\"/>\r\n    </g>\r\n    <g clip-path=\"url(#p4fab97a832)\">\r\n     <use style=\"fill:#fde725;stroke:#fde725;\" x=\"149.280735\" xlink:href=\"#C0_0_4e04e6735e\" y=\"183.20605\"/>\r\n    </g>\r\n    <g clip-path=\"url(#p4fab97a832)\">\r\n     <use style=\"fill:#21918c;stroke:#21918c;\" x=\"76.113837\" xlink:href=\"#C0_0_4e04e6735e\" y=\"111.968142\"/>\r\n    </g>\r\n    <g clip-path=\"url(#p4fab97a832)\">\r\n     <use style=\"fill:#21918c;stroke:#21918c;\" x=\"177.832142\" xlink:href=\"#C0_0_4e04e6735e\" y=\"102.911274\"/>\r\n    </g>\r\n    <g clip-path=\"url(#p4fab97a832)\">\r\n     <use style=\"fill:#440154;stroke:#440154;\" x=\"181.866528\" xlink:href=\"#C0_0_4e04e6735e\" y=\"34.033879\"/>\r\n    </g>\r\n    <g clip-path=\"url(#p4fab97a832)\">\r\n     <use style=\"fill:#fde725;stroke:#fde725;\" x=\"99.499325\" xlink:href=\"#C0_0_4e04e6735e\" y=\"204.071422\"/>\r\n    </g>\r\n    <g clip-path=\"url(#p4fab97a832)\">\r\n     <use style=\"fill:#440154;stroke:#440154;\" x=\"169.275412\" xlink:href=\"#C0_0_4e04e6735e\" y=\"37.5834\"/>\r\n    </g>\r\n    <g clip-path=\"url(#p4fab97a832)\">\r\n     <use style=\"fill:#440154;stroke:#440154;\" x=\"204.709214\" xlink:href=\"#C0_0_4e04e6735e\" y=\"36.411678\"/>\r\n    </g>\r\n    <g clip-path=\"url(#p4fab97a832)\">\r\n     <use style=\"fill:#440154;stroke:#440154;\" x=\"222.993323\" xlink:href=\"#C0_0_4e04e6735e\" y=\"27.260567\"/>\r\n    </g>\r\n    <g clip-path=\"url(#p4fab97a832)\">\r\n     <use style=\"fill:#21918c;stroke:#21918c;\" x=\"247.61985\" xlink:href=\"#C0_0_4e04e6735e\" y=\"63.577448\"/>\r\n    </g>\r\n    <g clip-path=\"url(#p4fab97a832)\">\r\n     <use style=\"fill:#440154;stroke:#440154;\" x=\"201.012846\" xlink:href=\"#C0_0_4e04e6735e\" y=\"40.497758\"/>\r\n    </g>\r\n    <g clip-path=\"url(#p4fab97a832)\">\r\n     <use style=\"fill:#21918c;stroke:#21918c;\" x=\"218.8537\" xlink:href=\"#C0_0_4e04e6735e\" y=\"76.605523\"/>\r\n    </g>\r\n    <g clip-path=\"url(#p4fab97a832)\">\r\n     <use style=\"fill:#440154;stroke:#440154;\" x=\"164.149482\" xlink:href=\"#C0_0_4e04e6735e\" y=\"23.774726\"/>\r\n    </g>\r\n    <g clip-path=\"url(#p4fab97a832)\">\r\n     <use style=\"fill:#440154;stroke:#440154;\" x=\"215.388722\" xlink:href=\"#C0_0_4e04e6735e\" y=\"34.378838\"/>\r\n    </g>\r\n    <g clip-path=\"url(#p4fab97a832)\">\r\n     <use style=\"fill:#fde725;stroke:#fde725;\" x=\"141.083393\" xlink:href=\"#C0_0_4e04e6735e\" y=\"187.451596\"/>\r\n    </g>\r\n    <g clip-path=\"url(#p4fab97a832)\">\r\n     <use style=\"fill:#fde725;stroke:#fde725;\" x=\"327.457704\" xlink:href=\"#C0_0_4e04e6735e\" y=\"189.739829\"/>\r\n    </g>\r\n    <g clip-path=\"url(#p4fab97a832)\">\r\n     <use style=\"fill:#440154;stroke:#440154;\" x=\"202.549722\" xlink:href=\"#C0_0_4e04e6735e\" y=\"33.260098\"/>\r\n    </g>\r\n    <g clip-path=\"url(#p4fab97a832)\">\r\n     <use style=\"fill:#21918c;stroke:#21918c;\" x=\"188.566589\" xlink:href=\"#C0_0_4e04e6735e\" y=\"77.605005\"/>\r\n    </g>\r\n    <g clip-path=\"url(#p4fab97a832)\">\r\n     <use style=\"fill:#440154;stroke:#440154;\" x=\"219.439394\" xlink:href=\"#C0_0_4e04e6735e\" y=\"31.049585\"/>\r\n    </g>\r\n    <g clip-path=\"url(#p4fab97a832)\">\r\n     <use style=\"fill:#21918c;stroke:#21918c;\" x=\"199.88278\" xlink:href=\"#C0_0_4e04e6735e\" y=\"56.667418\"/>\r\n    </g>\r\n    <g clip-path=\"url(#p4fab97a832)\">\r\n     <use style=\"fill:#440154;stroke:#440154;\" x=\"207.111983\" xlink:href=\"#C0_0_4e04e6735e\" y=\"44.182628\"/>\r\n    </g>\r\n    <g clip-path=\"url(#p4fab97a832)\">\r\n     <use style=\"fill:#fde725;stroke:#fde725;\" x=\"231.616786\" xlink:href=\"#C0_0_4e04e6735e\" y=\"181.36006\"/>\r\n    </g>\r\n    <g clip-path=\"url(#p4fab97a832)\">\r\n     <use style=\"fill:#21918c;stroke:#21918c;\" x=\"221.219835\" xlink:href=\"#C0_0_4e04e6735e\" y=\"120.934922\"/>\r\n    </g>\r\n    <g clip-path=\"url(#p4fab97a832)\">\r\n     <use style=\"fill:#440154;stroke:#440154;\" x=\"206.493507\" xlink:href=\"#C0_0_4e04e6735e\" y=\"35.328747\"/>\r\n    </g>\r\n    <g clip-path=\"url(#p4fab97a832)\">\r\n     <use style=\"fill:#440154;stroke:#440154;\" x=\"183.946659\" xlink:href=\"#C0_0_4e04e6735e\" y=\"17.204969\"/>\r\n    </g>\r\n    <g clip-path=\"url(#p4fab97a832)\">\r\n     <use style=\"fill:#21918c;stroke:#21918c;\" x=\"147.257195\" xlink:href=\"#C0_0_4e04e6735e\" y=\"94.548075\"/>\r\n    </g>\r\n    <g clip-path=\"url(#p4fab97a832)\">\r\n     <use style=\"fill:#440154;stroke:#440154;\" x=\"185.010351\" xlink:href=\"#C0_0_4e04e6735e\" y=\"42.71306\"/>\r\n    </g>\r\n    <g clip-path=\"url(#p4fab97a832)\">\r\n     <use style=\"fill:#21918c;stroke:#21918c;\" x=\"170.416455\" xlink:href=\"#C0_0_4e04e6735e\" y=\"79.61705\"/>\r\n    </g>\r\n    <g clip-path=\"url(#p4fab97a832)\">\r\n     <use style=\"fill:#440154;stroke:#440154;\" x=\"227.731535\" xlink:href=\"#C0_0_4e04e6735e\" y=\"29.727314\"/>\r\n    </g>\r\n    <g clip-path=\"url(#p4fab97a832)\">\r\n     <use style=\"fill:#21918c;stroke:#21918c;\" x=\"124.532655\" xlink:href=\"#C0_0_4e04e6735e\" y=\"65.109375\"/>\r\n    </g>\r\n    <g clip-path=\"url(#p4fab97a832)\">\r\n     <use style=\"fill:#fde725;stroke:#fde725;\" x=\"50.739707\" xlink:href=\"#C0_0_4e04e6735e\" y=\"160.303833\"/>\r\n    </g>\r\n    <g clip-path=\"url(#p4fab97a832)\">\r\n     <use style=\"fill:#fde725;stroke:#fde725;\" x=\"228.186138\" xlink:href=\"#C0_0_4e04e6735e\" y=\"214.635031\"/>\r\n    </g>\r\n    <g clip-path=\"url(#p4fab97a832)\">\r\n     <use style=\"fill:#fde725;stroke:#fde725;\" x=\"247.676615\" xlink:href=\"#C0_0_4e04e6735e\" y=\"131.945746\"/>\r\n    </g>\r\n    <g clip-path=\"url(#p4fab97a832)\">\r\n     <use style=\"fill:#fde725;stroke:#fde725;\" x=\"139.084907\" xlink:href=\"#C0_0_4e04e6735e\" y=\"173.924562\"/>\r\n    </g>\r\n    <g clip-path=\"url(#p4fab97a832)\">\r\n     <use style=\"fill:#21918c;stroke:#21918c;\" x=\"172.438827\" xlink:href=\"#C0_0_4e04e6735e\" y=\"82.750646\"/>\r\n    </g>\r\n    <g clip-path=\"url(#p4fab97a832)\">\r\n     <use style=\"fill:#fde725;stroke:#fde725;\" x=\"201.134271\" xlink:href=\"#C0_0_4e04e6735e\" y=\"148.326668\"/>\r\n    </g>\r\n    <g clip-path=\"url(#p4fab97a832)\">\r\n     <use style=\"fill:#440154;stroke:#440154;\" x=\"214.459297\" xlink:href=\"#C0_0_4e04e6735e\" y=\"21.852817\"/>\r\n    </g>\r\n    <g clip-path=\"url(#p4fab97a832)\">\r\n     <use style=\"fill:#21918c;stroke:#21918c;\" x=\"57.611925\" xlink:href=\"#C0_0_4e04e6735e\" y=\"77.365776\"/>\r\n    </g>\r\n    <g clip-path=\"url(#p4fab97a832)\">\r\n     <use style=\"fill:#fde725;stroke:#fde725;\" x=\"220.11097\" xlink:href=\"#C0_0_4e04e6735e\" y=\"170.069522\"/>\r\n    </g>\r\n   </g>\r\n   <g id=\"matplotlib.axis_1\">\r\n    <g id=\"xtick_1\">\r\n     <g id=\"line2d_1\">\r\n      <defs>\r\n       <path d=\"M 0 0 \r\nL 0 3.5 \r\n\" id=\"m8a8f46e3a0\" style=\"stroke:#000000;stroke-width:0.8;\"/>\r\n      </defs>\r\n      <g>\r\n       <use style=\"stroke:#000000;stroke-width:0.8;\" x=\"41.710973\" xlink:href=\"#m8a8f46e3a0\" y=\"224.64\"/>\r\n      </g>\r\n     </g>\r\n     <g id=\"text_1\">\r\n      <!-- −8 -->\r\n      <defs>\r\n       <path d=\"M 10.59375 35.5 \r\nL 73.1875 35.5 \r\nL 73.1875 27.203125 \r\nL 10.59375 27.203125 \r\nz\r\n\" id=\"DejaVuSans-8722\"/>\r\n       <path d=\"M 31.78125 34.625 \r\nQ 24.75 34.625 20.71875 30.859375 \r\nQ 16.703125 27.09375 16.703125 20.515625 \r\nQ 16.703125 13.921875 20.71875 10.15625 \r\nQ 24.75 6.390625 31.78125 6.390625 \r\nQ 38.8125 6.390625 42.859375 10.171875 \r\nQ 46.921875 13.96875 46.921875 20.515625 \r\nQ 46.921875 27.09375 42.890625 30.859375 \r\nQ 38.875 34.625 31.78125 34.625 \r\nz\r\nM 21.921875 38.8125 \r\nQ 15.578125 40.375 12.03125 44.71875 \r\nQ 8.5 49.078125 8.5 55.328125 \r\nQ 8.5 64.0625 14.71875 69.140625 \r\nQ 20.953125 74.21875 31.78125 74.21875 \r\nQ 42.671875 74.21875 48.875 69.140625 \r\nQ 55.078125 64.0625 55.078125 55.328125 \r\nQ 55.078125 49.078125 51.53125 44.71875 \r\nQ 48 40.375 41.703125 38.8125 \r\nQ 48.828125 37.15625 52.796875 32.3125 \r\nQ 56.78125 27.484375 56.78125 20.515625 \r\nQ 56.78125 9.90625 50.3125 4.234375 \r\nQ 43.84375 -1.421875 31.78125 -1.421875 \r\nQ 19.734375 -1.421875 13.25 4.234375 \r\nQ 6.78125 9.90625 6.78125 20.515625 \r\nQ 6.78125 27.484375 10.78125 32.3125 \r\nQ 14.796875 37.15625 21.921875 38.8125 \r\nz\r\nM 18.3125 54.390625 \r\nQ 18.3125 48.734375 21.84375 45.5625 \r\nQ 25.390625 42.390625 31.78125 42.390625 \r\nQ 38.140625 42.390625 41.71875 45.5625 \r\nQ 45.3125 48.734375 45.3125 54.390625 \r\nQ 45.3125 60.0625 41.71875 63.234375 \r\nQ 38.140625 66.40625 31.78125 66.40625 \r\nQ 25.390625 66.40625 21.84375 63.234375 \r\nQ 18.3125 60.0625 18.3125 54.390625 \r\nz\r\n\" id=\"DejaVuSans-56\"/>\r\n      </defs>\r\n      <g transform=\"translate(34.339879 239.238438)scale(0.1 -0.1)\">\r\n       <use xlink:href=\"#DejaVuSans-8722\"/>\r\n       <use x=\"83.789062\" xlink:href=\"#DejaVuSans-56\"/>\r\n      </g>\r\n     </g>\r\n    </g>\r\n    <g id=\"xtick_2\">\r\n     <g id=\"line2d_2\">\r\n      <g>\r\n       <use style=\"stroke:#000000;stroke-width:0.8;\" x=\"90.10925\" xlink:href=\"#m8a8f46e3a0\" y=\"224.64\"/>\r\n      </g>\r\n     </g>\r\n     <g id=\"text_2\">\r\n      <!-- −6 -->\r\n      <defs>\r\n       <path d=\"M 33.015625 40.375 \r\nQ 26.375 40.375 22.484375 35.828125 \r\nQ 18.609375 31.296875 18.609375 23.390625 \r\nQ 18.609375 15.53125 22.484375 10.953125 \r\nQ 26.375 6.390625 33.015625 6.390625 \r\nQ 39.65625 6.390625 43.53125 10.953125 \r\nQ 47.40625 15.53125 47.40625 23.390625 \r\nQ 47.40625 31.296875 43.53125 35.828125 \r\nQ 39.65625 40.375 33.015625 40.375 \r\nz\r\nM 52.59375 71.296875 \r\nL 52.59375 62.3125 \r\nQ 48.875 64.0625 45.09375 64.984375 \r\nQ 41.3125 65.921875 37.59375 65.921875 \r\nQ 27.828125 65.921875 22.671875 59.328125 \r\nQ 17.53125 52.734375 16.796875 39.40625 \r\nQ 19.671875 43.65625 24.015625 45.921875 \r\nQ 28.375 48.1875 33.59375 48.1875 \r\nQ 44.578125 48.1875 50.953125 41.515625 \r\nQ 57.328125 34.859375 57.328125 23.390625 \r\nQ 57.328125 12.15625 50.6875 5.359375 \r\nQ 44.046875 -1.421875 33.015625 -1.421875 \r\nQ 20.359375 -1.421875 13.671875 8.265625 \r\nQ 6.984375 17.96875 6.984375 36.375 \r\nQ 6.984375 53.65625 15.1875 63.9375 \r\nQ 23.390625 74.21875 37.203125 74.21875 \r\nQ 40.921875 74.21875 44.703125 73.484375 \r\nQ 48.484375 72.75 52.59375 71.296875 \r\nz\r\n\" id=\"DejaVuSans-54\"/>\r\n      </defs>\r\n      <g transform=\"translate(82.738156 239.238438)scale(0.1 -0.1)\">\r\n       <use xlink:href=\"#DejaVuSans-8722\"/>\r\n       <use x=\"83.789062\" xlink:href=\"#DejaVuSans-54\"/>\r\n      </g>\r\n     </g>\r\n    </g>\r\n    <g id=\"xtick_3\">\r\n     <g id=\"line2d_3\">\r\n      <g>\r\n       <use style=\"stroke:#000000;stroke-width:0.8;\" x=\"138.507526\" xlink:href=\"#m8a8f46e3a0\" y=\"224.64\"/>\r\n      </g>\r\n     </g>\r\n     <g id=\"text_3\">\r\n      <!-- −4 -->\r\n      <defs>\r\n       <path d=\"M 37.796875 64.3125 \r\nL 12.890625 25.390625 \r\nL 37.796875 25.390625 \r\nz\r\nM 35.203125 72.90625 \r\nL 47.609375 72.90625 \r\nL 47.609375 25.390625 \r\nL 58.015625 25.390625 \r\nL 58.015625 17.1875 \r\nL 47.609375 17.1875 \r\nL 47.609375 0 \r\nL 37.796875 0 \r\nL 37.796875 17.1875 \r\nL 4.890625 17.1875 \r\nL 4.890625 26.703125 \r\nz\r\n\" id=\"DejaVuSans-52\"/>\r\n      </defs>\r\n      <g transform=\"translate(131.136433 239.238438)scale(0.1 -0.1)\">\r\n       <use xlink:href=\"#DejaVuSans-8722\"/>\r\n       <use x=\"83.789062\" xlink:href=\"#DejaVuSans-52\"/>\r\n      </g>\r\n     </g>\r\n    </g>\r\n    <g id=\"xtick_4\">\r\n     <g id=\"line2d_4\">\r\n      <g>\r\n       <use style=\"stroke:#000000;stroke-width:0.8;\" x=\"186.905803\" xlink:href=\"#m8a8f46e3a0\" y=\"224.64\"/>\r\n      </g>\r\n     </g>\r\n     <g id=\"text_4\">\r\n      <!-- −2 -->\r\n      <defs>\r\n       <path d=\"M 19.1875 8.296875 \r\nL 53.609375 8.296875 \r\nL 53.609375 0 \r\nL 7.328125 0 \r\nL 7.328125 8.296875 \r\nQ 12.9375 14.109375 22.625 23.890625 \r\nQ 32.328125 33.6875 34.8125 36.53125 \r\nQ 39.546875 41.84375 41.421875 45.53125 \r\nQ 43.3125 49.21875 43.3125 52.78125 \r\nQ 43.3125 58.59375 39.234375 62.25 \r\nQ 35.15625 65.921875 28.609375 65.921875 \r\nQ 23.96875 65.921875 18.8125 64.3125 \r\nQ 13.671875 62.703125 7.8125 59.421875 \r\nL 7.8125 69.390625 \r\nQ 13.765625 71.78125 18.9375 73 \r\nQ 24.125 74.21875 28.421875 74.21875 \r\nQ 39.75 74.21875 46.484375 68.546875 \r\nQ 53.21875 62.890625 53.21875 53.421875 \r\nQ 53.21875 48.921875 51.53125 44.890625 \r\nQ 49.859375 40.875 45.40625 35.40625 \r\nQ 44.1875 33.984375 37.640625 27.21875 \r\nQ 31.109375 20.453125 19.1875 8.296875 \r\nz\r\n\" id=\"DejaVuSans-50\"/>\r\n      </defs>\r\n      <g transform=\"translate(179.534709 239.238438)scale(0.1 -0.1)\">\r\n       <use xlink:href=\"#DejaVuSans-8722\"/>\r\n       <use x=\"83.789062\" xlink:href=\"#DejaVuSans-50\"/>\r\n      </g>\r\n     </g>\r\n    </g>\r\n    <g id=\"xtick_5\">\r\n     <g id=\"line2d_5\">\r\n      <g>\r\n       <use style=\"stroke:#000000;stroke-width:0.8;\" x=\"235.30408\" xlink:href=\"#m8a8f46e3a0\" y=\"224.64\"/>\r\n      </g>\r\n     </g>\r\n     <g id=\"text_5\">\r\n      <!-- 0 -->\r\n      <defs>\r\n       <path d=\"M 31.78125 66.40625 \r\nQ 24.171875 66.40625 20.328125 58.90625 \r\nQ 16.5 51.421875 16.5 36.375 \r\nQ 16.5 21.390625 20.328125 13.890625 \r\nQ 24.171875 6.390625 31.78125 6.390625 \r\nQ 39.453125 6.390625 43.28125 13.890625 \r\nQ 47.125 21.390625 47.125 36.375 \r\nQ 47.125 51.421875 43.28125 58.90625 \r\nQ 39.453125 66.40625 31.78125 66.40625 \r\nz\r\nM 31.78125 74.21875 \r\nQ 44.046875 74.21875 50.515625 64.515625 \r\nQ 56.984375 54.828125 56.984375 36.375 \r\nQ 56.984375 17.96875 50.515625 8.265625 \r\nQ 44.046875 -1.421875 31.78125 -1.421875 \r\nQ 19.53125 -1.421875 13.0625 8.265625 \r\nQ 6.59375 17.96875 6.59375 36.375 \r\nQ 6.59375 54.828125 13.0625 64.515625 \r\nQ 19.53125 74.21875 31.78125 74.21875 \r\nz\r\n\" id=\"DejaVuSans-48\"/>\r\n      </defs>\r\n      <g transform=\"translate(232.12283 239.238438)scale(0.1 -0.1)\">\r\n       <use xlink:href=\"#DejaVuSans-48\"/>\r\n      </g>\r\n     </g>\r\n    </g>\r\n    <g id=\"xtick_6\">\r\n     <g id=\"line2d_6\">\r\n      <g>\r\n       <use style=\"stroke:#000000;stroke-width:0.8;\" x=\"283.702357\" xlink:href=\"#m8a8f46e3a0\" y=\"224.64\"/>\r\n      </g>\r\n     </g>\r\n     <g id=\"text_6\">\r\n      <!-- 2 -->\r\n      <g transform=\"translate(280.521107 239.238438)scale(0.1 -0.1)\">\r\n       <use xlink:href=\"#DejaVuSans-50\"/>\r\n      </g>\r\n     </g>\r\n    </g>\r\n    <g id=\"xtick_7\">\r\n     <g id=\"line2d_7\">\r\n      <g>\r\n       <use style=\"stroke:#000000;stroke-width:0.8;\" x=\"332.100633\" xlink:href=\"#m8a8f46e3a0\" y=\"224.64\"/>\r\n      </g>\r\n     </g>\r\n     <g id=\"text_7\">\r\n      <!-- 4 -->\r\n      <g transform=\"translate(328.919383 239.238438)scale(0.1 -0.1)\">\r\n       <use xlink:href=\"#DejaVuSans-52\"/>\r\n      </g>\r\n     </g>\r\n    </g>\r\n   </g>\r\n   <g id=\"matplotlib.axis_2\">\r\n    <g id=\"ytick_1\">\r\n     <g id=\"line2d_8\">\r\n      <defs>\r\n       <path d=\"M 0 0 \r\nL -3.5 0 \r\n\" id=\"m84150bf504\" style=\"stroke:#000000;stroke-width:0.8;\"/>\r\n      </defs>\r\n      <g>\r\n       <use style=\"stroke:#000000;stroke-width:0.8;\" x=\"35.304688\" xlink:href=\"#m84150bf504\" y=\"202.238667\"/>\r\n      </g>\r\n     </g>\r\n     <g id=\"text_8\">\r\n      <!-- −10 -->\r\n      <defs>\r\n       <path d=\"M 12.40625 8.296875 \r\nL 28.515625 8.296875 \r\nL 28.515625 63.921875 \r\nL 10.984375 60.40625 \r\nL 10.984375 69.390625 \r\nL 28.421875 72.90625 \r\nL 38.28125 72.90625 \r\nL 38.28125 8.296875 \r\nL 54.390625 8.296875 \r\nL 54.390625 0 \r\nL 12.40625 0 \r\nz\r\n\" id=\"DejaVuSans-49\"/>\r\n      </defs>\r\n      <g transform=\"translate(7.2 206.037886)scale(0.1 -0.1)\">\r\n       <use xlink:href=\"#DejaVuSans-8722\"/>\r\n       <use x=\"83.789062\" xlink:href=\"#DejaVuSans-49\"/>\r\n       <use x=\"147.412109\" xlink:href=\"#DejaVuSans-48\"/>\r\n      </g>\r\n     </g>\r\n    </g>\r\n    <g id=\"ytick_2\">\r\n     <g id=\"line2d_9\">\r\n      <g>\r\n       <use style=\"stroke:#000000;stroke-width:0.8;\" x=\"35.304688\" xlink:href=\"#m84150bf504\" y=\"158.26756\"/>\r\n      </g>\r\n     </g>\r\n     <g id=\"text_9\">\r\n      <!-- −5 -->\r\n      <defs>\r\n       <path d=\"M 10.796875 72.90625 \r\nL 49.515625 72.90625 \r\nL 49.515625 64.59375 \r\nL 19.828125 64.59375 \r\nL 19.828125 46.734375 \r\nQ 21.96875 47.46875 24.109375 47.828125 \r\nQ 26.265625 48.1875 28.421875 48.1875 \r\nQ 40.625 48.1875 47.75 41.5 \r\nQ 54.890625 34.8125 54.890625 23.390625 \r\nQ 54.890625 11.625 47.5625 5.09375 \r\nQ 40.234375 -1.421875 26.90625 -1.421875 \r\nQ 22.3125 -1.421875 17.546875 -0.640625 \r\nQ 12.796875 0.140625 7.71875 1.703125 \r\nL 7.71875 11.625 \r\nQ 12.109375 9.234375 16.796875 8.0625 \r\nQ 21.484375 6.890625 26.703125 6.890625 \r\nQ 35.15625 6.890625 40.078125 11.328125 \r\nQ 45.015625 15.765625 45.015625 23.390625 \r\nQ 45.015625 31 40.078125 35.4375 \r\nQ 35.15625 39.890625 26.703125 39.890625 \r\nQ 22.75 39.890625 18.8125 39.015625 \r\nQ 14.890625 38.140625 10.796875 36.28125 \r\nz\r\n\" id=\"DejaVuSans-53\"/>\r\n      </defs>\r\n      <g transform=\"translate(13.5625 162.066779)scale(0.1 -0.1)\">\r\n       <use xlink:href=\"#DejaVuSans-8722\"/>\r\n       <use x=\"83.789062\" xlink:href=\"#DejaVuSans-53\"/>\r\n      </g>\r\n     </g>\r\n    </g>\r\n    <g id=\"ytick_3\">\r\n     <g id=\"line2d_10\">\r\n      <g>\r\n       <use style=\"stroke:#000000;stroke-width:0.8;\" x=\"35.304688\" xlink:href=\"#m84150bf504\" y=\"114.296453\"/>\r\n      </g>\r\n     </g>\r\n     <g id=\"text_10\">\r\n      <!-- 0 -->\r\n      <g transform=\"translate(21.942188 118.095672)scale(0.1 -0.1)\">\r\n       <use xlink:href=\"#DejaVuSans-48\"/>\r\n      </g>\r\n     </g>\r\n    </g>\r\n    <g id=\"ytick_4\">\r\n     <g id=\"line2d_11\">\r\n      <g>\r\n       <use style=\"stroke:#000000;stroke-width:0.8;\" x=\"35.304688\" xlink:href=\"#m84150bf504\" y=\"70.325347\"/>\r\n      </g>\r\n     </g>\r\n     <g id=\"text_11\">\r\n      <!-- 5 -->\r\n      <g transform=\"translate(21.942188 74.124565)scale(0.1 -0.1)\">\r\n       <use xlink:href=\"#DejaVuSans-53\"/>\r\n      </g>\r\n     </g>\r\n    </g>\r\n    <g id=\"ytick_5\">\r\n     <g id=\"line2d_12\">\r\n      <g>\r\n       <use style=\"stroke:#000000;stroke-width:0.8;\" x=\"35.304688\" xlink:href=\"#m84150bf504\" y=\"26.35424\"/>\r\n      </g>\r\n     </g>\r\n     <g id=\"text_12\">\r\n      <!-- 10 -->\r\n      <g transform=\"translate(15.579688 30.153459)scale(0.1 -0.1)\">\r\n       <use xlink:href=\"#DejaVuSans-49\"/>\r\n       <use x=\"63.623047\" xlink:href=\"#DejaVuSans-48\"/>\r\n      </g>\r\n     </g>\r\n    </g>\r\n   </g>\r\n   <g id=\"patch_3\">\r\n    <path d=\"M 35.304688 224.64 \r\nL 35.304688 7.2 \r\n\" style=\"fill:none;stroke:#000000;stroke-linecap:square;stroke-linejoin:miter;stroke-width:0.8;\"/>\r\n   </g>\r\n   <g id=\"patch_4\">\r\n    <path d=\"M 370.104688 224.64 \r\nL 370.104688 7.2 \r\n\" style=\"fill:none;stroke:#000000;stroke-linecap:square;stroke-linejoin:miter;stroke-width:0.8;\"/>\r\n   </g>\r\n   <g id=\"patch_5\">\r\n    <path d=\"M 35.304688 224.64 \r\nL 370.104688 224.64 \r\n\" style=\"fill:none;stroke:#000000;stroke-linecap:square;stroke-linejoin:miter;stroke-width:0.8;\"/>\r\n   </g>\r\n   <g id=\"patch_6\">\r\n    <path d=\"M 35.304688 7.2 \r\nL 370.104688 7.2 \r\n\" style=\"fill:none;stroke:#000000;stroke-linecap:square;stroke-linejoin:miter;stroke-width:0.8;\"/>\r\n   </g>\r\n  </g>\r\n </g>\r\n <defs>\r\n  <clipPath id=\"p4fab97a832\">\r\n   <rect height=\"217.44\" width=\"334.8\" x=\"35.304688\" y=\"7.2\"/>\r\n  </clipPath>\r\n </defs>\r\n</svg>\r\n",
      "text/plain": "<Figure size 432x288 with 1 Axes>"
     },
     "metadata": {
      "needs_background": "light"
     },
     "output_type": "display_data"
    }
   ],
   "source": [
    "import matplotlib.pylab as plt\n",
    "from sklearn.datasets import make_blobs\n",
    "n_features=2\n",
    "\n",
    "data,target=make_blobs(n_samples=100,n_features=2,centers=3,cluster_std=[1.0,2.0,3.0])\n",
    "\n",
    "plt.scatter(data[:,0],data[:,1],c=target)\n",
    "plt.show()"
   ]
  },
  {
   "cell_type": "markdown",
   "execution_count": null,
   "metadata": {},
   "outputs": [],
   "source": [
    "16.2.2 sklearn.datasets.make_classification来生成数据，通常用于分类算法。"
   ]
  },
  {
   "cell_type": "markdown",
   "execution_count": null,
   "metadata": {},
   "outputs": [],
   "source": [
    "sklearn.datasets.make_classification(n_samples=100, n_features=20, \n",
    "n_informative=2, n_redundant=2,n_repeated=0, n_classes=2, \n",
    "n_clusters_per_class=2, weights=None,flip_y=0.01, class_sep=1.0,\n",
    " hypercube=True,shift=0.0, scale=1.0, shuffle=True, random_state=None)\n",
    "\n",
    "输入：n_features :特征个数= n_informative（） + n_redundant + n_repeated\n",
    "\n",
    "n_informative:多信息特征的个数.每个类均由多个高斯簇组成，每个高斯簇都位于维度``n_informative''的子空间中超立方体的顶点周围。 对于每个簇，信息特征从N(0,1)分布中独立抽取，然后在每个聚类中随机线性组合以增加协方差。 然后将簇放置在超立方体的顶点上。\n",
    "\n",
    "n_redundant:冗余信息，informative特征的随机线性组合\n",
    "\n",
    "n_repeated:复制随即提取自n_informative和n_redundant的特征 \n",
    "\n",
    "n_classes:分类类别\n",
    "\n",
    "n_clusters_per_class:某一个类别是由几个cluster构成的"
   ]
  },
  {
   "cell_type": "code",
   "execution_count": 13,
   "metadata": {},
   "outputs": [
    {
     "data": {
      "text/plain": "(100, 10)"
     },
     "execution_count": 13,
     "metadata": {},
     "output_type": "execute_result"
    }
   ],
   "source": [
    "from sklearn.datasets import make_classification\n",
    "X,y=make_classification(n_samples=100,n_features=10,n_informative=4,n_redundant=3,n_repeated=3,n_classes=3)\n",
    "X.shape"
   ]
  },
  {
   "cell_type": "markdown",
   "execution_count": null,
   "metadata": {},
   "outputs": [],
   "source": [
    "16.2.3 make_regression"
   ]
  },
  {
   "cell_type": "markdown",
   "execution_count": null,
   "metadata": {},
   "outputs": [],
   "source": [
    "make_regression产生的回归目标是随机特征的可选稀疏随机线性组合，带有噪声。其信息特征可能不相关或相关性较高（很少特征可解释大部分差异）"
   ]
  },
  {
   "cell_type": "markdown",
   "execution_count": null,
   "metadata": {},
   "outputs": [],
   "source": [
    "16.3 loading other datasets"
   ]
  },
  {
   "cell_type": "markdown",
   "execution_count": null,
   "metadata": {},
   "outputs": [],
   "source": [
    "loading datasets from others the openml.org repository\n",
    "或者scikit-learn includes utility functions for loading datasets in thesvmlight/libsvm format."
   ]
  },
  {
   "cell_type": "code",
   "execution_count": 15,
   "metadata": {},
   "outputs": [
    {
     "name": "stdout",
     "output_type": "stream",
     "text": "(1080, 77)\n(1080,)\n**Author**: Clara Higuera, Katheleen J. Gardiner, Krzysztof J. Cios  \n**Source**: [UCI](https://archive.ics.uci.edu/ml/datasets/Mice+Protein+Expression) - 2015   \n**Please cite**: Higuera C, Gardiner KJ, Cios KJ (2015) Self-Organizing Feature Maps Identify Proteins Critical to Learning in a Mouse Model of Down Syndrome. PLoS ONE 10(6): e0129126.\n\nExpression levels of 77 proteins measured in the cerebral cortex of 8 classes of control and Down syndrome mice exposed to context fear conditioning, a task used to assess associative learning.\n\nThe data set consists of the expression levels of 77 proteins/protein modifications that produced detectable signals in the nuclear fraction of cortex. There are 38 control mice and 34 trisomic mice (Down syndrome), for a total of 72 mice. In the experiments, 15 measurements were registered of each protein per sample/mouse. Therefore, for control mice, there are 38x15, or 570 measurements, and for trisomic mice, there are 34x15, or 510 measurements. The dataset contains a total of 1080 measurements per protein. Each measurement can be considered as an independent sample/mouse. \n\nThe eight classes of mice are described based on features such as genotype, behavior and treatment. According to genotype, mice can be control or trisomic. According to behavior, some mice have been stimulated to learn (context-shock) and others have not (shock-context) and in order to assess the effect of the drug memantine in recovering the ability to learn in trisomic mice, some mice have been injected with the drug and others have not. \n\nClasses: \n```\n* c-CS-s: control mice, stimulated to learn, injected with saline (9 mice) \n* c-CS-m: control mice, stimulated to learn, injected with memantine (10 mice) \n* c-SC-s: control mice, not stimulated to learn, injected with saline (9 mice) \n* c-SC-m: control mice, not stimulated to learn, injected with memantine (10 mice) \n* t-CS-s: trisomy mice, stimulated to learn, injected with saline (7 mice) \n* t-CS-m: trisomy mice, stimulated to learn, injected with memantine (9 mice) \n* t-SC-s: trisomy mice, not stimulated to learn, injected with saline (9 mice) \n* t-SC-m: trisomy mice, not stimulated to learn, injected with memantine (9 mice) \n```\n\nThe aim is to identify subsets of proteins that are discriminant between the classes. \n\n### Attribute Information:\n\n```\n1 Mouse ID \n2..78 Values of expression levels of 77 proteins; the names of proteins are followed by &acirc;&euro;&oelig;_n&acirc;&euro; indicating that they were measured in the nuclear fraction. For example: DYRK1A_n \n79 Genotype: control (c) or trisomy (t) \n80 Treatment type: memantine (m) or saline (s) \n81 Behavior: context-shock (CS) or shock-context (SC) \n82 Class: c-CS-s, c-CS-m, c-SC-s, c-SC-m, t-CS-s, t-CS-m, t-SC-s, t-SC-m \n```\n\n### Relevant Papers:\n\nHiguera C, Gardiner KJ, Cios KJ (2015) Self-Organizing Feature Maps Identify Proteins Critical to Learning in a Mouse Model of Down Syndrome. PLoS ONE 10(6): e0129126. [Web Link] journal.pone.0129126 \n\nAhmed MM, Dhanasekaran AR, Block A, Tong S, Costa ACS, Stasko M, et al. (2015) Protein Dynamics Associated with Failed and Rescued Learning in the Ts65Dn Mouse Model of Down Syndrome. PLoS ONE 10(3): e0119491.\n\nDownloaded from openml.org.\n"
    }
   ],
   "source": [
    "import numpy as np\n",
    "from sklearn.datasets import fetch_openml\n",
    "mice=fetch_openml(name='miceprotein',version=4)\n",
    "#在定义一个数据集时需要提供name和version\n",
    "print(mice.data.shape)\n",
    "print(mice.target.shape)\n",
    "print(mice.DESCR)#看数据集描述"
   ]
  },
  {
   "cell_type": "markdown",
   "execution_count": null,
   "metadata": {},
   "outputs": [],
   "source": [
    "16.4 loading from external datasets"
   ]
  },
  {
   "cell_type": "markdown",
   "execution_count": null,
   "metadata": {},
   "outputs": [],
   "source": [
    "scikit-learn的工作对象时array或scipy sparse matrices,像pandas.dataframe能转换为array，因此也是可以接受的。因此有一些方法能下载format的数据。\n",
    "\n",
    "pandas.io提供了从CSV,Excel,JOSN,SQL中读取数据的工具。\n",
    "\n",
    "scipy.io专门研究通常在科学计算环境中使用的二进制格式，例如.mat和.arff\n",
    "\n",
    "numpy / routines.io用于将列式数据标准加载到numpy数组中\n",
    "\n",
    "scikit-learn的datas.load_svmlight_file用于svmlight或libSVM稀疏格式\n",
    "\n",
    "scikit-learn的datasets.load_files用于文本文件目录，其中每个目录的名称是每个类别的名称，每个目录内的每个文件对应于该类别中的一个样本\n",
    "\n",
    "skimage.io或者Imageio 用于loading图片和音频数据into numpy array\n",
    "\n",
    "scipy.io.wavfile.read 用于将WAV文件读取成numpy array\n",
    "\n",
    "\n"
   ]
  }
 ]
}