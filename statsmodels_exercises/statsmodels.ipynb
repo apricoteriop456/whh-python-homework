{
 "nbformat": 4,
 "nbformat_minor": 2,
 "metadata": {
  "language_info": {
   "name": "python",
   "codemirror_mode": {
    "name": "ipython",
    "version": 3
   },
   "version": "3.7.4-final"
  },
  "orig_nbformat": 2,
  "file_extension": ".py",
  "mimetype": "text/x-python",
  "name": "python",
  "npconvert_exporter": "python",
  "pygments_lexer": "ipython3",
  "version": 3,
  "kernelspec": {
   "name": "python37464bitbaseconda3df29ff903a341c5b9c6ef563db3b6d5",
   "display_name": "Python 3.7.4 64-bit ('base': conda)"
  }
 },
 "cells": [
  {
   "cell_type": "markdown",
   "execution_count": null,
   "metadata": {},
   "outputs": [],
   "source": [
    "statsmodels是进行分布计算的module"
   ]
  },
  {
   "cell_type": "markdown",
   "execution_count": null,
   "metadata": {},
   "outputs": [],
   "source": [
    "普通最小二乘法"
   ]
  },
  {
   "cell_type": "code",
   "execution_count": 3,
   "metadata": {},
   "outputs": [],
   "source": [
    "import numpy as np\n",
    "import statsmodels.api as sm\n",
    "import statsmodels.formula.api as smf\n",
    "\n",
    "#dat=sm.datasets.get_rdataset('Guerry',site='D:/github_repo/Rdatasets\", package=\"HistData\").data\n",
    "#result=smf.ols('Lottery~Literacy+np.log(Pop1831)',data=dat).fit()\n",
    "#print(results.summary())\n"
   ]
  },
  {
   "cell_type": "markdown",
   "execution_count": null,
   "metadata": {},
   "outputs": [],
   "source": [
    "使用流程——导入路径和结构(有两种方法))"
   ]
  },
  {
   "cell_type": "code",
   "execution_count": 4,
   "metadata": {},
   "outputs": [
    {
     "data": {
      "text/plain": "['BayesGaussMI',\n 'BinomialBayesMixedGLM',\n 'Factor',\n 'GEE',\n 'GLM',\n 'GLMGam',\n 'GLS',\n 'GLSAR',\n 'GeneralizedPoisson',\n 'Logit',\n 'MANOVA',\n 'MI',\n 'MICE',\n 'MICEData',\n 'MNLogit',\n 'MixedLM',\n 'NegativeBinomial',\n 'NegativeBinomialP',\n 'NominalGEE',\n 'OLS',\n 'OrdinalGEE',\n 'PCA',\n 'PHReg',\n 'Poisson',\n 'PoissonBayesMixedGLM',\n 'ProbPlot',\n 'Probit',\n 'QuantReg',\n 'RLM',\n 'RecursiveLS',\n 'SurvfuncRight',\n 'WLS',\n 'ZeroInflatedGeneralizedPoisson',\n 'ZeroInflatedNegativeBinomialP',\n 'ZeroInflatedPoisson',\n '__builtins__',\n '__cached__',\n '__doc__',\n '__file__',\n '__loader__',\n '__name__',\n '__package__',\n '__spec__',\n '__version__',\n 'add_constant',\n 'categorical',\n 'cov_struct',\n 'datasets',\n 'distributions',\n 'duration',\n 'emplike',\n 'families',\n 'formula',\n 'gam',\n 'genmod',\n 'graphics',\n 'iolib',\n 'load',\n 'multivariate',\n 'nonparametric',\n 'qqline',\n 'qqplot',\n 'qqplot_2samples',\n 'regression',\n 'robust',\n 'show_versions',\n 'stats',\n 'test',\n 'tools',\n 'tsa',\n 'webdoc']"
     },
     "execution_count": 4,
     "metadata": {},
     "output_type": "execute_result"
    }
   ],
   "source": [
    "#方法一——API import:能够导入大量基础的公用函数\n",
    "import statsmodels.api as sm\n",
    "dir(sm)"
   ]
  },
  {
   "cell_type": "code",
   "execution_count": null,
   "metadata": {},
   "outputs": [],
   "source": [
    "#方法二——direct import:导入能够进行响应分析的submodules\n",
    "from statsmodels.regression.linear_model import OLS,WLS\n",
    "from statsmodels.tools.tools import rank,add_constant\n",
    "import statsmodels.regression.linear_model as lm\n",
    "import statsmodels.stats.diagnostic as smsdia\n",
    "import statsmodels.stats.outliers_influence as oi"
   ]
  },
  {
   "cell_type": "markdown",
   "execution_count": null,
   "metadata": {},
   "outputs": [],
   "source": [
    "R-style formulas and pasty"
   ]
  },
  {
   "cell_type": "code",
   "execution_count": null,
   "metadata": {},
   "outputs": [],
   "source": [
    "#用R样式拟合统计模型,patsy是一个Python软件包，用于描述统计模型（尤其是线性模型或具有线性成分的模型）和建筑设计矩阵\n",
    "#pasty.dmatrices可以处理分类变量；可以在回归时添加常数；返回的结果是数据框。\n",
    "#拟合模型三步骤"
   ]
  },
  {
   "cell_type": "code",
   "execution_count": null,
   "metadata": {},
   "outputs": [],
   "source": [
    "import statsmodels.api as sm\n",
    "import statsmodels.tsa.api as tsa\n",
    "import statsmodels.formula.api as smf#用公式和数据指定模型"
   ]
  },
  {
   "cell_type": "markdown",
   "execution_count": null,
   "metadata": {},
   "outputs": [],
   "source": [
    "statsmodels有数据集可供下载\n"
   ]
  },
  {
   "cell_type": "markdown",
   "execution_count": null,
   "metadata": {},
   "outputs": [],
   "source": [
    "#sm.datasets.datasets_name.load_pandas()\n",
    "#load_pandas表示下载的格式是pandas objects"
   ]
  },
  {
   "cell_type": "code",
   "execution_count": 2,
   "metadata": {},
   "outputs": [],
   "source": [
    "dat=sm.datasets.longley.load_pandas()"
   ]
  },
  {
   "cell_type": "code",
   "execution_count": 18,
   "metadata": {},
   "outputs": [
    {
     "data": {
      "text/plain": "['TOTEMP', 'GNPDEFL', 'GNP', 'UNEMP', 'ARMED', 'POP', 'YEAR']"
     },
     "execution_count": 18,
     "metadata": {},
     "output_type": "execute_result"
    }
   ],
   "source": [
    "dat.data#所有数据\n",
    "dat.endog#被解释变量\n",
    "dat.exog#解释变量 \n",
    "dat.exog_name##解释变量名称\n",
    "dat.endog_name\n",
    "dat.names"
   ]
  },
  {
   "cell_type": "markdown",
   "execution_count": null,
   "metadata": {},
   "outputs": [],
   "source": [
    "用webuse(data[, baseurl, as_df])从STATA中下载数据"
   ]
  },
  {
   "cell_type": "code",
   "execution_count": 19,
   "metadata": {},
   "outputs": [],
   "source": [
    "auto=sm.datasets.webuse('auto')"
   ]
  },
  {
   "cell_type": "markdown",
   "execution_count": null,
   "metadata": {},
   "outputs": [],
   "source": [
    "用get_rdataset获得R包中的数据"
   ]
  },
  {
   "cell_type": "code",
   "execution_count": null,
   "metadata": {},
   "outputs": [],
   "source": [
    "iris=sm.datasets.get_rdataset('iris', site=\"C:/github_repo/Rdatasets\")\n",
    "iris.data\n",
    "print(iris.__doc__)#用_doc_属性可以查看数据帮助信息"
   ]
  }
 ]
}